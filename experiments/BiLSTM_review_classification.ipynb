{
  "nbformat": 4,
  "nbformat_minor": 0,
  "metadata": {
    "colab": {
      "provenance": [],
      "authorship_tag": "ABX9TyNC8xdUr/6kXjeZQr1YiQ3F",
      "include_colab_link": true
    },
    "kernelspec": {
      "name": "python3",
      "display_name": "Python 3"
    },
    "language_info": {
      "name": "python"
    }
  },
  "cells": [
    {
      "cell_type": "markdown",
      "metadata": {
        "id": "view-in-github",
        "colab_type": "text"
      },
      "source": [
        "<a href=\"https://colab.research.google.com/github/KimSoEun/pythonforai/blob/main/experiments/BiLSTM_review_classification.ipynb\" target=\"_parent\"><img src=\"https://colab.research.google.com/assets/colab-badge.svg\" alt=\"Open In Colab\"/></a>"
      ]
    },
    {
      "cell_type": "markdown",
      "source": [
        "# 1. Colab에 Mecab 설치"
      ],
      "metadata": {
        "id": "uv_OCkefOfab"
      }
    },
    {
      "cell_type": "code",
      "source": [
        "# # Colab에 Mecab 설치\n",
        "# !git clone https://github.com/SOMJANG/Mecab-ko-for-Google-Colab.git\n",
        "# %cd Mecab-ko-for-Google-Colab\n",
        "# !bash install_macab-ko_on_colab190912.sh"
      ],
      "metadata": {
        "id": "-aT4xmKCHpdR"
      },
      "execution_count": 1,
      "outputs": []
    },
    {
      "cell_type": "markdown",
      "source": [
        "위의 예제처럼 했더니 Mecab 설치에 실패했다. 구글링 해서 나온 다음 코드로 바꿔보자.\n",
        "\n",
        "참고 링크: [참고한 티스토리 블로그](https://biology-statistics-programming.tistory.com/32)"
      ],
      "metadata": {
        "id": "8vV0LF7psWBM"
      }
    },
    {
      "cell_type": "code",
      "source": [
        "# !apt-get update\n",
        "# !apt-get install g++ openjdk-8-jdk\n",
        "# !pip install konlpy JPype1-py3\n",
        "# !bash <(curl -s https://raw.githubusercontent.com/konlpy/konlpy/master/scripts/mecab.sh)"
      ],
      "metadata": {
        "collapsed": true,
        "id": "Q_cVf-rFsfNL"
      },
      "execution_count": 2,
      "outputs": []
    },
    {
      "cell_type": "markdown",
      "source": [
        "위에서 참고한 설치방법에도 문제가 생겨, GPT가 알려준 대로 해보겠음.\n",
        "## 1) 시스템 라이브러리 설치\n",
        "- `libmecab-dev` : Python 바인딩 컴파일에 필요한 헤더 파일\n",
        "- `mecab-ipadic-utf8` : 일본어 기본 사전(한국어 코퍼스용은 차후 추가)"
      ],
      "metadata": {
        "id": "GfNLkqp6uG0o"
      }
    },
    {
      "cell_type": "code",
      "source": [
        "!apt-get update\n",
        "!apt-get install -y g++ openjdk-8-jdk libmecab-dev mecab mecab-ipadic-utf8"
      ],
      "metadata": {
        "colab": {
          "base_uri": "https://localhost:8080/"
        },
        "collapsed": true,
        "id": "xCdWJrwVuIgd",
        "outputId": "358e6c7c-67ff-4ec5-cb3a-5adac28c912c"
      },
      "execution_count": 3,
      "outputs": [
        {
          "output_type": "stream",
          "name": "stdout",
          "text": [
            "Get:1 https://cloud.r-project.org/bin/linux/ubuntu jammy-cran40/ InRelease [3,632 B]\n",
            "Hit:2 https://developer.download.nvidia.com/compute/cuda/repos/ubuntu2204/x86_64  InRelease\n",
            "Hit:3 http://security.ubuntu.com/ubuntu jammy-security InRelease\n",
            "Hit:4 http://archive.ubuntu.com/ubuntu jammy InRelease\n",
            "Hit:5 http://archive.ubuntu.com/ubuntu jammy-updates InRelease\n",
            "Hit:6 https://r2u.stat.illinois.edu/ubuntu jammy InRelease\n",
            "Hit:7 http://archive.ubuntu.com/ubuntu jammy-backports InRelease\n",
            "Hit:8 https://ppa.launchpadcontent.net/deadsnakes/ppa/ubuntu jammy InRelease\n",
            "Hit:9 https://ppa.launchpadcontent.net/graphics-drivers/ppa/ubuntu jammy InRelease\n",
            "Hit:10 https://ppa.launchpadcontent.net/ubuntugis/ppa/ubuntu jammy InRelease\n",
            "Fetched 3,632 B in 4s (864 B/s)\n",
            "Reading package lists... Done\n",
            "W: Skipping acquire of configured file 'main/source/Sources' as repository 'https://r2u.stat.illinois.edu/ubuntu jammy InRelease' does not seem to provide it (sources.list entry misspelt?)\n",
            "Reading package lists... Done\n",
            "Building dependency tree... Done\n",
            "Reading state information... Done\n",
            "g++ is already the newest version (4:11.2.0-1ubuntu1).\n",
            "libmecab-dev is already the newest version (0.996-14build9).\n",
            "mecab-ipadic-utf8 is already the newest version (2.7.0-20070801+main-3).\n",
            "mecab is already the newest version (0.996-14build9).\n",
            "openjdk-8-jdk is already the newest version (8u452-ga~us1-0ubuntu1~22.04).\n",
            "0 upgraded, 0 newly installed, 0 to remove and 41 not upgraded.\n"
          ]
        }
      ]
    },
    {
      "cell_type": "markdown",
      "source": [
        "> 참고: `apt-get install mecab-ko mecab-ko-dic` 대신 `mecab-ipadic-utf8`를 먼저 설치하고, Python 패키지로 KO‐DICT를 지정하는 방법이 훨씬 안정적입니다."
      ],
      "metadata": {
        "id": "bCu_kMMsx1rT"
      }
    },
    {
      "cell_type": "markdown",
      "source": [
        "## 2) Python용 Mecab 패키지 설치\n",
        "기존 `mecab-python` 패키지는 업데이트가 더디고, 종종 `egg_info` 에러가 발생합니다. 대신 활발히 유지보수 중인 `mecab-python3` 를 설치하세요."
      ],
      "metadata": {
        "id": "4lNjWr1XwN--"
      }
    },
    {
      "cell_type": "code",
      "source": [
        "!pip install mecab-python3\n"
      ],
      "metadata": {
        "colab": {
          "base_uri": "https://localhost:8080/"
        },
        "collapsed": true,
        "id": "maTQFppdwwn3",
        "outputId": "495e96ed-8b80-4d54-b5f3-1bd7ea8ac221"
      },
      "execution_count": 4,
      "outputs": [
        {
          "output_type": "stream",
          "name": "stdout",
          "text": [
            "Requirement already satisfied: mecab-python3 in /usr/local/lib/python3.11/dist-packages (1.0.10)\n"
          ]
        }
      ]
    },
    {
      "cell_type": "markdown",
      "source": [
        "- 이 패키지는 pip만으로 설치가 가능하며, 내부적으로 이미 `libmecab-dev`를 잘 참조합니다."
      ],
      "metadata": {
        "id": "S9B6rzGGwzaC"
      }
    },
    {
      "cell_type": "markdown",
      "source": [
        "## 3) 한국어 사전 (mecab-ko-dic) 설치\n",
        "한국어 형태소 분석용으로 `mecab-ko-dic`을 깔아야 합니다. 아래처럼 GitHub 릴리즈에서 직접 내려받아 설치하세요."
      ],
      "metadata": {
        "id": "YmA-sAfsxKpR"
      }
    },
    {
      "cell_type": "code",
      "source": [
        "# (1) 최신 버전 압축 풀기\n",
        "!curl -L https://bitbucket.org/eunjeon/mecab-ko-dic/downloads/mecab-ko-dic-2.1.1-20180720.tar.gz | tar xz\n",
        "\n",
        "# (2) 빌드 및 설치\n",
        "%cd mecab-ko-dic-2.1.1-20180720\n",
        "!./autogen.sh\n",
        "!./configure --with-charset=utf8\n",
        "!make\n",
        "!make install"
      ],
      "metadata": {
        "colab": {
          "base_uri": "https://localhost:8080/"
        },
        "collapsed": true,
        "id": "Z1Qe30FgxRtf",
        "outputId": "0d7f6c33-f07a-4f3c-a2e6-31e528472b03"
      },
      "execution_count": 5,
      "outputs": [
        {
          "output_type": "stream",
          "name": "stdout",
          "text": [
            "  % Total    % Received % Xferd  Average Speed   Time    Time     Time  Current\n",
            "                                 Dload  Upload   Total   Spent    Left  Speed\n",
            "  0     0    0     0    0     0      0      0 --:--:--  0:00:01 --:--:--     0\n",
            "100 47.4M  100 47.4M    0     0  8880k      0  0:00:05  0:00:05 --:--:-- 11.5M\n",
            "/content/mecab-ko-dic-2.1.1-20180720\n",
            "Looking in current directory for macros.\n",
            "configure.ac:2: warning: AM_INIT_AUTOMAKE: two- and three-arguments forms are deprecated.\n",
            "./lib/autoconf/general.m4:2434: AC_DIAGNOSE is expanded from...\n",
            "aclocal.m4:139: AM_INIT_AUTOMAKE is expanded from...\n",
            "configure.ac:2: the top level\n",
            "configure.ac:56: warning: AC_OUTPUT should be used without arguments.\n",
            "configure.ac:56: You should run autoupdate.\n",
            "configure.ac:2: warning: AM_INIT_AUTOMAKE: two- and three-arguments forms are deprecated.  For more info, see:\n",
            "configure.ac:2: https://www.gnu.org/software/automake/manual/automake.html#Modernize-AM_005fINIT_005fAUTOMAKE-invocation\n",
            "checking for a BSD-compatible install... /usr/bin/install -c\n",
            "checking whether build environment is sane... yes\n",
            "/content/mecab-ko-dic-2.1.1-20180720/missing: Unknown `--is-lightweight' option\n",
            "Try `/content/mecab-ko-dic-2.1.1-20180720/missing --help' for more information\n",
            "configure: WARNING: 'missing' script is too old or missing\n",
            "checking for a race-free mkdir -p... /usr/bin/mkdir -p\n",
            "checking for gawk... no\n",
            "checking for mawk... mawk\n",
            "checking whether make sets $(MAKE)... yes\n",
            "checking whether make supports nested variables... yes\n",
            "checking for mecab-config... /usr/local/bin/mecab-config\n",
            "checking that generated files are newer than configure... done\n",
            "configure: creating ./config.status\n",
            "config.status: creating Makefile\n",
            "/usr/local/libexec/mecab/mecab-dict-index -d . -o . -f UTF-8 -t utf8\n",
            "reading ./unk.def ... 13\n",
            "emitting double-array: 100% |###########################################| \n",
            "reading ./Foreign.csv ... 11690\n",
            "reading ./VCP.csv ... 9\n",
            "reading ./Place-station.csv ... 1145\n",
            "reading ./MM.csv ... 453\n",
            "reading ./XSN.csv ... 124\n",
            "reading ./Place-address.csv ... 19301\n",
            "reading ./NNG.csv ... 208524\n",
            "reading ./Symbol.csv ... 16\n",
            "reading ./Place.csv ... 30303\n",
            "reading ./IC.csv ... 1305\n",
            "reading ./ETN.csv ... 14\n",
            "reading ./VA.csv ... 2360\n",
            "reading ./Group.csv ... 3176\n",
            "reading ./NR.csv ... 482\n",
            "reading ./Preanalysis.csv ... 5\n",
            "reading ./NNBC.csv ... 677\n",
            "reading ./VCN.csv ... 7\n",
            "reading ./MAJ.csv ... 240\n",
            "reading ./NorthKorea.csv ... 3\n",
            "reading ./Person.csv ... 196459\n",
            "reading ./VX.csv ... 125\n",
            "reading ./XSA.csv ... 19\n",
            "reading ./XR.csv ... 3637\n",
            "reading ./XSV.csv ... 23\n",
            "reading ./NP.csv ... 342\n",
            "reading ./VV.csv ... 7331\n",
            "reading ./EF.csv ... 1820\n",
            "reading ./EP.csv ... 51\n",
            "reading ./Inflect.csv ... 44820\n",
            "reading ./J.csv ... 416\n",
            "reading ./NNP.csv ... 2371\n",
            "reading ./Wikipedia.csv ... 36762\n",
            "reading ./ETM.csv ... 133\n",
            "reading ./MAG.csv ... 14242\n",
            "reading ./NNB.csv ... 140\n",
            "reading ./Hanja.csv ... 125750\n",
            "reading ./Person-actor.csv ... 99230\n",
            "reading ./XPN.csv ... 83\n",
            "reading ./CoinedWord.csv ... 148\n",
            "reading ./EC.csv ... 2547\n",
            "emitting double-array: 100% |###########################################| \n",
            "reading ./matrix.def ... 3822x2693\n",
            "emitting matrix      : 100% |###########################################| \n",
            "\n",
            "done!\n",
            "echo To enable dictionary, rewrite /usr/local/etc/mecabrc as \\\"dicdir = /usr/local/lib/mecab/dic/mecab-ko-dic\\\"\n",
            "To enable dictionary, rewrite /usr/local/etc/mecabrc as \"dicdir = /usr/local/lib/mecab/dic/mecab-ko-dic\"\n",
            "make[1]: Entering directory '/content/mecab-ko-dic-2.1.1-20180720'\n",
            "make[1]: Nothing to be done for 'install-exec-am'.\n",
            " /usr/bin/mkdir -p '/usr/local/lib/mecab/dic/mecab-ko-dic'\n",
            " /usr/bin/install -c -m 644 model.bin matrix.bin char.bin sys.dic unk.dic left-id.def right-id.def rewrite.def pos-id.def dicrc '/usr/local/lib/mecab/dic/mecab-ko-dic'\n",
            "make[1]: Leaving directory '/content/mecab-ko-dic-2.1.1-20180720'\n"
          ]
        }
      ]
    },
    {
      "cell_type": "markdown",
      "source": [
        "> Tip: `configure` 단계에서 `--with-charset=utf8` 을 꼭 지정해야, Python에서 UTF-8 인코딩으로 문제 없어요."
      ],
      "metadata": {
        "id": "Yk43Ji5fxOjq"
      }
    },
    {
      "cell_type": "markdown",
      "source": [
        "## 4) `/usr/local/etc/mecabrc` 설정 변경\n",
        "설치가 끝나면 시스템 설정 파일에 새로운 사전 경로를 지정해 줍니다."
      ],
      "metadata": {
        "id": "u46QTnz_yCy8"
      }
    },
    {
      "cell_type": "code",
      "source": [
        "!sed -i 's|^dicdir.*|dicdir = /usr/local/lib/mecab/dic/mecab-ko-dic|' /usr/local/etc/mecabrc"
      ],
      "metadata": {
        "id": "302LpLLbyH_Y"
      },
      "execution_count": 6,
      "outputs": []
    },
    {
      "cell_type": "markdown",
      "source": [
        "- 이 한 줄로 `dicdir`을 자동으로 덮어써 줍니다."
      ],
      "metadata": {
        "id": "TY2C7h9GyIbW"
      }
    },
    {
      "cell_type": "markdown",
      "source": [
        "## 5) 동작 확인\n",
        "Colab 노트북에서 간단히 테스트해 보세요.\n",
        "\n",
        "정상 설치 되었다면, 형태소 분석 결과가 출력됩니다."
      ],
      "metadata": {
        "id": "pxD4suVgySon"
      }
    },
    {
      "cell_type": "code",
      "source": [
        "import MeCab\n",
        "\n",
        "# Tagger 객체 생성\n",
        "tagger = MeCab.Tagger()\n",
        "\n",
        "# parse() 대신 parse 메서드 호출\n",
        "result = tagger.parse(\"안녕하세요. 저는 ChatGPT입니다.\")\n",
        "print(result)\n"
      ],
      "metadata": {
        "colab": {
          "base_uri": "https://localhost:8080/"
        },
        "id": "o2xbvBBCyk67",
        "outputId": "3575f088-d22e-449b-e772-a06165345466"
      },
      "execution_count": 7,
      "outputs": [
        {
          "output_type": "stream",
          "name": "stdout",
          "text": [
            "안녕\tNNG,행위,T,안녕,*,*,*,*\n",
            "하\tXSV,*,F,하,*,*,*,*\n",
            "세요\tEP+EF,*,F,세요,Inflect,EP,EF,시/EP/*+어요/EF/*\n",
            ".\tSF,*,*,*,*,*,*,*\n",
            "저\tNP,*,F,저,*,*,*,*\n",
            "는\tJX,*,T,는,*,*,*,*\n",
            "ChatGPT\tSL,*,*,*,*,*,*,*\n",
            "입니다\tVCP+EF,*,F,입니다,Inflect,VCP,EF,이/VCP/*+ᄇ니다/EF/*\n",
            ".\tSF,*,*,*,*,*,*,*\n",
            "EOS\n",
            "\n"
          ]
        }
      ]
    },
    {
      "cell_type": "markdown",
      "source": [
        "---\n",
        "# 2. 스팀 리뷰 데이터에 대한 이해와 전처리"
      ],
      "metadata": {
        "id": "vxcl7MFBOk1y"
      }
    },
    {
      "cell_type": "code",
      "source": [
        "import pandas as pd\n",
        "import numpy as np\n",
        "import urllib.request\n",
        "from collections import Counter\n",
        "from sklearn.model_selection import train_test_split\n",
        "from tensorflow.keras.preprocessing.text import  Tokenizer\n",
        "from tensorflow.keras.preprocessing.sequence import pad_sequences\n"
      ],
      "metadata": {
        "id": "p8OlekelIGW2"
      },
      "execution_count": 30,
      "outputs": []
    },
    {
      "cell_type": "code",
      "source": [
        "from konlpy.tag import Mecab"
      ],
      "metadata": {
        "id": "8IzsuGDB5ySE"
      },
      "execution_count": 29,
      "outputs": []
    },
    {
      "cell_type": "code",
      "source": [
        "from plotly.subplots import make_subplots\n",
        "import plotly.graph_objects as go\n",
        "import plotly.express as px\n"
      ],
      "metadata": {
        "id": "_vE_m3oE5vY-"
      },
      "execution_count": 36,
      "outputs": []
    },
    {
      "cell_type": "markdown",
      "source": [
        "## 1) 데이터 로드하기"
      ],
      "metadata": {
        "id": "VkIRh20DOoxi"
      }
    },
    {
      "cell_type": "code",
      "source": [
        "urllib.request.urlretrieve(\"https://raw.githubusercontent.com/bab2min/corpus/master/sentiment/steam.txt\", filename='steam.txt')"
      ],
      "metadata": {
        "colab": {
          "base_uri": "https://localhost:8080/"
        },
        "id": "uWsVs9VcLtdl",
        "outputId": "b1dc1a45-c7f0-4385-a7ba-563184b01dcc"
      },
      "execution_count": 9,
      "outputs": [
        {
          "output_type": "execute_result",
          "data": {
            "text/plain": [
              "('steam.txt', <http.client.HTTPMessage at 0x79443751a250>)"
            ]
          },
          "metadata": {},
          "execution_count": 9
        }
      ]
    },
    {
      "cell_type": "code",
      "source": [
        "total_data = pd.read_table('steam.txt', names=['label', 'reviews'])\n",
        "print('전체 리뷰 개수 :', len(total_data)) # 전체 리뷰 개수 출력"
      ],
      "metadata": {
        "colab": {
          "base_uri": "https://localhost:8080/"
        },
        "id": "X9_hnRyxLEpl",
        "outputId": "b96311de-f6ce-408c-eabc-8bb8116b3f62"
      },
      "execution_count": 10,
      "outputs": [
        {
          "output_type": "stream",
          "name": "stdout",
          "text": [
            "전체 리뷰 개수 : 100000\n"
          ]
        }
      ]
    },
    {
      "cell_type": "code",
      "source": [
        "total_data[:5]"
      ],
      "metadata": {
        "colab": {
          "base_uri": "https://localhost:8080/",
          "height": 206
        },
        "id": "5jBDLgKsM7Nc",
        "outputId": "18d120f6-6071-43fd-bb6c-0b713a6cc16e"
      },
      "execution_count": 11,
      "outputs": [
        {
          "output_type": "execute_result",
          "data": {
            "text/plain": [
              "   label                               reviews\n",
              "0      0                             노래가 너무 적음\n",
              "1      0       돌겠네 진짜. 황숙아, 어크 공장 그만 돌려라. 죽는다.\n",
              "2      1      막노동 체험판 막노동 하는사람인데 장비를 내가 사야돼 뭐지\n",
              "3      1  차악!차악!!차악!!! 정말 이래서 왕국을 되찾을 수 있는거야??\n",
              "4      1   시간 때우기에 좋음.. 도전과제는 50시간이면 다 깰 수 있어요"
            ],
            "text/html": [
              "\n",
              "  <div id=\"df-9bfd7e83-d2a3-4fa5-bbfe-09ba33025d06\" class=\"colab-df-container\">\n",
              "    <div>\n",
              "<style scoped>\n",
              "    .dataframe tbody tr th:only-of-type {\n",
              "        vertical-align: middle;\n",
              "    }\n",
              "\n",
              "    .dataframe tbody tr th {\n",
              "        vertical-align: top;\n",
              "    }\n",
              "\n",
              "    .dataframe thead th {\n",
              "        text-align: right;\n",
              "    }\n",
              "</style>\n",
              "<table border=\"1\" class=\"dataframe\">\n",
              "  <thead>\n",
              "    <tr style=\"text-align: right;\">\n",
              "      <th></th>\n",
              "      <th>label</th>\n",
              "      <th>reviews</th>\n",
              "    </tr>\n",
              "  </thead>\n",
              "  <tbody>\n",
              "    <tr>\n",
              "      <th>0</th>\n",
              "      <td>0</td>\n",
              "      <td>노래가 너무 적음</td>\n",
              "    </tr>\n",
              "    <tr>\n",
              "      <th>1</th>\n",
              "      <td>0</td>\n",
              "      <td>돌겠네 진짜. 황숙아, 어크 공장 그만 돌려라. 죽는다.</td>\n",
              "    </tr>\n",
              "    <tr>\n",
              "      <th>2</th>\n",
              "      <td>1</td>\n",
              "      <td>막노동 체험판 막노동 하는사람인데 장비를 내가 사야돼 뭐지</td>\n",
              "    </tr>\n",
              "    <tr>\n",
              "      <th>3</th>\n",
              "      <td>1</td>\n",
              "      <td>차악!차악!!차악!!! 정말 이래서 왕국을 되찾을 수 있는거야??</td>\n",
              "    </tr>\n",
              "    <tr>\n",
              "      <th>4</th>\n",
              "      <td>1</td>\n",
              "      <td>시간 때우기에 좋음.. 도전과제는 50시간이면 다 깰 수 있어요</td>\n",
              "    </tr>\n",
              "  </tbody>\n",
              "</table>\n",
              "</div>\n",
              "    <div class=\"colab-df-buttons\">\n",
              "\n",
              "  <div class=\"colab-df-container\">\n",
              "    <button class=\"colab-df-convert\" onclick=\"convertToInteractive('df-9bfd7e83-d2a3-4fa5-bbfe-09ba33025d06')\"\n",
              "            title=\"Convert this dataframe to an interactive table.\"\n",
              "            style=\"display:none;\">\n",
              "\n",
              "  <svg xmlns=\"http://www.w3.org/2000/svg\" height=\"24px\" viewBox=\"0 -960 960 960\">\n",
              "    <path d=\"M120-120v-720h720v720H120Zm60-500h600v-160H180v160Zm220 220h160v-160H400v160Zm0 220h160v-160H400v160ZM180-400h160v-160H180v160Zm440 0h160v-160H620v160ZM180-180h160v-160H180v160Zm440 0h160v-160H620v160Z\"/>\n",
              "  </svg>\n",
              "    </button>\n",
              "\n",
              "  <style>\n",
              "    .colab-df-container {\n",
              "      display:flex;\n",
              "      gap: 12px;\n",
              "    }\n",
              "\n",
              "    .colab-df-convert {\n",
              "      background-color: #E8F0FE;\n",
              "      border: none;\n",
              "      border-radius: 50%;\n",
              "      cursor: pointer;\n",
              "      display: none;\n",
              "      fill: #1967D2;\n",
              "      height: 32px;\n",
              "      padding: 0 0 0 0;\n",
              "      width: 32px;\n",
              "    }\n",
              "\n",
              "    .colab-df-convert:hover {\n",
              "      background-color: #E2EBFA;\n",
              "      box-shadow: 0px 1px 2px rgba(60, 64, 67, 0.3), 0px 1px 3px 1px rgba(60, 64, 67, 0.15);\n",
              "      fill: #174EA6;\n",
              "    }\n",
              "\n",
              "    .colab-df-buttons div {\n",
              "      margin-bottom: 4px;\n",
              "    }\n",
              "\n",
              "    [theme=dark] .colab-df-convert {\n",
              "      background-color: #3B4455;\n",
              "      fill: #D2E3FC;\n",
              "    }\n",
              "\n",
              "    [theme=dark] .colab-df-convert:hover {\n",
              "      background-color: #434B5C;\n",
              "      box-shadow: 0px 1px 3px 1px rgba(0, 0, 0, 0.15);\n",
              "      filter: drop-shadow(0px 1px 2px rgba(0, 0, 0, 0.3));\n",
              "      fill: #FFFFFF;\n",
              "    }\n",
              "  </style>\n",
              "\n",
              "    <script>\n",
              "      const buttonEl =\n",
              "        document.querySelector('#df-9bfd7e83-d2a3-4fa5-bbfe-09ba33025d06 button.colab-df-convert');\n",
              "      buttonEl.style.display =\n",
              "        google.colab.kernel.accessAllowed ? 'block' : 'none';\n",
              "\n",
              "      async function convertToInteractive(key) {\n",
              "        const element = document.querySelector('#df-9bfd7e83-d2a3-4fa5-bbfe-09ba33025d06');\n",
              "        const dataTable =\n",
              "          await google.colab.kernel.invokeFunction('convertToInteractive',\n",
              "                                                    [key], {});\n",
              "        if (!dataTable) return;\n",
              "\n",
              "        const docLinkHtml = 'Like what you see? Visit the ' +\n",
              "          '<a target=\"_blank\" href=https://colab.research.google.com/notebooks/data_table.ipynb>data table notebook</a>'\n",
              "          + ' to learn more about interactive tables.';\n",
              "        element.innerHTML = '';\n",
              "        dataTable['output_type'] = 'display_data';\n",
              "        await google.colab.output.renderOutput(dataTable, element);\n",
              "        const docLink = document.createElement('div');\n",
              "        docLink.innerHTML = docLinkHtml;\n",
              "        element.appendChild(docLink);\n",
              "      }\n",
              "    </script>\n",
              "  </div>\n",
              "\n",
              "\n",
              "    <div id=\"df-ecd396ab-5db5-466d-9a29-0f9392f8a118\">\n",
              "      <button class=\"colab-df-quickchart\" onclick=\"quickchart('df-ecd396ab-5db5-466d-9a29-0f9392f8a118')\"\n",
              "                title=\"Suggest charts\"\n",
              "                style=\"display:none;\">\n",
              "\n",
              "<svg xmlns=\"http://www.w3.org/2000/svg\" height=\"24px\"viewBox=\"0 0 24 24\"\n",
              "     width=\"24px\">\n",
              "    <g>\n",
              "        <path d=\"M19 3H5c-1.1 0-2 .9-2 2v14c0 1.1.9 2 2 2h14c1.1 0 2-.9 2-2V5c0-1.1-.9-2-2-2zM9 17H7v-7h2v7zm4 0h-2V7h2v10zm4 0h-2v-4h2v4z\"/>\n",
              "    </g>\n",
              "</svg>\n",
              "      </button>\n",
              "\n",
              "<style>\n",
              "  .colab-df-quickchart {\n",
              "      --bg-color: #E8F0FE;\n",
              "      --fill-color: #1967D2;\n",
              "      --hover-bg-color: #E2EBFA;\n",
              "      --hover-fill-color: #174EA6;\n",
              "      --disabled-fill-color: #AAA;\n",
              "      --disabled-bg-color: #DDD;\n",
              "  }\n",
              "\n",
              "  [theme=dark] .colab-df-quickchart {\n",
              "      --bg-color: #3B4455;\n",
              "      --fill-color: #D2E3FC;\n",
              "      --hover-bg-color: #434B5C;\n",
              "      --hover-fill-color: #FFFFFF;\n",
              "      --disabled-bg-color: #3B4455;\n",
              "      --disabled-fill-color: #666;\n",
              "  }\n",
              "\n",
              "  .colab-df-quickchart {\n",
              "    background-color: var(--bg-color);\n",
              "    border: none;\n",
              "    border-radius: 50%;\n",
              "    cursor: pointer;\n",
              "    display: none;\n",
              "    fill: var(--fill-color);\n",
              "    height: 32px;\n",
              "    padding: 0;\n",
              "    width: 32px;\n",
              "  }\n",
              "\n",
              "  .colab-df-quickchart:hover {\n",
              "    background-color: var(--hover-bg-color);\n",
              "    box-shadow: 0 1px 2px rgba(60, 64, 67, 0.3), 0 1px 3px 1px rgba(60, 64, 67, 0.15);\n",
              "    fill: var(--button-hover-fill-color);\n",
              "  }\n",
              "\n",
              "  .colab-df-quickchart-complete:disabled,\n",
              "  .colab-df-quickchart-complete:disabled:hover {\n",
              "    background-color: var(--disabled-bg-color);\n",
              "    fill: var(--disabled-fill-color);\n",
              "    box-shadow: none;\n",
              "  }\n",
              "\n",
              "  .colab-df-spinner {\n",
              "    border: 2px solid var(--fill-color);\n",
              "    border-color: transparent;\n",
              "    border-bottom-color: var(--fill-color);\n",
              "    animation:\n",
              "      spin 1s steps(1) infinite;\n",
              "  }\n",
              "\n",
              "  @keyframes spin {\n",
              "    0% {\n",
              "      border-color: transparent;\n",
              "      border-bottom-color: var(--fill-color);\n",
              "      border-left-color: var(--fill-color);\n",
              "    }\n",
              "    20% {\n",
              "      border-color: transparent;\n",
              "      border-left-color: var(--fill-color);\n",
              "      border-top-color: var(--fill-color);\n",
              "    }\n",
              "    30% {\n",
              "      border-color: transparent;\n",
              "      border-left-color: var(--fill-color);\n",
              "      border-top-color: var(--fill-color);\n",
              "      border-right-color: var(--fill-color);\n",
              "    }\n",
              "    40% {\n",
              "      border-color: transparent;\n",
              "      border-right-color: var(--fill-color);\n",
              "      border-top-color: var(--fill-color);\n",
              "    }\n",
              "    60% {\n",
              "      border-color: transparent;\n",
              "      border-right-color: var(--fill-color);\n",
              "    }\n",
              "    80% {\n",
              "      border-color: transparent;\n",
              "      border-right-color: var(--fill-color);\n",
              "      border-bottom-color: var(--fill-color);\n",
              "    }\n",
              "    90% {\n",
              "      border-color: transparent;\n",
              "      border-bottom-color: var(--fill-color);\n",
              "    }\n",
              "  }\n",
              "</style>\n",
              "\n",
              "      <script>\n",
              "        async function quickchart(key) {\n",
              "          const quickchartButtonEl =\n",
              "            document.querySelector('#' + key + ' button');\n",
              "          quickchartButtonEl.disabled = true;  // To prevent multiple clicks.\n",
              "          quickchartButtonEl.classList.add('colab-df-spinner');\n",
              "          try {\n",
              "            const charts = await google.colab.kernel.invokeFunction(\n",
              "                'suggestCharts', [key], {});\n",
              "          } catch (error) {\n",
              "            console.error('Error during call to suggestCharts:', error);\n",
              "          }\n",
              "          quickchartButtonEl.classList.remove('colab-df-spinner');\n",
              "          quickchartButtonEl.classList.add('colab-df-quickchart-complete');\n",
              "        }\n",
              "        (() => {\n",
              "          let quickchartButtonEl =\n",
              "            document.querySelector('#df-ecd396ab-5db5-466d-9a29-0f9392f8a118 button');\n",
              "          quickchartButtonEl.style.display =\n",
              "            google.colab.kernel.accessAllowed ? 'block' : 'none';\n",
              "        })();\n",
              "      </script>\n",
              "    </div>\n",
              "\n",
              "    </div>\n",
              "  </div>\n"
            ],
            "application/vnd.google.colaboratory.intrinsic+json": {
              "type": "dataframe",
              "summary": "{\n  \"name\": \"total_data[:5]\",\n  \"rows\": 5,\n  \"fields\": [\n    {\n      \"column\": \"label\",\n      \"properties\": {\n        \"dtype\": \"number\",\n        \"std\": 0,\n        \"min\": 0,\n        \"max\": 1,\n        \"num_unique_values\": 2,\n        \"samples\": [\n          1,\n          0\n        ],\n        \"semantic_type\": \"\",\n        \"description\": \"\"\n      }\n    },\n    {\n      \"column\": \"reviews\",\n      \"properties\": {\n        \"dtype\": \"string\",\n        \"num_unique_values\": 5,\n        \"samples\": [\n          \"\\ub3cc\\uaca0\\ub124 \\uc9c4\\uc9dc. \\ud669\\uc219\\uc544, \\uc5b4\\ud06c \\uacf5\\uc7a5 \\uadf8\\ub9cc \\ub3cc\\ub824\\ub77c. \\uc8fd\\ub294\\ub2e4.\",\n          \"\\uc2dc\\uac04 \\ub54c\\uc6b0\\uae30\\uc5d0 \\uc88b\\uc74c.. \\ub3c4\\uc804\\uacfc\\uc81c\\ub294 50\\uc2dc\\uac04\\uc774\\uba74 \\ub2e4 \\uae70 \\uc218 \\uc788\\uc5b4\\uc694\"\n        ],\n        \"semantic_type\": \"\",\n        \"description\": \"\"\n      }\n    }\n  ]\n}"
            }
          },
          "metadata": {},
          "execution_count": 11
        }
      ]
    },
    {
      "cell_type": "markdown",
      "source": [
        "* 리뷰와 라벨의 중복을 제외한 갯수 보기"
      ],
      "metadata": {
        "id": "pldPUYn3NbUZ"
      }
    },
    {
      "cell_type": "code",
      "source": [
        "total_data['reviews'].nunique(), total_data['label'].nunique()"
      ],
      "metadata": {
        "colab": {
          "base_uri": "https://localhost:8080/"
        },
        "id": "mroDasX0M-5G",
        "outputId": "fbf00e43-2dc9-4901-e28b-03098d94f45d"
      },
      "execution_count": 12,
      "outputs": [
        {
          "output_type": "execute_result",
          "data": {
            "text/plain": [
              "(99892, 2)"
            ]
          },
          "metadata": {},
          "execution_count": 12
        }
      ]
    },
    {
      "cell_type": "markdown",
      "source": [
        "- NULL값 유무 확인하기"
      ],
      "metadata": {
        "id": "Rn6PxR7aOIhJ"
      }
    },
    {
      "cell_type": "code",
      "source": [
        "print(total_data.isnull().values.any())"
      ],
      "metadata": {
        "colab": {
          "base_uri": "https://localhost:8080/"
        },
        "id": "rgk54IFdNZAN",
        "outputId": "98528dd2-808e-4bc4-ebd4-10655be9d0a1"
      },
      "execution_count": 13,
      "outputs": [
        {
          "output_type": "stream",
          "name": "stdout",
          "text": [
            "False\n"
          ]
        }
      ]
    },
    {
      "cell_type": "markdown",
      "source": [
        "## 2) 훈련 데이터와 테스트 데이터 분리하기"
      ],
      "metadata": {
        "id": "9pNNSJHhOsv-"
      }
    },
    {
      "cell_type": "code",
      "source": [
        "train_data, test_data = train_test_split(total_data, test_size = 0.25, random_state = 42)\n",
        "print('훈련용 리뷰의 개수: ', len(train_data))\n",
        "print('테스트용 리뷰의 개수: ', len(test_data))"
      ],
      "metadata": {
        "colab": {
          "base_uri": "https://localhost:8080/"
        },
        "id": "_sPFBNyjOTS9",
        "outputId": "f0c64b0e-075d-4766-e0fe-4d4ea8151f07"
      },
      "execution_count": 14,
      "outputs": [
        {
          "output_type": "stream",
          "name": "stdout",
          "text": [
            "훈련용 리뷰의 개수:  75000\n",
            "테스트용 리뷰의 개수:  25000\n"
          ]
        }
      ]
    },
    {
      "cell_type": "markdown",
      "source": [
        "## 3) 레이블의 분포 확인"
      ],
      "metadata": {
        "id": "HeP7nzNEkkQ0"
      }
    },
    {
      "cell_type": "code",
      "source": [
        "train_data['label'].value_counts().plot(kind = 'bar')"
      ],
      "metadata": {
        "colab": {
          "base_uri": "https://localhost:8080/",
          "height": 462
        },
        "id": "h-b1QKlokLBO",
        "outputId": "958fd0a4-085b-4543-c4fa-e7a8c8b9a90f"
      },
      "execution_count": 15,
      "outputs": [
        {
          "output_type": "execute_result",
          "data": {
            "text/plain": [
              "<Axes: xlabel='label'>"
            ]
          },
          "metadata": {},
          "execution_count": 15
        },
        {
          "output_type": "display_data",
          "data": {
            "text/plain": [
              "<Figure size 640x480 with 1 Axes>"
            ],
            "image/png": "[encoded data removed]"
          },
          "metadata": {}
        }
      ]
    },
    {
      "cell_type": "code",
      "source": [
        "print(train_data.groupby('label').size().reset_index(name = 'count'))"
      ],
      "metadata": {
        "colab": {
          "base_uri": "https://localhost:8080/"
        },
        "id": "BA7JLpjPkt9m",
        "outputId": "c77feb21-f058-467e-8f64-7181a29705c5"
      },
      "execution_count": 16,
      "outputs": [
        {
          "output_type": "stream",
          "name": "stdout",
          "text": [
            "   label  count\n",
            "0      0  37522\n",
            "1      1  37478\n"
          ]
        }
      ]
    },
    {
      "cell_type": "markdown",
      "source": [
        "## 4) 데이터 정제하기\n",
        "정규 표현식을 사용하여 한글을 제외하고 모두 제거해줍니다. 또한 혹시 이 과정에서 빈 샘플이 생기지는 않는지 확인합니다."
      ],
      "metadata": {
        "id": "swXzR_rqlJ7L"
      }
    },
    {
      "cell_type": "code",
      "source": [
        "# 한글과 공백을 재외하고 모두 제거\n",
        "train_data['reviews'] = train_data['reviews'].str.replace(\"[^ㄱ-하-ㅣ가-힣]\", \"\", regex=True) # 정규 표현식 수행\n",
        "train_data['reviews'].replace('', np.nan, inplace=True) # 공백은 Null 값으로 변경\n",
        "print(train_data.isnull().sum()) # null 값 몇 개 남았는지 확인, 없을 것임"
      ],
      "metadata": {
        "colab": {
          "base_uri": "https://localhost:8080/"
        },
        "id": "bu7tM5JGk7mj",
        "outputId": "4a7f5b48-a918-409d-b6fa-63029a0d6391"
      },
      "execution_count": 17,
      "outputs": [
        {
          "output_type": "stream",
          "name": "stdout",
          "text": [
            "label      0\n",
            "reviews    0\n",
            "dtype: int64\n"
          ]
        },
        {
          "output_type": "stream",
          "name": "stderr",
          "text": [
            "/tmp/ipython-input-17-1940184514.py:3: FutureWarning: A value is trying to be set on a copy of a DataFrame or Series through chained assignment using an inplace method.\n",
            "The behavior will change in pandas 3.0. This inplace method will never work because the intermediate object on which we are setting values always behaves as a copy.\n",
            "\n",
            "For example, when doing 'df[col].method(value, inplace=True)', try using 'df.method({col: value}, inplace=True)' or df[col] = df[col].method(value) instead, to perform the operation inplace on the original object.\n",
            "\n",
            "\n",
            "  train_data['reviews'].replace('', np.nan, inplace=True) # 공백은 Null 값으로 변경\n"
          ]
        }
      ]
    },
    {
      "cell_type": "markdown",
      "source": [
        "테스트 데이터도 똑같은 작업을 해주자."
      ],
      "metadata": {
        "id": "O6zshLN3negh"
      }
    },
    {
      "cell_type": "code",
      "source": [
        "# 데이터셋 나누기 전에 중복 처리 했다고 안 하고 돌리니까 개수 그대로 나옴. 해주면 데이터 4개 없어짐.\n",
        "test_data.drop_duplicates(subset = ['reviews'], inplace=True) # 중복 제거\n",
        "test_data['reviews'] = test_data['reviews'].str.replace(\"[^ㄱ-하-ㅣ가-힣]\", \"\", regex=True) # 정규 표현식 수행\n",
        "test_data['reviews'].replace('', np.nan, inplace=True) # 공백은 Null 값으로 변경\n",
        "test_data = test_data.dropna(how='any') # Null 값 제거\n",
        "print('전처리 후 테스트용 샘플의 개수 : ', len(test_data))"
      ],
      "metadata": {
        "colab": {
          "base_uri": "https://localhost:8080/"
        },
        "id": "7sc17dbKmd5f",
        "outputId": "101c81c3-d7fd-42d7-b71f-4f4f2703f4ce"
      },
      "execution_count": 18,
      "outputs": [
        {
          "output_type": "stream",
          "name": "stdout",
          "text": [
            "전처리 후 테스트용 샘플의 개수 :  24996\n"
          ]
        },
        {
          "output_type": "stream",
          "name": "stderr",
          "text": [
            "/tmp/ipython-input-18-934362035.py:4: FutureWarning: A value is trying to be set on a copy of a DataFrame or Series through chained assignment using an inplace method.\n",
            "The behavior will change in pandas 3.0. This inplace method will never work because the intermediate object on which we are setting values always behaves as a copy.\n",
            "\n",
            "For example, when doing 'df[col].method(value, inplace=True)', try using 'df.method({col: value}, inplace=True)' or df[col] = df[col].method(value) instead, to perform the operation inplace on the original object.\n",
            "\n",
            "\n",
            "  test_data['reviews'].replace('', np.nan, inplace=True) # 공백은 Null 값으로 변경\n"
          ]
        }
      ]
    },
    {
      "cell_type": "markdown",
      "source": [
        "불용어를 정의해줍니다."
      ],
      "metadata": {
        "id": "6aDeXcqApq5Q"
      }
    },
    {
      "cell_type": "code",
      "source": [
        "stopwords = ['도','는','다','의','가','이','은','한','에','하','고','을','를','인','듯','과','와','네','들','듯','지','임','게','만','게임','겜','되','음','면']"
      ],
      "metadata": {
        "id": "UPghsYADpcj0"
      },
      "execution_count": 19,
      "outputs": []
    },
    {
      "cell_type": "markdown",
      "source": [
        "## 5) 토큰화\n",
        "형태소 분석기 Mecab을 사용하여 토큰화 작업을 수행합니다."
      ],
      "metadata": {
        "id": "XP6_fkp9qGuq"
      }
    },
    {
      "cell_type": "code",
      "source": [
        "mecab = Mecab()\n",
        "\n",
        "train_data['tokenized'] = train_data['reviews'].apply(mecab.morphs)\n",
        "train_data['tokenized'] = train_data['tokenized'].apply(lambda x: [item for item in x if item not in stopwords])\n",
        "test_data['tokenized'] = test_data['reviews'].apply(mecab.morphs)\n",
        "test_data['tokenized'] = test_data['tokenized'].apply(lambda x: [item for item in x if item not in stopwords])"
      ],
      "metadata": {
        "id": "MuR6KbsLqCgb"
      },
      "execution_count": 21,
      "outputs": []
    },
    {
      "cell_type": "markdown",
      "source": [
        "## 6) 단어와 길이 분포 확인하기\n",
        "긍정 리뷰에는 주로 어떤 단어들이 많이 등장하고, 부정 리뷰에는 주로 어떤 단어들이 등장하는지 두 가지 경우에 대해서 각 단어의 빈도수를 계산해보겠습니다. 각 레이블에 따라서 별도로 단어들의 리스트를 저장해줍니다."
      ],
      "metadata": {
        "id": "oAagug1A2VKk"
      }
    },
    {
      "cell_type": "code",
      "source": [
        "negative_words = np.hstack(train_data[train_data.label == 0]['tokenized'].values)\n",
        "positive_words = np.hstack(train_data[train_data.label == 1]['tokenized'].values)"
      ],
      "metadata": {
        "id": "LHlGqWL_qQnu"
      },
      "execution_count": 22,
      "outputs": []
    },
    {
      "cell_type": "markdown",
      "source": [
        "Counter()를 사용하여 각 단어에 대한 빈도수를 카운트합니다. 우선 부정 리뷰에 대해서 빈도수가 높은 상위 20개 단어들을 출력합니다."
      ],
      "metadata": {
        "id": "pupMf_jL3Y39"
      }
    },
    {
      "cell_type": "code",
      "source": [
        "negative_word_count = Counter(negative_words)\n",
        "print(negative_word_count.most_common(20))"
      ],
      "metadata": {
        "colab": {
          "base_uri": "https://localhost:8080/"
        },
        "id": "LBZp9qaD3IMI",
        "outputId": "bbac6d7e-f1b0-4017-b3cb-8c24604c2e41"
      },
      "execution_count": 24,
      "outputs": [
        {
          "output_type": "stream",
          "name": "stdout",
          "text": [
            "[(np.str_('안'), 7830), (np.str_('없'), 6801), (np.str_('있'), 5663), (np.str_('는데'), 5568), (np.str_('같'), 4076), (np.str_('로'), 4059), (np.str_('할'), 3812), (np.str_('거'), 3586), (np.str_('해'), 3559), (np.str_('나'), 3489), (np.str_('너무'), 3409), (np.str_('으로'), 3288), (np.str_('기'), 3211), (np.str_('했'), 3179), (np.str_('어'), 3171), (np.str_('습니다'), 2989), (np.str_('지만'), 2931), (np.str_('좋'), 2852), (np.str_('것'), 2843), (np.str_('겠'), 2801)]\n"
          ]
        }
      ]
    },
    {
      "cell_type": "markdown",
      "source": [
        "긍정 리뷰에 대해서도 동일하게 출력해봅시다."
      ],
      "metadata": {
        "id": "xbmEmM4J3w8F"
      }
    },
    {
      "cell_type": "code",
      "source": [
        "positive_word_count = Counter(positive_words)\n",
        "print(positive_word_count.most_common(20))"
      ],
      "metadata": {
        "colab": {
          "base_uri": "https://localhost:8080/"
        },
        "id": "V8mWPrWB3gpo",
        "outputId": "1d8859f6-d60b-4dc4-d366-0749781391ad"
      },
      "execution_count": 25,
      "outputs": [
        {
          "output_type": "stream",
          "name": "stdout",
          "text": [
            "[(np.str_('있'), 9668), (np.str_('좋'), 6252), (np.str_('습니다'), 5038), (np.str_('할'), 4783), (np.str_('지만'), 4750), (np.str_('재밌'), 4702), (np.str_('해'), 4256), (np.str_('없'), 4075), (np.str_('로'), 3860), (np.str_('으로'), 3792), (np.str_('보'), 3782), (np.str_('수'), 3776), (np.str_('는데'), 3609), (np.str_('기'), 3481), (np.str_('것'), 3320), (np.str_('같'), 3281), (np.str_('안'), 3230), (np.str_('어'), 3073), (np.str_('네요'), 3022), (np.str_('나'), 2936)]\n"
          ]
        }
      ]
    },
    {
      "cell_type": "markdown",
      "source": [
        "두 가지 경우에 대해서 각각 길이 분포를 확인해봅시다."
      ],
      "metadata": {
        "id": "851voi4b4HJV"
      }
    },
    {
      "cell_type": "code",
      "source": [
        "# import plotly.io as pio\n",
        "# pio.templates.default = 'plotly_white'   # 혹은 'plotly'\n",
        "\n",
        "fig = make_subplots(rows=1, cols=2, subplot_titles=['Positive 긍정 댓글','Negative 부정 댓글'])\n",
        "for i, lbl in enumerate([1,0], start=1):\n",
        "    lengths = train_data[train_data['label']==lbl]['tokenized'].map(len)\n",
        "    counts = lengths.value_counts().sort_index()\n",
        "    fig.add_trace(\n",
        "       go.Bar(\n",
        "         x=counts.index,\n",
        "         y=counts.values,\n",
        "         name = 'Positives' if lbl==1 else 'Negatives',\n",
        "         marker=dict(color='green' if lbl==1 else 'indianred', opacity=1.0)\n",
        "       ),\n",
        "       row=1, col=i\n",
        "    )\n",
        "\n",
        "fig.update_layout(\n",
        "    # template='plotly_white',\n",
        "    xaxis_title='Token Length 댓글 길이',\n",
        "    yaxis_title='Count 댓글에 포함된 총 단어 개수',\n",
        "    showlegend=False\n",
        ")\n",
        "fig.show()"
      ],
      "metadata": {
        "colab": {
          "base_uri": "https://localhost:8080/",
          "height": 542
        },
        "id": "Dg5RLlEEI46y",
        "outputId": "adb17aa5-f650-4cdf-e481-1245130bac99"
      },
      "execution_count": 108,
      "outputs": [
        {
          "output_type": "display_data",
          "data": {
            "text/html": [
              "<html>\n",
              "<head><meta charset=\"utf-8\" /></head>\n",
              "<body>\n",
              "    <div>            <script src=\"https://cdnjs.cloudflare.com/ajax/libs/mathjax/2.7.5/MathJax.js?config=TeX-AMS-MML_SVG\"></script><script type=\"text/javascript\">if (window.MathJax && window.MathJax.Hub && window.MathJax.Hub.Config) {window.MathJax.Hub.Config({SVG: {font: \"STIX-Web\"}});}</script>                <script type=\"text/javascript\">window.PlotlyConfig = {MathJaxConfig: 'local'};</script>\n",
              "        <script charset=\"utf-8\" src=\"https://cdn.plot.ly/plotly-2.35.2.min.js\"></script>                <div id=\"3ae9c2bf-9b67-41cb-9b87-76e528a95c1f\" class=\"plotly-graph-div\" style=\"height:525px; width:100%;\"></div>            <script type=\"text/javascript\">                                    window.PLOTLYENV=window.PLOTLYENV || {};                                    if (document.getElementById(\"3ae9c2bf-9b67-41cb-9b87-76e528a95c1f\")) {                    Plotly.newPlot(                        \"3ae9c2bf-9b67-41cb-9b87-76e528a95c1f\",                        [{\"marker\":{\"color\":\"green\",\"opacity\":1.0},\"name\":\"Positives\",\"x\":[0,1,2,3,4,5,6,7,8,9,10,11,12,13,14,15,16,17,18,19,20,21,22,23,24,25,26,27,28,29,30,31,32,33,34,35,36,37,38,39,40,41,42,43,44,45,46,47,48,49,50,51,52,53,54,55,56,58,59,61,62],\"y\":[12,649,1806,2238,2369,2140,2145,1911,1802,1622,1415,1303,1190,1089,1001,964,876,794,762,681,684,628,635,616,567,542,529,508,458,420,426,406,403,430,347,350,342,321,306,265,284,240,207,194,132,126,81,72,65,39,29,21,9,9,5,4,1,4,2,1,1],\"type\":\"bar\",\"xaxis\":\"x\",\"yaxis\":\"y\"},{\"marker\":{\"color\":\"indianred\",\"opacity\":1.0},\"name\":\"Negatives\",\"x\":[0,1,2,3,4,5,6,7,8,9,10,11,12,13,14,15,16,17,18,19,20,21,22,23,24,25,26,27,28,29,30,31,32,33,34,35,36,37,38,39,40,41,42,43,44,45,46,47,48,49,50,51,52,53,54,55,56,57,58,61,63],\"y\":[18,698,1698,2282,2349,2151,1973,1820,1692,1546,1465,1336,1230,1075,1047,953,884,849,792,783,682,695,621,620,585,524,560,474,474,444,450,420,394,382,388,346,307,325,317,284,295,215,193,184,150,120,105,84,64,58,33,25,23,13,9,8,3,2,2,1,2],\"type\":\"bar\",\"xaxis\":\"x2\",\"yaxis\":\"y2\"}],                        {\"template\":{\"data\":{\"histogram2dcontour\":[{\"type\":\"histogram2dcontour\",\"colorbar\":{\"outlinewidth\":0,\"ticks\":\"\"},\"colorscale\":[[0.0,\"#0d0887\"],[0.1111111111111111,\"#46039f\"],[0.2222222222222222,\"#7201a8\"],[0.3333333333333333,\"#9c179e\"],[0.4444444444444444,\"#bd3786\"],[0.5555555555555556,\"#d8576b\"],[0.6666666666666666,\"#ed7953\"],[0.7777777777777778,\"#fb9f3a\"],[0.8888888888888888,\"#fdca26\"],[1.0,\"#f0f921\"]]}],\"choropleth\":[{\"type\":\"choropleth\",\"colorbar\":{\"outlinewidth\":0,\"ticks\":\"\"}}],\"histogram2d\":[{\"type\":\"histogram2d\",\"colorbar\":{\"outlinewidth\":0,\"ticks\":\"\"},\"colorscale\":[[0.0,\"#0d0887\"],[0.1111111111111111,\"#46039f\"],[0.2222222222222222,\"#7201a8\"],[0.3333333333333333,\"#9c179e\"],[0.4444444444444444,\"#bd3786\"],[0.5555555555555556,\"#d8576b\"],[0.6666666666666666,\"#ed7953\"],[0.7777777777777778,\"#fb9f3a\"],[0.8888888888888888,\"#fdca26\"],[1.0,\"#f0f921\"]]}],\"heatmap\":[{\"type\":\"heatmap\",\"colorbar\":{\"outlinewidth\":0,\"ticks\":\"\"},\"colorscale\":[[0.0,\"#0d0887\"],[0.1111111111111111,\"#46039f\"],[0.2222222222222222,\"#7201a8\"],[0.3333333333333333,\"#9c179e\"],[0.4444444444444444,\"#bd3786\"],[0.5555555555555556,\"#d8576b\"],[0.6666666666666666,\"#ed7953\"],[0.7777777777777778,\"#fb9f3a\"],[0.8888888888888888,\"#fdca26\"],[1.0,\"#f0f921\"]]}],\"heatmapgl\":[{\"type\":\"heatmapgl\",\"colorbar\":{\"outlinewidth\":0,\"ticks\":\"\"},\"colorscale\":[[0.0,\"#0d0887\"],[0.1111111111111111,\"#46039f\"],[0.2222222222222222,\"#7201a8\"],[0.3333333333333333,\"#9c179e\"],[0.4444444444444444,\"#bd3786\"],[0.5555555555555556,\"#d8576b\"],[0.6666666666666666,\"#ed7953\"],[0.7777777777777778,\"#fb9f3a\"],[0.8888888888888888,\"#fdca26\"],[1.0,\"#f0f921\"]]}],\"contourcarpet\":[{\"type\":\"contourcarpet\",\"colorbar\":{\"outlinewidth\":0,\"ticks\":\"\"}}],\"contour\":[{\"type\":\"contour\",\"colorbar\":{\"outlinewidth\":0,\"ticks\":\"\"},\"colorscale\":[[0.0,\"#0d0887\"],[0.1111111111111111,\"#46039f\"],[0.2222222222222222,\"#7201a8\"],[0.3333333333333333,\"#9c179e\"],[0.4444444444444444,\"#bd3786\"],[0.5555555555555556,\"#d8576b\"],[0.6666666666666666,\"#ed7953\"],[0.7777777777777778,\"#fb9f3a\"],[0.8888888888888888,\"#fdca26\"],[1.0,\"#f0f921\"]]}],\"surface\":[{\"type\":\"surface\",\"colorbar\":{\"outlinewidth\":0,\"ticks\":\"\"},\"colorscale\":[[0.0,\"#0d0887\"],[0.1111111111111111,\"#46039f\"],[0.2222222222222222,\"#7201a8\"],[0.3333333333333333,\"#9c179e\"],[0.4444444444444444,\"#bd3786\"],[0.5555555555555556,\"#d8576b\"],[0.6666666666666666,\"#ed7953\"],[0.7777777777777778,\"#fb9f3a\"],[0.8888888888888888,\"#fdca26\"],[1.0,\"#f0f921\"]]}],\"mesh3d\":[{\"type\":\"mesh3d\",\"colorbar\":{\"outlinewidth\":0,\"ticks\":\"\"}}],\"scatter\":[{\"fillpattern\":{\"fillmode\":\"overlay\",\"size\":10,\"solidity\":0.2},\"type\":\"scatter\"}],\"parcoords\":[{\"type\":\"parcoords\",\"line\":{\"colorbar\":{\"outlinewidth\":0,\"ticks\":\"\"}}}],\"scatterpolargl\":[{\"type\":\"scatterpolargl\",\"marker\":{\"colorbar\":{\"outlinewidth\":0,\"ticks\":\"\"}}}],\"bar\":[{\"error_x\":{\"color\":\"#2a3f5f\"},\"error_y\":{\"color\":\"#2a3f5f\"},\"marker\":{\"line\":{\"color\":\"white\",\"width\":0.5},\"pattern\":{\"fillmode\":\"overlay\",\"size\":10,\"solidity\":0.2}},\"type\":\"bar\"}],\"scattergeo\":[{\"type\":\"scattergeo\",\"marker\":{\"colorbar\":{\"outlinewidth\":0,\"ticks\":\"\"}}}],\"scatterpolar\":[{\"type\":\"scatterpolar\",\"marker\":{\"colorbar\":{\"outlinewidth\":0,\"ticks\":\"\"}}}],\"histogram\":[{\"marker\":{\"pattern\":{\"fillmode\":\"overlay\",\"size\":10,\"solidity\":0.2}},\"type\":\"histogram\"}],\"scattergl\":[{\"type\":\"scattergl\",\"marker\":{\"colorbar\":{\"outlinewidth\":0,\"ticks\":\"\"}}}],\"scatter3d\":[{\"type\":\"scatter3d\",\"line\":{\"colorbar\":{\"outlinewidth\":0,\"ticks\":\"\"}},\"marker\":{\"colorbar\":{\"outlinewidth\":0,\"ticks\":\"\"}}}],\"scattermapbox\":[{\"type\":\"scattermapbox\",\"marker\":{\"colorbar\":{\"outlinewidth\":0,\"ticks\":\"\"}}}],\"scatterternary\":[{\"type\":\"scatterternary\",\"marker\":{\"colorbar\":{\"outlinewidth\":0,\"ticks\":\"\"}}}],\"scattercarpet\":[{\"type\":\"scattercarpet\",\"marker\":{\"colorbar\":{\"outlinewidth\":0,\"ticks\":\"\"}}}],\"carpet\":[{\"aaxis\":{\"endlinecolor\":\"#2a3f5f\",\"gridcolor\":\"#C8D4E3\",\"linecolor\":\"#C8D4E3\",\"minorgridcolor\":\"#C8D4E3\",\"startlinecolor\":\"#2a3f5f\"},\"baxis\":{\"endlinecolor\":\"#2a3f5f\",\"gridcolor\":\"#C8D4E3\",\"linecolor\":\"#C8D4E3\",\"minorgridcolor\":\"#C8D4E3\",\"startlinecolor\":\"#2a3f5f\"},\"type\":\"carpet\"}],\"table\":[{\"cells\":{\"fill\":{\"color\":\"#EBF0F8\"},\"line\":{\"color\":\"white\"}},\"header\":{\"fill\":{\"color\":\"#C8D4E3\"},\"line\":{\"color\":\"white\"}},\"type\":\"table\"}],\"barpolar\":[{\"marker\":{\"line\":{\"color\":\"white\",\"width\":0.5},\"pattern\":{\"fillmode\":\"overlay\",\"size\":10,\"solidity\":0.2}},\"type\":\"barpolar\"}],\"pie\":[{\"automargin\":true,\"type\":\"pie\"}]},\"layout\":{\"autotypenumbers\":\"strict\",\"colorway\":[\"#636efa\",\"#EF553B\",\"#00cc96\",\"#ab63fa\",\"#FFA15A\",\"#19d3f3\",\"#FF6692\",\"#B6E880\",\"#FF97FF\",\"#FECB52\"],\"font\":{\"color\":\"#2a3f5f\"},\"hovermode\":\"closest\",\"hoverlabel\":{\"align\":\"left\"},\"paper_bgcolor\":\"white\",\"plot_bgcolor\":\"white\",\"polar\":{\"bgcolor\":\"white\",\"angularaxis\":{\"gridcolor\":\"#EBF0F8\",\"linecolor\":\"#EBF0F8\",\"ticks\":\"\"},\"radialaxis\":{\"gridcolor\":\"#EBF0F8\",\"linecolor\":\"#EBF0F8\",\"ticks\":\"\"}},\"ternary\":{\"bgcolor\":\"white\",\"aaxis\":{\"gridcolor\":\"#DFE8F3\",\"linecolor\":\"#A2B1C6\",\"ticks\":\"\"},\"baxis\":{\"gridcolor\":\"#DFE8F3\",\"linecolor\":\"#A2B1C6\",\"ticks\":\"\"},\"caxis\":{\"gridcolor\":\"#DFE8F3\",\"linecolor\":\"#A2B1C6\",\"ticks\":\"\"}},\"coloraxis\":{\"colorbar\":{\"outlinewidth\":0,\"ticks\":\"\"}},\"colorscale\":{\"sequential\":[[0.0,\"#0d0887\"],[0.1111111111111111,\"#46039f\"],[0.2222222222222222,\"#7201a8\"],[0.3333333333333333,\"#9c179e\"],[0.4444444444444444,\"#bd3786\"],[0.5555555555555556,\"#d8576b\"],[0.6666666666666666,\"#ed7953\"],[0.7777777777777778,\"#fb9f3a\"],[0.8888888888888888,\"#fdca26\"],[1.0,\"#f0f921\"]],\"sequentialminus\":[[0.0,\"#0d0887\"],[0.1111111111111111,\"#46039f\"],[0.2222222222222222,\"#7201a8\"],[0.3333333333333333,\"#9c179e\"],[0.4444444444444444,\"#bd3786\"],[0.5555555555555556,\"#d8576b\"],[0.6666666666666666,\"#ed7953\"],[0.7777777777777778,\"#fb9f3a\"],[0.8888888888888888,\"#fdca26\"],[1.0,\"#f0f921\"]],\"diverging\":[[0,\"#8e0152\"],[0.1,\"#c51b7d\"],[0.2,\"#de77ae\"],[0.3,\"#f1b6da\"],[0.4,\"#fde0ef\"],[0.5,\"#f7f7f7\"],[0.6,\"#e6f5d0\"],[0.7,\"#b8e186\"],[0.8,\"#7fbc41\"],[0.9,\"#4d9221\"],[1,\"#276419\"]]},\"xaxis\":{\"gridcolor\":\"#EBF0F8\",\"linecolor\":\"#EBF0F8\",\"ticks\":\"\",\"title\":{\"standoff\":15},\"zerolinecolor\":\"#EBF0F8\",\"automargin\":true,\"zerolinewidth\":2},\"yaxis\":{\"gridcolor\":\"#EBF0F8\",\"linecolor\":\"#EBF0F8\",\"ticks\":\"\",\"title\":{\"standoff\":15},\"zerolinecolor\":\"#EBF0F8\",\"automargin\":true,\"zerolinewidth\":2},\"scene\":{\"xaxis\":{\"backgroundcolor\":\"white\",\"gridcolor\":\"#DFE8F3\",\"linecolor\":\"#EBF0F8\",\"showbackground\":true,\"ticks\":\"\",\"zerolinecolor\":\"#EBF0F8\",\"gridwidth\":2},\"yaxis\":{\"backgroundcolor\":\"white\",\"gridcolor\":\"#DFE8F3\",\"linecolor\":\"#EBF0F8\",\"showbackground\":true,\"ticks\":\"\",\"zerolinecolor\":\"#EBF0F8\",\"gridwidth\":2},\"zaxis\":{\"backgroundcolor\":\"white\",\"gridcolor\":\"#DFE8F3\",\"linecolor\":\"#EBF0F8\",\"showbackground\":true,\"ticks\":\"\",\"zerolinecolor\":\"#EBF0F8\",\"gridwidth\":2}},\"shapedefaults\":{\"line\":{\"color\":\"#2a3f5f\"}},\"annotationdefaults\":{\"arrowcolor\":\"#2a3f5f\",\"arrowhead\":0,\"arrowwidth\":1},\"geo\":{\"bgcolor\":\"white\",\"landcolor\":\"white\",\"subunitcolor\":\"#C8D4E3\",\"showland\":true,\"showlakes\":true,\"lakecolor\":\"white\"},\"title\":{\"x\":0.05},\"mapbox\":{\"style\":\"light\"}}},\"xaxis\":{\"anchor\":\"y\",\"domain\":[0.0,0.45],\"title\":{\"text\":\"Token Length 댓글 길이\"}},\"yaxis\":{\"anchor\":\"x\",\"domain\":[0.0,1.0],\"title\":{\"text\":\"Count 댓글에 포함된 총 단어 개수\"}},\"xaxis2\":{\"anchor\":\"y2\",\"domain\":[0.55,1.0]},\"yaxis2\":{\"anchor\":\"x2\",\"domain\":[0.0,1.0]},\"annotations\":[{\"font\":{\"size\":16},\"showarrow\":false,\"text\":\"Positive 긍정 댓글\",\"x\":0.225,\"xanchor\":\"center\",\"xref\":\"paper\",\"y\":1.0,\"yanchor\":\"bottom\",\"yref\":\"paper\"},{\"font\":{\"size\":16},\"showarrow\":false,\"text\":\"Negative 부정 댓글\",\"x\":0.775,\"xanchor\":\"center\",\"xref\":\"paper\",\"y\":1.0,\"yanchor\":\"bottom\",\"yref\":\"paper\"}],\"showlegend\":false},                        {\"responsive\": true}                    ).then(function(){\n",
              "                            \n",
              "var gd = document.getElementById('3ae9c2bf-9b67-41cb-9b87-76e528a95c1f');\n",
              "var x = new MutationObserver(function (mutations, observer) {{\n",
              "        var display = window.getComputedStyle(gd).display;\n",
              "        if (!display || display === 'none') {{\n",
              "            console.log([gd, 'removed!']);\n",
              "            Plotly.purge(gd);\n",
              "            observer.disconnect();\n",
              "        }}\n",
              "}});\n",
              "\n",
              "// Listen for the removal of the full notebook cells\n",
              "var notebookContainer = gd.closest('#notebook-container');\n",
              "if (notebookContainer) {{\n",
              "    x.observe(notebookContainer, {childList: true});\n",
              "}}\n",
              "\n",
              "// Listen for the clearing of the current output cell\n",
              "var outputEl = gd.closest('.output');\n",
              "if (outputEl) {{\n",
              "    x.observe(outputEl, {childList: true});\n",
              "}}\n",
              "\n",
              "                        })                };                            </script>        </div>\n",
              "</body>\n",
              "</html>"
            ]
          },
          "metadata": {}
        }
      ]
    },
    {
      "cell_type": "code",
      "source": [
        "train_data.head(10)"
      ],
      "metadata": {
        "colab": {
          "base_uri": "https://localhost:8080/",
          "height": 363
        },
        "id": "SiJEURyXOxuf",
        "outputId": "c592c65e-7480-4744-b9e0-cac1281832ec"
      },
      "execution_count": 81,
      "outputs": [
        {
          "output_type": "execute_result",
          "data": {
            "text/plain": [
              "       label                                            reviews  \\\n",
              "98980      1  최종도망칠때초간침실에서도망친뒤갑자기속도가빨라질때방에서나가면의자가많은방에서따라오던몹이...   \n",
              "69824      1              오크보스만날때입닥치게하는내면살생각있음네메시스로하고있는데대사외워지겠네   \n",
              "9928       1      비연시비둘기연애시뮬레이터걍겜인줄알았지만갓-겜이라놀랐음흥미롭네공략깨갈때마다놀라운게임   \n",
              "75599      0      시발돈안벌린다고게임옆에있는게임으로만들어버리네ㅋㅋㅋㅋㅋ게임사람정말많아지겠습니다ㅋㅋㅋ   \n",
              "95621      0            군대다녀와도정식출시가안돼있는게임곰신도못기다릴듯이건고무신거꾸로신어도인정임   \n",
              "80724      1                 아매우재밌읍니다으로영화편본그런느낌이네요이런겜더나왔으면좋겠읍니다   \n",
              "78925      0  게임자체는잘만들어져재미있으나고질적인서버불안정으로인한로그인불가팅김렉등네트워크문제로반복...   \n",
              "14672      0               내가생각했던미연시게임이아니다아마도버전제로라서그런가레알분이면은엔딩봄   \n",
              "76016      1                                    원소를확실이배운다물산소불돌점   \n",
              "95628      1                                       기대햇던만큼재미있습니다   \n",
              "\n",
              "                                               tokenized  \n",
              "98980  [최종, 망칠, 때, 초간, 침실, 에서, 망친, 뒤, 갑자기, 속도, 빨라질, 때...  \n",
              "69824  [오크, 보스, 만날, 때, 입, 닥치, 내면, 살, 생각, 있, 네메시스, 로, ...  \n",
              "9928   [비, 연시, 비둘기, 연애, 시뮬레이터, 걍겜인줄알았지만갓, -, 라, 놀, 랐음...  \n",
              "75599  [시발, 돈, 안, 벌린다고, 옆, 있, 으로, 만들, 어, 버리, ㅋㅋㅋ, ㅋㅋ,...  \n",
              "95621  [군대, 다녀와도, 정식, 출시, 안, 돼, 있, 곰, 신, 못, 기다릴, 이건, ...  \n",
              "80724  [아, 매우, 재밌, 읍니다, 으로, 영화, 편, 본, 그런, 느낌, 네요, 이런,...  \n",
              "78925  [자체, 잘, 만들, 어, 져, 재미있, 으나, 고질, 적, 서버, 불, 안정, 으...  \n",
              "14672  [내, 생각, 했, 던, 미, 연시, 아니, 아마도, 버전, 제로, 라서, 그런, ...  \n",
              "76016                       [원소, 확실이, 배운, 다물, 산소, 불돌, 점]  \n",
              "95628                           [기대, 햇, 던, 만큼, 재미있, 습니다]  "
            ],
            "text/html": [
              "\n",
              "  <div id=\"df-b209c971-cd57-45a3-8575-b2ac8381ad7f\" class=\"colab-df-container\">\n",
              "    <div>\n",
              "<style scoped>\n",
              "    .dataframe tbody tr th:only-of-type {\n",
              "        vertical-align: middle;\n",
              "    }\n",
              "\n",
              "    .dataframe tbody tr th {\n",
              "        vertical-align: top;\n",
              "    }\n",
              "\n",
              "    .dataframe thead th {\n",
              "        text-align: right;\n",
              "    }\n",
              "</style>\n",
              "<table border=\"1\" class=\"dataframe\">\n",
              "  <thead>\n",
              "    <tr style=\"text-align: right;\">\n",
              "      <th></th>\n",
              "      <th>label</th>\n",
              "      <th>reviews</th>\n",
              "      <th>tokenized</th>\n",
              "    </tr>\n",
              "  </thead>\n",
              "  <tbody>\n",
              "    <tr>\n",
              "      <th>98980</th>\n",
              "      <td>1</td>\n",
              "      <td>최종도망칠때초간침실에서도망친뒤갑자기속도가빨라질때방에서나가면의자가많은방에서따라오던몹이...</td>\n",
              "      <td>[최종, 망칠, 때, 초간, 침실, 에서, 망친, 뒤, 갑자기, 속도, 빨라질, 때...</td>\n",
              "    </tr>\n",
              "    <tr>\n",
              "      <th>69824</th>\n",
              "      <td>1</td>\n",
              "      <td>오크보스만날때입닥치게하는내면살생각있음네메시스로하고있는데대사외워지겠네</td>\n",
              "      <td>[오크, 보스, 만날, 때, 입, 닥치, 내면, 살, 생각, 있, 네메시스, 로, ...</td>\n",
              "    </tr>\n",
              "    <tr>\n",
              "      <th>9928</th>\n",
              "      <td>1</td>\n",
              "      <td>비연시비둘기연애시뮬레이터걍겜인줄알았지만갓-겜이라놀랐음흥미롭네공략깨갈때마다놀라운게임</td>\n",
              "      <td>[비, 연시, 비둘기, 연애, 시뮬레이터, 걍겜인줄알았지만갓, -, 라, 놀, 랐음...</td>\n",
              "    </tr>\n",
              "    <tr>\n",
              "      <th>75599</th>\n",
              "      <td>0</td>\n",
              "      <td>시발돈안벌린다고게임옆에있는게임으로만들어버리네ㅋㅋㅋㅋㅋ게임사람정말많아지겠습니다ㅋㅋㅋ</td>\n",
              "      <td>[시발, 돈, 안, 벌린다고, 옆, 있, 으로, 만들, 어, 버리, ㅋㅋㅋ, ㅋㅋ,...</td>\n",
              "    </tr>\n",
              "    <tr>\n",
              "      <th>95621</th>\n",
              "      <td>0</td>\n",
              "      <td>군대다녀와도정식출시가안돼있는게임곰신도못기다릴듯이건고무신거꾸로신어도인정임</td>\n",
              "      <td>[군대, 다녀와도, 정식, 출시, 안, 돼, 있, 곰, 신, 못, 기다릴, 이건, ...</td>\n",
              "    </tr>\n",
              "    <tr>\n",
              "      <th>80724</th>\n",
              "      <td>1</td>\n",
              "      <td>아매우재밌읍니다으로영화편본그런느낌이네요이런겜더나왔으면좋겠읍니다</td>\n",
              "      <td>[아, 매우, 재밌, 읍니다, 으로, 영화, 편, 본, 그런, 느낌, 네요, 이런,...</td>\n",
              "    </tr>\n",
              "    <tr>\n",
              "      <th>78925</th>\n",
              "      <td>0</td>\n",
              "      <td>게임자체는잘만들어져재미있으나고질적인서버불안정으로인한로그인불가팅김렉등네트워크문제로반복...</td>\n",
              "      <td>[자체, 잘, 만들, 어, 져, 재미있, 으나, 고질, 적, 서버, 불, 안정, 으...</td>\n",
              "    </tr>\n",
              "    <tr>\n",
              "      <th>14672</th>\n",
              "      <td>0</td>\n",
              "      <td>내가생각했던미연시게임이아니다아마도버전제로라서그런가레알분이면은엔딩봄</td>\n",
              "      <td>[내, 생각, 했, 던, 미, 연시, 아니, 아마도, 버전, 제로, 라서, 그런, ...</td>\n",
              "    </tr>\n",
              "    <tr>\n",
              "      <th>76016</th>\n",
              "      <td>1</td>\n",
              "      <td>원소를확실이배운다물산소불돌점</td>\n",
              "      <td>[원소, 확실이, 배운, 다물, 산소, 불돌, 점]</td>\n",
              "    </tr>\n",
              "    <tr>\n",
              "      <th>95628</th>\n",
              "      <td>1</td>\n",
              "      <td>기대햇던만큼재미있습니다</td>\n",
              "      <td>[기대, 햇, 던, 만큼, 재미있, 습니다]</td>\n",
              "    </tr>\n",
              "  </tbody>\n",
              "</table>\n",
              "</div>\n",
              "    <div class=\"colab-df-buttons\">\n",
              "\n",
              "  <div class=\"colab-df-container\">\n",
              "    <button class=\"colab-df-convert\" onclick=\"convertToInteractive('df-b209c971-cd57-45a3-8575-b2ac8381ad7f')\"\n",
              "            title=\"Convert this dataframe to an interactive table.\"\n",
              "            style=\"display:none;\">\n",
              "\n",
              "  <svg xmlns=\"http://www.w3.org/2000/svg\" height=\"24px\" viewBox=\"0 -960 960 960\">\n",
              "    <path d=\"M120-120v-720h720v720H120Zm60-500h600v-160H180v160Zm220 220h160v-160H400v160Zm0 220h160v-160H400v160ZM180-400h160v-160H180v160Zm440 0h160v-160H620v160ZM180-180h160v-160H180v160Zm440 0h160v-160H620v160Z\"/>\n",
              "  </svg>\n",
              "    </button>\n",
              "\n",
              "  <style>\n",
              "    .colab-df-container {\n",
              "      display:flex;\n",
              "      gap: 12px;\n",
              "    }\n",
              "\n",
              "    .colab-df-convert {\n",
              "      background-color: #E8F0FE;\n",
              "      border: none;\n",
              "      border-radius: 50%;\n",
              "      cursor: pointer;\n",
              "      display: none;\n",
              "      fill: #1967D2;\n",
              "      height: 32px;\n",
              "      padding: 0 0 0 0;\n",
              "      width: 32px;\n",
              "    }\n",
              "\n",
              "    .colab-df-convert:hover {\n",
              "      background-color: #E2EBFA;\n",
              "      box-shadow: 0px 1px 2px rgba(60, 64, 67, 0.3), 0px 1px 3px 1px rgba(60, 64, 67, 0.15);\n",
              "      fill: #174EA6;\n",
              "    }\n",
              "\n",
              "    .colab-df-buttons div {\n",
              "      margin-bottom: 4px;\n",
              "    }\n",
              "\n",
              "    [theme=dark] .colab-df-convert {\n",
              "      background-color: #3B4455;\n",
              "      fill: #D2E3FC;\n",
              "    }\n",
              "\n",
              "    [theme=dark] .colab-df-convert:hover {\n",
              "      background-color: #434B5C;\n",
              "      box-shadow: 0px 1px 3px 1px rgba(0, 0, 0, 0.15);\n",
              "      filter: drop-shadow(0px 1px 2px rgba(0, 0, 0, 0.3));\n",
              "      fill: #FFFFFF;\n",
              "    }\n",
              "  </style>\n",
              "\n",
              "    <script>\n",
              "      const buttonEl =\n",
              "        document.querySelector('#df-b209c971-cd57-45a3-8575-b2ac8381ad7f button.colab-df-convert');\n",
              "      buttonEl.style.display =\n",
              "        google.colab.kernel.accessAllowed ? 'block' : 'none';\n",
              "\n",
              "      async function convertToInteractive(key) {\n",
              "        const element = document.querySelector('#df-b209c971-cd57-45a3-8575-b2ac8381ad7f');\n",
              "        const dataTable =\n",
              "          await google.colab.kernel.invokeFunction('convertToInteractive',\n",
              "                                                    [key], {});\n",
              "        if (!dataTable) return;\n",
              "\n",
              "        const docLinkHtml = 'Like what you see? Visit the ' +\n",
              "          '<a target=\"_blank\" href=https://colab.research.google.com/notebooks/data_table.ipynb>data table notebook</a>'\n",
              "          + ' to learn more about interactive tables.';\n",
              "        element.innerHTML = '';\n",
              "        dataTable['output_type'] = 'display_data';\n",
              "        await google.colab.output.renderOutput(dataTable, element);\n",
              "        const docLink = document.createElement('div');\n",
              "        docLink.innerHTML = docLinkHtml;\n",
              "        element.appendChild(docLink);\n",
              "      }\n",
              "    </script>\n",
              "  </div>\n",
              "\n",
              "\n",
              "    <div id=\"df-9c7f6082-7258-459e-9de8-78a446e4b612\">\n",
              "      <button class=\"colab-df-quickchart\" onclick=\"quickchart('df-9c7f6082-7258-459e-9de8-78a446e4b612')\"\n",
              "                title=\"Suggest charts\"\n",
              "                style=\"display:none;\">\n",
              "\n",
              "<svg xmlns=\"http://www.w3.org/2000/svg\" height=\"24px\"viewBox=\"0 0 24 24\"\n",
              "     width=\"24px\">\n",
              "    <g>\n",
              "        <path d=\"M19 3H5c-1.1 0-2 .9-2 2v14c0 1.1.9 2 2 2h14c1.1 0 2-.9 2-2V5c0-1.1-.9-2-2-2zM9 17H7v-7h2v7zm4 0h-2V7h2v10zm4 0h-2v-4h2v4z\"/>\n",
              "    </g>\n",
              "</svg>\n",
              "      </button>\n",
              "\n",
              "<style>\n",
              "  .colab-df-quickchart {\n",
              "      --bg-color: #E8F0FE;\n",
              "      --fill-color: #1967D2;\n",
              "      --hover-bg-color: #E2EBFA;\n",
              "      --hover-fill-color: #174EA6;\n",
              "      --disabled-fill-color: #AAA;\n",
              "      --disabled-bg-color: #DDD;\n",
              "  }\n",
              "\n",
              "  [theme=dark] .colab-df-quickchart {\n",
              "      --bg-color: #3B4455;\n",
              "      --fill-color: #D2E3FC;\n",
              "      --hover-bg-color: #434B5C;\n",
              "      --hover-fill-color: #FFFFFF;\n",
              "      --disabled-bg-color: #3B4455;\n",
              "      --disabled-fill-color: #666;\n",
              "  }\n",
              "\n",
              "  .colab-df-quickchart {\n",
              "    background-color: var(--bg-color);\n",
              "    border: none;\n",
              "    border-radius: 50%;\n",
              "    cursor: pointer;\n",
              "    display: none;\n",
              "    fill: var(--fill-color);\n",
              "    height: 32px;\n",
              "    padding: 0;\n",
              "    width: 32px;\n",
              "  }\n",
              "\n",
              "  .colab-df-quickchart:hover {\n",
              "    background-color: var(--hover-bg-color);\n",
              "    box-shadow: 0 1px 2px rgba(60, 64, 67, 0.3), 0 1px 3px 1px rgba(60, 64, 67, 0.15);\n",
              "    fill: var(--button-hover-fill-color);\n",
              "  }\n",
              "\n",
              "  .colab-df-quickchart-complete:disabled,\n",
              "  .colab-df-quickchart-complete:disabled:hover {\n",
              "    background-color: var(--disabled-bg-color);\n",
              "    fill: var(--disabled-fill-color);\n",
              "    box-shadow: none;\n",
              "  }\n",
              "\n",
              "  .colab-df-spinner {\n",
              "    border: 2px solid var(--fill-color);\n",
              "    border-color: transparent;\n",
              "    border-bottom-color: var(--fill-color);\n",
              "    animation:\n",
              "      spin 1s steps(1) infinite;\n",
              "  }\n",
              "\n",
              "  @keyframes spin {\n",
              "    0% {\n",
              "      border-color: transparent;\n",
              "      border-bottom-color: var(--fill-color);\n",
              "      border-left-color: var(--fill-color);\n",
              "    }\n",
              "    20% {\n",
              "      border-color: transparent;\n",
              "      border-left-color: var(--fill-color);\n",
              "      border-top-color: var(--fill-color);\n",
              "    }\n",
              "    30% {\n",
              "      border-color: transparent;\n",
              "      border-left-color: var(--fill-color);\n",
              "      border-top-color: var(--fill-color);\n",
              "      border-right-color: var(--fill-color);\n",
              "    }\n",
              "    40% {\n",
              "      border-color: transparent;\n",
              "      border-right-color: var(--fill-color);\n",
              "      border-top-color: var(--fill-color);\n",
              "    }\n",
              "    60% {\n",
              "      border-color: transparent;\n",
              "      border-right-color: var(--fill-color);\n",
              "    }\n",
              "    80% {\n",
              "      border-color: transparent;\n",
              "      border-right-color: var(--fill-color);\n",
              "      border-bottom-color: var(--fill-color);\n",
              "    }\n",
              "    90% {\n",
              "      border-color: transparent;\n",
              "      border-bottom-color: var(--fill-color);\n",
              "    }\n",
              "  }\n",
              "</style>\n",
              "\n",
              "      <script>\n",
              "        async function quickchart(key) {\n",
              "          const quickchartButtonEl =\n",
              "            document.querySelector('#' + key + ' button');\n",
              "          quickchartButtonEl.disabled = true;  // To prevent multiple clicks.\n",
              "          quickchartButtonEl.classList.add('colab-df-spinner');\n",
              "          try {\n",
              "            const charts = await google.colab.kernel.invokeFunction(\n",
              "                'suggestCharts', [key], {});\n",
              "          } catch (error) {\n",
              "            console.error('Error during call to suggestCharts:', error);\n",
              "          }\n",
              "          quickchartButtonEl.classList.remove('colab-df-spinner');\n",
              "          quickchartButtonEl.classList.add('colab-df-quickchart-complete');\n",
              "        }\n",
              "        (() => {\n",
              "          let quickchartButtonEl =\n",
              "            document.querySelector('#df-9c7f6082-7258-459e-9de8-78a446e4b612 button');\n",
              "          quickchartButtonEl.style.display =\n",
              "            google.colab.kernel.accessAllowed ? 'block' : 'none';\n",
              "        })();\n",
              "      </script>\n",
              "    </div>\n",
              "\n",
              "    </div>\n",
              "  </div>\n"
            ],
            "application/vnd.google.colaboratory.intrinsic+json": {
              "type": "dataframe",
              "variable_name": "train_data",
              "summary": "{\n  \"name\": \"train_data\",\n  \"rows\": 75000,\n  \"fields\": [\n    {\n      \"column\": \"label\",\n      \"properties\": {\n        \"dtype\": \"number\",\n        \"std\": 0,\n        \"min\": 0,\n        \"max\": 1,\n        \"num_unique_values\": 2,\n        \"samples\": [\n          0,\n          1\n        ],\n        \"semantic_type\": \"\",\n        \"description\": \"\"\n      }\n    },\n    {\n      \"column\": \"reviews\",\n      \"properties\": {\n        \"dtype\": \"string\",\n        \"num_unique_values\": 74353,\n        \"samples\": [\n          \"\\uac1c\\ubc1c\\uc790\\uac00\\ud55c\\uad6d\\uc778\\uc774\\uc5c8\\uad70\\uc694\\uc5b4\\uca50\\uc9c0\\uac8c\\uc784\\uc911\\uc5d0\\uc694\\ub9ac\\ubc00\\uc5b4\\uc870\\ub9ac\\ubc00\\uc5b4\\uc774\\u3151\\u3147\\uc544\\u314f\\u3147\\uc544\\u314f\\u3147\\uc544\\uc544\\ud074\\ub9ac\\ucee4\\ub77c\\ub294\\ub9d0\\uc774\\ub098\\uc624\\uae38\\ub798\\uc774\\uac70\\ud55c\\uad6d\\uc5b4\\uc778\\uac00\\ud588\\ub294\\ub370\\u314b\\u314b\\uac8c\\uc784\\uc740\\uc7ac\\ubc0c\\uc74c\\ud37c\\uc990\\uc774\\ub791\\uc2a4\\ud14c\\uc774\\uc9c0\\ub3c4\\ub9ce\\uace0\\ubaa8\\ub4dc\\ub3c4\\ub9ce\\uc544\\uc11c\\uc7ac\\ubc0c\\uc5b4\\uc694\",\n          \"\\uadf8\\uc9c0\\uac19\\uc740\\uc0ac\\uc774\\ub4dc\\ub178\\ud2b8\"\n        ],\n        \"semantic_type\": \"\",\n        \"description\": \"\"\n      }\n    },\n    {\n      \"column\": \"tokenized\",\n      \"properties\": {\n        \"dtype\": \"object\",\n        \"semantic_type\": \"\",\n        \"description\": \"\"\n      }\n    }\n  ]\n}"
            }
          },
          "metadata": {},
          "execution_count": 81
        }
      ]
    },
    {
      "cell_type": "code",
      "source": [
        "pstv_len = train_data[train_data['label'] == 1]['tokenized'].map(lambda x: len(x))\n",
        "ngtv_len = train_data[train_data['label'] == 0]['tokenized'].map(lambda x: len(x))\n",
        "print('긍정 리뷰의 평균 길이 : ', np.mean(pstv_len))\n",
        "print('부정 리뷰의 평균 길이 : ', np.mean(ngtv_len))"
      ],
      "metadata": {
        "colab": {
          "base_uri": "https://localhost:8080/"
        },
        "id": "KWQFaiCZKt3V",
        "outputId": "4c4037d8-a7de-4081-b5c5-77a8f49d4b6f"
      },
      "execution_count": 77,
      "outputs": [
        {
          "output_type": "stream",
          "name": "stdout",
          "text": [
            "긍정 리뷰의 평균 길이 :  14.664736645498692\n",
            "부정 리뷰의 평균 길이 :  14.859202601140664\n"
          ]
        }
      ]
    },
    {
      "cell_type": "markdown",
      "source": [
        "유의미한 차이가 있는 것 같진 않습니다.\n",
        "\n",
        "---"
      ],
      "metadata": {
        "id": "out7AhdrNUN4"
      }
    },
    {
      "cell_type": "code",
      "source": [
        "X_train = train_data['tokenized'].values\n",
        "y_train = train_data['label'].values\n",
        "X_test = test_data['tokenized'].values\n",
        "y_test = test_data['label'].values"
      ],
      "metadata": {
        "id": "cFBNfQ5WNTsx"
      },
      "execution_count": 78,
      "outputs": []
    },
    {
      "cell_type": "markdown",
      "source": [
        "## 7) 정수 인코딩\n",
        "기계가 텍스트를 숫자로 처리할 수 있도록 훈련 데이터와 테스트 데이터에 정수 인코딩을 수행해야 합니다.\n",
        "\n",
        "우선, 훈련 데이터에 대해서 집합(vocabulary)을 만들어 봅시다."
      ],
      "metadata": {
        "id": "5SBIJjyANv5I"
      }
    },
    {
      "cell_type": "code",
      "source": [
        "tokenizer = Tokenizer()\n",
        "tokenizer.fit_on_texts(X_train)"
      ],
      "metadata": {
        "id": "TOpX4mkzNJkC"
      },
      "execution_count": 80,
      "outputs": []
    },
    {
      "cell_type": "markdown",
      "source": [
        "단어 집합이 생성되는 동시에 각 단어에 고유한 정슈가 부여되었습니다. 이는 tokenizer.word_index를 출력하여 확인 가능합니다. 등장 횟수가 1회인 단어들은 자연어 처리에서 배제하고자 합니다. 이 단어들이 이 데이터에서 얼만큼의 비중을 차지하는지 확인해봅시다."
      ],
      "metadata": {
        "id": "E2tbUS5nOM8C"
      }
    },
    {
      "cell_type": "code",
      "source": [
        "threshold = 2\n",
        "total_cnt = len(tokenizer.word_index) # 단어의 수\n",
        "rare_cnt = 0 # 등장 빈도수가 threshold보다 작은 단어의 개수를 카운트\n",
        "total_freq = 0 # 훈련 데이터의 전체 단어 빈도수 총 합\n",
        "rare_freq = 0 # 등장 빈도수가 threshold보다 작은 단어의 등장 빈도수의 총 합\n",
        "\n",
        "# 단어와 빈도수의 쌍(pair)을 key와 value로 받는다.\n",
        "for key, value in tokenizer.word_counts.items():\n",
        "  total_freq += value\n",
        "\n",
        "  # 단어의 등장 빈도수가 threshold보다 작으면!\n",
        "  if(value < threshold):\n",
        "    rare_cnt += 1\n",
        "    rare_freq += value\n",
        "\n",
        "print('단어 집합(vocabulary)의 크기 : ', total_cnt)\n",
        "print(f'등장 빈도가 {threshold-1}번 뿐인 희귀 단어의 수 : {rare_cnt}')\n",
        "print('단어 집합에서 희귀 단어의 비율 : ', 100*rare_cnt/total_cnt)\n",
        "print('전체 등장 빈도에서 희귀 단어 등장 빈도 비율 : ', 100*rare_freq/total_freq)"
      ],
      "metadata": {
        "colab": {
          "base_uri": "https://localhost:8080/"
        },
        "id": "iHQmzzn8N_vA",
        "outputId": "2a99393b-4754-4475-a2bd-34a960e7a245"
      },
      "execution_count": 87,
      "outputs": [
        {
          "output_type": "stream",
          "name": "stdout",
          "text": [
            "단어 집합(vocabulary)의 크기 :  40063\n",
            "등장 빈도가 1번 뿐인 희귀 단어의 수 : 19655\n",
            "단어 집합에서 희귀 단어의 비율 :  49.06023013753339\n",
            "전체 등장 빈도에서 희귀 단어 등장 빈도 비율 :  1.7752756622396926\n"
          ]
        }
      ]
    },
    {
      "cell_type": "markdown",
      "source": [
        "단어가 약 40,000개가 존재합니다. 1번만 등장하는 단어들은 단어 집합에서 약 49%를 차지합니다. 하지만, 실제로 훈련 데이터에서 등장하는 빈도는 약 1.8%로 매우 적습니다. 아무래도 이 단어들은 따로 처리하기엔 별로 중요하지 않아 보입니다. 그래서 이 단어들은 정수 인코딩 과정에서 제외하겠습니다.등장 빈도수가 1인 단어들의 수를 제외한 단어의 개수를 단어 집합의 최대 크기로 제한하겠습니다."
      ],
      "metadata": {
        "id": "blmaypNTOM4f"
      }
    },
    {
      "cell_type": "code",
      "source": [
        "# 전체 단어 개수 중 빈도수가 1인 단어 개수는 제거.\n",
        "# 0번째 패딩 토큰과 1번 OOV 토큰을 고려하여 +2\n",
        "vocab_size = total_cnt - rare_cnt + 2\n",
        "print('단어 집합의 크기 : ', vocab_size)"
      ],
      "metadata": {
        "colab": {
          "base_uri": "https://localhost:8080/"
        },
        "id": "JAi6osIGVN-r",
        "outputId": "4d48fb2b-67c8-494c-9dcc-f3a51474b94c"
      },
      "execution_count": 88,
      "outputs": [
        {
          "output_type": "stream",
          "name": "stdout",
          "text": [
            "단어 집합의 크기 :  20410\n"
          ]
        }
      ]
    },
    {
      "cell_type": "markdown",
      "source": [
        "단어 집합의 크기는 20,410입니다. 이를 Tokenizer의 인자로 넘겨주면, Tokenizer는 텍스트 시퀀스를 숫자 시퀀스로 변환합니다. 이러한 정수 인코딩 과정에서 이보다 큰 숫자가 부여된 단어들은 OOV(out of vocabulary)로 변환하겠습니다.\n",
        "\n",
        "\n"
      ],
      "metadata": {
        "id": "tF-0bBO5VuB5"
      }
    },
    {
      "cell_type": "code",
      "source": [
        "tokenizer = Tokenizer(vocab_size, oov_token = 'OOV')\n",
        "tokenizer.fit_on_texts(X_train)\n",
        "X_train = tokenizer.texts_to_sequences(X_train)\n",
        "X_test = tokenizer.texts_to_sequences(X_test)"
      ],
      "metadata": {
        "id": "lPcJs_GNVmDX"
      },
      "execution_count": 91,
      "outputs": []
    },
    {
      "cell_type": "markdown",
      "source": [
        "정수 인코딩이 진행되었는지 확인하고자 X_train과 X_test에 대해 상위 3개의 샘플만 출력합니다."
      ],
      "metadata": {
        "id": "k5xPqTkoXRHd"
      }
    },
    {
      "cell_type": "code",
      "source": [
        "for i in range(3):\n",
        "  print(X_train[i])"
      ],
      "metadata": {
        "colab": {
          "base_uri": "https://localhost:8080/"
        },
        "id": "D7jHlcTqWx-6",
        "outputId": "be81888b-1566-44e8-9ad4-2cc99b4943b1"
      },
      "execution_count": 100,
      "outputs": [
        {
          "output_type": "stream",
          "name": "stdout",
          "text": [
            "[2386, 7967, 34, 15301, 10773, 32, 5369, 410, 468, 592, 1, 34, 539, 32, 501, 4565, 60, 539, 32, 4412, 75, 828, 930, 1070, 18, 4412, 228, 77, 2]\n",
            "[1978, 364, 3319, 34, 980, 3158, 8648, 207, 52, 2, 8649, 9, 2, 5, 1362, 7968, 31]\n",
            "[193, 2198, 6931, 4020, 935, 1, 79, 53, 958, 1]\n"
          ]
        }
      ]
    },
    {
      "cell_type": "code",
      "source": [
        "for i in range(3):\n",
        "  print(X_test[i])"
      ],
      "metadata": {
        "colab": {
          "base_uri": "https://localhost:8080/"
        },
        "id": "N5w-rGZxXboo",
        "outputId": "194f23df-db63-4b0f-f0a0-64ff46353e19"
      },
      "execution_count": 101,
      "outputs": [
        {
          "output_type": "stream",
          "name": "stdout",
          "text": [
            "[2823, 445, 632, 4816, 7427, 49, 2531, 990]\n",
            "[48, 59, 17, 12, 98, 201, 362, 555, 20, 153, 74, 1080, 1086, 165, 73, 18, 25, 1, 20, 12, 30, 41, 213, 7, 17, 547, 1317, 54, 61, 6, 54, 121, 2214, 2557, 81, 137, 72, 31, 503, 28, 2557, 670, 3, 305, 278, 83, 48, 1015, 391]\n",
            "[49, 498, 32, 3333, 1787]\n"
          ]
        }
      ]
    },
    {
      "cell_type": "markdown",
      "source": [
        "## 8) 패딩\n",
        "서로 다른 길이의 샘플들의 길이를 동일하게 맞춰주는 패딩 작업을 진행해보겠습니다. 전체 데이터에서 가장 길이가 긴 리뷰와 전체 데이터의 길이 분포를 알아보겠습니다."
      ],
      "metadata": {
        "id": "OoR9pkR8YXUC"
      }
    },
    {
      "cell_type": "code",
      "source": [
        "# 리뷰 길이 계산\n",
        "lengths = [len(review) for review in X_train]\n",
        "\n",
        "# Plotly 히스토그램\n",
        "fig = px.histogram(\n",
        "    x = lengths,\n",
        "    nbins = 50,\n",
        "    labels = {'x': 'length of samples', 'y': 'number of samples'},\n",
        "    title = '리뷰 길이 분포'\n",
        ")\n",
        "\n",
        "# 레이아웃 세부 조정\n",
        "fig.update_layout(\n",
        "    xaxis_title = '샘플 길이',\n",
        "    yaxis_title = '샘플 갯수'\n",
        ")\n",
        "\n",
        "fig.show()\n",
        "\n",
        "# 통계 출력\n",
        "print(f'리뷰의 최대 길이 : {max(lengths)}')\n",
        "print(f'리뷰의 평균 길이 : {sum(lengths)/len(lengths):.2f}')"
      ],
      "metadata": {
        "colab": {
          "base_uri": "https://localhost:8080/",
          "height": 578
        },
        "id": "LNmRnBxYY48A",
        "outputId": "a7e06603-50b3-44b5-ac9f-e2ed87ed6455"
      },
      "execution_count": 115,
      "outputs": [
        {
          "output_type": "display_data",
          "data": {
            "text/html": [
              "<html>\n",
              "<head><meta charset=\"utf-8\" /></head>\n",
              "<body>\n",
              "    <div>            <script src=\"https://cdnjs.cloudflare.com/ajax/libs/mathjax/2.7.5/MathJax.js?config=TeX-AMS-MML_SVG\"></script><script type=\"text/javascript\">if (window.MathJax && window.MathJax.Hub && window.MathJax.Hub.Config) {window.MathJax.Hub.Config({SVG: {font: \"STIX-Web\"}});}</script>                <script type=\"text/javascript\">window.PlotlyConfig = {MathJaxConfig: 'local'};</script>\n",
              "        <script charset=\"utf-8\" src=\"https://cdn.plot.ly/plotly-2.35.2.min.js\"></script>                <div id=\"fdabd8a2-bfd1-4574-a377-8bad267a6bfe\" class=\"plotly-graph-div\" style=\"height:525px; width:100%;\"></div>            <script type=\"text/javascript\">                                    window.PLOTLYENV=window.PLOTLYENV || {};                                    if (document.getElementById(\"fdabd8a2-bfd1-4574-a377-8bad267a6bfe\")) {                    Plotly.newPlot(                        \"fdabd8a2-bfd1-4574-a377-8bad267a6bfe\",                        [{\"alignmentgroup\":\"True\",\"bingroup\":\"x\",\"hovertemplate\":\"length of samples=%{x}\\u003cbr\\u003ecount=%{y}\\u003cextra\\u003e\\u003c\\u002fextra\\u003e\",\"legendgroup\":\"\",\"marker\":{\"color\":\"#636efa\",\"pattern\":{\"shape\":\"\"}},\"name\":\"\",\"nbinsx\":50,\"offsetgroup\":\"\",\"orientation\":\"v\",\"showlegend\":false,\"x\":[29,17,10,19,17,18,42,18,7,6,15,27,13,30,35,24,8,1,3,21,41,32,4,3,5,8,7,33,17,16,1,32,3,16,2,5,23,41,43,33,8,10,7,26,11,10,17,3,4,7,4,3,31,21,10,16,28,2,11,48,20,31,40,17,22,9,15,11,7,39,12,16,1,19,17,8,8,18,7,22,3,3,2,4,15,21,21,5,16,9,10,18,15,13,4,31,40,3,9,9,37,7,37,52,10,32,22,11,10,26,45,2,1,3,37,33,23,5,18,34,28,13,13,7,5,17,41,8,2,28,17,3,14,27,9,5,37,17,30,17,39,45,4,23,4,2,16,8,44,21,11,31,10,51,12,37,12,8,33,34,30,10,43,4,11,4,39,4,8,17,42,5,42,13,23,2,8,10,33,7,8,8,24,29,5,19,14,6,19,43,5,18,13,9,18,15,26,12,5,27,18,14,13,7,2,6,13,29,2,3,8,2,1,8,4,1,4,19,13,32,4,28,30,1,20,34,8,18,20,4,35,14,7,25,9,11,11,26,45,15,2,4,3,39,3,7,11,8,10,18,11,43,33,7,4,29,39,15,13,13,28,43,6,20,4,8,30,3,14,11,24,20,21,4,11,19,21,5,25,16,7,5,9,7,5,15,21,9,37,3,19,14,6,4,16,16,7,2,14,1,5,19,27,8,8,15,9,4,25,6,34,9,4,3,10,26,22,3,11,42,12,12,41,16,5,1,4,19,5,13,29,41,6,10,40,6,23,38,40,7,13,34,16,19,12,3,23,11,40,4,16,19,15,19,36,2,7,36,10,15,6,12,11,9,5,9,10,22,33,34,6,17,16,11,26,35,42,15,29,4,3,20,5,4,3,20,6,3,12,33,3,11,10,6,5,2,19,34,15,17,6,6,1,25,25,11,7,18,28,5,21,17,17,5,23,3,15,9,25,4,19,9,3,21,13,12,19,2,10,22,11,18,19,24,35,1,8,2,20,14,9,13,28,7,5,11,2,9,10,2,25,21,26,14,13,29,13,10,34,8,20,5,32,17,14,14,11,18,9,7,19,1,9,11,2,11,29,18,12,29,22,18,24,28,7,17,3,6,8,8,4,6,16,29,15,3,16,2,39,11,4,10,15,24,20,4,5,30,37,33,26,15,7,7,5,3,9,7,32,20,11,19,5,11,4,41,4,2,13,39,24,26,9,13,6,3,9,8,10,19,24,5,32,7,6,13,3,13,18,26,2,17,11,23,3,13,11,4,26,17,43,6,7,13,41,10,47,16,14,5,12,40,6,13,34,5,16,36,6,22,5,9,22,4,45,29,2,14,5,40,10,18,10,16,27,26,9,5,50,13,41,8,17,4,36,3,3,7,20,10,26,6,2,6,6,4,7,15,1,5,1,12,29,7,8,5,10,38,37,18,5,23,6,28,12,5,9,32,16,4,9,4,8,2,2,3,8,6,13,3,10,2,8,18,46,12,8,10,19,34,11,7,7,32,6,19,5,7,3,12,2,31,20,10,22,10,47,4,14,13,14,9,44,20,11,2,17,30,12,7,6,14,15,33,25,13,1,6,15,20,29,23,28,39,22,37,7,13,15,14,22,26,13,9,6,14,17,4,13,25,18,9,5,21,31,22,34,4,13,2,27,4,6,42,4,18,39,18,22,9,28,29,14,12,12,13,15,6,6,5,26,15,36,14,21,2,23,37,11,5,28,7,13,2,18,34,13,6,5,27,22,2,35,27,9,17,5,12,10,24,5,27,4,6,3,18,18,16,27,6,14,22,7,11,5,9,4,23,4,4,4,9,2,17,26,6,33,8,9,11,2,10,3,16,7,11,10,29,42,22,29,4,4,6,13,6,4,42,27,34,7,3,10,8,12,12,47,22,13,40,39,5,28,5,27,20,5,10,25,10,38,3,3,6,23,11,11,21,25,6,29,6,6,3,39,2,16,5,4,20,9,12,24,7,9,8,28,3,6,10,13,7,21,5,10,7,34,6,18,7,16,12,3,3,14,10,43,46,50,4,9,2,24,21,5,27,10,34,25,6,16,15,9,4,27,13,6,3,4,1,30,35,13,33,4,8,2,32,2,10,23,6,4,25,3,12,15,34,2,24,3,11,9,34,32,6,25,4,15,6,18,25,20,24,12,12,29,8,30,5,30,7,17,21,26,17,9,13,4,36,9,14,10,44,15,11,22,30,45,25,22,48,36,15,7,29,3,18,16,26,9,10,37,10,6,35,22,5,15,5,14,9,16,11,10,15,12,11,23,2,26,40,8,8,10,7,36,9,9,5,31,4,5,12,9,6,16,9,14,33,6,6,6,4,13,36,43,21,43,46,17,3,7,2,18,7,9,10,23,13,4,20,23,5,16,3,17,20,28,22,24,28,3,30,11,17,8,8,14,35,23,4,6,28,7,6,21,15,3,18,2,35,3,15,9,5,25,37,9,30,17,12,4,41,15,9,5,5,3,28,5,22,13,8,41,19,20,17,28,31,40,3,19,2,4,5,3,34,7,2,22,31,9,52,42,13,37,3,14,10,8,6,28,5,7,2,19,7,23,15,9,5,18,25,10,8,9,20,8,4,7,41,5,42,7,2,8,16,30,34,16,11,5,15,20,7,43,4,11,12,16,3,20,14,17,14,4,23,12,7,1,25,14,12,13,23,14,29,3,22,1,4,44,11,25,9,28,6,12,25,31,14,16,4,18,43,11,21,17,9,9,14,31,34,12,10,10,5,4,8,10,3,5,7,13,6,47,28,13,2,11,14,4,10,5,15,1,39,23,7,7,3,5,5,26,30,11,37,13,2,3,8,33,26,18,5,11,4,3,2,3,6,19,3,3,4,6,10,29,2,1,5,4,6,18,5,36,3,3,20,29,6,10,12,33,3,2,5,6,20,26,4,16,15,21,1,15,5,11,2,4,34,2,37,20,22,5,9,4,7,4,2,5,1,17,5,4,13,1,2,5,20,33,5,6,20,10,24,7,7,3,11,5,40,7,39,2,5,39,10,2,6,21,6,16,2,19,11,48,4,49,25,28,1,18,6,15,2,20,4,37,22,10,10,5,3,5,3,27,4,11,14,32,19,6,7,12,36,26,20,2,30,6,3,7,8,12,38,18,4,7,26,32,41,12,27,6,12,18,6,5,9,4,12,7,30,36,20,4,25,5,10,34,10,17,6,16,1,29,34,2,19,6,20,2,9,6,26,9,16,18,31,6,6,24,39,7,11,3,33,3,28,11,6,16,20,3,16,39,4,13,5,7,15,29,29,5,14,2,7,16,5,2,36,14,31,7,2,16,16,27,9,13,12,11,7,4,23,12,9,23,2,6,4,1,12,3,4,12,9,10,12,38,5,9,21,43,7,13,16,4,5,6,3,13,34,10,18,9,21,20,23,4,20,9,23,6,21,2,4,4,3,49,46,9,12,2,17,3,18,13,19,2,5,2,9,1,18,9,13,11,4,40,20,33,9,6,19,7,14,14,34,11,2,7,40,3,6,4,13,25,35,18,17,3,3,28,5,9,8,24,8,9,5,7,4,10,35,12,16,19,22,13,4,13,46,5,8,6,5,6,6,16,39,8,10,36,7,5,5,2,39,18,4,13,29,1,31,10,2,31,29,5,6,5,11,23,5,27,2,41,15,37,12,7,7,11,18,3,17,32,9,13,14,20,3,8,3,30,12,14,10,45,29,10,3,13,2,5,13,8,31,19,26,9,36,23,9,10,3,6,14,2,10,9,18,6,17,37,14,15,45,6,28,11,41,18,28,15,2,26,17,18,34,7,2,21,23,21,30,3,3,3,17,2,16,22,3,17,2,10,2,4,5,33,6,20,5,21,7,5,42,17,3,2,10,8,4,45,7,22,35,8,25,3,19,30,8,1,4,15,21,14,7,6,4,14,5,8,25,38,7,38,17,10,15,9,6,6,34,30,17,13,18,32,29,4,21,22,11,9,8,25,19,9,9,4,11,8,2,17,3,17,12,14,22,35,31,17,19,8,7,29,20,4,17,2,13,13,10,3,23,8,15,2,6,10,17,23,31,15,9,7,6,7,28,6,8,6,30,9,27,19,2,16,3,3,7,19,2,5,2,10,4,11,17,6,3,18,19,12,3,29,23,7,14,22,10,1,24,12,16,10,3,25,22,12,6,5,7,4,5,3,2,11,3,7,3,24,11,8,5,38,35,38,8,6,9,4,12,18,13,16,12,8,10,28,13,6,4,5,17,52,19,21,8,4,7,3,2,12,10,3,44,6,13,23,31,28,19,1,3,3,12,14,12,9,46,1,8,38,3,20,13,3,3,24,5,6,12,10,3,18,27,4,40,9,13,25,8,39,7,14,7,25,3,7,16,19,41,9,9,6,8,2,12,9,7,6,2,24,6,4,24,4,39,6,31,43,35,41,4,16,14,10,10,20,51,7,19,4,12,1,33,27,28,21,16,15,15,3,31,3,5,3,6,5,15,28,34,12,11,8,36,26,8,6,5,6,35,4,31,21,7,7,26,40,8,5,21,40,20,21,1,10,15,30,12,4,10,25,20,27,3,4,21,39,5,4,15,2,18,4,3,11,3,2,5,14,3,13,33,5,6,30,16,5,12,6,21,5,14,45,5,4,12,2,14,5,9,10,32,5,6,11,12,4,11,5,6,3,2,2,32,22,18,23,3,7,15,15,2,4,28,3,5,45,10,3,3,7,7,1,5,19,8,6,14,34,7,36,2,15,26,8,5,14,43,4,18,19,2,31,17,12,15,6,4,9,4,4,29,20,18,32,10,35,30,10,11,3,33,33,38,3,29,5,25,4,6,15,11,10,35,27,10,16,3,27,2,4,37,37,29,3,6,31,21,3,11,5,7,50,15,51,3,12,4,4,2,6,9,45,4,13,4,41,2,41,35,22,12,28,5,25,4,9,8,35,10,2,42,4,7,12,8,4,5,14,6,14,4,5,17,5,4,3,1,11,7,24,15,12,4,32,50,5,21,36,25,17,11,3,10,8,18,21,4,17,18,23,30,12,8,18,4,5,10,7,12,5,7,5,18,21,31,10,38,13,15,2,15,4,2,17,11,15,22,31,20,12,40,8,13,27,13,8,10,5,6,11,23,6,17,1,37,27,8,11,10,2,37,4,39,12,36,4,1,7,2,33,34,30,21,2,27,6,8,12,14,25,3,5,10,8,10,6,9,10,4,26,5,24,1,5,12,6,5,45,34,3,38,32,33,6,3,35,35,14,27,5,40,5,10,39,9,4,9,44,5,21,15,3,7,13,10,10,5,10,3,4,21,24,5,34,5,37,10,10,30,12,21,20,7,7,30,22,16,6,12,36,7,4,25,22,6,13,3,10,16,3,18,16,4,5,38,18,15,4,10,11,44,9,9,3,3,17,21,28,9,25,2,3,7,7,12,25,2,32,33,6,40,35,33,6,20,23,6,17,31,1,19,16,11,14,10,23,21,3,13,4,14,13,32,7,6,19,19,14,26,17,4,11,6,14,31,6,27,11,2,20,4,13,4,3,3,17,31,6,39,20,9,17,20,3,10,28,11,6,15,42,2,5,29,7,28,11,10,8,7,12,17,1,25,42,11,17,12,35,13,2,13,11,10,11,7,8,9,1,17,5,3,4,5,45,16,8,20,10,29,2,7,8,8,4,13,6,6,39,17,31,25,12,12,26,5,21,2,2,22,4,4,27,11,27,5,16,13,3,38,39,31,8,31,41,7,36,4,6,21,5,37,11,22,11,3,21,5,23,2,39,7,4,3,5,7,6,17,18,2,2,20,9,3,5,30,10,2,9,4,3,23,2,39,16,22,14,8,2,9,13,9,6,15,11,35,2,16,26,33,8,26,14,8,6,11,9,13,10,16,2,10,4,8,18,23,9,12,17,16,9,13,12,40,4,41,32,8,13,9,1,17,2,9,4,2,23,10,16,35,5,26,17,27,5,5,2,6,5,4,13,4,32,21,20,10,15,26,3,14,14,7,38,5,33,10,5,11,5,30,1,2,24,4,24,14,5,2,11,23,19,28,6,32,28,1,9,6,7,26,12,27,9,5,7,7,13,7,5,11,7,16,14,5,38,24,10,9,2,11,3,10,3,8,27,4,30,29,18,54,2,3,37,8,1,22,26,25,8,5,28,9,9,13,6,30,44,7,19,2,13,5,22,8,3,2,10,10,14,30,3,2,23,2,6,19,47,21,31,25,35,37,6,22,38,11,11,11,14,6,7,5,21,40,22,8,5,24,46,10,11,4,28,33,25,4,11,13,15,12,5,10,34,2,15,12,6,5,8,27,2,2,5,10,6,13,25,9,11,18,11,22,9,5,25,22,5,39,5,12,2,3,8,30,14,31,16,7,5,40,4,4,23,31,5,3,5,6,19,5,12,25,26,42,18,4,29,8,42,6,40,12,6,14,7,30,39,9,8,9,11,21,20,23,15,21,8,13,10,5,2,7,15,32,22,9,17,4,14,10,17,25,4,7,7,7,6,19,16,31,38,15,12,3,9,22,18,12,6,12,3,25,26,14,2,11,23,11,11,8,5,6,16,7,16,1,23,25,11,3,5,25,7,24,25,5,12,5,35,51,10,10,5,43,21,4,40,10,9,42,36,15,5,18,5,11,9,49,4,26,9,22,9,2,26,5,21,2,8,22,11,51,12,25,4,40,8,8,45,8,8,4,3,5,13,19,37,3,4,7,22,10,2,18,19,11,6,40,1,29,25,4,1,35,23,14,32,25,28,31,7,12,4,28,13,8,3,6,24,19,30,11,18,10,4,9,24,30,21,12,6,5,19,16,2,11,11,10,8,34,13,4,2,16,19,7,14,15,6,31,5,17,4,19,2,15,9,8,6,10,4,4,17,29,3,2,6,3,4,23,37,21,9,25,2,14,10,24,5,2,15,33,4,13,8,8,28,37,11,7,31,41,34,6,15,2,11,14,5,10,41,9,9,42,7,21,4,14,10,8,3,22,11,2,5,16,19,13,16,18,2,25,4,9,3,28,2,9,25,40,24,9,11,19,4,15,21,13,58,2,14,27,6,12,13,5,39,9,20,11,30,18,19,14,11,29,15,35,45,8,12,23,24,3,2,17,16,5,2,17,7,31,10,7,8,7,3,3,13,22,29,20,10,11,47,16,10,31,2,2,5,3,10,14,7,4,3,7,27,21,9,15,10,11,5,10,5,12,6,21,23,2,3,16,31,6,6,8,18,32,21,13,13,13,6,10,4,9,12,1,23,26,26,20,11,13,7,44,10,5,32,23,33,6,27,7,7,6,14,8,25,11,11,28,3,1,8,12,8,17,4,20,17,3,11,20,33,6,22,17,6,6,15,40,8,10,1,25,2,14,7,25,10,15,7,42,16,37,9,3,6,36,3,6,24,4,1,14,10,4,22,11,8,8,2,13,9,18,50,19,7,3,29,5,3,14,16,7,8,6,1,18,7,12,4,5,22,18,20,30,5,14,7,25,2,9,14,6,35,49,5,27,23,10,17,2,1,20,3,16,7,1,13,7,31,2,15,6,23,11,6,10,10,13,24,10,3,21,6,38,15,48,6,12,6,5,36,30,20,20,8,13,21,24,13,29,12,5,20,7,14,4,16,17,14,2,11,19,2,37,4,26,16,19,18,33,8,14,16,4,21,10,37,1,8,17,2,42,4,13,28,8,4,22,9,37,7,10,4,1,26,30,9,9,44,3,12,27,34,19,18,8,4,5,11,11,21,4,1,12,21,29,10,4,11,16,38,10,29,2,17,6,43,20,15,21,4,1,23,32,3,3,5,10,20,36,4,4,32,25,8,3,5,3,10,15,7,9,5,10,4,16,28,11,15,26,13,28,30,12,10,4,10,1,2,3,4,13,6,39,6,10,8,6,8,14,16,6,7,3,7,17,21,10,13,11,2,11,10,4,49,18,36,33,6,39,23,6,10,10,4,4,7,18,12,22,9,17,7,2,41,12,53,3,29,3,15,12,2,9,10,6,5,4,11,18,13,17,17,12,2,9,4,23,13,22,1,4,5,24,3,41,8,18,3,2,20,2,1,13,6,5,2,11,17,15,30,7,11,8,24,45,30,13,11,30,5,26,3,3,7,23,3,12,19,4,13,16,39,13,29,27,4,9,13,26,24,4,5,6,30,6,7,41,6,12,20,39,9,23,39,5,9,13,15,15,10,22,12,14,30,4,12,3,6,20,52,2,7,7,9,13,14,5,27,18,1,8,10,25,29,3,23,38,19,7,6,23,21,9,18,5,42,21,6,6,36,6,7,15,22,5,33,17,22,2,17,5,33,27,35,12,19,5,4,15,14,3,20,5,7,12,17,26,4,2,5,5,1,25,9,24,15,15,4,24,9,13,16,10,12,27,12,19,4,12,31,5,6,10,8,14,5,18,43,28,11,13,5,23,24,10,29,20,26,24,5,5,17,28,8,7,10,18,7,14,3,4,14,9,2,1,8,34,12,34,18,33,4,9,8,33,2,31,8,3,26,17,8,25,4,9,25,3,9,4,4,14,43,15,28,16,4,3,12,14,3,17,11,3,7,13,3,5,15,36,46,7,19,5,36,19,4,11,20,44,2,6,7,24,4,2,10,34,4,42,24,36,6,4,44,39,22,20,2,16,30,21,8,4,34,23,8,35,4,2,23,6,10,5,10,9,16,8,11,15,8,6,29,50,18,11,6,1,3,36,42,32,23,21,10,7,8,23,8,24,21,5,2,19,16,42,16,45,12,7,21,15,7,5,30,9,32,2,22,14,21,4,3,15,18,26,31,6,28,4,35,34,43,6,23,8,19,17,10,36,11,5,40,42,23,5,32,35,14,9,5,10,17,32,7,4,3,5,9,10,27,20,5,19,35,20,35,13,26,21,7,12,3,20,8,15,8,4,40,43,11,10,35,2,22,8,3,29,25,9,11,9,10,7,12,20,22,19,17,34,7,6,4,6,36,20,4,4,6,18,4,12,27,8,15,8,5,26,28,7,25,38,2,8,25,1,9,32,12,8,43,23,5,20,18,19,5,10,33,28,28,4,10,26,23,4,6,37,19,21,10,6,2,5,7,38,33,5,8,31,7,47,19,9,7,31,22,14,22,18,7,4,11,35,24,26,4,4,11,4,15,2,9,22,45,4,2,14,3,4,32,2,28,6,18,9,19,12,30,1,29,28,5,1,31,33,26,25,28,42,13,16,41,34,20,38,2,23,4,42,23,23,6,36,20,18,10,5,3,5,5,5,23,6,16,37,23,34,33,37,8,6,2,38,5,15,10,5,40,2,8,26,12,15,11,23,11,2,16,7,28,16,7,3,10,13,3,3,7,2,34,19,4,11,8,2,14,12,3,28,38,21,27,9,14,8,7,23,15,3,39,9,48,4,28,3,3,10,2,12,3,34,8,6,4,13,17,7,5,5,9,18,11,2,4,6,39,2,20,15,22,13,22,1,21,3,19,20,16,16,13,6,3,39,9,10,16,8,4,42,44,10,40,27,6,6,8,9,13,10,4,22,27,22,16,9,12,22,11,7,10,20,19,7,16,18,3,1,17,5,20,8,5,30,8,5,7,12,2,4,3,20,9,13,6,31,6,5,23,9,9,25,29,8,10,34,44,3,24,14,27,2,10,21,15,22,8,7,18,5,14,28,14,17,29,43,11,5,33,5,12,17,4,6,13,8,13,8,20,2,2,21,9,15,10,5,38,4,2,2,9,15,32,15,2,10,6,2,2,7,13,8,38,8,36,20,3,6,18,11,4,23,3,7,6,4,20,1,3,36,21,10,13,35,33,17,3,22,33,13,6,33,20,16,8,4,3,14,20,40,6,19,20,3,17,25,22,9,26,11,9,7,6,1,7,8,7,13,19,5,0,3,17,9,11,11,12,17,5,13,23,2,20,6,11,4,9,5,1,4,14,31,10,14,6,14,32,30,12,2,8,13,3,28,8,3,41,8,28,1,12,25,31,27,18,25,42,7,10,29,3,10,29,15,3,10,5,35,16,20,8,6,6,1,5,15,5,21,27,20,8,5,33,9,17,12,3,28,14,6,4,1,31,1,37,24,17,9,3,7,11,27,33,4,23,19,15,22,2,12,9,1,20,6,12,44,36,29,11,4,21,7,2,5,11,1,2,15,25,5,9,11,8,32,20,6,5,5,10,12,21,5,33,6,5,6,29,10,42,6,34,9,8,11,8,22,32,21,19,22,7,15,5,25,8,14,30,32,41,12,25,24,7,4,26,22,18,11,5,17,2,3,4,11,11,13,41,52,13,4,31,23,3,33,1,40,2,2,6,4,21,43,19,6,21,40,18,15,24,20,7,12,7,38,25,18,9,6,40,11,37,5,10,13,4,1,6,4,11,7,37,30,2,6,9,7,4,3,23,3,3,9,25,1,20,26,4,5,14,23,25,20,4,6,9,24,14,31,19,20,1,6,29,8,6,40,3,4,4,7,25,3,23,5,20,44,10,8,40,38,4,14,6,29,9,5,1,13,24,34,16,38,32,36,2,29,31,16,25,36,23,2,8,13,12,20,4,11,5,3,21,10,9,4,1,14,18,11,6,30,5,0,4,39,14,5,4,9,44,16,8,20,11,37,1,7,1,23,21,4,12,47,39,3,19,3,11,5,5,20,13,3,7,10,16,16,27,27,6,3,13,21,39,19,12,47,10,2,3,6,4,39,29,5,7,1,3,13,21,1,15,28,17,14,35,1,13,34,9,17,10,6,22,18,13,20,5,2,24,9,49,11,15,7,15,14,1,6,10,30,15,43,46,6,10,6,17,27,14,26,8,25,17,3,25,10,7,9,13,5,5,26,16,16,3,11,11,9,26,9,5,16,6,21,46,26,16,29,7,10,3,13,40,11,19,18,10,4,13,15,5,33,12,11,11,10,24,40,40,6,35,13,10,24,23,13,3,9,14,5,3,27,25,3,6,23,7,43,8,31,32,37,13,32,23,4,2,4,51,26,26,15,8,17,7,9,42,5,8,44,17,35,4,13,7,12,6,1,7,13,22,41,5,21,12,11,4,10,34,4,5,12,28,7,5,15,11,21,8,1,4,5,25,10,6,19,6,10,31,7,6,6,13,5,24,2,2,8,2,12,6,4,11,8,11,13,13,6,7,6,18,14,35,13,38,44,14,5,19,3,19,8,7,32,27,34,3,19,11,5,10,3,21,17,7,6,6,36,3,19,28,10,10,11,4,8,3,15,34,17,38,3,10,8,7,21,16,4,12,47,36,2,11,6,21,32,12,21,4,11,12,11,35,8,17,3,30,5,2,10,21,2,3,2,21,11,12,7,8,27,23,19,7,7,15,36,48,6,6,24,5,9,11,17,7,15,9,20,22,3,6,10,6,10,6,9,30,6,4,15,23,7,12,43,7,27,27,5,5,31,15,15,8,31,38,9,17,4,34,7,14,44,5,10,10,2,4,32,17,14,2,51,5,30,30,17,7,46,3,37,8,41,10,3,4,10,15,4,8,19,48,2,8,23,29,7,37,21,28,14,23,21,31,26,3,4,4,9,14,1,21,36,18,6,11,36,5,5,7,20,5,17,9,27,11,19,18,24,36,17,8,22,15,45,40,9,34,11,4,5,19,18,7,8,9,30,40,39,26,5,14,15,13,11,2,1,6,35,53,7,3,13,26,19,19,14,29,15,5,7,28,11,15,18,24,5,4,5,7,7,14,8,3,7,1,7,20,6,45,15,2,45,13,10,5,6,10,9,14,16,22,9,9,7,14,35,12,9,6,3,19,14,6,16,9,7,35,31,3,21,3,22,21,9,14,24,14,16,54,10,44,2,19,13,7,11,22,52,7,11,10,8,11,28,34,6,39,18,7,11,6,6,4,17,25,12,29,31,39,10,3,24,7,2,13,2,9,39,8,16,43,28,6,4,2,26,14,3,28,38,8,17,1,13,8,31,9,5,34,8,19,32,20,24,3,14,4,11,25,7,4,18,25,21,4,6,8,4,3,9,18,2,9,8,41,32,8,12,21,11,5,6,6,18,36,17,7,3,34,18,2,33,21,13,6,6,7,6,7,16,2,10,9,25,17,3,1,17,48,8,23,12,26,14,42,7,35,23,50,13,6,4,8,5,6,19,26,50,44,14,11,7,8,11,9,12,20,21,9,36,24,2,36,35,7,4,3,2,30,13,7,26,6,19,7,3,7,16,20,12,2,40,2,25,5,16,9,20,8,7,14,38,14,33,5,33,8,12,17,15,1,10,5,41,13,10,21,1,27,2,18,4,12,13,11,4,15,20,32,16,5,5,8,14,2,3,14,10,13,9,11,27,6,25,6,34,10,6,8,4,9,12,34,6,7,10,2,3,9,19,7,26,3,6,34,44,43,19,23,27,3,26,33,9,19,13,7,39,14,43,12,21,41,7,4,7,10,26,4,4,1,8,20,34,27,13,32,5,27,10,5,5,19,4,8,11,5,35,8,9,2,16,4,16,12,27,23,24,37,42,10,23,26,11,58,3,3,5,28,21,2,20,11,13,7,3,14,5,8,5,5,11,5,8,10,19,31,3,13,9,13,21,9,11,16,16,13,3,9,2,20,23,28,5,6,9,33,9,9,15,7,12,14,6,9,37,24,10,11,4,4,7,2,3,26,22,2,10,3,22,17,9,30,21,34,10,23,18,24,4,12,13,8,35,25,14,14,4,36,1,2,8,4,4,19,8,8,16,2,7,5,2,12,16,4,6,5,36,3,3,11,20,20,8,2,17,3,5,31,34,35,8,31,6,22,14,15,38,3,12,7,9,5,42,32,9,22,11,13,11,9,15,41,29,15,10,11,7,22,38,3,23,12,33,43,18,15,23,8,8,3,7,27,8,20,22,7,1,7,19,23,13,23,12,11,12,8,11,4,24,21,40,3,9,4,2,10,2,40,1,10,7,36,18,6,14,17,32,28,3,23,2,3,17,15,8,12,5,5,15,23,36,9,11,29,40,10,24,12,7,2,22,6,3,10,18,12,9,2,11,3,18,2,15,21,13,4,5,29,10,10,11,11,3,7,9,29,14,14,4,26,17,36,15,2,34,15,6,4,1,9,8,1,3,1,13,20,36,16,2,3,13,9,6,34,14,3,12,39,41,12,2,10,2,2,8,17,19,39,38,6,4,6,9,39,17,21,8,17,35,3,7,33,6,4,26,8,9,3,27,5,4,22,37,22,4,12,7,14,34,2,4,27,4,7,19,25,29,5,2,14,34,22,28,10,6,6,2,28,23,5,5,17,30,50,2,27,4,4,8,15,17,6,11,6,1,3,18,12,31,7,11,2,33,12,7,16,10,26,22,2,8,40,29,9,10,14,42,34,47,37,6,3,44,6,8,17,5,27,5,8,11,23,11,27,5,3,1,24,5,15,15,21,15,2,20,24,13,40,7,6,23,10,27,40,3,4,41,6,20,27,16,3,23,6,18,12,18,42,8,5,5,24,10,27,10,5,11,5,37,23,8,29,7,9,16,41,6,1,12,11,5,15,17,12,7,4,6,12,2,21,6,30,30,3,6,31,14,36,17,6,18,10,10,9,4,20,9,20,12,13,5,7,30,2,6,8,6,3,4,8,24,8,7,11,33,4,5,1,12,46,14,5,10,30,1,10,6,12,14,4,7,5,4,5,37,29,5,1,1,6,6,18,18,16,27,17,7,2,2,31,2,28,9,11,6,2,13,7,8,6,37,11,10,19,9,24,28,5,32,3,9,9,14,8,10,28,41,13,32,26,29,17,15,8,37,3,6,35,37,34,14,9,18,1,9,38,12,3,13,10,10,12,5,3,8,7,15,5,17,14,4,33,7,4,3,41,41,14,11,28,9,4,35,12,8,13,3,31,3,1,7,31,32,5,27,5,2,2,9,15,11,7,32,46,22,23,17,3,3,39,30,13,34,7,29,9,2,20,9,43,11,11,18,10,25,12,14,6,45,40,6,20,4,11,15,24,22,10,32,8,5,5,15,13,18,10,25,13,12,3,17,1,8,45,27,13,5,6,21,31,3,8,3,12,38,17,5,42,26,18,34,43,31,28,10,38,15,35,28,13,5,1,12,5,5,34,14,14,13,24,16,2,15,15,2,20,29,48,7,18,21,16,20,5,11,41,3,7,9,8,19,9,4,17,8,6,35,13,28,7,20,27,25,7,4,9,14,17,5,3,14,4,3,9,7,4,7,19,2,14,1,15,9,22,37,27,12,26,20,3,3,18,26,31,1,24,41,15,12,5,7,19,13,3,32,11,21,6,11,7,14,25,2,50,17,20,11,7,22,14,15,10,30,26,22,3,9,40,7,4,11,3,18,12,6,2,16,2,4,10,8,38,35,5,32,4,1,11,6,5,22,38,4,8,4,6,5,31,30,7,15,4,1,5,6,6,28,44,33,1,38,11,2,4,26,5,34,13,28,35,8,17,9,35,21,22,2,3,17,6,5,20,38,23,5,17,10,8,22,13,3,9,19,11,11,9,27,23,29,11,7,10,20,5,8,18,37,3,21,2,2,25,23,7,27,11,4,10,4,26,3,13,16,4,10,31,15,10,10,7,30,12,7,7,10,5,7,36,14,23,16,8,23,18,42,11,6,15,10,4,3,17,26,7,2,16,22,34,14,4,37,5,1,20,11,5,4,30,22,6,9,6,36,35,8,6,7,6,13,3,14,22,6,5,11,3,31,17,28,6,9,2,34,41,11,21,12,10,30,1,5,31,38,10,30,15,17,4,31,10,25,38,14,2,21,39,12,3,6,1,20,6,28,44,3,18,39,9,12,9,40,3,13,4,5,7,28,2,3,50,7,20,14,1,8,16,33,36,5,19,4,36,2,6,7,24,5,7,7,11,4,43,2,2,24,19,15,5,2,24,30,42,20,1,17,4,34,7,12,4,22,34,3,2,21,1,8,26,2,11,3,8,31,11,15,41,9,18,8,17,8,37,32,10,4,27,24,10,30,11,10,14,13,3,13,7,23,13,19,46,19,1,8,6,23,10,12,25,3,2,32,19,8,18,6,4,3,11,36,10,11,7,9,16,34,16,4,3,28,10,4,14,19,23,17,20,44,8,29,22,16,7,17,1,32,19,6,34,3,8,2,18,4,15,10,1,13,12,28,17,13,6,38,26,4,43,18,26,47,10,3,22,3,2,2,5,32,10,19,6,27,8,20,16,10,4,4,3,1,2,8,16,9,38,27,23,35,5,4,33,3,27,5,5,2,6,8,17,3,7,6,7,6,25,13,7,3,6,20,44,18,5,14,5,6,13,39,16,15,4,15,13,1,54,3,14,33,29,34,6,6,48,1,3,2,6,39,9,18,17,9,23,3,20,3,10,7,3,26,9,8,28,6,25,3,24,3,4,36,34,21,12,3,43,17,2,20,9,6,11,2,38,1,8,31,42,4,2,37,16,26,15,4,34,44,3,4,1,31,9,10,22,4,14,7,13,40,5,3,16,11,9,10,31,8,29,3,3,31,14,2,8,45,33,5,28,17,26,6,11,28,26,26,17,20,28,14,7,4,1,7,17,39,15,19,6,31,9,29,10,11,4,3,27,4,17,18,6,12,10,7,2,5,6,22,40,2,35,5,2,32,4,21,8,17,10,17,9,38,1,7,16,43,42,4,8,3,3,32,21,7,43,17,14,36,2,11,13,2,21,23,63,4,51,46,9,15,6,5,15,6,11,35,8,12,44,17,1,6,8,9,3,26,12,1,4,2,21,17,6,5,28,26,8,17,22,45,12,42,19,12,7,40,16,6,1,14,19,3,18,18,13,11,3,25,1,8,6,13,4,5,11,2,25,18,2,10,9,7,6,41,12,36,32,36,9,7,3,3,36,2,2,35,18,3,10,20,5,20,6,14,11,7,13,13,19,2,34,4,16,8,1,33,10,10,28,32,14,20,13,7,46,16,11,23,13,8,9,17,15,5,6,5,2,21,7,4,5,6,31,3,31,6,4,21,30,6,2,8,24,29,4,16,3,10,10,28,9,8,28,29,7,6,8,5,2,18,29,27,2,7,2,5,18,37,13,15,4,4,5,21,3,35,3,28,5,8,9,21,12,2,7,3,37,5,20,27,14,11,13,2,13,19,6,8,18,38,36,39,8,39,8,11,11,1,35,4,17,12,45,1,6,5,45,20,40,7,4,14,5,5,21,16,11,6,5,7,16,15,1,5,5,7,3,39,6,12,12,11,18,11,5,4,7,9,23,11,12,11,7,22,4,29,6,28,10,21,3,1,2,35,11,40,3,7,11,30,55,3,7,13,3,5,36,43,8,24,35,27,22,32,8,8,20,6,12,30,8,10,3,4,16,19,6,1,2,11,25,4,41,27,10,16,43,11,3,7,35,32,2,47,3,10,19,9,46,22,25,0,34,4,4,15,17,6,16,22,9,11,45,43,10,3,15,9,7,8,16,33,14,38,27,6,17,36,16,3,14,1,51,15,21,8,25,10,23,2,4,2,32,27,14,5,29,42,11,7,42,10,35,7,11,15,8,13,10,19,47,5,7,14,9,19,11,30,42,8,6,10,5,31,13,34,8,4,18,25,3,2,38,38,30,26,7,2,20,7,12,11,26,18,4,10,4,10,6,8,3,3,4,5,4,4,18,21,2,22,19,39,9,14,12,2,22,16,19,16,22,14,12,9,26,7,51,3,36,10,20,37,8,23,11,33,5,15,19,22,8,5,7,15,10,32,5,7,25,5,38,6,45,2,4,6,1,5,9,16,3,6,8,23,6,4,38,2,4,3,25,45,17,4,11,40,7,7,6,8,34,5,2,21,8,24,6,16,24,4,17,10,7,4,13,5,8,13,14,39,9,6,18,29,30,29,8,3,6,8,3,42,4,24,4,41,7,25,17,4,3,17,5,16,6,3,13,15,11,9,27,45,2,12,14,39,40,6,4,39,14,27,37,7,6,10,4,39,19,23,3,14,39,3,22,2,2,10,3,11,21,26,4,11,34,6,12,37,8,13,37,24,7,7,9,2,26,6,42,5,33,35,16,3,8,38,12,13,2,5,7,22,14,30,10,2,18,6,1,14,25,30,6,22,2,18,49,17,7,15,3,9,4,2,28,22,39,22,35,5,14,2,3,34,11,6,23,3,10,34,4,37,40,26,11,28,4,22,21,6,18,14,23,26,3,20,16,18,12,4,3,14,26,12,23,7,2,6,3,24,7,20,22,14,10,8,10,29,10,38,11,18,4,3,5,6,14,38,29,3,7,6,10,12,31,28,6,11,41,11,1,20,8,2,42,7,9,8,6,7,19,16,26,4,13,24,9,3,5,20,29,4,6,8,37,15,3,19,5,9,7,19,14,22,7,31,14,3,6,35,3,23,9,3,6,17,2,17,8,4,10,3,41,6,2,12,22,2,5,10,30,20,27,5,10,35,21,4,2,20,14,19,14,8,10,2,4,12,3,9,3,14,3,10,19,8,6,21,42,15,36,8,3,7,8,23,15,9,6,24,10,20,6,31,2,10,24,9,5,27,19,13,20,5,31,25,29,2,17,9,2,11,6,17,9,2,4,4,17,7,15,26,16,26,4,9,5,5,5,5,16,36,11,33,15,24,4,12,41,8,25,14,5,12,2,6,11,19,37,9,30,30,3,7,11,17,13,6,17,8,30,11,5,15,30,6,7,2,12,10,3,4,3,16,17,13,13,8,2,38,17,13,9,14,11,23,42,15,37,6,5,33,9,19,11,16,2,13,8,33,19,26,11,2,33,30,4,4,16,16,7,25,11,45,11,23,10,8,4,19,13,17,22,28,14,16,35,3,4,13,12,7,5,18,17,39,5,17,5,8,7,5,33,14,10,36,28,8,8,29,6,41,11,20,2,22,24,21,23,8,6,33,7,8,12,32,1,11,6,21,7,9,2,14,18,32,13,17,4,5,31,16,19,27,12,11,36,8,29,33,26,10,12,4,8,3,46,8,5,6,12,5,1,10,9,31,1,9,30,18,5,24,9,27,10,25,5,9,3,6,14,13,33,11,7,5,2,4,40,8,1,13,10,8,8,2,25,36,18,13,12,18,43,25,13,11,9,34,2,10,2,11,3,3,46,6,2,4,10,8,32,22,44,8,8,3,9,21,8,8,14,34,29,8,31,11,35,41,32,11,27,33,5,11,22,4,33,41,11,20,11,25,21,17,16,8,15,29,6,24,6,35,6,18,9,13,12,6,16,5,9,4,40,15,48,2,3,3,3,12,11,17,21,6,8,12,5,8,6,6,5,0,34,23,5,15,19,23,4,4,17,2,3,25,13,3,7,17,4,9,26,2,27,31,16,36,7,10,12,5,3,20,5,33,19,8,21,11,7,10,18,10,4,32,27,19,5,2,3,18,13,10,26,5,32,8,2,14,17,8,33,18,4,5,10,10,6,4,19,23,33,12,19,12,26,30,3,19,9,9,34,8,13,2,5,10,5,20,11,4,28,33,25,18,4,3,13,37,25,10,4,27,24,5,11,1,6,2,7,7,11,9,3,10,43,11,19,3,28,14,15,6,28,8,3,26,26,24,6,5,8,15,6,32,4,12,4,26,43,10,11,2,13,20,21,35,24,31,6,59,15,9,2,6,5,23,20,18,15,6,8,9,27,8,11,16,4,13,6,11,5,8,4,6,10,22,7,24,4,7,4,3,10,3,10,19,8,5,4,35,6,21,6,6,26,31,4,13,28,30,20,20,33,8,3,36,15,5,15,31,5,28,7,7,22,8,6,9,11,3,3,15,36,13,7,5,2,6,8,43,7,13,13,6,16,2,2,9,3,14,8,15,13,11,7,16,18,4,9,16,10,4,5,24,36,3,22,3,6,3,5,14,43,26,23,26,3,20,6,8,3,5,8,3,42,2,11,6,23,29,11,9,30,42,8,11,3,3,25,4,4,6,1,9,8,40,34,16,5,29,3,34,22,19,37,10,3,20,2,32,6,12,2,25,7,10,27,28,8,27,37,36,4,2,47,6,12,4,5,3,10,2,39,33,21,1,12,3,40,9,4,10,4,13,1,23,30,3,30,9,8,5,9,14,10,13,13,35,4,4,14,41,4,4,11,9,16,25,7,18,20,24,18,10,17,25,3,6,5,16,4,21,8,10,14,9,39,13,29,4,16,7,3,16,2,18,1,21,2,7,8,6,26,31,18,6,32,3,7,1,3,27,22,7,5,10,50,4,5,20,8,41,5,14,11,3,5,43,7,11,11,35,5,4,2,4,13,14,5,15,12,9,8,4,20,12,8,15,8,30,16,43,2,9,3,12,2,39,6,9,4,4,22,14,26,1,7,12,6,4,40,31,33,28,7,13,4,38,5,3,6,9,27,13,6,10,19,8,5,5,18,35,17,11,5,3,7,11,18,6,21,13,21,28,3,4,9,9,43,39,6,4,15,15,22,2,5,2,14,16,5,5,16,12,9,30,1,28,40,2,6,5,5,7,11,12,10,27,44,24,17,12,4,19,21,12,15,26,18,1,5,8,3,14,15,24,10,2,22,9,11,8,14,1,35,35,17,5,19,2,9,30,18,5,8,31,9,2,1,15,2,10,6,7,7,6,20,6,2,7,12,34,10,7,33,24,2,23,8,14,3,37,31,15,18,4,28,19,3,18,6,40,23,6,35,4,1,25,3,23,35,13,2,17,37,8,6,9,7,10,28,2,19,7,4,7,7,4,2,26,19,8,11,4,9,2,9,10,8,1,24,2,2,9,13,27,40,46,10,9,5,4,10,11,17,17,3,12,7,29,8,17,13,7,12,39,6,12,30,21,19,4,25,13,15,5,25,2,6,47,8,1,12,14,26,8,8,34,7,19,3,15,4,18,4,44,40,6,14,19,6,7,7,3,10,3,2,21,9,12,2,10,16,9,3,3,11,10,13,16,30,36,24,9,16,5,4,26,30,42,45,4,25,18,8,34,10,3,10,17,3,4,14,3,7,9,29,12,17,5,8,18,4,2,32,2,14,4,37,10,15,9,6,14,3,9,45,4,2,7,2,7,11,25,2,4,7,37,2,9,9,8,40,11,5,17,10,14,5,27,17,3,2,7,21,7,12,1,5,6,2,12,10,3,14,12,31,8,24,37,36,12,29,13,26,18,33,2,42,25,23,5,9,14,10,5,10,25,26,26,5,4,38,17,11,11,4,11,36,21,8,9,3,10,2,6,6,8,28,10,5,33,8,12,23,25,21,14,15,6,8,5,9,28,7,2,36,25,2,3,5,31,23,43,18,13,13,10,10,6,6,6,6,17,45,17,13,26,6,5,8,6,28,45,29,5,7,15,40,37,9,9,7,8,5,27,18,48,16,18,26,5,10,8,9,12,31,6,17,4,30,28,5,9,20,24,12,15,24,6,26,4,28,15,10,3,11,12,20,30,10,10,24,2,3,6,9,26,23,30,22,20,21,14,9,14,7,28,18,25,7,7,8,10,6,29,13,7,18,1,4,29,4,4,25,18,21,2,3,12,0,29,17,2,3,2,4,33,18,5,8,13,3,29,13,30,6,4,14,8,27,32,7,8,19,37,1,13,21,45,42,4,35,31,40,34,18,9,13,1,6,33,11,48,15,17,17,11,19,2,2,8,8,7,7,17,13,6,16,12,6,6,27,11,2,26,58,9,18,16,42,4,6,4,4,4,2,5,10,32,22,4,46,11,13,6,10,11,11,8,42,12,46,39,6,8,10,13,7,10,19,6,20,6,28,7,31,19,3,7,7,13,5,24,13,6,13,9,6,19,3,5,13,19,1,8,5,38,10,34,31,8,8,37,12,6,22,11,43,13,30,25,13,19,30,19,43,16,13,2,15,3,19,43,19,49,43,4,4,5,8,9,5,1,7,6,30,8,7,8,4,11,7,6,33,7,22,17,2,9,35,8,16,20,11,37,36,7,6,13,7,10,12,24,14,15,5,2,5,8,7,29,8,17,7,24,32,8,19,11,5,34,10,29,18,7,8,9,3,33,22,10,13,7,5,6,6,3,9,3,14,10,7,33,41,5,37,21,5,12,41,31,16,6,6,26,12,1,20,9,4,6,4,43,47,3,3,34,3,9,6,11,4,16,2,19,12,45,14,8,2,11,13,18,16,23,39,1,11,18,10,6,36,14,10,8,7,32,20,20,5,11,11,5,1,9,31,4,7,43,32,16,13,43,29,13,39,9,9,8,1,18,8,40,9,7,14,38,21,37,3,6,2,21,2,21,17,15,18,5,13,20,8,18,6,7,14,33,9,1,12,8,14,9,6,40,6,6,19,36,34,11,13,4,3,22,3,7,4,14,35,32,22,23,33,14,10,20,43,49,5,38,19,44,36,7,10,7,32,14,24,22,20,11,15,6,15,32,2,37,2,19,3,5,9,33,2,16,1,45,19,17,40,11,21,16,6,37,41,25,8,33,18,19,24,8,6,11,8,19,2,21,17,26,24,16,4,14,6,16,52,6,9,14,2,29,25,12,24,11,14,14,26,2,48,1,32,19,4,13,4,40,13,20,10,9,11,5,18,10,4,26,18,38,8,27,7,16,8,43,3,18,23,31,19,7,32,25,5,38,5,2,12,6,2,9,17,4,24,8,9,6,19,6,2,9,33,1,36,3,12,7,4,13,9,34,2,3,4,21,3,2,5,40,11,14,37,14,11,4,17,11,14,6,14,30,4,12,6,30,36,45,3,6,14,22,5,19,15,11,22,1,27,9,1,25,14,3,8,31,10,8,9,24,35,42,21,31,36,8,32,3,4,26,8,7,6,2,18,4,11,6,26,17,42,9,14,27,4,6,6,36,2,10,3,2,20,4,16,38,3,6,40,5,6,9,17,14,39,8,11,54,25,18,44,8,23,5,10,12,14,11,7,7,3,16,18,2,7,29,5,11,9,23,15,18,28,32,21,38,5,6,31,5,10,10,13,13,16,9,2,10,6,8,2,15,23,6,3,11,11,5,14,5,26,24,17,34,21,54,13,20,4,6,8,3,45,9,14,10,7,8,10,10,6,9,2,12,38,26,4,14,17,28,5,2,9,2,44,8,25,3,41,32,11,40,4,23,22,6,3,30,6,4,5,20,4,10,5,20,10,14,6,7,11,6,9,27,7,30,16,5,8,18,4,4,7,14,18,9,15,17,9,8,3,39,46,6,17,4,5,18,6,12,3,12,8,5,36,5,34,19,10,28,7,1,4,15,8,10,15,5,8,7,8,44,20,26,24,23,19,40,28,26,6,36,15,39,10,26,1,10,22,9,4,15,14,30,3,9,6,4,36,6,40,14,26,45,33,4,10,38,36,37,36,9,42,27,8,2,14,4,29,26,11,26,3,7,20,35,26,34,6,4,13,18,9,5,2,4,26,4,6,3,11,24,5,22,5,37,7,19,9,5,18,5,6,15,16,12,31,4,5,7,12,27,6,10,12,9,14,6,6,27,49,36,7,6,5,7,11,2,20,7,7,6,3,4,7,5,9,26,26,18,36,7,5,14,20,13,4,5,6,37,6,28,6,16,19,43,1,25,24,16,19,8,30,20,12,17,4,2,3,15,20,25,35,38,45,7,4,27,12,3,22,35,25,12,18,52,19,43,6,41,4,6,10,17,35,17,11,19,9,10,17,4,17,4,5,8,1,8,2,7,22,13,10,2,12,8,10,4,4,12,16,14,24,3,42,5,6,40,4,4,5,12,25,8,10,23,3,21,4,20,9,11,16,7,10,3,37,13,3,3,7,11,1,1,31,17,4,8,1,7,3,2,11,2,2,15,15,28,3,5,18,29,15,47,3,14,32,2,15,29,13,21,6,19,14,17,8,3,9,6,35,2,14,19,26,28,18,16,2,43,3,35,10,9,4,2,3,10,10,20,12,4,7,6,7,3,21,20,2,15,11,26,36,3,32,9,17,20,8,45,6,43,3,3,21,5,16,1,1,25,12,38,12,11,34,42,30,6,3,19,20,29,12,24,17,2,12,21,2,6,10,5,12,23,23,2,4,8,12,5,4,6,23,5,11,13,26,15,16,30,41,4,25,4,9,24,9,10,42,17,31,27,48,24,8,25,9,8,11,45,7,8,2,13,9,16,6,7,22,4,17,11,17,10,17,5,5,44,12,16,9,6,4,8,7,31,1,20,31,1,4,17,4,12,5,39,12,14,12,6,10,13,4,3,12,3,7,16,3,15,12,41,1,5,7,9,5,18,5,23,25,12,29,8,3,17,2,7,4,12,13,33,36,13,20,8,19,12,46,30,5,18,10,11,39,5,8,6,6,8,5,30,2,6,19,7,6,13,31,17,3,4,4,11,12,7,21,5,4,8,17,41,20,6,3,16,10,49,17,9,40,4,12,3,13,23,9,15,30,6,18,8,11,8,19,16,3,9,5,2,28,12,5,2,10,11,18,4,13,5,13,15,5,5,12,17,12,6,40,3,3,21,15,5,24,21,5,7,5,41,19,31,44,14,14,49,7,36,5,11,33,4,5,21,13,21,51,19,14,4,10,37,2,45,6,12,4,9,7,21,0,1,10,1,29,10,1,11,27,47,2,1,28,15,6,4,14,7,6,37,3,3,32,9,22,3,7,18,2,4,17,28,8,19,35,7,10,6,18,25,14,33,2,21,21,34,34,26,12,3,3,37,37,17,24,7,35,18,26,31,8,13,13,8,34,4,15,10,4,26,3,7,16,19,11,3,6,30,16,6,5,5,42,16,15,30,3,12,48,8,3,35,37,3,29,13,4,7,2,4,18,38,2,15,3,8,10,9,6,11,28,11,8,12,35,25,10,6,11,30,26,4,4,10,8,10,15,39,39,32,32,11,10,6,12,14,19,17,12,31,11,1,17,5,10,3,26,26,15,19,2,34,4,27,1,35,10,5,5,2,4,12,24,3,14,3,11,6,9,3,5,10,8,8,2,16,8,21,37,9,16,1,17,31,2,10,2,3,2,2,20,43,3,27,3,2,26,31,12,9,39,19,25,17,8,1,13,8,11,11,32,13,13,25,22,2,10,16,22,17,13,30,2,12,3,6,3,15,5,20,20,12,24,13,2,5,41,25,16,27,11,22,30,5,1,19,9,22,4,36,7,6,38,21,11,11,38,3,33,21,9,42,11,4,4,28,5,4,4,12,27,8,11,13,39,9,14,10,50,4,13,14,13,9,7,19,31,7,5,9,2,21,5,22,19,5,15,2,33,39,20,10,6,28,27,14,43,4,16,7,8,6,23,38,2,3,12,5,5,2,7,18,4,9,18,5,42,19,44,6,41,8,6,36,6,41,8,36,5,22,40,22,31,30,16,5,15,17,32,6,6,27,20,11,10,25,40,9,4,7,9,7,41,16,9,9,3,42,1,4,4,13,2,3,10,3,1,15,2,13,9,10,4,7,32,24,40,27,11,18,9,2,23,30,17,48,21,34,8,10,2,39,10,35,4,4,6,1,3,4,11,9,4,15,5,16,34,3,24,5,15,9,3,1,7,3,14,7,10,22,2,23,6,22,2,29,32,9,4,1,27,7,10,11,7,12,30,6,8,5,30,14,2,30,25,5,10,8,21,4,46,1,6,6,9,6,5,17,9,5,13,48,21,3,6,24,28,5,47,11,5,3,43,7,6,3,30,6,10,3,20,21,4,22,22,8,13,4,7,9,12,5,7,9,4,1,21,8,10,19,5,30,7,27,2,5,12,3,8,16,17,2,10,6,24,5,7,23,11,35,3,5,32,8,10,4,42,4,6,34,10,2,6,4,10,24,6,4,11,11,18,9,19,3,6,28,33,13,34,6,34,23,2,6,22,17,20,16,46,11,7,18,3,26,15,38,3,48,3,8,36,16,13,1,2,23,29,35,12,17,28,2,17,19,45,1,17,6,4,6,10,33,14,14,26,5,2,27,8,9,4,13,36,12,11,4,36,5,42,15,6,3,17,9,9,5,6,6,29,10,4,35,13,11,26,26,9,8,9,25,11,5,9,6,26,16,3,3,5,28,5,2,5,11,10,6,18,12,6,10,6,26,25,9,8,10,28,8,14,14,12,3,20,40,43,1,7,33,9,23,11,32,8,39,8,33,2,8,10,5,6,5,5,13,22,23,29,8,3,17,3,30,12,23,1,15,9,2,7,11,14,17,6,2,5,36,4,35,12,11,3,11,17,16,44,3,8,3,14,13,5,31,11,15,40,14,3,8,33,4,8,19,3,4,5,2,39,4,4,27,1,25,3,12,8,2,43,4,40,10,41,12,19,7,12,10,3,32,3,10,2,9,4,2,12,12,6,6,9,4,11,14,23,1,10,28,35,24,29,24,23,6,8,5,38,20,25,19,2,38,6,1,30,19,18,3,3,39,22,35,5,4,19,8,26,24,4,10,5,2,5,21,9,34,4,3,3,3,7,11,6,26,2,17,3,3,6,11,1,15,6,5,9,9,7,18,18,37,13,12,17,7,2,9,7,28,7,7,11,7,28,7,11,3,7,10,5,3,19,5,16,5,10,12,3,27,11,30,4,46,19,5,31,11,10,30,15,3,26,6,15,30,17,14,3,37,12,4,3,27,12,18,3,18,11,2,9,19,15,22,7,3,4,24,24,3,7,36,15,4,4,53,2,1,3,16,41,30,4,9,5,9,38,18,3,6,13,8,8,26,13,10,16,31,29,20,26,10,2,23,11,20,28,12,18,5,4,7,20,37,10,32,22,18,36,40,40,41,3,19,14,15,2,6,34,29,18,10,12,15,15,10,4,21,14,13,7,8,2,27,17,3,9,22,10,1,1,20,27,13,4,7,16,39,7,3,7,3,8,21,9,5,4,3,3,40,18,4,11,9,39,3,3,46,7,5,4,14,10,45,13,9,3,15,16,31,4,3,4,14,1,8,13,2,20,7,23,7,8,10,35,15,6,6,3,17,9,30,32,19,4,10,11,4,22,5,11,30,21,3,15,7,11,6,11,27,26,7,15,3,4,18,39,13,10,13,24,6,7,10,17,12,24,22,9,2,1,15,11,40,29,25,8,6,14,37,11,30,16,4,5,2,11,12,30,30,32,7,19,9,6,7,8,9,7,21,45,2,4,45,11,4,23,31,23,4,38,4,12,6,13,6,5,41,2,28,9,41,4,25,3,5,17,6,20,4,18,3,25,13,5,24,46,11,3,5,13,6,5,1,6,35,39,8,20,20,9,8,3,27,13,24,4,42,11,2,11,9,22,3,24,9,6,3,3,16,6,43,37,28,33,4,2,46,13,16,7,3,7,3,12,12,34,18,2,15,20,27,5,23,3,9,25,4,5,8,12,25,10,25,38,12,4,9,1,1,15,11,29,11,9,7,30,19,43,6,4,13,42,5,12,16,12,7,17,29,34,12,6,2,10,19,3,36,23,39,29,3,9,5,8,3,10,7,7,13,10,2,8,3,1,12,41,13,13,8,27,10,11,1,3,11,18,16,3,9,31,7,20,35,4,36,6,29,31,17,2,15,7,14,6,45,25,11,38,12,14,12,35,27,11,5,21,1,4,12,8,8,14,20,4,6,5,6,16,6,11,14,27,1,1,1,8,9,4,5,9,15,1,16,5,30,17,9,32,5,36,14,41,10,13,7,26,7,9,8,15,6,14,8,3,5,6,25,13,13,49,3,24,16,8,2,11,16,26,9,4,1,33,12,7,39,3,8,6,18,13,2,21,3,10,4,2,16,4,36,24,6,16,34,3,8,20,15,21,2,9,6,6,7,16,23,41,12,8,6,30,12,6,2,9,5,9,6,3,20,8,7,2,6,15,1,12,12,3,47,11,11,2,35,30,4,40,15,4,7,3,12,6,33,23,20,11,17,8,4,3,12,40,16,8,36,23,31,6,29,9,16,5,2,34,43,3,37,2,18,24,33,3,19,2,15,10,2,4,7,13,18,9,14,3,13,10,5,20,20,6,11,31,2,15,9,28,23,5,4,7,32,4,9,1,8,0,21,16,2,4,2,10,29,13,5,8,19,3,10,39,10,3,21,38,3,6,11,3,24,7,15,30,14,32,5,9,12,48,3,17,6,34,6,2,3,28,5,7,6,24,35,12,17,36,2,6,2,12,27,2,5,1,3,13,22,24,19,16,36,25,16,5,45,30,41,25,36,7,9,8,15,6,3,9,30,22,32,9,4,8,10,10,12,12,22,4,10,9,4,8,11,39,8,25,2,6,35,9,9,3,36,9,8,18,3,9,26,6,18,18,7,15,4,39,10,24,5,3,19,6,21,27,10,30,33,5,27,21,2,4,37,24,6,17,28,33,10,10,29,3,9,6,17,4,5,28,25,9,6,1,2,43,27,3,9,8,10,38,10,43,7,3,6,18,11,5,7,19,10,19,1,5,19,31,2,32,2,19,22,40,7,35,31,9,8,29,7,2,36,3,7,7,15,32,39,3,3,12,25,2,39,22,16,9,4,3,12,2,1,9,4,14,22,17,1,6,25,1,25,4,8,7,15,14,21,1,10,6,3,1,18,5,4,24,4,5,3,3,4,7,29,17,4,23,28,5,1,5,5,14,5,39,9,8,6,10,24,33,2,7,6,13,33,6,8,27,11,29,2,19,22,3,43,7,4,8,10,3,49,15,29,3,3,33,44,8,3,14,8,5,33,24,2,7,31,25,28,2,37,11,6,4,32,24,9,33,11,18,16,29,10,11,19,39,3,14,2,42,39,21,16,35,33,13,24,12,7,8,36,22,7,5,9,3,18,7,23,13,12,9,19,4,27,21,14,1,36,43,2,42,32,39,2,4,44,37,1,2,11,23,5,2,7,6,34,14,10,17,23,23,7,26,3,19,27,34,26,10,10,19,11,21,29,45,4,7,25,40,17,11,8,22,10,9,6,13,8,21,8,3,6,38,34,2,5,13,10,20,4,10,13,6,26,4,15,6,9,9,8,21,2,3,28,7,3,10,22,3,5,8,34,4,1,12,8,41,30,22,20,18,7,17,28,15,36,38,38,5,8,8,25,2,26,9,7,24,26,7,31,11,3,2,11,2,25,6,12,3,3,9,2,7,9,13,27,25,13,11,4,15,22,4,3,13,1,15,14,3,5,13,20,43,42,4,19,2,36,6,22,31,14,19,2,3,15,1,9,25,5,38,20,6,22,7,38,35,6,23,18,8,6,43,3,26,9,19,34,6,38,17,12,19,13,18,4,10,14,19,8,14,13,13,7,34,6,5,1,16,29,9,33,3,9,9,6,5,19,35,6,4,27,8,8,22,6,24,3,5,42,13,12,37,24,8,21,19,16,11,8,19,10,9,39,26,15,10,12,28,5,2,4,5,6,15,16,3,23,7,7,1,24,12,31,3,24,4,3,18,27,3,28,24,35,5,11,22,19,25,22,11,13,3,34,25,3,18,9,34,7,27,19,40,13,13,12,7,13,8,21,5,7,3,4,18,12,8,14,16,16,3,2,18,9,2,2,14,9,15,19,8,13,5,4,17,9,34,5,5,30,7,29,61,30,7,14,3,11,16,13,38,2,7,10,39,24,7,4,3,9,8,7,3,30,16,4,12,5,38,1,19,2,37,8,8,13,12,4,3,9,8,3,12,7,6,6,33,42,23,10,31,4,7,45,32,18,6,28,4,7,23,3,12,30,25,10,7,7,7,35,2,10,13,3,9,6,26,20,2,25,9,7,22,21,47,1,12,15,11,2,34,8,14,35,5,35,15,33,5,8,6,9,22,5,9,5,30,22,9,4,12,18,11,14,8,18,3,2,12,8,8,12,32,7,13,3,43,46,34,7,5,32,16,33,17,2,5,19,22,8,38,6,25,2,25,26,11,4,41,10,11,17,9,37,8,2,28,3,24,20,10,14,17,21,3,7,12,5,20,2,4,13,16,9,4,11,14,8,34,8,5,6,11,10,22,2,25,9,34,34,27,3,46,6,9,11,6,3,10,5,22,21,6,15,3,3,45,6,35,2,3,8,8,13,8,12,7,28,5,8,46,11,4,1,6,5,17,13,3,6,42,11,25,5,25,37,28,23,29,13,4,19,14,21,28,4,3,6,7,15,39,17,17,20,29,3,23,37,11,7,2,11,22,3,21,4,18,21,32,11,3,12,15,5,21,2,28,6,8,3,4,16,10,19,18,34,32,29,4,26,33,50,5,6,25,8,3,20,31,16,3,3,14,28,4,10,10,25,12,42,35,12,5,14,3,7,3,15,39,42,8,3,9,55,8,29,10,45,25,1,13,4,9,10,9,8,15,22,30,3,7,31,4,8,12,39,14,31,18,28,19,25,5,9,11,23,3,3,10,36,6,6,33,6,43,9,5,22,7,11,5,25,16,11,13,5,8,11,12,11,24,19,7,18,20,2,3,3,16,37,1,12,4,7,16,20,8,2,35,12,1,14,9,3,21,7,32,7,1,40,7,30,5,35,1,12,6,15,32,11,12,11,11,43,9,15,8,12,4,10,5,7,8,36,11,33,31,2,6,7,14,6,17,42,45,13,22,35,7,23,11,15,32,5,19,5,41,23,42,19,17,1,12,19,14,2,10,4,29,4,25,10,39,32,37,13,3,15,9,5,18,14,7,10,48,22,28,4,28,37,11,4,7,24,4,6,23,17,9,16,5,15,21,15,30,5,13,24,9,9,14,7,8,32,6,5,9,32,10,2,18,32,6,32,6,16,18,10,6,6,39,30,14,23,20,39,6,20,35,13,31,4,9,5,4,23,3,5,34,17,42,30,6,4,14,12,18,28,26,19,22,2,27,11,7,12,4,7,34,15,5,20,3,8,20,3,22,20,25,6,6,12,21,23,17,10,24,8,24,8,16,24,26,8,3,5,15,14,16,4,11,4,19,25,5,8,22,6,2,11,6,10,9,15,9,7,36,8,7,9,2,32,10,13,4,8,36,14,11,40,3,2,16,19,10,5,2,8,36,9,32,30,4,12,41,12,21,6,42,2,6,30,3,12,35,3,2,6,28,6,2,6,34,7,5,19,5,8,31,14,10,35,8,38,30,15,8,4,15,1,4,54,29,6,10,7,6,46,17,3,23,15,30,13,8,19,5,3,8,6,5,10,15,9,8,10,7,2,11,2,24,8,26,3,23,7,6,31,2,41,8,3,7,28,4,18,8,18,48,9,22,9,16,28,32,9,44,4,8,8,39,15,10,6,3,3,26,5,1,27,31,7,4,13,11,8,14,8,14,26,3,3,7,4,30,9,4,4,29,2,37,18,3,9,11,9,17,16,43,24,12,5,41,36,42,4,37,6,17,37,6,29,23,22,2,4,8,31,15,4,24,18,15,13,10,28,8,16,13,20,27,6,4,5,8,4,28,12,2,16,11,11,3,21,2,6,8,5,23,16,11,27,9,10,38,4,9,9,18,11,15,32,4,8,22,17,4,4,6,49,27,27,22,4,16,6,24,9,20,4,6,21,27,17,8,9,15,19,24,7,10,47,3,34,3,17,2,25,14,10,20,11,17,30,3,9,6,6,23,18,31,4,11,16,39,42,24,31,24,14,12,2,24,1,7,32,27,8,4,3,15,10,18,4,7,2,11,6,7,29,13,6,23,18,4,16,8,6,28,27,6,4,24,5,1,2,9,6,17,32,4,25,20,10,16,42,2,10,19,15,23,22,24,21,8,2,4,24,15,19,11,1,9,3,8,45,2,3,9,9,27,3,5,28,9,25,12,27,13,14,6,9,9,13,23,4,8,8,8,6,18,41,12,29,14,15,34,10,5,4,26,5,39,13,9,5,34,4,39,38,4,23,11,16,19,23,5,1,10,9,4,9,2,10,44,6,1,2,7,34,6,2,15,40,11,3,16,25,41,39,18,23,30,2,3,17,21,28,31,35,18,11,6,13,27,3,10,41,22,6,17,2,4,3,5,4,3,12,41,12,4,9,7,4,4,10,2,23,2,6,10,34,5,18,5,35,26,7,5,2,21,20,19,6,3,16,31,21,13,5,8,18,14,27,25,3,39,35,21,11,16,10,16,28,49,14,7,25,41,4,2,2,29,12,17,35,5,7,10,8,25,14,20,33,8,2,17,9,19,31,1,15,8,4,6,14,3,30,38,3,37,13,5,13,12,6,17,15,12,23,3,18,14,26,2,45,11,17,5,33,26,12,6,4,4,5,11,30,6,8,14,4,7,4,8,25,11,2,27,1,36,39,38,47,7,7,16,4,5,45,3,22,21,3,10,17,22,41,29,25,12,39,8,13,6,7,46,29,42,7,5,12,4,6,23,20,23,6,5,20,19,9,2,6,7,12,3,16,17,11,8,14,14,29,9,49,18,7,11,19,18,3,21,19,9,1,7,5,3,3,12,4,4,34,6,15,37,5,26,4,7,2,35,8,7,3,2,40,32,5,8,5,4,47,40,12,8,3,3,4,3,3,30,38,34,7,5,4,5,8,6,3,33,27,8,19,7,19,4,25,10,6,12,7,6,3,4,22,8,13,4,2,3,3,5,8,9,4,11,26,14,9,7,4,9,14,42,17,13,18,2,7,17,20,26,3,19,12,33,2,3,1,16,3,6,6,2,4,3,41,7,3,9,7,9,7,14,13,17,42,7,7,10,13,4,4,15,3,40,6,13,5,39,33,9,7,5,3,8,23,19,4,15,12,14,15,2,5,3,5,8,7,17,38,33,9,2,21,8,3,2,5,14,6,5,21,14,11,6,15,25,5,29,10,19,28,23,4,10,6,9,14,7,6,7,30,13,5,20,17,1,21,3,29,40,3,43,28,37,5,9,12,38,4,30,3,2,4,4,48,18,22,4,2,12,31,38,17,47,14,5,13,3,16,5,11,18,4,13,15,24,4,32,39,2,25,29,12,22,21,8,8,14,31,16,7,5,19,15,5,10,2,9,30,19,20,8,9,17,28,8,4,2,40,5,22,6,12,41,5,11,38,19,21,5,2,4,15,5,12,26,6,5,31,16,19,7,5,6,30,36,10,36,5,19,18,4,51,5,22,2,19,19,34,27,6,27,24,19,12,21,44,4,13,17,12,20,14,18,10,11,16,13,42,7,13,6,6,7,12,5,7,7,22,6,3,28,13,10,21,8,12,20,22,5,5,34,24,5,26,23,16,16,47,24,4,5,23,4,9,3,14,8,9,25,8,1,27,2,3,5,18,12,28,6,11,34,9,3,17,26,28,15,4,3,20,5,2,6,22,16,39,13,13,34,5,15,26,8,34,4,4,8,13,9,10,17,27,6,6,18,7,38,4,11,11,4,6,3,17,17,39,7,2,4,1,32,16,3,30,14,35,6,6,4,5,16,12,8,4,7,23,9,1,23,17,27,24,17,27,10,7,14,3,1,11,2,6,7,2,6,6,21,3,5,5,50,8,12,3,13,23,1,33,10,3,4,13,25,5,40,34,12,33,4,25,5,23,21,12,4,2,40,13,14,2,13,10,7,10,10,31,37,8,9,19,6,3,9,9,44,18,18,23,3,7,14,14,23,4,4,8,6,4,12,6,4,5,3,2,33,10,2,8,16,15,3,5,6,14,3,25,14,7,23,39,7,4,5,5,29,8,27,9,16,4,16,11,37,7,3,4,6,2,3,10,7,9,4,4,9,9,15,19,6,4,3,21,35,1,3,29,13,4,10,9,15,10,12,1,8,34,14,13,30,27,12,9,2,3,28,3,45,15,21,6,15,9,20,5,21,23,11,6,28,11,1,20,15,12,12,8,3,4,39,32,14,22,9,30,2,5,12,15,8,11,2,8,10,19,13,30,36,31,25,18,32,52,15,34,23,11,23,17,36,9,49,22,21,7,5,15,40,3,37,5,3,4,5,7,28,4,2,40,26,6,3,12,7,4,14,2,4,15,20,4,31,18,5,15,22,1,10,6,21,1,10,8,8,14,16,24,24,37,15,3,3,8,15,12,11,36,26,3,6,4,13,5,9,22,20,27,14,32,28,18,11,2,7,5,27,10,16,4,5,17,31,13,4,40,48,2,7,4,10,19,7,24,19,6,4,11,1,15,5,21,42,8,14,25,6,19,8,4,19,19,4,50,7,4,4,41,34,14,2,9,19,20,25,8,8,5,2,35,44,17,17,22,25,44,4,9,3,26,2,4,15,18,14,22,49,49,5,13,12,11,3,11,2,13,5,7,31,31,30,16,28,8,15,23,15,7,21,3,28,3,29,16,1,19,5,33,8,7,33,6,45,6,10,30,34,8,15,13,6,7,35,21,3,13,4,38,1,20,3,28,8,43,26,28,8,6,8,24,20,13,12,7,5,28,10,12,20,36,29,3,36,7,1,10,21,4,22,13,33,31,24,24,7,10,10,9,37,11,17,9,43,28,13,18,15,28,15,13,15,6,13,2,4,16,9,7,8,3,11,28,35,9,25,40,20,11,7,10,8,6,10,10,4,20,11,8,5,5,5,7,8,27,12,12,9,5,14,9,4,10,15,12,13,4,2,6,16,27,20,30,1,28,6,46,5,13,22,17,29,8,24,10,9,7,36,13,2,6,2,6,9,32,6,15,2,5,30,17,7,4,8,6,6,10,14,13,7,9,7,37,1,34,16,8,18,11,37,16,6,10,4,3,14,11,22,14,1,13,5,2,13,29,14,18,9,5,7,9,8,4,13,5,14,6,30,17,6,9,29,34,36,11,4,7,12,11,28,10,7,7,11,22,5,27,5,1,29,2,9,18,26,10,8,7,3,35,43,31,31,16,22,41,14,6,10,5,28,31,12,19,27,3,33,2,15,20,12,3,13,21,5,11,2,10,7,14,5,2,2,22,2,28,12,6,15,30,27,11,38,22,2,26,22,15,30,34,4,34,10,3,6,2,10,13,24,34,14,7,5,33,7,14,37,32,4,3,8,4,20,6,2,24,2,5,2,8,24,18,11,16,18,14,25,41,9,7,21,16,17,10,6,2,7,14,21,9,30,4,27,13,7,23,6,4,7,8,30,10,4,4,14,33,45,30,5,2,6,32,31,26,9,4,12,32,3,21,19,14,7,41,4,7,3,9,2,8,6,39,23,5,8,32,17,9,7,14,7,17,9,13,4,2,45,2,5,9,4,6,3,5,27,7,14,22,10,48,8,8,19,3,4,21,25,20,5,1,1,4,10,8,8,32,11,3,5,24,7,13,10,4,12,11,21,2,36,4,2,25,35,8,6,3,8,22,4,10,9,21,10,3,7,2,7,12,33,8,11,50,5,38,5,8,4,31,24,9,42,27,4,21,10,19,44,15,10,6,35,34,14,20,8,4,29,7,3,7,12,17,4,14,3,12,7,26,16,3,1,35,14,38,11,25,37,12,7,21,9,25,8,6,32,4,18,31,5,4,11,5,34,20,35,4,6,3,40,8,7,22,27,25,20,2,12,29,36,9,10,3,19,14,8,3,6,9,7,4,41,13,34,22,10,6,18,5,9,4,2,35,12,32,9,2,10,4,30,6,15,8,21,14,12,4,5,27,25,7,49,31,22,5,24,13,4,5,17,12,5,47,5,6,26,6,11,9,4,29,11,6,13,4,18,35,4,7,26,13,20,9,7,19,3,4,5,23,14,14,5,10,10,11,9,9,15,22,25,27,13,15,8,6,3,39,26,12,23,10,24,4,13,8,19,4,39,39,10,9,4,12,38,9,12,3,14,15,7,16,26,6,7,3,21,33,21,20,27,25,33,13,16,16,6,2,10,17,2,2,19,12,19,35,2,39,20,4,1,8,2,24,19,9,19,12,35,5,4,3,3,1,23,43,19,4,11,16,16,16,17,8,2,10,12,37,2,3,8,8,10,5,3,3,5,17,4,4,9,10,5,38,26,2,37,6,11,30,37,29,23,21,12,15,6,7,3,3,14,6,34,38,19,40,2,2,42,2,14,3,11,14,12,2,2,8,4,4,23,2,6,30,3,6,28,10,3,19,3,20,5,10,9,47,19,6,4,8,16,8,5,7,5,14,9,35,9,7,2,40,16,7,7,10,1,22,7,24,33,6,4,11,23,31,11,3,19,16,14,17,24,11,4,10,46,43,11,1,15,3,4,34,21,5,4,22,2,12,1,3,27,22,14,7,6,12,3,17,3,16,11,5,21,6,13,6,25,35,38,7,41,5,9,26,18,20,2,37,22,6,15,24,19,5,2,22,13,19,23,27,25,17,39,16,12,39,6,2,7,6,4,3,11,19,4,16,15,4,5,8,7,29,10,6,23,3,11,11,28,32,8,3,5,13,18,4,18,10,15,16,12,8,36,5,4,28,33,3,4,8,27,1,8,29,18,38,15,7,36,15,38,9,24,8,3,14,18,30,1,38,5,2,13,6,5,13,19,9,38,28,45,3,3,20,2,19,5,3,9,37,6,6,14,42,11,23,4,6,14,22,18,17,4,7,2,23,16,10,8,22,13,11,15,20,5,16,18,15,5,19,7,19,21,30,5,5,32,17,20,7,13,14,10,14,14,3,28,9,6,8,4,4,3,22,39,4,48,26,5,24,8,8,29,4,7,7,19,6,15,34,18,7,22,26,7,35,37,17,1,8,11,9,6,7,34,10,5,13,10,29,37,4,22,42,2,4,5,9,2,6,8,4,12,20,46,23,8,10,39,10,7,42,10,11,13,38,9,4,4,35,4,27,4,6,41,2,5,9,13,15,41,4,8,22,20,9,10,37,21,8,32,17,1,26,3,11,7,17,31,4,3,11,12,17,17,11,6,23,47,9,26,30,44,11,6,9,21,10,19,5,8,6,25,8,7,4,13,13,15,20,30,6,31,2,26,10,5,28,16,12,8,18,10,29,29,4,30,3,33,10,17,29,5,10,33,8,7,35,8,22,12,29,17,17,3,29,8,30,18,10,16,4,4,6,7,4,15,34,29,7,29,3,41,10,14,11,10,9,26,36,13,16,8,4,13,12,9,7,6,21,23,36,3,6,40,3,3,10,10,2,4,16,28,9,12,13,6,18,13,17,16,4,5,45,8,28,2,19,2,10,20,4,3,12,5,21,3,5,17,4,27,30,6,5,19,4,5,8,4,5,7,10,7,17,3,17,15,32,8,22,21,3,3,18,2,1,20,17,18,2,2,10,51,29,38,34,7,8,34,6,18,8,10,12,14,15,15,12,28,2,26,37,9,35,22,15,2,29,2,13,8,3,28,13,15,4,1,12,19,6,11,44,12,12,29,7,5,10,18,7,24,13,33,6,6,9,16,25,11,5,7,3,27,10,4,3,5,5,9,47,39,8,6,37,2,8,31,32,35,3,26,12,41,4,39,19,10,28,9,7,33,15,3,1,10,4,2,6,8,7,17,9,2,5,6,12,14,9,14,39,26,17,9,7,3,8,26,14,33,22,14,5,33,37,5,19,28,6,20,16,2,9,38,32,9,9,24,15,2,16,17,4,6,19,22,14,2,20,7,3,45,3,4,39,4,10,15,3,14,2,42,3,14,7,4,8,20,31,3,4,10,6,29,4,18,4,16,30,49,22,17,6,4,5,7,37,7,22,9,35,5,13,32,20,33,3,3,17,3,19,22,29,7,15,3,39,6,2,13,40,31,5,16,5,2,12,14,6,41,9,16,3,8,18,20,33,3,20,16,11,2,43,29,10,3,3,25,31,1,4,18,26,25,26,23,24,9,5,10,7,34,8,4,8,13,21,28,16,37,12,38,8,5,7,9,5,11,14,36,13,29,14,16,34,4,13,13,2,20,24,5,35,29,12,19,11,34,17,3,5,6,7,10,16,30,29,4,38,10,4,49,8,37,2,10,6,4,2,10,23,18,12,16,1,32,23,22,7,2,7,13,7,53,17,35,15,24,12,7,3,12,16,12,3,3,9,15,40,22,18,22,10,4,31,12,7,34,42,8,3,3,8,8,37,18,27,7,4,31,14,17,32,1,18,7,18,41,16,14,8,12,37,3,4,2,7,21,21,13,40,14,8,15,13,11,12,17,25,10,2,10,8,10,11,3,7,20,13,21,10,5,8,12,18,20,5,27,34,5,9,12,24,31,12,7,9,1,3,16,5,18,9,5,15,10,4,12,13,11,30,3,5,26,2,3,20,18,4,12,20,7,31,6,11,4,24,21,29,11,7,6,6,24,26,4,7,11,34,7,14,3,46,35,27,14,14,4,1,3,43,17,9,31,8,32,30,36,4,17,27,8,5,30,33,5,12,4,12,33,12,13,5,12,41,43,1,8,20,5,5,2,3,3,28,36,3,19,34,6,14,9,25,7,7,14,3,26,4,30,15,5,39,5,5,4,36,36,21,29,24,16,40,24,4,4,5,15,20,12,16,7,12,38,10,3,6,3,6,17,9,32,18,3,43,13,20,9,17,20,6,17,20,15,8,43,12,18,22,4,24,1,18,10,17,10,4,11,3,10,27,42,2,24,31,3,43,22,23,3,7,7,1,22,9,5,8,7,2,15,8,3,26,42,30,15,5,5,10,11,24,6,17,15,8,19,8,48,1,1,32,39,31,10,35,14,12,7,8,11,19,37,2,22,29,4,41,52,17,44,32,18,5,3,43,11,6,23,24,10,9,1,25,18,10,30,15,19,12,9,25,6,17,3,30,16,38,13,5,6,26,25,27,16,10,2,18,42,20,24,5,3,4,6,27,1,13,3,7,15,3,6,17,1,11,15,1,8,5,10,9,30,17,37,19,7,23,2,7,7,19,3,15,45,6,6,2,10,15,10,6,24,37,22,27,25,6,5,18,13,5,4,10,13,36,23,27,2,15,58,37,13,12,27,4,23,15,8,5,6,7,7,26,6,27,4,4,25,22,6,34,5,14,31,9,7,17,36,6,22,18,24,5,6,19,20,33,9,11,16,5,16,39,14,33,10,4,8,10,3,18,11,9,9,33,14,3,13,30,10,24,25,4,33,23,5,45,6,5,2,17,19,4,16,12,12,15,24,23,48,32,25,19,24,13,8,9,26,11,16,6,38,7,4,5,9,6,7,6,30,19,14,23,34,11,31,4,8,2,19,23,4,12,7,2,10,11,51,2,6,3,4,9,8,12,11,4,15,45,10,20,43,6,7,39,6,16,10,7,41,2,15,3,10,20,8,6,11,8,19,31,5,5,6,7,19,4,8,7,16,2,4,8,16,19,26,9,4,5,7,11,6,43,3,22,37,24,30,40,0,30,9,6,5,16,29,7,8,2,27,5,14,28,4,10,11,15,23,10,50,20,5,34,9,2,6,3,29,16,11,8,27,7,2,13,18,15,6,37,3,19,27,8,8,32,25,5,7,4,14,5,32,23,12,21,2,31,9,14,33,23,10,5,5,17,19,1,2,6,9,27,19,15,25,2,9,5,6,2,8,11,37,29,11,3,29,26,9,11,14,3,4,16,35,14,10,12,3,14,12,20,26,11,14,8,14,17,13,20,2,19,7,9,13,4,15,18,29,6,34,5,22,40,1,7,16,22,23,28,8,11,29,19,8,23,23,9,6,14,3,10,11,6,30,37,3,19,11,10,15,14,15,7,23,3,35,3,5,38,5,3,40,23,15,32,14,22,20,23,8,11,5,29,19,43,7,26,6,27,9,4,17,4,10,35,24,12,36,2,3,9,2,3,30,43,16,37,6,10,32,13,10,15,8,2,28,32,7,13,24,40,12,16,2,28,36,15,4,5,9,5,4,12,27,17,20,32,18,22,14,44,8,4,4,16,40,2,3,11,28,36,7,7,20,39,21,41,4,9,12,19,8,9,34,9,43,4,19,12,7,5,24,4,2,4,17,18,5,5,5,4,36,28,24,4,14,8,2,3,6,31,4,43,14,2,12,9,3,6,4,12,30,4,8,5,8,24,41,17,5,7,20,4,11,4,1,6,24,26,4,33,34,6,21,12,15,6,23,12,2,28,9,20,33,38,14,2,40,24,29,4,25,6,5,9,14,29,7,5,37,36,16,32,2,5,8,10,55,3,27,15,2,8,36,5,5,12,6,7,20,8,27,16,27,37,15,21,4,9,14,8,42,29,2,12,4,9,4,13,25,8,3,3,21,29,8,23,14,6,27,9,10,38,25,5,2,6,7,7,1,12,28,35,22,11,12,2,33,30,14,34,9,14,9,2,31,38,4,41,6,7,2,22,46,6,2,27,13,15,14,33,25,36,14,5,10,3,3,7,18,27,38,13,11,42,12,33,24,16,37,13,20,6,1,4,22,5,5,16,17,4,35,15,2,19,3,7,1,11,16,14,17,5,42,47,9,18,16,2,5,9,8,5,11,9,27,7,6,12,10,21,20,3,24,13,16,2,11,19,4,21,5,3,18,27,4,8,21,3,4,45,11,15,37,16,5,6,20,6,1,26,33,1,16,8,5,13,6,27,21,3,16,8,16,27,5,6,6,6,38,23,9,33,28,14,24,9,8,9,9,38,5,13,8,18,35,18,16,40,6,13,4,31,6,4,10,13,1,28,13,7,9,9,20,10,24,1,7,3,3,2,32,42,7,3,12,13,11,29,11,16,24,5,7,12,35,16,24,2,26,30,12,42,12,10,1,42,20,43,4,4,4,10,9,9,26,25,5,20,29,39,3,33,4,31,13,8,15,27,5,4,18,23,6,40,36,8,7,13,23,40,27,25,6,4,3,4,30,30,20,17,32,5,18,8,26,2,42,3,24,18,15,9,1,2,4,6,25,12,37,13,17,5,34,5,6,21,8,14,30,19,11,6,8,2,4,14,25,37,6,18,3,2,45,6,14,6,17,9,8,8,7,15,10,29,2,16,13,2,6,10,8,41,39,12,23,17,8,26,25,3,23,4,16,35,17,14,21,1,6,10,1,34,5,7,21,13,10,14,7,10,6,26,7,6,7,19,6,31,26,9,8,12,30,20,3,14,37,24,8,35,36,25,4,35,6,8,23,4,34,8,40,27,26,12,19,1,8,22,8,8,12,9,7,10,1,30,26,7,38,5,11,2,4,3,32,4,3,5,3,18,12,15,21,8,8,24,7,35,1,46,2,41,19,35,10,4,35,18,8,6,15,4,5,13,6,30,7,6,42,4,5,7,12,2,7,7,3,2,3,17,2,33,30,4,2,12,13,10,3,15,6,25,9,8,23,5,7,32,5,30,16,11,3,20,18,6,7,38,5,29,23,4,6,29,8,12,7,17,14,15,6,16,39,3,11,5,5,8,4,13,15,3,21,27,33,3,23,5,24,7,14,43,20,15,4,8,2,2,2,1,11,27,27,35,7,5,18,23,41,34,13,2,16,4,36,40,2,34,6,19,7,24,38,25,7,7,5,4,55,12,3,18,13,4,3,21,4,13,45,28,25,10,36,42,17,5,1,10,4,19,14,8,38,3,13,1,3,14,5,28,8,2,25,1,46,11,32,5,15,8,11,13,35,10,37,19,34,3,25,8,39,20,23,22,47,2,32,2,7,13,23,7,4,29,2,11,29,22,3,12,23,4,5,30,18,4,11,14,8,3,7,35,31,13,1,8,24,3,43,3,9,16,4,10,7,22,3,13,16,37,23,7,4,3,6,3,18,5,2,11,24,7,6,6,6,22,18,9,3,4,7,37,7,6,5,9,33,6,14,11,5,5,4,13,3,8,3,4,40,24,25,5,5,8,6,2,3,11,11,8,18,39,43,33,22,4,17,30,16,5,2,6,7,26,4,6,25,37,9,16,5,15,20,11,9,7,6,21,25,17,16,10,19,27,16,10,40,7,51,6,4,29,3,38,8,27,1,2,36,10,33,1,7,28,20,11,17,5,3,20,4,17,4,15,33,39,4,29,33,34,19,43,4,27,9,1,4,13,2,3,13,24,31,2,7,8,27,20,8,40,8,5,18,22,21,20,33,16,4,4,6,5,4,6,8,18,39,11,3,19,34,36,38,15,17,4,5,18,11,39,3,15,6,21,3,4,4,22,31,3,40,6,9,24,18,19,28,10,19,11,19,12,17,26,7,8,29,21,21,12,29,9,11,3,22,14,3,10,12,10,16,3,5,3,7,33,4,27,26,12,9,16,18,18,17,15,15,12,38,19,7,2,1,12,6,20,6,11,5,27,20,17,11,8,8,5,4,8,4,2,5,14,2,11,5,9,10,31,6,5,15,28,4,30,2,5,3,5,10,11,29,13,1,6,10,12,4,11,17,2,17,13,27,21,5,17,2,23,39,25,22,9,13,18,7,1,5,5,3,6,7,22,13,37,13,16,12,36,17,3,12,26,7,6,16,4,6,3,6,18,6,10,3,14,15,7,37,11,27,10,3,6,37,32,14,8,37,2,3,3,3,9,2,39,49,4,8,9,1,33,2,29,37,1,5,17,2,8,6,31,10,3,10,12,10,22,30,25,17,26,35,29,7,6,17,16,19,23,7,13,1,19,22,41,38,35,10,10,4,1,37,6,33,5,6,15,7,9,7,4,10,9,23,11,8,2,17,12,15,29,4,47,18,5,8,22,25,20,2,18,4,10,38,13,24,30,7,6,18,21,4,8,4,12,3,13,4,11,5,32,4,6,26,4,4,34,6,30,3,3,35,4,24,47,20,3,16,1,35,13,4,8,25,8,35,9,14,18,25,10,26,32,5,6,30,34,34,13,1,10,25,22,30,3,8,41,3,16,18,45,6,3,30,5,13,18,21,7,8,37,2,17,13,18,23,6,2,4,1,10,18,32,32,7,7,24,6,19,10,22,11,11,10,3,7,29,3,4,8,42,10,19,12,15,42,17,23,19,37,20,6,9,16,6,10,5,4,20,17,4,32,7,21,8,3,9,4,3,26,30,35,26,4,11,11,16,39,16,7,35,45,7,11,6,10,27,49,28,17,5,10,17,11,12,26,10,7,31,8,5,5,31,9,5,34,3,49,22,14,8,1,5,41,7,4,17,16,6,15,7,6,17,45,5,1,31,17,7,32,5,32,32,14,5,16,22,12,12,4,28,4,18,9,2,25,14,9,16,5,49,14,6,2,35,26,5,13,2,3,4,4,5,8,4,2,7,4,37,19,2,15,12,12,3,37,12,2,7,2,21,3,9,7,36,21,10,6,45,26,4,2,8,8,17,40,6,40,9,9,13,1,24,3,4,1,2,27,5,6,4,3,18,27,7,16,3,6,11,12,14,3,31,2,16,4,9,16,11,12,9,15,24,3,16,36,19,6,6,8,10,3,20,8,30,12,24,5,12,27,3,34,21,51,6,20,19,25,3,30,8,4,7,8,17,7,35,25,22,30,8,5,3,16,13,5,5,32,15,5,9,7,5,26,5,1,4,37,48,11,11,8,40,16,3,10,2,10,13,6,23,21,25,6,21,6,11,43,3,48,13,4,4,14,4,24,9,34,20,4,11,19,2,19,23,1,9,29,35,13,2,45,4,1,40,34,4,8,1,8,7,6,7,3,7,6,9,13,17,3,3,41,13,6,9,7,5,39,36,12,26,4,6,28,6,45,6,3,40,27,31,6,9,34,38,7,3,13,15,18,38,3,2,20,30,15,6,32,18,3,25,43,11,19,11,47,14,9,4,8,6,9,3,9,3,16,10,10,31,36,6,6,44,2,20,4,3,24,31,2,22,26,18,14,25,16,22,23,12,37,9,9,7,7,5,18,6,30,12,19,4,20,8,3,19,2,12,17,10,9,3,24,5,22,8,4,5,29,17,13,11,5,13,5,17,15,25,14,28,11,5,4,9,14,30,8,4,20,4,8,10,9,2,23,18,32,26,10,45,8,3,9,4,4,26,20,8,6,10,2,34,6,1,3,5,3,4,12,21,34,12,32,3,16,12,10,12,38,3,30,16,8,5,18,20,40,2,8,9,3,28,9,23,15,9,59,2,11,7,14,6,11,6,4,6,7,8,40,21,18,7,5,5,30,26,9,10,5,25,40,10,28,15,6,9,4,10,15,5,3,30,5,19,23,45,12,5,4,9,20,7,5,10,11,6,9,19,9,17,8,5,20,1,17,36,30,12,6,15,3,17,6,36,5,4,27,10,26,10,16,18,24,19,9,39,7,8,5,9,5,17,8,5,15,12,9,8,41,11,7,7,7,45,2,5,27,8,10,15,3,17,24,14,28,12,6,42,2,17,11,34,18,26,24,17,19,33,6,4,3,17,41,15,2,2,33,3,1,16,1,5,5,6,2,12,7,35,4,22,17,20,24,3,11,6,24,37,13,32,2,33,6,3,12,32,5,10,36,27,16,13,27,3,2,10,22,1,3,4,8,24,2,12,8,23,1,14,4,16,2,18,4,43,10,3,40,10,24,13,27,15,25,4,13,25,7,26,32,3,4,17,8,35,6,23,32,5,2,13,5,17,28,4,11,9,16,10,7,3,2,5,13,12,11,11,29,19,6,9,1,7,8,47,8,2,13,16,8,7,4,17,42,19,5,3,35,20,13,16,2,3,3,1,3,8,28,11,18,9,3,23,33,10,9,3,9,19,38,18,8,4,4,7,34,8,9,45,5,31,7,8,4,24,17,23,11,29,7,8,26,4,4,9,33,14,3,10,12,16,26,19,41,40,13,17,9,10,12,9,4,6,16,9,6,28,17,7,35,34,12,11,39,28,7,10,2,10,7,13,11,16,15,8,3,9,2,6,33,9,15,7,37,11,9,14,8,22,27,16,2,7,7,40,29,11,4,10,40,26,16,2,3,5,2,4,27,13,8,16,2,12,38,29,45,41,13,15,5,4,8,22,13,10,4,6,32,23,13,14,36,10,3,3,8,10,19,6,4,39,25,13,3,13,7,5,18,3,5,7,24,10,21,2,12,3,6,26,8,12,14,12,30,13,8,2,7,11,20,10,13,9,28,1,3,35,40,35,10,41,2,13,18,13,24,10,3,13,12,15,18,2,34,8,18,4,6,27,39,50,38,30,5,7,6,5,5,15,38,13,23,8,7,2,14,13,9,10,5,5,24,27,33,8,13,1,5,12,12,16,14,3,21,10,21,30,12,12,7,28,13,11,3,42,38,15,4,14,12,16,12,32,6,47,4,8,10,11,7,5,2,5,24,4,32,17,27,10,36,2,26,5,16,3,7,5,9,11,4,1,2,3,3,26,18,7,37,44,23,40,3,9,4,19,29,8,3,17,6,10,5,33,7,32,6,19,11,11,27,9,2,34,6,13,3,5,15,7,11,4,17,5,20,18,23,8,3,6,35,10,36,4,23,10,31,45,7,6,18,0,26,14,9,11,2,4,8,17,14,4,17,6,8,20,9,4,8,42,30,40,7,21,10,38,13,5,17,19,34,6,11,9,16,2,10,4,27,24,4,37,37,15,36,31,21,24,28,12,12,15,10,4,16,3,2,5,13,24,7,15,5,11,3,4,17,1,31,18,4,7,13,34,6,4,2,24,35,18,32,4,39,29,32,15,6,1,3,2,21,13,10,4,7,2,7,8,11,9,26,8,32,7,3,13,38,1,9,16,20,10,16,7,7,3,3,9,6,46,3,7,10,25,3,20,29,3,8,22,21,12,6,4,19,20,22,3,30,8,2,25,13,12,5,9,10,18,15,5,5,33,12,22,17,1,23,34,24,18,3,3,22,4,21,33,29,20,12,9,5,11,38,19,33,32,11,33,23,37,18,10,2,10,4,40,13,4,5,35,26,33,20,23,20,26,6,26,4,24,6,2,9,37,3,11,5,17,8,24,53,18,7,7,6,18,7,38,14,3,2,14,42,12,19,38,30,3,3,7,6,15,12,36,10,14,2,23,5,24,9,7,24,22,12,10,2,38,7,8,5,8,33,9,13,18,28,4,8,16,2,21,28,12,24,14,42,3,2,4,4,28,19,25,23,10,18,8,13,4,11,8,7,11,24,28,3,45,19,2,46,4,12,7,10,31,17,3,7,19,9,7,10,8,22,22,34,24,33,12,26,26,7,18,3,32,8,21,7,4,8,10,28,35,24,43,3,7,30,1,9,14,3,4,15,4,7,25,16,8,20,4,3,29,8,8,12,9,38,34,6,41,5,11,2,11,34,9,47,2,5,9,9,4,33,3,9,16,35,15,45,12,22,13,6,17,8,26,15,4,16,5,9,18,21,12,2,22,24,1,36,15,17,40,10,10,35,6,8,5,19,30,17,7,3,22,9,1,6,13,16,6,22,30,6,29,5,11,15,19,7,12,22,9,28,4,9,4,8,8,2,4,32,32,39,12,9,3,27,2,12,19,2,14,29,4,6,16,3,4,22,20,5,8,5,5,30,14,45,11,31,12,29,21,4,7,8,2,10,8,29,8,16,3,7,23,16,8,14,9,44,8,4,5,25,12,4,32,7,10,9,9,9,10,25,7,8,32,44,11,13,8,13,1,11,16,45,6,13,6,23,15,8,2,24,50,3,2,6,2,20,16,2,4,9,2,31,7,4,29,19,22,15,6,11,16,15,21,6,12,6,2,13,2,29,11,32,21,13,13,5,7,22,3,16,8,44,20,23,5,3,23,2,31,16,6,7,13,3,39,37,17,41,18,23,3,29,4,18,4,3,4,3,2,10,6,20,15,12,16,18,11,31,10,10,8,21,27,20,25,29,9,9,42,37,17,8,8,33,8,26,30,20,9,25,17,7,2,2,7,4,5,19,7,3,3,41,26,20,9,22,18,9,4,7,3,14,2,8,34,19,9,6,8,5,9,16,37,5,20,30,21,5,11,19,22,28,18,5,3,27,8,17,4,6,30,48,31,21,34,33,30,3,2,8,1,7,40,22,28,6,27,15,23,27,13,6,29,9,6,6,2,26,30,7,4,9,25,6,21,30,5,14,40,19,27,5,7,13,8,6,5,4,3,20,17,7,12,12,24,12,7,8,10,14,14,8,44,17,30,16,4,8,5,3,20,24,7,33,2,28,31,14,8,11,25,21,29,35,18,16,30,19,8,5,9,24,4,36,26,28,7,15,23,20,8,16,26,28,19,4,20,7,11,11,3,2,5,2,7,26,21,2,11,8,6,24,2,12,7,10,41,13,35,3,15,3,17,31,10,2,5,4,12,8,32,11,3,16,24,17,39,38,10,15,31,4,30,4,8,5,6,30,5,21,31,15,20,19,13,4,33,9,5,48,29,39,38,21,25,21,11,24,4,12,9,7,5,3,6,2,10,12,13,21,5,12,10,31,23,13,33,25,15,8,6,28,38,9,2,4,12,10,11,4,5,8,12,11,8,3,6,25,7,41,9,19,7,14,2,5,12,13,13,41,7,11,4,6,23,5,28,29,44,11,10,15,4,5,9,24,11,12,21,32,24,5,10,3,7,1,47,20,22,6,11,3,15,10,39,17,13,13,6,3,6,18,19,4,19,28,12,10,7,8,23,16,2,13,13,12,2,13,5,20,17,9,6,9,10,13,28,30,6,18,7,16,5,20,34,11,19,3,11,2,5,18,17,10,6,3,21,6,13,29,5,9,2,41,11,4,9,43,21,4,9,1,9,3,24,46,6,25,5,32,9,9,7,20,31,9,4,7,6,41,5,26,34,6,16,2,16,4,7,10,8,4,4,5,12,36,13,34,10,45,20,9,47,11,6,43,15,8,8,16,10,44,5,28,3,6,21,7,16,12,32,11,15,11,17,20,14,5,3,5,10,13,11,33,11,10,9,21,2,6,18,21,4,26,2,3,19,8,14,4,3,12,28,13,4,6,20,6,7,9,3,7,1,10,9,15,37,4,10,20,13,15,3,32,16,43,14,12,17,38,3,8,5,10,24,12,44,17,4,48,30,11,29,6,32,3,7,3,5,6,20,13,11,43,14,8,47,3,4,26,1,12,2,6,6,7,6,4,26,28,17,8,18,4,3,4,13,34,9,40,8,11,38,3,33,14,14,3,20,10,10,13,8,5,29,6,2,10,6,6,4,4,3,4,5,4,3,14,6,11,5,14,10,3,15,14,29,17,4,12,5,30,15,19,13,40,14,25,36,2,25,29,9,35,35,9,7,10,11,29,15,4,19,5,12,1,26,2,17,10,29,40,7,16,4,36,10,4,5,16,22,2,5,8,30,7,3,11,16,5,44,27,15,11,6,9,3,35,4,27,13,33,16,32,11,5,24,3,9,3,14,20,9,3,4,14,28,43,3,3,4,3,9,47,4,1,32,7,3,36,1,26,19,10,14,6,29,3,13,8,3,4,15,5,5,2,36,10,24,4,19,15,5,15,13,7,2,18,33,2,3,20,4,17,44,12,23,24,12,22,7,38,30,3,5,31,14,17,4,17,5,21,11,3,5,25,7,38,33,5,3,23,6,34,36,6,19,3,11,6,5,36,14,10,5,15,29,17,20,13,41,5,25,13,9,8,22,13,3,5,6,11,10,8,2,11,8,8,24,4,43,18,3,5,7,12,15,2,20,9,25,12,9,0,8,12,4,39,10,7,4,8,6,30,4,36,20,16,16,3,25,30,11,7,15,8,2,11,2,3,34,48,10,18,24,8,8,41,7,19,14,6,7,9,3,36,7,3,4,8,27,42,2,5,35,16,4,24,14,8,40,3,18,14,15,37,19,4,6,7,36,4,3,43,14,35,29,3,3,21,17,28,10,5,27,9,4,12,7,1,13,22,31,14,9,11,6,8,34,4,2,15,33,6,25,8,36,34,2,19,17,21,10,13,16,11,16,13,19,16,4,8,21,11,12,2,10,12,25,35,3,4,9,4,24,8,8,7,23,5,33,34,23,8,6,29,3,9,34,18,12,41,2,5,5,56,35,19,15,13,1,5,2,3,4,13,40,5,19,8,2,27,5,4,39,14,13,13,5,4,6,26,6,10,7,24,21,27,30,10,34,34,9,3,14,10,17,13,32,6,26,9,8,13,0,10,7,39,7,7,14,2,36,6,2,6,40,10,3,5,4,8,42,37,11,9,6,14,26,10,10,28,7,9,7,27,7,33,39,5,6,5,24,15,16,34,4,28,18,20,5,4,14,23,21,17,8,21,1,33,33,34,14,5,23,3,10,9,18,13,33,7,29,7,17,1,10,23,5,8,9,3,8,19,11,3,14,5,4,18,2,23,8,4,42,19,8,9,6,11,5,8,17,28,5,4,15,5,10,7,2,17,28,10,3,9,5,15,17,5,16,33,4,1,41,14,36,7,19,3,7,20,9,12,40,3,3,36,3,26,10,8,8,17,23,9,8,16,5,24,20,2,24,4,15,20,17,8,4,14,14,12,5,18,6,5,2,3,4,5,17,6,25,5,29,13,18,12,2,32,2,6,6,8,3,35,4,23,24,16,29,13,21,18,14,12,14,2,46,30,3,20,10,4,2,6,8,6,7,29,10,12,4,31,5,10,5,1,13,14,8,11,31,2,28,4,15,2,29,26,12,31,4,30,32,5,8,8,6,4,8,3,21,24,9,6,4,27,37,7,3,14,12,8,37,5,8,2,5,11,4,5,4,36,7,4,2,10,19,4,10,38,5,48,10,50,5,7,38,6,3,26,10,7,7,5,32,13,5,4,3,1,5,32,36,3,8,11,6,5,21,19,1,3,23,15,14,10,2,3,6,35,27,27,32,32,33,23,24,14,6,28,13,28,7,2,25,4,11,18,12,13,9,9,17,22,6,20,8,30,4,6,10,4,24,14,3,30,13,11,7,32,9,17,5,4,9,9,4,16,17,3,9,4,2,9,4,6,5,23,4,21,47,11,12,31,12,10,5,12,13,29,13,5,32,7,16,2,9,11,13,15,16,13,2,22,38,23,30,7,7,37,33,2,24,35,1,29,6,6,5,20,8,17,31,13,8,33,17,6,15,13,10,7,27,2,5,17,11,19,2,37,13,6,33,26,7,7,9,22,3,4,5,14,5,5,22,19,6,19,14,30,9,22,6,15,11,7,24,14,9,41,12,17,3,7,15,6,34,17,8,1,2,4,5,1,39,5,19,1,11,42,19,9,29,28,21,6,5,8,1,13,32,4,10,4,35,18,35,18,25,30,4,9,3,25,1,18,38,6,34,25,5,11,15,15,7,30,15,4,16,29,3,6,10,8,16,26,5,4,3,2,16,39,33,21,35,5,7,9,6,6,21,8,5,20,11,2,5,7,6,24,8,2,7,5,42,2,6,30,4,5,39,15,24,3,6,2,3,9,3,35,21,1,6,6,38,7,2,27,4,5,5,2,2,29,13,5,9,5,43,43,3,9,8,4,18,16,5,23,2,30,14,2,5,4,4,14,5,27,4,33,4,21,8,8,8,43,6,16,5,6,7,12,21,17,39,8,8,22,2,8,16,28,14,31,8,37,28,4,6,22,5,4,27,14,5,7,17,8,15,6,26,17,14,5,4,34,13,6,16,5,47,11,38,7,42,2,5,4,12,4,2,46,24,5,11,34,26,29,14,21,9,19,16,8,12,4,28,17,16,34,29,5,7,6,29,4,15,4,2,21,14,26,15,40,37,24,8,4,6,34,20,5,3,37,13,5,20,14,4,4,23,5,16,5,15,23,6,35,22,2,4,1,23,2,14,31,4,24,1,10,20,14,16,13,15,1,8,3,5,6,22,2,37,15,15,4,4,10,20,38,2,3,4,43,24,5,31,51,3,33,24,11,4,25,35,9,16,7,35,6,50,9,8,1,5,15,12,16,19,6,35,9,41,32,13,23,7,45,5,38,17,47,3,4,24,5,24,4,28,12,24,41,34,38,28,16,5,17,6,4,9,7,16,9,24,15,29,23,30,3,16,32,34,9,24,5,31,5,16,8,10,9,27,7,32,12,3,12,26,6,13,15,14,11,24,23,24,7,12,14,4,8,8,17,3,9,14,8,10,4,13,18,36,3,14,8,14,9,5,36,19,11,27,3,7,31,45,8,3,5,40,6,10,27,4,22,6,33,7,8,25,2,11,21,9,32,31,6,11,8,27,28,11,4,1,18,16,2,20,38,15,15,11,4,5,2,2,2,14,12,5,7,13,29,23,5,5,9,25,41,25,2,36,5,5,13,20,9,9,38,3,4,19,19,4,22,13,8,22,9,7,2,46,1,10,51,20,4,13,37,1,16,14,28,11,1,6,8,12,20,2,11,38,7,11,4,2,31,14,43,35,4,22,9,16,41,44,4,18,16,6,26,16,15,9,26,14,14,12,41,12,5,15,2,5,11,5,2,18,15,10,4,27,10,4,28,21,12,8,36,5,40,4,30,18,14,22,21,15,16,10,38,27,28,5,17,14,4,4,10,4,2,10,6,5,17,25,3,38,4,12,7,23,6,32,6,9,28,19,28,4,2,35,4,12,4,4,32,2,10,23,1,18,21,17,3,20,8,17,6,40,5,15,7,5,7,12,37,9,3,16,33,29,19,31,40,18,9,1,17,8,4,14,3,2,12,26,13,5,3,32,11,7,33,7,16,33,36,24,8,8,22,3,45,4,11,11,23,15,11,3,22,14,12,2,25,11,3,10,12,4,4,6,13,18,50,46,19,6,4,24,6,3,3,17,17,35,18,24,16,18,8,5,4,36,1,11,3,6,14,6,25,2,3,23,30,3,12,8,7,11,23,8,15,17,26,26,29,11,14,4,4,21,15,6,9,7,7,22,3,46,4,18,4,2,7,2,18,2,53,4,9,16,12,7,6,24,12,33,6,11,3,3,14,6,44,54,2,4,29,14,8,4,26,16,5,11,34,5,2,10,7,9,3,20,2,10,41,6,2,2,10,30,17,26,5,15,12,8,40,11,29,15,23,1,23,13,7,13,16,13,5,24,12,1,23,4,3,21,11,35,18,29,3,42,44,4,25,6,6,3,8,3,10,14,11,20,5,12,10,7,9,15,1,4,6,20,2,39,15,5,2,2,3,25,20,20,18,6,10,3,19,10,11,23,10,4,24,11,18,13,3,22,9,24,20,11,16,17,6,17,4,43,8,28,23,28,2,21,10,11,52,3,4,21,7,18,7,2,11,12,9,6,6,41,35,39,3,18,8,41,11,8,10,5,7,12,2,18,11,21,9,3,2,3,2,2,20,19,20,14,2,6,3,18,17,4,10,30,25,5,18,49,9,25,5,6,1,3,4,12,9,23,4,17,13,33,46,4,21,9,22,4,1,2,10,24,12,17,8,5,3,8,13,18,11,8,32,24,23,21,13,27,11,26,15,10,7,6,35,14,35,18,20,30,12,6,36,4,3,23,3,10,4,13,2,15,2,14,16,13,4,37,10,15,5,7,37,10,4,9,7,7,11,27,3,6,25,7,24,9,25,7,5,7,9,3,21,6,3,11,30,10,15,9,35,15,15,4,24,7,34,1,7,5,2,28,4,4,6,28,8,30,35,19,3,36,11,27,45,26,16,40,45,9,9,4,21,31,2,5,17,9,26,4,5,6,6,8,10,2,12,19,9,5,17,8,18,11,2,4,1,31,19,16,11,10,39,2,4,15,17,40,48,6,8,19,9,1,27,20,19,9,27,4,14,12,11,43,1,14,11,2,4,4,24,16,5,22,3,33,18,5,38,12,4,7,20,2,26,7,36,7,39,2,26,6,13,10,15,5,13,32,6,20,24,8,14,6,3,6,7,12,35,25,5,5,6,8,21,9,6,3,26,22,10,5,11,10,31,6,17,14,23,6,7,27,24,11,7,26,13,11,23,4,5,42,41,17,4,3,4,2,13,7,3,7,6,46,10,4,3,7,43,26,1,30,4,2,41,37,38,2,5,41,21,28,5,40,12,15,2,5,5,21,39,8,6,21,25,14,8,16,26,10,30,3,4,51,3,24,17,21,15,2,28,5,4,5,20,30,9,39,8,28,9,44,16,6,44,25,19,2,41,25,35,8,5,18,5,6,5,21,9,5,5,22,38,8,8,7,30,38,6,25,17,2,3,32,22,14,22,11,6,42,7,30,22,2,10,18,18,8,2,17,2,18,29,50,18,6,16,13,36,16,23,12,5,8,2,31,1,7,12,19,2,5,13,5,26,18,12,36,37,21,4,22,14,2,2,9,2,34,2,5,21,24,24,2,11,1,8,25,13,4,24,14,5,14,7,3,1,3,7,17,3,25,8,20,7,3,21,15,11,28,13,10,4,32,15,14,3,6,3,15,36,14,24,9,35,28,25,29,9,43,2,6,28,14,11,38,6,3,5,3,12,41,16,3,12,13,13,6,4,7,8,6,9,9,15,10,30,9,22,38,20,5,6,20,33,9,40,3,18,18,16,4,8,12,9,14,9,2,4,27,3,4,11,16,4,14,8,20,26,29,9,30,7,16,4,21,20,8,15,7,4,15,7,2,25,8,9,3,26,8,14,25,12,37,24,3,44,2,18,11,10,9,2,39,10,1,14,11,17,24,24,7,13,15,19,29,16,12,5,7,7,6,2,20,4,2,5,12,9,19,13,6,8,23,5,4,4,1,5,5,21,22,22,15,7,10,17,15,17,15,7,5,5,7,6,17,8,9,14,3,27,14,38,23,5,24,2,8,19,13,3,2,14,2,4,12,14,19,6,10,4,21,32,9,2,13,15,10,9,8,23,7,5,23,4,14,3,6,24,8,21,32,12,20,12,29,4,2,39,22,18,7,4,31,28,3,12,26,19,10,2,3,26,13,19,9,10,13,2,17,3,23,44,6,6,3,5,28,20,22,10,27,30,15,40,25,15,11,15,22,21,4,4,8,26,20,26,10,18,15,33,6,5,18,14,38,2,10,7,4,20,32,10,22,13,2,33,15,12,10,3,16,28,24,3,7,23,4,6,7,23,5,5,4,14,32,6,4,9,18,12,15,39,14,14,3,10,6,7,8,17,6,41,16,3,9,3,11,26,16,23,43,26,18,3,43,15,9,24,22,12,5,10,11,20,10,18,14,25,4,2,14,22,19,2,4,26,10,44,3,1,3,28,6,16,11,14,5,2,9,39,9,12,7,19,34,9,24,12,22,18,4,17,9,14,39,10,23,30,20,6,8,7,6,6,12,5,8,25,14,2,6,22,33,12,29,4,9,9,35,18,11,7,22,42,15,11,2,17,6,12,27,10,30,37,32,2,5,9,23,29,6,5,32,2,21,9,17,5,2,8,27,4,19,36,14,14,9,23,16,21,21,21,4,3,19,2,10,7,10,19,18,15,25,8,27,6,15,6,7,16,3,3,50,21,17,1,27,2,47,9,25,13,27,3,8,17,6,13,3,2,8,4,10,1,24,9,8,1,15,18,5,3,37,32,16,33,13,18,5,9,3,12,9,14,13,37,37,4,9,2,43,14,29,16,10,19,10,5,11,18,19,20,20,9,8,18,11,2,22,6,10,2,10,19,11,38,19,24,16,11,4,3,12,22,15,7,8,14,44,28,30,11,27,11,9,23,4,30,12,7,36,32,3,10,14,15,8,2,11,2,17,4,8,23,8,3,28,3,19,5,4,26,3,3,8,2,2,44,2,13,16,16,40,35,28,17,4,26,31,7,27,12,10,31,3,2,10,4,3,10,34,4,6,10,22,30,40,19,7,23,27,6,18,15,15,18,30,7,16,3,12,27,37,16,8,5,5,3,3,42,10,5,4,3,29,28,40,4,26,5,26,47,4,2,8,6,4,15,26,6,22,29,10,7,5,3,11,6,31,10,19,10,8,20,5,4,5,28,4,37,30,32,12,21,14,3,5,3,48,39,5,31,5,1,2,8,14,50,5,25,37,7,5,4,4,4,3,16,35,9,6,12,7,13,9,22,4,26,30,9,12,3,4,17,36,37,50,6,5,16,4,36,26,8,2,1,12,9,36,8,4,32,44,15,10,15,25,6,33,24,12,7,22,9,15,8,9,24,6,18,11,3,11,17,17,24,7,5,22,23,48,23,13,12,2,8,13,10,29,9,27,10,9,22,2,32,4,33,24,35,16,39,10,27,9,20,17,9,12,2,5,8,3,23,22,23,13,12,4,15,10,23,23,8,12,3,36,5,26,4,5,4,38,27,21,37,9,6,13,3,12,8,22,8,12,9,33,13,5,14,6,11,44,13,7,14,2,21,29,22,20,14,41,5,40,4,41,10,11,20,4,40,21,18,2,4,27,15,9,9,28,13,31,9,2,11,1,32,14,4,5,39,35,13,12,7,3,16,30,17,33,15,13,3,4,32,4,16,11,6,21,15,4,2,10,2,47,5,3,11,3,16,21,3,4,16,37,4,2,33,31,9,25,9,11,15,22,1,7,20,2,3,6,15,33,18,18,32,28,4,32,31,10,14,14,8,1,7,17,13,16,13,4,2,14,9,9,46,3,4,10,12,10,30,18,9,41,28,22,17,7,31,48,12,10,25,30,5,32,13,34,14,11,2,15,15,9,22,7,39,28,7,40,14,12,6,23,35,7,2,3,15,39,15,3,37,3,8,11,12,18,6,4,46,24,1,18,5,12,11,25,14,33,9,28,7,2,27,9,16,16,20,6,4,8,13,51,30,39,29,13,11,16,5,44,6,12,4,14,29,15,10,10,25,21,5,10,37,20,8,2,44,9,4,29,23,14,13,9,45,34,5,4,9,5,25,22,10,8,35,11,51,9,7,12,4,5,10,22,15,1,12,19,18,5,6,4,15,7,6,4,38,10,21,15,7,1,6,3,4,10,4,7,18,14,23,24,25,11,17,20,6,7,6,29,15,2,2,3,14,18,25,29,20,5,7,42,4,4,13,8,5,5,11,1,6,27,3,40,22,15,14,11,4,8,4,16,2,28,1,5,11,7,5,4,6,20,8,26,13,7,26,31,2,5,18,26,16,6,10,14,27,5,8,1,5,2,6,27,13,4,35,12,42,11,13,12,6,9,14,33,4,3,10,18,9,4,13,6,11,7,12,9,32,6,28,10,11,8,27,31,34,10,7,13,33,12,43,8,11,29,5,23,27,5,20,26,5,25,6,5,45,9,8,5,38,30,5,33,13,35,21,9,46,30,2,11,15,23,25,9,9,6,42,3,33,10,4,3,23,2,7,27,19,26,20,42,15,34,3,6,7,35,8,5,24,18,6,34,22,7,40,28,28,5,4,34,20,14,23,7,9,8,4,37,4,13,8,13,11,23,7,4,22,6,12,15,4,22,20,12,8,39,2,3,2,8,5,2,17,13,16,20,13,4,15,4,3,4,30,40,21,7,21,5,2,23,18,11,12,1,27,20,21,42,19,2,10,44,20,26,19,9,10,6,7,1,21,28,9,13,7,10,10,8,4,1,11,11,12,21,23,4,16,12,11,13,8,27,26,17,22,8,37,27,2,19,23,45,47,12,8,16,6,10,10,3,4,25,4,8,19,32,44,6,29,26,8,24,5,11,8,15,14,37,7,21,1,21,18,7,26,49,3,4,12,11,22,20,15,9,15,2,12,11,12,3,8,6,5,11,10,23,24,24,5,16,11,7,5,10,34,30,13,30,26,22,11,27,8,4,4,26,3,38,3,18,8,15,1,14,23,1,2,11,3,21,7,8,8,25,2,8,5,9,12,2,25,27,27,35,5,9,9,39,17,5,5,6,1,3,31,5,45,41,11,34,2,13,32,20,4,33,14,9,7,6,6,3,5,31,9,23,7,18,18,4,27,11,21,9,8,11,13,32,15,24,14,14,10,17,15,34,3,5,12,2,2,20,4,8,8,3,14,9,11,8,23,10,6,7,27,2,5,39,14,11,2,36,3,14,4,22,17,5,13,3,38,9,35,9,10,9,11,28,26,10,9,3,22,2,6,21,29,8,3,35,4,4,3,28,5,7,13,15,7,18,4,27,12,25,3,36,4,31,2,4,3,5,12,8,5,19,7,11,8,12,5,10,5,9,11,6,17,36,6,5,10,8,35,3,15,20,18,6,18,8,28,36,4,6,3,4,4,6,24,30,5,22,34,5,12,17,13,37,10,41,17,9,10,4,12,4,15,6,15,11,37,36,32,18,18,14,3,17,2,13,6,27,3,2,8,24,8,9,7,1,5,5,2,12,5,3,8,31,17,10,16,14,3,9,15,16,2,13,5,10,37,21,10,20,9,15,44,8,9,16,23,4,26,13,4,20,37,25,1,2,10,33,26,4,2,9,9,11,13,33,28,8,9,12,2,4,9,11,2,6,31,7,16,16,17,34,6,14,14,1,10,36,6,11,4,2,2,1,8,3,4,7,23,5,3,26,14,3,27,7,31,6,10,10,30,40,28,7,7,2,7,13,3,4,2,45,30,20,17,16,9,2,24,4,37,11,12,5,10,8,2,12,11,13,10,2,21,24,14,6,2,4,8,8,9,4,8,28,4,20,28,4,10,4,13,31,3,14,4,23,13,20,20,2,18,24,13,33,12,6,7,3,6,15,30,2,33,2,21,24,22,1,14,12,1,10,27,8,12,4,5,22,4,17,29,10,25,9,14,3,19,12,8,13,26,7,1,12,16,20,3,23,40,24,14,17,10,7,14,24,13,32,12,7,12,16,11,15,3,9,20,15,2,48,12,17,26,27,20,8,5,8,2,2,5,6,10,5,14,31,3,31,4,6,7,3,31,44,2,3,12,11,34,9,8,4,13,11,8,3,37,22,3,44,30,27,6,13,2,6,24,6,44,19,37,6,18,10,12,10,6,6,16,8,5,28,32,10,7,34,3,33,38,8,27,27,3,3,25,2,7,32,10,37,4,20,15,4,7,10,21,10,16,6,41,3,4,30,7,18,9,17,8,3,6,21,9,10,11,5,3,4,42,14,25,17,5,10,2,5,29,30,10,3,15,3,10,25,20,5,19,20,25,6,14,6,26,47,22,12,28,19,5,21,8,22,7,31,9,8,14,7,4,28,20,13,52,8,3,24,30,3,7,58,34,33,31,3,4,28,10,2,3,13,2,7,32,5,9,2,21,4,15,33,35,2,20,5,14,2,40,14,7,16,11,1,4,10,21,10,25,19,15,3,19,7,8,2,4,20,41,7,18,23,18,25,13,9,4,6,5,9,17,15,30,9,4,2,46,10,14,5,14,19,10,10,11,11,4,33,3,38,28,2,15,40,8,42,20,34,32,19,32,42,3,26,10,12,21,11,5,6,2,19,8,17,8,4,6,3,18,26,25,13,29,2,12,4,14,29,24,4,7,10,44,9,8,26,33,8,6,26,30,24,3,42,6,2,6,41,32,21,22,5,13,15,11,8,4,5,1,10,27,3,21,36,8,19,4,3,10,29,6,7,14,13,3,5,8,35,5,7,15,1,8,39,5,4,3,3,27,5,4,13,12,32,7,11,3,3,12,5,22,4,6,1,43,5,40,4,10,18,21,30,8,45,9,7,35,1,28,8,12,26,18,17,4,5,10,23,13,8,39,32,23,10,8,7,36,6,32,8,6,8,13,3,29,2,17,10,12,4,2,11,16,9,3,5,11,4,3,22,3,18,31,17,2,7,7,7,28,3,12,12,32,11,8,5,32,12,4,16,10,14,21,38,23,13,14,7,2,22,49,14,17,4,2,39,27,17,9,20,20,31,2,37,5,11,25,9,3,14,31,31,6,26,8,12,3,10,8,5,2,6,40,6,15,8,28,2,2,20,16,9,10,8,8,32,2,2,16,32,48,14,18,26,10,3,20,4,36,8,13,24,12,25,4,43,21,25,4,18,5,9,6,9,29,8,11,27,25,7,3,3,12,14,24,3,4,20,25,14,33,6,28,23,13,41,16,4,3,11,16,24,7,28,24,13,19,19,47,16,7,8,16,6,17,39,12,25,18,33,10,4,13,21,3,4,8,4,9,7,2,3,9,26,15,18,16,22,7,2,6,3,7,8,16,7,34,43,40,13,20,22,9,8,3,6,2,6,19,2,20,23,4,3,14,10,4,25,1,15,15,2,6,15,4,21,5,13,5,6,16,3,7,7,5,3,29,2,8,14,8,8,4,25,6,12,26,36,27,3,31,11,19,41,21,1,1,25,5,21,10,5,2,19,28,26,3,6,7,8,18,4,12,43,22,3,2,5,35,3,6,11,5,3,7,4,13,5,13,10,14,6,7,8,11,2,2,32,3,3,12,22,4,33,43,7,5,3,3,20,33,28,18,14,29,11,16,43,7,9,5,8,17,29,8,12,34,9,39,6,7,23,28,11,2,7,3,10,15,9,4,9,2,6,14,27,4,26,3,3,15,32,10,10,14,13,5,28,33,16,8,2,11,14,11,10,8,38,5,11,1,7,6,18,9,20,16,12,20,6,13,29,16,7,7,17,28,37,5,9,25,2,11,24,2,23,14,2,13,3,37,5,3,15,6,41,13,21,7,18,2,46,6,7,1,5,20,4,10,4,3,18,9,20,5,3,14,6,24,3,5,10,19,6,5,5,7,12,28,6,13,10,5,15,2,14,2,34,4,6,11,34,28,8,21,7,2,6,7,21,12,7,12,21,31,42,6,3,45,10,11,16,5,15,55,6,5,10,13,4,2,16,9,11,11,18,33,8,1,4,9,2,11,15,8,4,11,26,40,11,14,29,4,40,16,36,2,2,3,22,13,5,9,9,13,3,12,6,22,10,18,38,7,4,12,36,6,5,29,26,17,6,4,9,14,44,3,14,7,35,8,6,8,21,26,31,14,3,8,2,2,28,16,19,34,5,29,16,2,38,16,34,2,10,7,39,8,9,19,10,26,19,24,28,2,16,4,6,35,23,36,5,17,11,14,15,19,29,20,7,7,33,25,36,10,5,9,3,22,17,7,5,9,27,43,9,6,2,5,4,33,12,1,27,3,7,12,9,5,32,30,11,9,4,16,15,15,10,8,32,6,11,7,19,2,2,24,36,16,5,8,13,35,13,19,18,12,21,18,7,7,32,41,4,13,15,4,4,17,2,9,21,16,3,29,28,35,10,8,6,7,24,2,40,1,5,4,7,38,2,13,43,16,7,41,17,20,8,6,12,5,24,26,17,8,33,46,20,5,25,3,3,12,7,19,2,15,1,15,9,4,38,32,23,8,23,26,5,18,35,27,46,31,8,7,28,37,10,1,15,1,43,41,30,27,4,17,14,24,8,30,10,41,28,12,21,5,29,4,19,9,38,20,8,20,3,6,13,2,5,23,4,9,20,29,19,10,4,11,35,6,10,4,5,18,12,17,13,5,9,23,32,44,12,36,4,7,22,9,3,7,5,13,4,7,12,2,31,6,27,39,22,2,2,8,39,6,9,12,28,5,25,34,16,17,16,14,19,22,10,6,6,29,6,10,24,37,17,6,5,12,36,36,4,30,39,6,21,8,20,11,2,10,29,25,29,10,28,6,17,15,2,1,12,11,32,6,6,6,12,1,10,9,39,3,9,3,30,7,14,11,23,21,4,22,44,18,11,5,2,11,13,10,9,39,4,16,25,38,34,9,25,20,4,8,21,7,14,7,18,6,4,17,1,21,19,8,8,5,4,10,8,24,9,30,17,28,37,6,6,15,21,11,5,2,26,11,22,13,17,8,13,11,29,28,12,20,22,40,32,13,3,30,30,32,5,15,5,32,6,19,6,7,6,11,10,28,3,23,1,10,2,29,9,5,8,3,3,11,12,6,18,20,3,38,4,12,12,26,6,10,7,6,12,7,8,44,4,31,9,11,17,34,6,6,5,7,16,13,3,18,38,21,9,22,13,21,5,3,5,12,10,14,7,27,45,7,14,6,8,4,6,9,14,2,36,9,3,2,25,17,20,8,19,7,41,4,8,25,8,35,7,39,12,6,7,8,4,39,5,14,12,5,32,7,3,6,20,4,12,3,2,9,14,10,8,3,11,23,28,12,3,34,27,12,34,27,8,3,3,3,10,27,7,4,10,6,16,6,6,7,5,26,8,4,7,22,8,15,7,8,17,26,3,30,32,3,53,2,31,6,8,25,13,27,4,6,12,2,33,28,38,17,4,19,7,27,24,1,8,6,2,38,23,9,6,16,30,47,22,4,14,9,3,12,16,6,18,8,2,7,12,28,2,6,8,14,22,7,34,4,1,34,7,11,18,3,30,5,14,12,2,25,4,7,16,2,5,17,2,2,3,11,11,7,14,33,7,8,9,23,9,20,1,10,17,34,2,24,2,22,14,23,5,4,2,54,8,14,2,23,3,3,7,10,2,11,6,27,3,14,19,26,51,8,7,4,24,10,2,4,14,2,13,36,6,31,14,11,20,1,8,4,10,19,5,27,45,18,4,2,2,19,10,6,10,5,9,11,4,16,21,38,2,15,18,6,5,10,6,11,4,12,2,13,23,2,30,14,20,23,3,7,5,25,19,12,14,6,4,3,21,8,6,40,11,3,11,13,6,3,11,11,12,14,28,10,17,2,14,16,30,6,4,27,40,23,7,5,26,2,21,16,5,6,6,2,3,24,12,24,7,30,2,9,15,14,3,8,5,8,36,23,24,20,5,11,14,5,26,11,33,8,8,16,3,29,4,31,5,4,6,11,32,22,46,19,8,16,14,9,3,26,2,3,41,6,14,43,5,27,5,10,8,31,4,4,25,25,37,16,4,7,23,31,4,3,38,21,2,2,16,20,12,35,25,2,8,35,2,12,9,2,16,4,6,28,22,8,17,4,9,33,15,11,7,26,10,1,21,9,23,27,24,27,10,14,15,10,14,24,21,23,14,52,9,17,11,4,28,8,19,6,5,43,8,22,27,10,15,35,5,8,5,2,23,25,14,12,3,31,25,24,21,5,37,4,32,3,10,10,3,6,25,16,27,28,23,3,20,22,8,21,8,2,1,6,36,26,10,3,14,6,6,28,27,19,16,2,3,12,13,3,12,4,34,7,40,12,13,1,2,12,12,5,10,4,12,19,7,3,22,10,7,3,5,13,9,43,15,3,27,15,8,13,40,3,12,7,16,30,22,14,8,4,32,13,1,14,12,24,43,9,22,20,8,6,5,5,28,1,4,13,15,5,40,21,26,4,17,35,7,16,13,17,8,14,12,13,9,20,21,7,23,6,9,6,23,21,31,20,40,16,17,2,10,9,25,27,23,3,29,3,4,22,18,16,6,33,9,9,4,8,22,19,7,13,29,5,32,28,12,38,18,40,37,2,2,3,4,2,2,4,4,27,2,11,11,9,31,34,4,16,9,13,2,2,12,20,15,8,2,13,4,21,9,8,2,26,2,32,2,15,21,3,25,2,24,6,2,29,35,10,12,17,42,13,26,7,7,4,7,23,32,8,2,15,3,10,21,5,27,5,25,5,2,1,4,3,4,6,13,34,1,2,17,23,29,42,2,16,14,13,21,22,14,4,14,9,6,16,10,4,14,3,5,17,3,11,15,28,31,36,3,25,36,5,7,19,10,15,13,8,8,3,28,6,18,19,27,9,27,7,24,55,3,8,12,4,10,3,34,9,12,3,2,31,6,14,6,19,5,13,5,5,38,37,4,27,35,21,8,8,4,3,7,1,10,15,16,45,4,4,8,33,4,15,3,27,24,6,17,7,8,2,39,42,2,15,38,3,15,32,2,24,29,3,18,13,5,12,7,7,10,5,30,10,10,3,6,12,35,23,5,24,14,7,6,19,4,3,23,22,13,42,22,5,4,4,10,21,17,8,9,7,10,4,8,7,14,4,6,4,2,17,2,30,8,19,2,19,15,44,1,30,3,4,10,2,12,4,5,27,16,3,8,10,2,10,8,4,12,6,8,5,7,14,5,26,4,20,18,27,5,6,13,41,45,8,42,16,13,11,12,12,21,33,6,4,6,2,28,2,22,38,5,7,17,11,57,12,40,3,24,8,24,14,20,3,19,2,26,4,3,11,3,7,9,2,34,4,5,8,21,28,9,10,5,33,20,2,3,4,5,31,20,27,34,9,36,6,20,40,6,7,5,13,3,19,18,16,10,4,15,2,36,14,19,2,6,19,9,38,5,19,5,10,5,2,16,36,16,20,34,9,40,13,5,42,9,23,33,11,11,25,7,12,24,30,6,1,24,37,10,30,4,18,18,11,6,38,5,8,13,12,33,6,21,12,3,33,9,15,2,2,19,11,10,15,40,9,6,30,4,5,6,7,31,17,2,27,4,30,47,30,12,49,27,12,18,8,2,10,5,16,5,4,2,4,6,14,7,6,25,3,3,6,7,12,7,3,5,26,4,8,11,9,3,5,2,38,17,16,29,20,19,16,16,33,39,7,11,2,10,3,30,3,36,6,14,44,7,3,13,5,2,5,16,13,2,13,26,35,14,2,4,32,1,4,2,13,5,16,8,11,8,4,28,3,39,24,16,3,3,8,5,6,9,6,17,34,9,6,33,40,6,23,2,41,11,6,12,12,13,27,9,38,37,5,4,6,16,9,10,2,2,3,3,11,32,12,8,10,11,12,4,23,2,3,10,19,4,23,35,29,8,36,7,8,16,3,6,34,28,16,28,47,18,37,5,18,5,1,42,14,31,6,32,6,2,13,6,2,15,3,13,32,2,30,3,12,10,47,27,18,16,13,17,23,34,37,3,21,5,15,9,41,40,24,19,16,47,9,6,9,42,6,12,4,17,2,25,39,9,4,14,34,6,8,41,4,41,7,3,7,18,1,5,24,6,10,23,3,26,7,9,35,5,7,1,10,3,31,10,29,12,38,13,5,13,8,2,3,9,26,37,7,42,16,8,30,5,41,5,5,6,12,14,26,13,5,37,16,11,24,37,6,46,8,25,3,9,4,7,8,42,6,23,2,39,6,11,1,22,33,3,10,2,8,5,2,4,11,23,3,8,4,5,9,11,11,38,11,11,3,9,14,12,5,14,13,4,16,10,12,15,4,3,10,9,35,14,7,16,23,30,3,38,4,45,1,13,12,9,3,18,5,3,42,10,5,10,15,8,11,2,32,23,11,19,14,21,24,2,13,10,20,11,27,30,38,8,8,10,7,30,2,47,38,17,14,4,30,14,8,2,19,6,17,2,33,7,10,7,8,31,9,12,14,5,27,5,11,24,11,15,21,11,15,5,3,1,4,48,10,23,15,8,6,44,3,1,3,8,26,21,4,24,12,3,16,7,4,5,33,28,6,15,39,9,3,5,4,7,4,7,24,10,19,23,7,5,9,4,32,1,40,4,38,13,7,11,3,2,2,47,17,3,33,36,6,38,13,3,2,13,5,7,26,5,6,12,16,34,3,18,24,5,8,12,8,21,9,9,17,5,36,21,7,4,6,20,18,15,22,12,34,3,2,4,2,7,9,31,30,37,6,39,32,6,6,1,4,19,25,20,9,22,6,8,10,2,6,16,33,7,4,11,18,31,38,6,6,19,25,4,12,43,38,28,30,12,5,2,28,8,16,17,6,18,8,12,6,6,17,13,6,24,34,13,28,15,2,6,0,4,30,20,13,3,4,15,18,20,20,2,9,42,10,13,12,36,11,4,43,10,5,5,12,31,8,43,40,11,37,23,9,4,33,14,38,2,2,20,9,7,10,12,16,3,44,25,36,13,1,10,12,32,14,30,13,33,14,41,43,19,31,4,8,2,14,41,4,31,7,6,15,22,15,33,21,6,9,31,29,17,5,8,43,6,9,10,14,4,37,37,4,36,24,17,17,14,17,28,10,13,8,3,37,2,18,3,2,8,2,16,28,31,3,4,40,2,21,37,5,34,10,20,20,4,8,35,41,5,7,41,4,24,40,3,3,8,10,12,28,2,12,16,34,16,27,11,26,19,5,6,3,7,8,26,14,12,21,13,3,3,5,4,5,25,11,30,15,8,8,12,12,12,3,16,2,12,16,3,9,4,3,2,37,5,22,39,10,4,28,21,36,1,11,7,28,38,6,41,5,24,43,4,5,4,12,19,3,1,19,27,35,11,5,3,22,22,9,5,11,9,14,3,12,8,3,10,31,13,19,6,5,2,25,11,25,19,46,7,27,21,5,17,10,4,12,21,12,4,17,18,23,13,1,39,12,14,31,7,6,28,11,2,2,28,11,33,4,15,24,18,8,44,3,27,52,21,19,25,13,2,10,4,9,8,4,8,11,17,24,48,15,24,25,1,22,4,23,17,20,28,13,7,46,3,13,24,33,28,35,35,23,1,11,24,8,12,11,29,20,5,40,13,2,20,12,26,19,4,35,16,38,10,1,13,14,28,8,11,23,29,16,4,7,4,28,42,8,14,16,5,13,8,9,5,11,20,27,5,42,8,5,2,19,18,2,5,27,4,19,3,5,6,31,49,17,8,8,6,3,3,20,3,37,10,12,18,1,8,7,18,2,28,8,36,12,26,27,35,5,13,20,21,6,9,35,42,13,22,9,15,10,45,3,3,6,8,8,16,29,37,25,14,6,2,4,14,22,24,45,13,4,18,25,7,8,7,44,4,30,28,12,27,3,5,15,5,22,6,13,27,9,19,11,2,14,7,20,22,34,5,10,6,10,15,13,29,17,13,14,32,9,4,9,38,6,2,11,3,34,14,5,25,28,2,15,22,13,21,17,11,31,6,25,3,1,16,9,10,1,10,21,3,10,3,5,2,3,13,1,14,33,36,6,39,5,11,7,36,37,5,30,3,15,13,26,49,37,30,4,26,3,12,13,7,4,3,9,31,35,20,20,32,38,35,2,31,35,4,4,45,35,9,15,15,27,19,9,16,38,16,44,8,1,22,34,10,28,8,1,10,7,1,25,3,20,28,4,14,16,4,11,2,18,12,26,12,11,17,32,4,19,14,17,4,4,3,6,9,29,6,20,7,5,36,14,16,3,44,8,6,9,8,24,22,34,19,7,3,7,22,36,3,5,2,6,24,33,7,2,8,2,3,17,32,3,4,21,7,7,5,1,7,11,11,30,2,7,11,15,3,26,3,37,20,11,4,10,50,7,6,29,6,11,6,7,8,22,6,32,8,10,34,15,18,33,18,32,7,16,3,6,14,23,11,5,8,3,8,35,7,25,1,3,9,4,7,5,3,15,14,3,6,13,33,19,6,20,1,6,3,5,18,12,13,14,4,17,8,11,15,3,7,3,28,4,31,7,38,12,26,38,13,6,9,3,4,15,32,28,1,18,25,30,6,33,4,22,13,15,11,13,6,6,7,16,6,30,23,24,17,20,24,28,18,10,12,3,31,5,12,15,14,43,34,15,15,11,11,6,28,4,11,9,3,1,4,2,19,3,14,27,5,7,7,9,24,42,11,23,22,25,3,4,12,9,11,10,37,41,18,14,12,2,22,21,40,3,20,20,9,13,30,31,5,22,6,3,16,9,4,33,28,6,9,17,6,18,39,12,40,45,4,37,3,10,12,8,31,3,2,6,5,9,16,4,30,4,16,4,12,3,6,18,2,5,12,3,37,41,32,33,18,5,16,13,7,14,12,9,2,7,4,9,3,23,15,30,8,2,6,3,21,16,3,3,9,22,3,13,3,12,4,1,25,11,8,37,17,2,39,6,27,10,11,28,22,44,20,12,4,17,8,6,21,1,5,6,33,7,9,10,2,21,13,6,21,14,7,18,6,24,3,28,9,9,16,21,17,26,24,25,9,6,13,10,12,8,40,13,6,11,6,16,47,14,21,10,15,23,6,1,5,35,6,9,37,7,13,25,2,22,12,9,26,10,12,8,5,9,22,12,9,14,17,20,5,4,39,9,2,52,7,35,4,9,21,9,1,32,16,8,12,25,10,10,14,3,5,21,9,2,7,24,29,9,24,5,7,20,12,27,7,3,40,22,41,28,3,7,25,8,21,5,6,17,15,3,13,35,6,18,6,5,12,6,12,16,41,17,3,19,8,15,8,9,36,26,9,3,5,9,22,29,4,3,21,42,6,36,8,22,21,6,11,38,7,26,31,16,19,14,5,4,13,39,34,8,2,6,7,11,3,3,3,14,9,16,6,42,2,15,19,11,2,10,21,35,10,17,4,5,18,22,24,2,18,2,23,39,8,19,4,33,6,3,13,22,27,17,25,22,14,23,49,6,22,8,17,40,43,3,42,2,33,13,15,15,5,9,10,10,12,13,29,8,42,4,33,4,12,6,37,48,41,38,10,11,14,22,35,13,19,6,5,6,18,56,25,9,17,3,22,20,3,17,38,5,20,15,25,6,15,6,48,12,7,21,3,4,7,7,22,10,9,4,33,3,20,8,9,9,15,2,2,2,3,2,26,5,38,12,17,11,23,11,5,5,21,7,33,13,38,3,11,12,3,5,39,6,23,11,10,4,14,9,5,7,9,36,13,12,7,7,17,32,2,3,46,16,14,44,12,5,4,6,29,28,14,16,36,18,22,31,7,11,4,9,15,24,8,13,21,29,37,10,10,43,38,28,14,11,4,26,28,42,39,4,47,14,4,13,6,23,24,10,39,6,23,15,8,45,13,6,8,14,22,12,5,41,24,5,36,6,12,20,5,4,7,5,31,7,25,4,3,45,5,5,2,5,4,12,6,26,7,15,42,1,2,26,31,3,20,29,4,29,25,32,6,3,28,18,13,7,17,36,4,27,3,16,8,12,13,12,19,15,12,37,12,11,1,4,15,35,3,46,32,10,36,29,2,2,5,34,28,7,14,20,27,3,3,29,40,5,26,11,16,18,20,4,6,10,8,9,12,13,5,7,0,22,13,13,39,25,17,28,7,32,11,9,5,8,15,4,20,4,4,22,29,25,27,11,19,7,10,25,10,13,3,4,11,15,28,29,1,5,32,9,2,9,8,3,6,26,11,27,35,22,10,20,2,19,3,32,48,6,10,29,12,4,33,9,9,36,9,10,39,36,15,20,27,26,4,19,15,18,5,10,15,41,10,2,13,14,9,17,6,8,19,1,10,5,6,16,6,16,13,35,39,4,24,25,25,10,17,6,4,9,19,28,24,2,5,4,7,11,9,35,19,29,12,15,9,16,13,5,13,28,7,20,13,17,6,43,2,28,29,13,25,15,10,4,2,12,12,7,9,17,12,25,18,11,4,27,4,13,34,6,13,12,15,19,7,31,6,8,29,4,30,10,25,3,16,11,29,9,22,9,5,1,8,7,12,6,15,17,18,1,30,27,20,19,29,6,4,8,22,11,8,4,7,16,40,20,24,48,15,17,19,3,4,16,1,21,16,42,9,25,46,22,32,29,3,25,23,8,7,9,38,1,33,23,8,10,29,26,11,4,21,7,23,39,5,29,15,5,20,18,47,27,11,10,24,28,6,39,3,4,22,24,11,7,10,6,4,6,32,13,43,4,12,9,6,11,9,1,20,6,7,13,24,17,23,6,5,8,14,2,8,1,15,7,17,10,30,4,3,4,18,15,8,2,36,4,5,4,9,13,10,4,19,12,33,9,3,1,3,42,41,6,4,7,13,7,10,4,16,18,3,6,10,8,15,16,9,12,18,8,7,10,23,10,25,36,1,21,11,41,6,16,13,6,2,18,14,24,17,23,9,2,14,41,2,3,20,29,40,8,4,8,9,23,5,3,8,6,30,11,7,3,2,20,23,27,7,8,8,4,4,6,45,30,21,23,12,14,10,15,11,2,15,12,2,33,12,13,6,3,10,28,17,6,45,4,5,17,5,23,22,7,15,7,1,8,19,22,6,8,10,10,5,31,6,2,9,13,3,40,14,6,8,20,25,6,19,9,8,11,34,10,43,17,11,5,12,5,7,41,8,13,16,17,16,1,6,20,29,5,33,12,6,8,9,11,3,5,5,9,35,9,5,7,39,19,3,20,5,4,9,2,25,26,17,6,14,5,23,26,3,14,31,11,25,6,42,4,39,13,4,8,9,40,50,16,14,32,16,3,12,3,11,10,5,38,9,1,14,26,39,7,8,4,15,37,18,13,16,5,15,14,18,24,3,24,1,11,41,41,3,41,35,4,20,33,33,14,35,8,2,17,4,35,4,12,21,22,35,4,3,13,19,4,25,19,3,10,5,17,3,42,15,8,3,29,10,5,4,4,9,1,30,5,26,13,6,9,10,1,28,14,3,17,8,12,4,8,7,4,4,15,2,21,8,15,26,13,11,30,2,42,18,2,21,6,20,6,7,15,39,4,11,17,12,5,33,33,9,15,35,26,32,27,23,14,3,37,4,47,5,39,11,4,15,8,3,15,2,26,2,6,14,5,11,3,6,5,33,5,15,3,16,10,33,18,15,32,2,9,25,5,17,19,3,1,18,29,14,46,17,12,41,15,36,45,10,28,7,2,8,2,28,40,4,2,5,17,24,10,7,3,2,10,1,4,6,7,6,3,3,23,40,7,40,31,9,10,8,9,1,16,8,2,2,23,38,36,4,19,30,40,12,11,15,9,15,24,20,2,45,2,22,35,17,28,6,8,7,20,17,3,50,14,3,30,12,17,19,43,4,13,37,6,20,19,4,3,27,18,20,47,16,2,33,13,8,40,33,13,15,1,22,3,4,12,34,11,14,4,7,12,16,4,11,37,4,24,2,6,24,7,6,31,2,0,31,28,24,3,33,6,21,13,10,5,31,9,13,23,31,11,35,3,46,46,21,5,7,3,12,7,39,2,24,5,26,11,4,6,6,7,13,45,36,21,6,40,12,10,23,19,13,9,7,19,4,22,17,12,38,26,8,37,6,4,5,8,14,46,6,23,6,14,10,6,46,19,4,30,8,4,25,4,34,8,47,21,8,3,5,29,19,14,8,8,19,36,3,37,21,19,45,9,14,28,12,4,6,2,11,18,33,3,2,37,1,20,2,6,8,15,10,19,6,6,12,5,11,23,7,19,5,10,4,4,11,2,42,4,8,14,24,15,8,17,6,13,15,12,24,7,9,6,4,46,3,36,24,5,2,7,9,7,15,10,9,6,25,3,13,27,39,10,31,17,1,7,34,15,12,14,25,5,4,29,38,6,6,16,5,17,12,6,16,6,7,24,29,11,2,8,6,10,7,5,16,7,5,20,2,7,28,5,23,7,22,5,5,3,9,7,17,12,11,24,15,24,23,1,2,8,14,32,2,23,9,25,5,5,3,10,7,8,17,19,5,27,3,3,5,6,4,22,5,6,3,3,10,9,7,30,18,24,4,7,5,18,21,23,13,18,4,7,14,6,4,19,17,6,37,1,11,7,10,12,7,25,6,20,1,16,22,9,36,5,2,7,5,4,24,25,33,3,7,26,3,7,15,6,5,9,46,21,5,1,30,10,10,9,31,5,13,9,4,5,3,7,13,19,41,34,2,15,8,4,10,40,4,1,42,1,10,30,25,10,5,18,19,7,20,14,9,8,19,19,8,12,4,29,21,5,7,36,9,2,5,7,2,8,11,3,7,3,6,12,39,8,32,5,5,7,6,16,2,2,1,10,9,33,4,28,23,33,2,3,7,8,10,2,15,4,11,11,40,20,40,4,33,28,8,18,7,9,25,43,6,10,7,47,42,37,3,48,3,22,7,26,20,8,4,6,12,2,23,6,21,10,21,32,3,34,18,6,9,22,3,12,18,6,43,34,9,36,25,5,32,5,6,2,4,33,7,19,9,7,8,9,9,8,20,7,11,31,6,10,40,1,23,12,4,8,4,13,9,14,24,32,1,21,31,17,12,28,12,15,18,2,9,13,14,18,34,15,12,9,7,5,3,17,23,5,2,1,6,9,12,19,9,18,8,36,9,11,43,9,6,7,16,8,15,2,7,14,34,26,9,2,10,4,8,9,26,20,9,24,14,7,21,41,3,6,12,21,16,17,7,11,35,16,6,15,9,5,11,15,2,24,35,40,19,5,27,32,4,27,3,5,15,6,5,9,5,13,40,5,13,9,38,6,24,8,8,2,7,2,6,5,38,34,16,31,2,20,4,7,8,36,40,9,12,2,32,11,12,2,18,34,20,10,18,2,14,6,15,18,2,5,6,9,38,25,12,15,6,5,14,51,28,23,13,16,4,18,5,31,21,6,36,43,23,23,15,14,30,41,3,10,9,34,3,7,0,11,2,14,18,11,13,8,29,40,19,4,12,9,4,39,18,26,12,30,6,13,42,26,14,5,2,12,12,4,4,31,4,43,5,16,10,15,8,7,27,3,17,40,2,19,25,23,26,8,9,5,46,19,24,3,3,9,16,22,21,13,14,3,4,4,10,5,5,3,3,13,6,38,25,5,31,18,15,36,15,14,4,7,8,5,12,6,7,47,4,8,4,3,12,40,21,10,8,15,17,30,2,16,25,8,10,5,5,15,1,15,3,7,4,5,5,3,10,8,22,27,7,12,25,10,7,7,2,31,5,40,30,27,4,6,36,1,41,17,45,14,4,19,21,30,1,29,40,9,6,3,43,8,23,5,35,3,13,16,8,11,8,24,4,13,12,21,4,26,14,6,5,23,26,5,14,17,25,26,28,5,18,24,6,11,13,2,14,2,14,16,21,21,2,8,17,4,25,34,13,34,7,31,17,34,29,7,4,20,23,18,49,1,8,50,2,3,26,4,12,11,21,6,13,12,5,6,27,14,5,30,20,35,19,2,5,22,11,8,16,16,20,15,7,32,8,31,31,16,26,11,32,7,15,39,12,17,39,12,48,33,15,16,8,7,15,22,33,17,8,17,5,7,25,16,8,5,10,20,2,14,8,38,20,6,24,9,7,3,12,4,5,20,3,11,34,2,13,35,13,4,35,5,5,12,4,5,26,12,4,45,4,6,28,3,6,21,8,4,20,12,10,4,7,23,17,10,8,7,27,26,11,2,4,2,8,18,17,34,7,9,12,4,7,35,33,4,41,27,6,3,2,6,2,35,21,6,30,18,13,3,2,10,8,3,3,4,13,19,19,4,29,30,7,4,24,32,4,12,42,18,40,3,11,13,8,6,34,2,2,5,23,8,7,5,4,2,19,6,8,2,3,6,3,43,8,1,18,2,6,13,14,4,3,20,38,11,3,4,17,42,1,33,18,11,7,9,34,26,36,28,13,15,24,11,19,5,32,25,27,40,20,30,12,15,9,6,9,7,10,8,7,8,6,4,18,18,7,4,7,1,25,13,14,19,16,13,25,2,33,35,38,24,17,21,3,6,2,39,10,3,14,7,31,26,5,23,11,10,8,13,21,7,2,5,21,7,9,38,25,37,3,2,9,37,2,19,12,6,40,3,19,20,3,11,3,35,8,25,8,17,15,2,11,11,7,27,13,4,3,21,3,26,4,3,8,10,20,37,10,7,2,9,3,7,2,27,20,14,23,9,9,2,3,3,5,8,7,9,30,17,47,3,15,6,3,13,34,1,4,19,10,4,32,15,13,19,5,6,7,7,21,16,3,32,7,2,14,9,5,5,37,19,23,26,20,51,31,3,36,2,25,24,19,5,13,34,7,8,25,1,2,26,17,9,2,3,26,2,5,22,13,1,15,6,8,39,11,7,14,26,12,5,10,34,14,6,9,10,11,2,18,9,13,43,35,27,7,8,14,9,11,17,46,6,14,5,53,18,14,30,3,20,7,6,4,25,10,5,8,41,28,3,24,3,2,34,9,10,10,14,19,49,1,15,8,1,24,11,32,12,9,46,6,8,10,24,8,4,6,1,12,7,2,2,8,3,12,8,9,7,7,13,10,18,4,47,6,41,42,14,26,40,38,27,7,6,11,13,25,5,45,32,9,32,4,3,20,34,3,2,5,2,32,14,24,2,20,3,7,7,43,5,13,6,36,1,3,2,10,4,17,40,6,5,21,46,36,7,3,13,19,10,2,16,4,9,3,7,34,10,10,2,12,41,12,2,9,6,19,6,26,13,20,16,3,45,36,3,5,11,9,27,14,19,3,4,21,4,37,9,24,23,3,7,9,6,6,12,8,12,5,6,21,27,5,5,39,31,14,6,18,14,5,12,5,7,4,4,14,22,42,6,20,23,20,25,10,8,9,6,13,5,24,10,31,7,8,37,18,3,7,24,13,17,18,22,21,15,8,6,26,10,11,10,24,10,31,18,11,2,12,28,18,5,6,10,14,5,1,6,20,9,3,5,8,18,14,3,11,27,39,9,7,22,6,8,4,8,36,9,41,19,4,21,3,6,3,6,42,21,8,10,25,14,17,8,10,18,2,5,26,6,11,7,3,4,13,10,32,6,6,19,18,24,12,18,43,44,8,2,22,6,5,3,4,5,4,15,5,3,9,14,11,19,10,39,15,17,28,5,7,4,5,11,3,20,4,13,2,24,14,53,16,6,8,33,7,20,23,8,5,5,13,34,29,10,4,7,16,21,7,10,19,11,36,1,31,5,13,7,8,18,1,33,40,35,40,3,30,12,5,32,15,14,2,25,25,29,8,2,13,38,24,24,4,25,4,24,18,24,11,25,5,4,6,6,23,45,9,14,17,23,4,16,16,23,20,18,7,4,14,6,29,6,40,13,17,8,35,5,11,28,5,4,4,31,18,8,4,9,11,18,34,36,14,47,48,20,12,10,9,5,44,4,18,3,8,6,6,26,6,16,37,17,14,8,17,6,13,21,8,5,24,4,25,21,36,2,10,1,3,18,5,33,9,2,33,29,7,13,9,30,18,36,19,18,26,43,11,36,48,11,2,5,17,2,18,4,14,3,12,11,2,46,18,3,33,9,19,15,36,7,3,5,1,6,7,5,18,6,22,12,13,44,15,38,5,5,29,8,33,2,7,5,19,26,28,4,6,30,24,7,26,12,47,8,18,35,3,24,4,19,9,22,3,18,6,39,8,4,47,21,35,5,22,9,17,18,16,4,7,13,7,7,26,32,3,4,27,8,12,3,7,19,9,9,23,31,9,10,3,12,28,22,2,25,15,10,14,9,19,16,4,4,6,10,10,2,11,4,3,22,4,8,14,5,22,2,32,54,8,38,29,29,11,5,7,9,11,6,5,14,36,21,4,3,8,9,12,2,6,44,38,40,13,5,20,5,41,6,6,29,46,14,3,26,2,22,8,3,27,2,13,6,15,3,22,23,6,6,13,14,19,21,16,21,39,5,2,10,35,8,1,40,4,5,21,19,9,32,14,43,5,5,7,22,4,7,10,19,6,14,25,6,10,17,3,31,1,14,33,18,3,9,31,8,30,11,8,8,15,3,8,8,4,41,9,18,8,38,23,40,33,2,12,8,2,4,2,17,29,4,4,21,22,6,15,15,4,12,26,9,11,19,4,11,6,14,5,47,41,14,16,21,17,5,28,35,16,21,29,6,2,4,2,2,5,4,9,9,20,1,2,17,16,8,21,5,15,7,38,8,34,47,7,5,43,26,15,27,41,3,4,16,7,2,49,13,21,20,3,6,7,8,7,11,2,10,45,41,21,3,23,18,4,3,17,18,6,23,5,9,9,11,1,10,20,34,20,40,11,1,2,14,29,6,21,24,5,25,24,9,38,9,25,22,10,2,4,9,28,5,6,8,18,17,7,12,21,12,19,12,10,25,3,7,13,17,43,22,8,16,6,8,5,4,4,6,4,27,6,2,9,12,17,28,17,8,40,3,16,7,8,35,6,36,3,3,15,17,23,10,26,3,9,10,22,23,3,28,5,2,43,2,11,4,25,4,2,30,12,15,19,8,3,15,5,32,3,14,12,3,2,2,2,3,18,8,32,16,5,8,13,1,8,2,35,16,15,21,6,3,10,52,18,12,25,6,46,18,9,5,23,10,17,20,5,3,3,36,11,37,7,6,5,8,3,5,6,15,15,16,39,4,5,3,13,7,6,36,26,6,36,3,24,38,5,2,28,6,11,43,11,21,3,11,4,12,3,8,5,39,16,7,11,10,11,15,3,8,21,9,6,13,8,11,20,5,30,7,22,16,26,14,4,10,2,19,4,17,23,15,12,9,8,6,16,12,6,29,9,8,1,22,13,17,7,26,35,40,10,11,20,36,6,3,9,28,4,24,16,7,40,19,16,11,21,8,8,39,1,15,6,4,14,11,12,1,15,3,18,3,33,3,7,2,6,9,2,4,5,2,26,46,12,33,25,11,4,8,1,5,7,32,7,30,26,19,5,7,3,10,3,27,11,4,2,4,41,26,38,3,4,6,11,35,46,37,3,9,4,35,31,6,10,4,4,25,2,37,4,2,4,8,12,9,6,2,4,6,28,14,31,8,4,12,5,4,14,14,8,9,17,9,3,7,11,3,26,7,28,38,11,3,10,5,12,8,8,15,1,10,20,7,33,21,52,21,16,3,29,8,22,4,33,19,32,4,3,13,43,3,14,5,11,27,5,3,19,5,2,8,16,6,25,30,23,14,14,30,5,6,19,8,6,31,15,7,14,35,3,21,16,32,2,24,8,7,21,6,6,37,4,3,9,13,7,3,4,20,11,6,43,41,5,2,4,13,7,31,12,15,11,1,20,7,5,6,10,20,9,12,4,4,15,35,18,7,27,2,10,5,3,13,3,9,8,5,39,15,25,30,7,4,16,18,18,11,7,16,16,4,29,6,7,2,12,10,7,26,7,22,9,10,9,5,4,23,17,3,5,15,5,27,13,45,16,31,7,6,18,20,2,12,11,11,2,7,6,19,21,35,19,5,4,1,4,7,8,32,16,16,4,8,12,5,12,46,2,3,9,12,14,19,12,15,6,4,27,2,31,8,4,21,6,26,14,4,7,26,4,48,3,10,6,12,4,3,16,9,17,5,9,8,4,11,14,5,40,29,10,8,16,6,50,13,8,21,19,3,3,43,3,42,18,3,49,9,7,36,26,5,11,50,18,45,32,15,31,4,31,6,14,35,5,17,6,15,13,28,37,3,15,5,20,24,4,13,13,16,14,16,8,1,8,4,9,18,3,38,9,15,29,9,16,14,13,16,10,15,7,6,31,35,39,11,33,7,3,4,29,21,5,7,15,4,9,4,11,11,8,31,33,5,36,5,32,33,5,28,40,22,1,19,7,6,27,2,6,11,7,5,10,8,46,10,5,8,40,5,16,12,37,43,5,42,4,8,33,5,38,41,30,8,16,4,42,4,25,6,9,3,6,30,7,12,7,40,3,30,5,15,28,26,5,5,6,37,37,29,12,16,20,7,13,38,10,24,40,3,12,2,40,3,24,6,16,8,40,2,21,20,19,2,20,3,3,11,7,12,3,6,6,21,2,18,13,33,5,11,4,10,16,9,13,26,6,23,18,12,16,15,4,4,14,21,22,20,4,5,14,12,7,10,12,15,10,7,5,22,14,3,2,30,4,15,10,6,20,5,12,11,26,3,5,2,10,36,4,6,27,8,19,25,41,1,17,29,5,3,7,24,11,21,7,4,16,11,37,2,12,8,2,22,12,11,2,12,8,9,7,3,20,16,21,12,12,7,4,20,22,14,40,6,7,42,28,8,6,21,28,5,52,16,16,23,42,6,8,4,20,12,17,32,16,42,35,7,9,43,15,6,21,39,4,3,34,17,33,33,12,11,9,19,24,8,28,5,2,9,16,4,2,15,29,25,41,10,5,5,24,9,7,14,7,2,4,15,10,24,14,8,32,9,32,3,10,17,10,4,4,7,16,13,11,14,2,10,14,20,35,20,32,26,11,3,14,20,14,5,14,12,11,4,4,5,12,2,3,11,9,2,5,4,9,1,14,32,25,23,4,3,22,42,20,3,31,1,7,30,37,25,26,15,30,10,2,3,23,11,8,33,22,4,4,6,30,33,5,5,4,25,9,25,4,6,26,10,27,7,24,11,13,4,23,4,48,11,3,44,20,6,29,8,30,3,16,15,18,16,23,31,7,24,22,4,11,4,7,14,16,5,13,15,11,18,20,1,33,13,17,9,12,9,10,17,3,2,5,8,36,5,13,10,7,7,1,15,31,29,22,7,4,16,16,20,11,40,2,27,24,16,14,16,23,27,1,27,2,9,8,4,24,1,13,4,9,26,27,4,33,25,19,52,28,16,16,21,41,9,6,21,19,26,14,8,24,6,2,16,6,28,5,2,15,28,11,2,11,12,8,5,5,4,8,29,4,4,7,10,3,54,31,19,1,7,24,38,12,27,20,7,10,11,13,47,35,36,40,3,25,5,15,33,17,26,9,19,8,8,7,6,10,19,17,11,3,4,3,11,22,20,35,16,2,5,40,9,19,5,28,26,10,7,27,42,4,15,11,8,3,23,7,7,8,14,9,26,2,6,14,4,14,29,21,20,22,6,42,10,20,9,4,34,14,8,9,5,23,5,22,27,3,18,8,8,9,3,11,32,3,7,27,46,39,3,3,9,27,38,5,31,4,5,2,18,20,10,3,8,15,26,2,5,20,12,2,3,38,3,18,2,25,37,4,6,35,6,5,7,27,15,4,41,4,9,20,38,11,48,13,2,3,7,13,15,36,12,42,5,33,34,25,32,10,4,7,4,3,31,13,3,18,42,4,2,11,2,7,39,2,16,24,30,46,21,3,21,6,2,20,4,41,15,35,23,26,39,17,22,7,17,7,24,22,6,4,4,37,12,9,18,10,31,17,21,10,2,4,2,28,5,19,1,2,27,16,8,30,34,1,5,10,2,13,3,8,4,11,9,4,32,31,24,21,25,35,2,34,14,7,11,15,38,2,16,23,5,41,2,2,5,25,5,17,2,29,36,14,13,30,11,20,9,9,6,44,3,13,9,2,28,8,2,19,11,31,2,41,52,13,1,8,8,2,18,4,5,6,3,6,17,9,4,9,12,9,6,9,19,13,31,11,14,4,3,12,21,10,37,5,15,23,16,2,8,7,2,9,29,8,5,3,11,3,19,20,11,16,11,6,3,6,33,2,9,2,26,22,5,6,31,28,9,28,9,5,15,18,24,44,15,11,18,7,11,14,19,4,19,27,28,7,5,12,1,16,48,29,35,13,5,6,14,2,7,8,33,3,17,1,17,9,3,26,3,6,4,15,4,3,3,5,37,7,21,37,6,15,10,21,37,28,4,2,19,13,11,14,6,3,34,34,2,16,22,4,16,10,18,16,30,9,1,10,6,9,1,48,24,7,31,5,18,17,12,14,5,6,9,30,26,7,11,23,3,6,38,4,5,6,21,16,23,28,2,19,16,27,8,11,44,6,11,13,14,38,25,10,8,28,4,17,2,38,9,13,5,15,19,30,8,5,31,6,3,35,3,7,4,15,5,23,5,9,40,7,5,11,3,14,38,9,7,21,6,25,7,37,16,30,24,6,7,14,6,11,4,1,11,20,16,2,3,10,1,8,18,12,13,44,26,6,13,35,14,6,24,3,17,5,6,7,5,4,24,11,12,14,5,35,7,26,3,11,1,11,20,29,10,5,18,3,23,3,36,29,28,3,2,16,29,9,4,17,56,16,38,4,15,2,3,5,6,4,7,19,8,42,29,3,3,41,39,1,16,2,8,7,3,13,2,7,4,28,23,13,15,25,8,5,6,3,16,19,3,5,7,6,7,4,12,39,32,7,26,13,3,17,12,26,24,29,15,9,7,5,2,19,4,31,4,30,5,3,18,5,9,6,10,37,49,28,31,3,36,13,3,9,31,5,38,33,32,4,4,5,11,19,7,5,25,5,6,16,6,28,5,16,40,4,1,25,17,11,6,17,9,3,13,15,2,13,3,11,17,3,14,6,9,30,23,7,4,6,34,7,6,8,16,4,21,18,10,13,30,25,9,11,2,20,7,4,30,22,19,2,30,6,5,50,9,11,8,4,21,35,24,20,4,21,17,3,11,5,11,5,13,14,3,33,1,6,26,9,4,1,6,4,10,8,40,8,3,11,2,30,32,30,14,10,2,21,15,6,8,35,1,13,37,7,8,6,6,16,2,4,9,45,5,6,25,3,23,44,12,4,10,21,25,35,13,3,23,7,11,29,15,26,15,2,22,12,10,6,23,5,17,6,1,18,14,7,8,3,19,14,12,35,14,15,5,32,30,17,4,6,9,3,16,14,11,13,6,32,5,6,11,3,30,4,27,48,19,36,48,8,12,1,32,10,27,23,43,5,7,41,4,45,26,5,28,5,12,4,10,19,32,27,11,17,17,4,25,6,22,3,7,17,5,6,6,16,7,9,8,21,11,7,3,30,26,18,5,7,38,7,5,20,24,33,14,10,22,1,3,1,6,7,12,32,5,20,7,4,26,12,40,19,29,28,6,20,2,16,7,3,9,7,2,8,34,2,7,33,6,25,16,39,17,10,16,24,3,7,20,9,5,17,4,7,32,9,25,9,2,4,13,45,26,9,3,2,20,6,4,5,21,7,18,9,10,19,18,4,3,10,8,12,19,8,40,2,6,2,4,37,13,30,15,7,6,8,33,33,23,9,3,26,39,16,2,20,15,15,5,9,16,6,13,17,4,17,19,3,14,6,2,41,5,4,25,14,11,5,18,32,4,3,12,3,19,4,15,10,5,9,3,3,13,8,5,12,6,3,10,8,4,10,19,3,3,16,3,5,8,38,4,30,13,7,4,6,3,13,9,27,6,29,37,13,41,15,29,40,2,6,4,40,23,5,5,48,35,26,5,11,3,21,8,34,3,4,9,8,19,2,16,3,14,5,6,45,26,14,13,15,23,2,23,55,13,6,3,4,15,37,5,20,25,3,26,3,6,18,34,3,8,2,14,12,22,38,26,11,4,6,7,8,4,34,14,25,11,20,1,7,3,3,15,14,13,11,9,3,31,23,44,9,8,1,13,28,9,25,7,9,18,3,26,37,6,5,19,25,8,31,13,19,4,3,13,25,9,7,18,5,4,5,14,7,12,5,34,22,12,17,33,8,4,18,7,3,13,6,11,3,3,2,6,18,11,32,20,11,16,31,10,4,9,8,10,16,3,5,9,2,2,1,10,3,4,24,4,13,4,4,19,5,8,14,40,6,27,22,12,21,3,30,11,7,10,29,10,4,6,17,28,10,13,8,6,11,7,38,3,9,18,7,21,37,34,5,11,5,4,10,3,23,11,4,2,11,12,6,6,3,9,9,7,6,14,19,31,3,7,43,16,37,21,4,11,16,16,21,11,4,3,34,12,21,32,14,22,28,1,34,4,6,9,7,15,4,15,14,32,7,11,15,9,20,7,1,20,20,17,8,9,4,34,31,11,3,2,43,5,12,11,14,10,14,5,43,7,19,4,14,9,10,7,41,15,4,3,2,4,22,7,10,7,22,5,4,8,5,23,1,8,40,7,23,1,6,15,33,40,43,3,6,5,6,3,34,28,3,14,19,28,18,4,3,42,18,42,9,8,5,13,7,4,5,4,9,14,16,6,21,26,12,16,5,36,4,4,27,9,7,41,25,38,10,12,9,7,11,20,44,37,6,12,18,8,4,15,5,2,11,11,8,6,26,8,25,6,3,17,28,25,19,3,5,36,7,5,4,4,4,21,24,29,52,25,17,35,24,28,4,35,19,12,21,10,4,50,26,7,1,6,31,49,3,8,27,24,9,15,6,15,10,28,32,15,38,11,2,3,1,8,5,17,3,18,32,4,16,14,22,3,18,17,10,16,7,7,3,12,12,14,2,28,15,6,17,6,21,19,11,5,12,16,20,4,8,9,8,6,27,5,4,5,16,2,10,17,26,21,42,27,19,43,17,4,6,15,16,1,4,18,30,42,24,42,7,9,35,27,2,7,25,6,2,18,9,14,20,7,11,18,10,30,19,3,7,6,2,6,31,5,4,10,11,8,33,4,20,3,3,18,41,4,24,6,5,8,4,11,3,3,5,4,6,26,3,16,3,1,17,43,7,12,7,21,40,19,2,19,7,12,10,4,12,9,9,9,24,8,23,14,22,20,43,13,19,7,6,19,5,3,8,14,13,3,3,14,43,10,6,37,28,3,7,6,4,8,26,24,16,26,8,2,19,30,11,5,29,5,8,18,8,32,38,12,6,8,35,26,3,15,10,49,4,5,5,6,6,33,7,5,18,10,14,13,5,18,3,9,21,5,1,13,28,5,3,4,2,15,20,44,3,12,3,16,4,8,16,3,12,23,11,11,12,9,23,20,19,5,10,12,15,5,10,8,13,16,13,25,13,6,37,45,3,21,3,26,7,26,10,4,1,20,31,6,17,25,11,2,2,41,33,15,31,9,2,17,15,1,4,5,14,3,4,26,10,2,6,3,3,13,28,34,3,40,14,5,5,10,16,5,6,4,16,45,30,14,14,6,14,23,5,26,17,23,8,2,12,7,9,2,10,1,3,8,15,18,4,27,4,10,6,3,47,7,15,4,5,14,21,26,14,22,26,29,9,12,4,4,18,18,19,8,10,5,38,7,28,19,16,20,5,41,21,5,3,8,8,39,11,15,3,11,6,4,4,15,3,11,7,18,9,36,35,23,16,5,14,11,8,23,10,18,20,24,25,3,3,28,4,3,14,9,26,18,5,10,23,7,37,5,30,30,5,5,8,11,38,13,6,23,10,3,12,5,2,8,6,31,24,2,5,23,19,26,9,11,6,4,5,14,15,12,24,7,3,36,4,3,34,8,1,2,39,20,4,6,2,4,5,4,2,35,3,9,3,32,31,6,13,47,25,4,4,15,4,10,16,18,13,1,12,21,27,42,8,18,3,12,26,24,6,13,35,15,8,39,23,12,21,44,35,16,28,6,33,20,3,18,27,33,1,44,8,23,4,4,8,7,7,32,12,26,2,14,9,8,40,7,30,31,39,5,5,21,18,2,20,7,4,8,18,22,3,3,6,12,6,16,4,4,43,12,12,2,25,2,7,20,3,15,20,29,2,8,10,11,5,12,15,19,26,13,2,35,4,9,30,39,2,5,33,15,14,31,16,4,13,5,19,13,17,10,16,21,17,28,4,20,1,9,48,10,37,19,11,13,4,18,13,22,16,3,17,13,7,22,12,20,5,14,25,53,7,33,13,2,8,28,22,5,23,11,1,17,5,11,6,11,21,21,3,2,8,18,15,21,13,23,15,6,12,13,29,6,15,23,6,15,21,5,22,10,6,3,5,13,7,42,13,2,3,44,3,47,19,40,40,13,19,8,10,12,13,6,6,6,2,6,15,8,10,4,51,10,5,5,6,13,8,7,3,7,27,7,16,6,39,28,20,11,4,1,4,2,14,13,3,25,41,6,11,2,3,4,10,21,4,18,3,23,21,6,46,10,28,17,10,9,11,5,14,6,7,27,11,2,5,33,8,9,2,9,3,34,29,11,11,3,3,5,29,8,12,4,6,30,2,33,13,8,11,7,23,16,2,5,14,9,30,39,20,17,17,40,23,23,13,15,9,3,21,4,7,15,23,6,6,25,20,26,4,9,18,33,18,9,12,14,17,4,3,8,51,7,15,7,12,31,44,21,18,10,28,37,4,12,30,6,3,30,13,21,27,15,35,20,3,6,9,14,34,28,7,39,38,23,21,13,3,4,4,29,2,13,8,31,3,19,17,5,15,6,5,6,5,8,40,4,4,15,4,37,5,3,4,13,3,20,11,3,16,7,29,15,19,26,53,8,15,7,9,16,23,2,3,29,22,41,7,16,9,44,6,6,11,14,5,40,10,4,35,13,8,3,2,3,32,34,5,20,16,14,5,16,2,23,9,27,7,13,10,15,15,18,7,7,8,19,19,12,7,10,7,38,7,9,1,4,46,3,4,4,27,3,16,6,9,5,11,5,6,5,5,25,10,1,12,11,7,22,8,29,4,2,37,5,7,4,9,20,9,13,42,45,3,8,27,17,3,4,13,20,23,39,5,3,3,6,4,11,1,23,25,11,31,4,21,12,15,3,15,1,9,3,6,6,5,10,9,1,6,14,12,3,16,27,24,16,3,4,27,36,10,25,4,5,8,8,5,31,12,16,10,21,9,3,10,2,6,19,7,6,15,38,7,15,23,7,3,23,37,18,9,20,24,5,1,12,5,4,13,30,14,13,5,24,15,2,31,10,1,10,16,10,5,16,15,6,4,27,4,8,10,6,29,6,13,32,10,12,22,1,7,5,24,11,7,20,3,6,15,5,18,4,28,2,17,1,40,3,46,12,5,10,29,13,8,13,10,17,23,25,9,17,15,7,11,4,8,7,24,12,7,15,4,22,6,45,15,24,22,11,11,4,3,2,12,8,37,3,10,14,18,2,11,3,25,9,5,3,10,24,5,14,15,2,4,10,26,3,5,5,6,4,4,4,8,5,26,5,12,16,7,12,14,4,9,36,10,4,12,10,14,3,32,16,17,11,33,3,15,3,19,21,31,3,1,13,33,11,4,23,48,6,8,12,14,33,3,6,45,12,30,29,7,8,31,5,3,8,9,18,7,13,3,9,3,29,6,6,9,39,6,9,13,4,4,25,7,37,30,24,10,5,13,26,7,32,3,5,8,3,29,4,23,46,42,26,19,26,8,36,17,4,19,13,49,17,3,30,13,4,2,22,12,3,26,46,18,7,5,12,14,4,5,4,13,6,13,14,37,3,18,7,4,4,16,22,4,17,29,5,3,17,33,27,5,8,8,7,9,5,15,28,1,32,1,6,41,4,14,10,10,9,4,8,24,1,9,35,40,31,8,4,27,22,26,28,14,13,23,9,18,12,16,5,41,31,17,4,5,9,3,7,11,6,37,14,14,19,9,14,5,26,4,12,3,2,3,2,10,29,12,7,11,8,21,5,38,5,12,1,19,4,3,13,14,28,12,13,15,4,4,5,48,6,35,31,26,2,26,6,2,14,18,7,38,3,5,3,3,21,9,4,6,7,12,17,9,22,4,1,12,13,17,28,6,19,8,5,24,15,6,21,8,8,12,35,3,31,4,41,3,5,4,7,16,5,39,20,3,36,10,3,11,30,28,3,12,45,4,4,2,4,18,6,5,4,10,43,27,6,8,48,44,3,14,3,3,5,15,10,7,15,29,7,21,6,5,7,10,3,39,40,2,13,1,15,5,5,6,45,2,11,5,1,13,10,34,2,9,28,6,22,6,3,8,2,36,29,5,21,3,9,35,11,12,26,20,4,8,24,2,18,14,5,1,24,35,1,16,11,1,13,7,30,2,14,21,10,7,2,5,27,8,3,17,11,18,39,21,21,19,12,13,16,26,3,13,27,23,8,4,13,19,25,8,2,29,7,8,36,19,4,32,28,28,14,36,12,11,12,14,12,4,17,24,28,27,22,29,3,28,20,4,10,38,17,46,18,33,33,9,49,3,21,18,12,30,10,2,9,4,8,12,43,7,9,33,16,12,23,10,5,6,4,5,6,24,7,12,38,15,4,24,7,6,3,8,29,8,20,1,12,5,2,19,2,2,7,4,3,3,26,13,2,9,7,25,18,9,15,16,9,3,18,11,23,27,4,9,14,2,2,14,41,28,17,2,25,35,22,3,32,13,1,45,20,37,18,12,11,10,12,13,27,10,11,5,17,4,15,32,20,5,5,25,7,6,24,11,26,37,5,11,3,9,8,21,24,11,3,3,7,6,17,17,21,2,41,5,6,28,3,3,1,4,3,13,24,2,9,1,31,37,4,27,21,16,15,9,17,5,33,5,14,5,12,11,7,29,7,13,14,4,30,45,7,27,4,21,40,15,3,14,42,4,23,10,19,2,6,9,3,20,11,12,17,30,21,15,11,32,19,18,8,22,12,3,40,25,4,14,14,2,9,7,5,23,2,2,25,10,7,9,8,23,15,37,20,23,8,17,37,16,32,7,14,21,35,24,17,7,40,6,4,15,33,15,2,19,6,11,11,2,32,11,20,29,36,8,10,51,17,14,17,27,30,8,7,7,26,10,24,17,9,4,4,37,12,23,5,23,23,15,13,37,30,6,11,43,4,2,19,13,15,8,6,5,11,12,10,2,12,7,3,22,24,16,15,6,7,7,4,9,21,16,38,21,17,42,24,7,9,21,5,39,21,21,13,5,24,7,6,6,18,7,6,17,9,7,2,27,8,1,5,9,37,7,46,10,4,13,30,42,3,11,4,7,31,4,14,42,18,20,22,10,12,32,2,26,4,8,9,6,31,5,49,15,6,4,6,33,9,24,5,19,3,7,15,4,8,20,1,7,10,5,8,7,28,9,11,6,34,3,17,20,7,20,4,11,4,24,2,33,7,2,25,16,14,4,12,2,17,7,36,8,4,14,7,29,2,17,31,32,31,5,3,18,30,4,41,4,3,45,8,12,7,1,28,9,9,10,8,26,17,2,6,12,10,21,7,25,11,42,4,10,11,5,22,26,13,6,9,12,5,12,14,33,6,37,4,8,16,34,7,29,14,5,32,3,47,3,7,6,5,13,26,7,4,30,4,10,7,22,5,11,32,6,14,4,6,6,32,6,6,2,8,38,19,2,7,38,2,5,3,11,7,9,1,7,15,20,7,27,18,1,20,32,29,23,12,2,24,26,4,30,23,13,20,18,18,21,11,30,4,11,5,16,21,18,16,33,11,6,9,33,29,6,7,11,7,39,32,22,3,1,24,30,4,42,7,34,6,7,9,7,12,9,21,3,18,3,6,4,8,14,9,29,10,6,4,6,2,16,33,5,1,6,3,20,32,37,18,6,6,9,9,7,24,4,29,5,9,20,16,16,9,12,4,16,18,21,13,6,19,4,26,2,24,6,15,12,4,9,43,14,1,5,6,8,5,25,19,46,37,35,46,26,26,4,31,17,8,9,38,7,6,19,4,9,8,5,14,12,9,21,3,13,3,4,6,6,14,15,26,4,8,9,34,9,25,5,4,17,3,5,16,13,6,25,27,6,7,5,7,43,40,27,8,13,21,38,11,11,4,38,2,16,9,34,7,23,21,13,9,17,36,15,27,22,17,9,5,14,13,25,14,16,6,10,46,14,6,7,5,21,42,8,36,5,18,10,6,33,3,22,11,14,4,4,38,3,17,14,31,3,3,17,7,2,5,28,2,24,8,28,7,22,1,36,41,8,36,9,22,19,14,32,44,2,9,2,16,2,23,45,34,10,12,7,35,24,6,4,11,3,23,31,11,10,8,23,26,20,19,20,2,17,7,14,2,25,4,9,4,33,16,6,39,10,3,4,6,38,1,32,17,9,3,4,7,13,35,13,11,5,29,10,22,35,2,7,7,7,28,11,8,3,5,2,26,12,23,18,4,3,3,3,6,5,3,21,8,4,11,52,5,7,2,9,6,15,25,12,12,18,47,31,31,6,15,9,6,46,9,2,7,10,45,5,17,4,8,5,1,30,9,15,10,6,5,5,8,9,8,28,9,2,23,9,31,40,7,5,12,48,13,8,2,8,27,19,9,10,24,8,4,5,8,17,5,21,6,1,21,1,7,8,1,23,16,24,8,14,9,21,16,19,18,2,3,9,2,34,41,16,39,5,8,15,18,7,13,7,16,25,3,13,10,12,17,17,21,14,7,3,33,38,18,32,4,7,21,14,20,22,9,14,30,30,6,25,38,27,7,19,7,33,4,5,22,20,10,10,6,11,9,20,9,14,21,11,4,23,29,40,29,47,13,5,7,2,11,13,9,5,15,3,42,4,7,24,16,10,17,41,34,3,41,30,8,12,36,7,30,24,11,1,6,26,2,43,10,36,8,3,4,3,2,24,15,28,2,5,11,34,30,14,2,26,6,4,44,8,9,6,15,43,27,19,5,10,9,8,23,4,27,2,5,7,4,4,30,4,5,40,22,6,42,44,10,8,30,9,4,3,38,31,17,23,5,41,34,5,40,31,16,5,8,3,14,14,1,3,16,38,19,22,2,4,6,26,27,24,9,14,8,7,6,16,22,9,13,7,16,4,19,13,5,2,12,36,10,10,21,4,28,10,22,2,23,13,4,19,14,38,16,10,22,4,27,11,6,8,2,21,25,10,12,9,8,4,37,21,5,6,30,2,22,29,7,2,49,9,22,13,14,20,5,4,6,22,3,16,25,1,30,16,13,21,16,3,9,11,9,22,32,14,36,39,12,23,11,4,11,21,4,23,10,11,7,12,2,19,12,6,28,3,6,1,28,18,7,17,33,16,10,12,5,3,31,9,2,20,11,18,4,6,3,8,24,4,8,4,7,3,2,22,2,42,22,7,16,36,41,3,6,15,12,19,8,8,13,5,19,22,4,20,10,20,2,13,7,5,1,2,9,6,23,31,22,7,42,19,20,15,11,6,26,2,31,29,2,16,8,12,13,14,20,44,12,2,42,9,19,2,5,15,22,4,7,46,5,3,7,19,6,5,13,23,16,6,17,11,8,3,4,26,10,10,19,4,9,28,6,3,11,13,10,6,10,13,7,4,6,9,23,6,19,8,9,6,9,9,4,38,5,14,5,28,14,12,4,21,4,14,6,12,7,24,2,9,19,13,22,8,36,3,40,15,22,11,2,23,10,9,13,5,27,39,5,16,17,10,14,6,24,10,17,31,2,15,4,11,7,20,7,26,2,10,28,27,4,32,18,32,4,3,8,9,6,28,35,5,20,14,10,29,2,7,2,36,10,5,21,5,28,39,29,20,14,11,3,11,32,26,9,6,42,4,12,18,18,4,27,3,4,10,19,23,10,9,12,18,8,48,13,4,19,34,7,41,2,39,9,9,15,26,10,3,11,7,3,22,35,7,21,8,25,35,46,14,13,19,9,50,11,4,3,4,3,21,7,5,7,11,34,18,55,20,18,8,4,4,8,26,6,5,24,4,7,24,7,24,4,14,20,5,3,24,3,16,5,15,25,6,28,11,10,5,15,3,2,16,16,6,4,18,17,18,19,36,25,25,4,9,5,42,38,3,5,40,15,6,18,2,7,18,4,40,3,12,10,27,32,4,2,19,11,36,30,15,10,28,7,21,8,35,8,7,6,7,19,8,10,23,3,3,48,4,7,30,7,1,32,2,7,20,35,31,15,18,6,6,15,11,4,8,35,2,14,28,31,2,11,33,28,8,43,7,5,4,14,2,5,7,10,49,12,12,16,30,3,3,14,12,3,10,6,11,19,7,41,28,2,31,8,4,10,1,7,5,15,21,22,2,16,8,10,10,23,14,9,35,14,26,22,1,9,26,3,29,33,48,24,24,40,3,5,22,32,6,5,32,21,24,14,49,7,7,13,9,9,7,5,14,7,4,26,3,23,10,10,9,11,44,7,19,2,11,4,30,3,15,10,9,19,35,21,13,18,30,4,24,39,10,2,7,27,12,9,5,8,9,12,34,9,3,2,31,8,3,13,21,16,12,2,3,36,29,41,31,10,14,2,1,4,15,8,29,3,7,9,3,40,16,19,40,4,31,10,14,1,1,5,1,7,36,7,26,7,26,6,7,43,8,22,33,11,12,5,12,9,11,5,8,6,12,7,25,24,9,6,12,3,4,33,7,15,21,11,3,3,12,23,17,19,8,2,14,3,4,11,17,13,18,1,39,4,9,4,5,6,5,7,12,33,17,13,9,11,35,6,15,5,11,3,28,10,16,9,42,8,7,34,9,19,20,19,41,3,49,10,8,33,6,8,35,16,6,8,17,5,9,27,9,34,20,11,6,28,2,38,3,17,34,4,6,21,23,8,8,5,8,45,5,24,18,4,29,35,3,3,19,6,20,6,5,9,7,15,3,26,20,2,5,5,45,2,10,21,12,26,9,7,25,15,23,14,19,14,1,19,3,15,5,2,12,12,25,12,19,7,8,2,9,11,15,11,9,10,23,5,17,3,1,18,7,6,6,5,2,9,37,7,23,29,6,6,2,29,23,23,7,43,4,14,9,4,34,26,4,9,18,20,5,21,10,15,28,3,2,30,6,2,1,14,23,32,7,9,16,12,10,15,23,8,22,12,14,16,12,8,20,7,8,6,4,11,5,10,22,20,3,12,6,9,21,19,11,3,7,19,11,1,10,4,20,19,32,1,3,26,7,7,6,7,15,3,24,24,5,16,25,22,4,3,4,17,10,42,22,37,5,10,17,5,38,13,27,15,23,39,11,6,9,21,32,32,11,5,33,9,18,28,29,35,22,7,36,12,4,22,16,9,13,3,11,11,20,4,12,3,9,2,3,5,8,3,19,20,42,13,5,19,2,8,43,17,9,36,3,16,22,36,39,3,6,5,26,7,6,4,3,8,2,6,6,44,7,7,14,24,33,16,5,13,4,6,7,23,9,5,27,33,2,10,25,34,3,11,11,17,26,6,14,7,9,4,20,15,25,32,2,10,4,12,19,23,4,15,5,15,4,2,7,4,45,11,10,6,3,9,7,1,14,14,11,14,5,8,4,4,2,34,3,0,16,7,36,45,7,22,6,3,22,15,19,20,2,9,17,6,2,16,23,9,41,19,7,4,10,28,4,6,8,3,35,42,17,9,11,7,37,18,22,37,29,2,3,28,10,26,12,40,23,37,7,9,8,4,8,3,22,2,14,4,8,7,15,3,2,6,4,24,8,44,16,7,6,33,8,14,25,16,2,18,17,32,30,4,15,12,39,2,23,34,9,4,6,5,35,2,22,12,15,35,3,2,4,36,9,29,6,36,2,14,13,1,3,5,2,13,10,38,13,16,4,5,34,35,39,13,37,9,27,22,9,31,7,9,4,14,17,4,16,10,9,32,15,42,6,17,12,4,4,5,9,22,47,4,4,5,18,27,2,44,11,4,13,19,38,36,2,12,13,17,14,9,35,10,35,38,10,10,7,2,36,8,8,10,4,6,19,6,3,3,34,11,13,1,9,6,21,9,4,4,22,29,9,3,19,24,5,12,6,30,2,36,3,17,12,3,26,4,4,8,24,7,22,40,11,9,26,14,3,29,10,16,43,4,6,11,6,11,12,2,3,13,26,17,2,1,4,7,25,9,40,24,2,13,29,12,8,3,3,29,19,4,45,15,21,11,4,30,5,7,22,16,9,32,23,7,14,22,5,4,26,4,13,4,14,16,9,6,3,16,11,3,35,7,42,5,6,3,6,24,28,40,34,1,6,20,20,15,6,5,24,33,12,7,3,14,2,9,6,11,44,6,5,7,11,32,6,20,13,9,2,13,5,8,12,30,5,8,15,27,22,9,37,7,9,5,40,4,36,7,11,11,10,25,15,8,38,26,18,13,3,5,14,7,12,27,16,27,9,33,28,22,4,14,17,23,37,21,19,5,14,27,8,3,15,5,44,24,3,9,17,4,9,4,4,11,16,3,15,25,30,4,29,1,19,5,6,25,15,3,10,23,43,38,18,7,18,11,4,18,16,4,11,14,15,15,8,3,8,27,10,9,2,15,4,32,14,15,18,3,8,15,29,2,2,20,25,4,4,32,3,2,5,3,21,23,32,13,24,25,32,8,15,15,4,6,33,4,6,13,2,11,12,9,31,17,7,3,3,9,14,44,14,10,6,5,1,9,14,11,11,14,9,10,7,41,37,15,32,9,9,33,7,8,23,6,36,27,42,32,6,16,9,27,35,12,17,6,17,12,14,18,22,37,3,36,5,3,11,5,15,21,14,15,11,10,10,1,7,21,9,20,4,18,3,7,18,12,7,7,31,16,22,39,28,21,30,11,11,16,2,8,1,4,17,6,2,11,30,13,2,4,18,15,5,34,7,4,26,35,3,24,16,5,11,6,16,9,10,10,12,25,6,12,26,23,18,15,14,33,19,18,2,2,3,20,10,4,6,5,1,18,10,5,4,9,12,9,7,37,10,15,5,40,8,35,2,11,18,4,16,26,27,22,4,13,29,7,26,22,5,40,3,10,7,13,5,22,23,38,1,7,2,1,13,11,25,19,26,17,38,3,7,8,18,4,13,5,2,12,13,8,9,6,7,12,5,3,8,13,24,8,37,2,2,10,25,4,22,15,16,25,43,10,11,27,18,4,2,11,2,4,7,22,5,3,5,45,10,8,2,22,13,10,8,4,22,6,6,23,8,29,31,9,4,6,11,4,44,6,15,13,24,19,9,14,33,7,12,12,8,1,8,6,31,28,6,8,41,10,32,45,7,7,3,31,26,9,11,12,23,4,37,18,12,3,7,11,4,36,33,12,4,7,18,13,27,3,6,14,6,5,13,4,11,4,6,5,6,3,25,8,10,16,12,10,17,7,4,22,7,29,15,7,3,15,24,32,22,8,31,14,28,2,20,12,20,6,8,16,30,2,7,1,36,29,3,21,17,3,36,23,6,32,15,22,24,7,8,20,6,3,2,25,30,8,5,9,23,5,20,10,32,16,4,2,34,12,37,11,9,14,16,40,24,35,8,3,9,4,25,16,7,21,7,9,6,14,10,9,22,14,12,4,23,6,9,3,6,4,23,2,3,7,3,10,15,5,7,31,43,2,19,2,37,3,25,5,3,10,32,43,5,9,9,22,17,14,9,2,9,7,30,23,26,31,23,3,3,23,3,2,12,31,21,32,21,11,43,12,4,20,2,12,4,2,19,25,20,17,2,34,18,31,1,34,7,30,19,10,7,19,4,3,25,4,31,5,18,35,8,2,31,23,9,8,13,38,13,3,16,18,14,13,3,23,6,5,5,20,11,24,3,19,3,9,5,20,14,41,28,8,4,9,6,46,8,33,11,17,5,3,20,18,6,6,7,14,28,21,9,12,27,17,4,40,7,21,27,4,22,4,13,9,30,8,5,25,19,6,4,18,28,3,21,6,13,6,17,34,3,23,3,14,8,6,23,44,2,13,2,34,20,19,31,8,6,14,20,17,1,30,13,4,17,17,4,28,6,6,26,40,4,7,10,27,5,37,9,31,12,6,2,35,13,26,7,29,16,16,2,18,44,2,5,32,11,6,10,6,16,6,25,30,6,1,3,14,19,39,1,28,9,29,18,8,23,3,13,20,9,8,19,23,6,10,3,9,1,44,1,3,19,11,55,10,11,3,27,22,22,41,16,7,20,10,3,13,19,18,4,9,39,8,21,9,18,2,15,24,36,25,17,17,20,10,35,11,9,8,12,19,39,10,16,16,12,18,24,4,3,2,29,2,23,11,11,22,1,3,34,31,21,12,9,22,19,9,24,3,6,14,8,40,8,10,7,10,4,47,1,6,5,21,3,9,25,22,31,21,40,3,2,8,11,38,14,5,4,30,31,9,29,5,13,42,18,18,6,2,7,23,10,3,32,14,28,11,4,1,37,43,12,11,3,28,5,31,4,40,2,5,3,22,10,5,3,31,15,9,3,5,7,8,19,45,8,9,10,2,35,5,17,30,3,10,8,39,10,3,13,6,11,7,49,7,18,5,4,15,15,5,18,12,6,7,3,2,42,24,7,4,29,22,22,37,3,11,19,2,12,10,35,9,31,8,10,4,16,8,14,10,32,10,20,19,28,49,8,4,29,4,3,12,34,21,9,17,16,7,15,21,7,5,9,20,11,20,35,19,8,5,27,20,4,2,43,42,5,31,4,7,21,15,17,7,6,5,22,5,16,15,17,1,11,29,4,38,11,2,8,12,22,29,25,26,6,12,3,22,22,22,28,12,7,9,4,10,28,11,18,14,3,2,8,5,17,36,12,9,14,4,2,8,25,20,12,10,36,4,8,12,46,22,3,17,30,10,25,5,17,11,1,10,9,19,3,9,20,26,2,17,5,8,11,21,2,5,7,24,5,23,24,37,38,6,20,5,3,28,2,2,10,15,3,11,16,18,29,31,22,9,22,6,41,6,3,34,6,2,17,15,30,6,3,21,8,19,23,6,6,27,14,27,6,28,11,38,8,17,10,5,22,7,9,4,11,7,5,3,11,15,14,35,3,12,22,41,4,12,3,23,43,4,9,5,10,40,40,9,40,4,18,2,11,28,25,5,22,2,32,6,3,13,18,4,37,27,3,7,2,7,15,2,35,8,13,17,43,14,15,9,9,5,23,7,6,35,2,3,46,6,3,4,7,23,5,20,28,24,32,3,24,3,3,39,5,3,7,43,25,16,4,2,15,17,15,2,11,7,35,11,32,2,16,5,5,8,3,9,12,8,9,14,4,42,8,15,9,7,2,20,11,15,2,45,5,8,5,1,35,46,1,14,4,5,35,2,22,30,7,7,6,14,15,35,2,25,16,16,31,4,5,50,6,10,8,7,9,24,5,24,4,6,5,5,10,24,13,3,15,25,6,4,10,21,27,5,33,16,15,15,24,11,11,7,1,40,4,21,4,6,20,9,35,16,17,9,2,32,9,5,36,8,8,1,12,7,27,13,11,20,3,18,3,30,8,6,8,3,3,3,10,19,16,30,8,18,7,11,9,10,5,7,14,10,6,8,41,9,4,4,17,38,4,33,26,28,11,2,8,14,25,8,6,45,4,11,20,29,27,10,8,22,22,26,31,7,29,27,8,8,7,19,5,30,9,8,4,16,23,13,4,4,4,13,8,34,16,2,16,33,9,18,5,33,26,17,1,5,8,27,7,6,1,27,12,46,18,12,4,11,19,17,12,8,15,14,8,10,5,7,4,31,13,19,8,11,16,9,13,6,24,3,5,6,6,6,29,2,33,3,18,1,5,13,17,2,19,7,13,13,7,6,8,7,4,34,5,21,6,12,5,9,7,40,4,5,6,6,10,18,15,18,7,6,15,10,2,37,16,21,4,8,1,3,25,2,18,2,10,13,11,7,16,4,31,2,4,14,40,6,24,3,4,39,20,22,36,4,13,39,44,2,9,1,8,21,11,5,7,44,19,42,9,7,14,12,22,5,17,18,35,10,21,4,7,25,3,33,31,13,9,36,12,23,4,14,2,51,2,17,28,14,23,33,11,3,5,21,32,4,12,20,15,8,10,7,8,26,19,10,9,11,4,19,3,12,1,12,33,3,7,6,19,5,40,4,6,18,27,42,40,17,1,3,33,4,20,26,3,9,8,3,4,8,5,25,19,7,42,13,13,26,48,30,35,11,23,4,10,9,7,14,7,10,30,17,12,6,4,4,23,48,21,37,12,6,18,11,5,3,10,13,5,1,33,36,10,2,13,12,4,32,2,3,3,41,7,9,10,2,34,19,25,7,3,25,35,5,9,21,22,22,10,7,38,42,6,21,7,9,17,8,4,18,40,7,2,7,15,3,9,14,10,17,36,45,16,45,10,4,2,23,5,7,18,6,13,6,4,27,3,32,5,3,14,7,2,5,4,26,3,6,8,40,32,14,9,28,19,17,36,7,42,5,2,36,37,22,10,1,4,29,18,3,23,9,3,11,4,23,4,9,23,26,11,6,7,3,4,27,5,10,25,5,1,1,34,18,6,20,40,7,24,4,6,6,2,32,11,4,10,8,3,9,2,7,11,5,14,5,4,12,32,11,47,9,4,21,12,20,3,14,6,6,5,23,4,33,17,3,30,37,5,4,7,13,42,10,13,8,38,6,30,3,17,10,7,13,2,11,5,34,4,28,3,1,3,25,19,20,7,27,10,14,40,15,13,5,3,10,17,22,2,7,3,11,2,2,15,17,38,11,23,24,35,3,26,23,2,13,7,1,9,3,6,37,45,11,4,17,17,29,8,10,9,16,14,13,1,14,18,15,33,27,4,43,7,13,10,9,38,4,42,2,19,15,15,3,19,7,2,6,9,6,6,15,6,5,11,11,12,11,40,2,6,5,9,24,15,8,3,2,17,3,5,3,27,5,3,19,4,4,15,2,8,18,10,51,7,37,2,6,41,5,28,8,9,7,6,5,2,14,31,8,21,4,1,27,5,21,6,3,14,1,3,3,1,31,2,11,26,5,13,9,7,8,3,14,14,13,9,3,5,8,6,8,21,3,26,24,5,3,12,9,20,2,5,17,25,9,19,39,5,4,2,39,14,2,36,31,14,2,30,9,20,14,21,6,15,33,11,30,1,2,25,4,9,22,20,28,4,9,2,15,33,3,47,11,4,27,5,6,11,8,8,2,19,24,29,6,22,14,26,4,15,9,2,5,4,24,23,27,10,19,16,2,32,8,22,2,14,19,15,10,13,5,17,15,26,35,13,2,4,36,7,5,34,5,28,2,15,3,24,25,5,4,9,3,4,8,17,31,13,8,29,3,1,26,35,8,19,14,18,3,1,15,45,13,10,6,15,17,4,31,32,28,16,2,9,14,26,10,8,14,5,18,25,49,6,9,15,10,3,24,16,15,8,3,29,33,7,10,3,6,13,3,33,13,17,10,6,7,3,28,2,4,18,8,6,5,8,2,4,31,27,4,5,35,3,4,11,5,5,9,26,19,3,11,24,33,5,4,11,2,8,5,17,20,4,11,7,3,32,12,2,13,28,15,2,5,26,7,40,32,29,30,31,41,38,5,4,41,7,4,21,12,12,2,7,32,11,3,17,13,44,13,15,27,5,30,5,4,8,6,3,5,4,7,16,48,1,14,21,7,4,10,2,14,10,5,8,34,3,19,5,7,16,28,10,8,20,5,4,19,13,35,40,2,8,31,3,3,4,19,3,2,18,3,32,15,5,32,18,17,4,5,15,13,5,19,5,27,7,28,17,16,24,26,12,28,23,10,21,7,15,33,44,26,17,29,33,2,14,22,8,7,8,30,14,14,14,3,3,3,18,3,2,8,5,2,12,10,8,2,38,48,15,15,11,34,36,3,5,4,49,9,22,15,23,15,25,11,6,23,27,44,12,8,3,40,14,6,24,5,6,12,26,14,10,7,5,2,3,15,38,10,24,6,5,9,39,6,2,19,14,6,23,15,3,12,2,11,33,8,33,3,11,4,21,17,17,2,3,22,23,27,4,23,36,3,4,41,30,18,10,7,1,13,9,19,24,36,8,6,5,4,11,25,8,11,8,7,15,18,5,19,16,2,43,5,5,10,33,7,15,17,7,10,11,4,27,6,13,5,49,11,2,21,3,2,27,17,6,1,12,5,6,12,1,7,8,26,3,2,12,16,5,22,32,31,28,24,26,3,2,12,20,23,3,12,28,14,15,9,8,5,21,11,21,8,7,1,22,2,32,20,5,14,21,10,10,10,20,7,8,9,17,12,8,11,12,7,8,6,17,12,6,3,40,1,5,24,9,20,4,17,13,10,6,7,3,38,16,2,30,12,24,4,11,7,9,24,7,38,21,3,2,16,21,10,48,23,14,17,15,4,13,8,29,12,2,6,9,20,26,2,2,4,10,21,29,4,11,7,32,6,8,6,24,7,24,35,7,8,34,4,12,23,7,3,5,29,41,13,18,29,6,21,9,22,44,16,18,2,37,11,28,21,3,23,10,22,22,7,11,9,13,36,7,7,3,2,7,4,37,36,9,30,2,6,7,17,15,20,6,3,11,13,11,34,9,16,47,3,38,9,47,45,15,25,6,4,24,9,2,32,14,5,6,3,2,16,8,2,23,15,3,27,19,2,21,13,38,6,4,22,10,22,26,9,1,14,43,35,14,2,2,8,13,19,26,6,13,3,20,5,4,37,8,37,13,8,13,2,3,8,3,8,18,6,45,9,16,5,9,44,4,13,17,7,11,32,47,21,6,3,19,3,16,22,3,30,17,2,6,19,7,6,31,29,5,13,7,4,47,25,43,24,6,9,47,11,1,26,23,19,38,6,21,32,39,9,20,4,41,18,10,7,2,4,8,7,25,2,23,22,4,46,8,21,39,5,4,10,7,2,30,20,8,1,8,12,5,8,7,16,10,6,4,26,12,7,3,12,8,8,15,2,2,9,7,23,17,11,5,9,23,2,44,5,5,2,23,43,10,3,11,2,17,5,22,10,13,13,18,3,6,17,1,3,31,10,16,11,35,16,7,3,14,20,8,4,2,4,14,5,8,4,9,16,6,4,27,36,29,5,29,12,5,8,1,12,8,13,4,49,17,11,14,8,2,9,33,17,36,24,19,34,14,17,7,14,7,18,6,26,2,12,32,6,11,7,16,7,16,37,4,12,5,21,4,9,17,13,8,37,11,6,1,3,40,16,2,2,1,29,45,23,38,3,8,13,3,13,36,8,13,10,8,12,4,25,9,15,14,9,20,6,13,8,7,17,2,3,24,13,9,7,3,20,4,14,30,22,10,29,42,13,32,41,3,35,16,10,10,4,45,46,10,8,6,3,3,6,5,24,9,10,41,28,39,31,3,7,3,13,29,4,17,42,5,3,4,4,21,27,15,14,3,21,7,8,15,3,2,37,33,4,24,25,8,16,2,8,10,14,9,11,6,42,9,6,27,5,39,5,10,1,3,24,32,35,13,15,16,6,36,7,10,4,16,3,3,8,27,46,7,3,23,8,37,8,8,2,20,4,33,35,24,3,12,3,8,5,29,25,32,6,35,2,5,6,6,9,17,4,8,30,17,18,29,6,12,8,24,2,4,30,34,5,3,19,3,2,25,6,47,10,6,23,22,25,6,4,41,13,5,8,2,5,16,2,5,10,5,4,36,15,39,22,5,20,3,23,25,15,4,30,10,14,25,3,8,29,20,30,30,3,2,1,33,9,6,10,5,31,10,46,2,10,11,9,39,25,2,1,7,6,2,29,14,40,9,5,6,46,2,38,6,4,10,4,8,2,10,11,16,3,29,16,22,7,5,6,8,4,9,3,9,26,1,3,6,31,9,8,25,10,42,7,11,3,5,3,44,14,2,17,17,18,42,21,15,31,22,4,33,10,22,25,30,4,1,13,15,3,20,31,45,2,5,12,20,42,4,28,4,40,1,3,7,21,41,26,14,24,44,16,4,4,3,31,32,17,19,16,4,31,1,4,6,3,11,26,3,1,2,8,6,15,6,46,9,9,24,31,5,42,42,8,10,28,8,3,18,23,11,25,3,33,7,19,34,6,7,30,12,2,10,4,41,14,23,29,52,6,7,11,24,6,36,24,24,38,11,2,33,34,5,7,22,39,12,4,22,22,19,15,40,34,45,8,9,42,38,24,4,5,19,2,3,9,2,35,11,15,14,7,4,6,17,11,15,12,20,3,3,33,33,10,19,27,19,18,15,16,33,10,7,16,18,19,8,36,12,11,2,2,22,2,3,5,12,12,23,21,7,9,43,11,7,27,9,8,10,7,10,7,11,53,13,16,32,9,46,5,9,9,5,24,3,27,32,37,15,31,4,17,9,5,25,13,7,3,6,4,28,14,12,40,11,18,8,16,32,9,21,5,6,34,3,31,31,40,7,13,16,16,8,17,9,38,4,41,3,4,34,18,12,14,8,7,2,18,4,8,18,4,21,43,36,7,31,19,35,20,9,11,32,3,2,20,7,3,1,1,8,6,5,15,24,6,4,7,5,2,26,6,10,11,23,24,9,5,7,8,29,7,23,6,10,22,42,10,33,5,4,21,4,19,10,30,1,5,8,19,27,16,8,3,12,10,1,40,24,45,27,17,17,10,12,24,2,36,30,5,6,9,7,9,14,7,32,8,29,5,34,3,2,26,2,19,25,4,6,9,38,11,15,3,43,3,2,8,4,2,26,20,7,39,12,17,5,3,4,4,35,4,6,45,24,25,4,18,46,17,22,10,34,5,7,5,6,8,36,8,18,8,17,4,27,1,23,4,17,13,46,15,13,21,14,44,19,6,13,2,19,47,34,21,9,8,16,4,16,2,4,7,11,8,28,18,3,36,2,28,26,31,20,29,26,5,6,30,6,9,3,5,11,4,4,11,2,4,15,14,3,7,24,8,32,27,38,23,12,32,7,20,29,2,22,4,10,8,13,2,27,6,9,10,18,19,15,3,11,10,8,5,14,10,28,4,20,39,19,4,25,5,8,25,17,2,5,20,25,13,3,5,11,13,34,9,21,8,6,5,50,39,2,22,24,5,2,27,12,8,23,4,2,3,46,7,10,7,4,17,31,6,12,12,4,17,41,12,5,2,34,6,6,21,6,4,9,4,5,34,4,1,19,26,15,7,16,37,20,8,18,3,14,13,6,25,8,36,8,19,3,2,30,21,9,7,7,3,17,4,28,26,10,11,16,39,3,22,6,8,1,8,19,7,5,30,38,19,32,19,38,10,1,29,39,8,33,2,12,15,7,8,9,4,29,15,3,4,8,8,8,5,1,7,6,37,5,5,2,2,23,13,25,6,28,4,3,37,18,6,30,3,21,17,2,16,21,6,41,16,36,10,23,10,12,4,24,21,12,27,8,20,39,20,12,17,3,9,32,6,32,19,29,4,4,15,13,6,7,15,4,15,24,9,17,5,31,6,10,30,14,3,1,7,16,3,46,8,5,23,10,17,20,3,9,8,13,12,12,19,5,7,23,8,17,35,2,14,11,20,31,10,3,11,13,11,15,31,6,25,6,26,33,14,11,3,31,43,17,41,9,20,19,18,5,41,4,12,33,6,5,30,32,31,10,6,11,3,27,6,6,12,21,7,29,7,5,16,9,22,9,4,6,23,29,8,22,6,7,43,13,3,2,15,3,16,5,15,10,13,7,8,3,10,10,6,7,25,2,18,3,14,12,22,4,9,7,51,5,5,3,3,4,2,23,34,3,11,12,15,11,18,31,11,12,25,8,2,11,22,19,3,7,12,3,14,32,10,21,3,30,33,5,40,1,2,15,8,2,13,4,7,10,17,3,8,5,6,8,8,5,15,5,3,7,16,16,5,22,2,4,4,8,29,2,10,33,24,17,18,18,14,7,7,35,3,27,8,7,17,6,27,6,9,23,30,5,4,50,9,9,10,45,24,20,31,16,17,9,14,5,9,17,35,25,2,32,3,27,14,34,5,10,3,21,9,8,7,11,9,22,6,14,8,3,16,14,5,13,5,31,8,3,5,18,42,8,32,5,7,29,30,5,27,3,6,34,4,23,4,19,4,7,29,5,7,10,2,14,6,6,16,25,11,10,7,6,4,2,1,6,28,7,38,13,33,12,31,33,3,33,13,23,14,28,24,14,3,11,40,11,34,9,47,34,21,26,12,9,9,34,4,27,16,7,22,2,24,37,12,36,7,2,4,13,9,5,3,14,2,13,28,5,34,15,28,8,3,18,14,4,4,4,4,25,35,20,3,5,21,10,25,26,8,3,44,9,19,10,9,18,12,28,32,4,41,11,11,15,25,18,9,5,29,18,35,12,4,3,14,20,10,1,1,7,12,4,26,14,6,7,2,13,7,19,4,21,27,32,14,3,6,26,2,10,2,20,37,31,5,23,29,6,7,33,5,14,8,33,17,6,1,2,27,3,1,7,3,5,3,13,8,1,7,10,14,29,3,3,11,16,6,8,6,4,33,20,7,24,9,16,15,3,17,11,4,3,27,33,7,7,1,11,4,42,19,16,21,9,6,6,5,5,21,30,6,2,4,14,1,9,2,36,4,5,4,2,40,14,16,7,9,33,3,12,7,4,2,3,7,2,40,5,20,6,6,20,17,39,2,1,8,17,11,5,22,10,9,9,5,4,18,18,8,21,29,20,22,22,39,39,26,27,10,13,10,15,6,39,8,36,43,26,20,20,33,8,15,15,5,43,34,3,25,11,5,13,26,12,9,6,10,43,18,1,8,16,9,8,20,24,26,5,7,22,24,19,35,6,8,3,15,13,40,36,1,4,33,17,16,18,3,5,10,5,40,7,27,35,26,21,4,13,5,23,41,5,2,8,13,10,3,33,43,35,8,6,6,4,15,7,8,5,16,38,5,9,2,5,13,11,37,3,3,11,34,10,4,28,35,5,24,19,4,15,10,21,6,11,10,12,19,6,6,12,2,16,16,1,18,12,7,24,27,6,23,6,4,8,3,14,4,30,19,6,6,10,9,5,36,19,3,18,9,15,26,7,5,19,7,35,12,19,7,5,11,11,34,7,13,2,38,39,37,28,11,30,36,4,5,18,32,7,30,6,16,11,4,14,3,2,21,6,5,9,31,8,2,6,44,12,3,10,16,9,7,16,1,3,11,40,20,35,15,7,7,21,23,16,21,17,23,17,3,7,27,35,3,1,21,30,18,20,5,11,17,11,9,9,12,20,23,6,12,5,38,3,7,1,13,11,4,28,15,8,2,31,26,26,26,18,24,39,17,3,24,7,14,34,21,12,3,3,5,5,22,4,10,15,7,3,41,14,36,26,34,22,35,6,14,8,17,7,29,34,14,27,14,41,24,25,9,13,16,4,2,21,16,5,1,7,5,2,35,26,27,32,2,23,15,4,34,5,17,21,10,1,11,6,6,27,6,9,11,11,5,26,17,5,5,34,6,21,3,8,4,4,7,18,35,4,3,15,5,30,43,6,9,8,2,14,24,8,10,12,7,18,27,2,4,5,26,17,49,2,4,8,30,20,14,7,8,10,12,5,5,22,37,10,9,23,8,15,5,12,11,6,3,6,46,18,3,6,33,8,13,8,7,19,13,12,14,3,3,6,6,33,7,2,15,18,9,6,7,18,31,1,19,3,5,14,9,5,12,3,13,2,8,12,15,7,29,30,15,18,8,16,41,9,8,16,16,26,48,14,11,5,3,15,9,9,3,6,17,11,7,13,5,9,13,6,2,3,8,18,10,5,10,11,10,5,4,5,30,8,9,27,1,9,9,3,8,36,18,2,15,33,49,4,11,7,37,8,15,22,3,4,4,15,19,30,7,22,12,17,2,17,2,23,35,9,41,4,9,24,23,5,6,3,20,29,12,20,27,43,11,33,15,18,4,12,11,15,3,38,7,29,7,2,7,6,8,5,4,25,12,29,11,12,5,10,29,12,6,28,6,18,3,41,27,6,17,34,1,40,16,2,3,32,7,19,28,6,4,5,4,4,21,6,7,40,31,7,10,21,3,23,8,26,4,7,13,1,6,15,2,14,32,5,33,2,2,3,10,33,3,7,8,9,14,19,6,35,15,16,48,2,34,32,7,4,5,18,2,2,3,20,23,13,20,45,8,6,10,43,28,20,10,9,9,23,12,7,41,39,2,6,15,17,17,11,23,23,9,23,17,7,23,22,33,30,4,3,7,14,1,1,19,6,17,4,39,18,11,15,1,20,11,2,5,8,10,10,13,34,13,7,7,18,43,24,26,12,16,20,21,6,18,14,24,28,24,2,4,23,18,11,7,8,5,23,12,34,10,3,15,2,6,30,34,17,11,16,26,10,46,9,25,5,10,6,43,33,13,39,27,20,23,18,19,11,14,6,23,14,4,5,20,8,3,21,24,14,12,16,7,7,8,21,4,17,18,13,6,7,6,2,36,27,1,23,12,10,28,2,12,23,31,8,9,5,2,3,6,4,12,16,3,2,20,15,2,9,33,30,15,17,10,12,25,7,21,15,4,13,28,17,14,2,2,5,1,12,6,9,19,40,6,7,9,9,21,5,7,25,26,38,27,4,4,23,12,34,10,17,28,22,24,38,12,10,5,17,5,22,7,8,8,12,11,36,29,16,19,7,11,11,22,7,2,7,23,16,10,3,31,5,15,15,5,18,5,13,6,4,8,4,7,12,16,28,6,23,15,8,8,19,10,49,4,3,2,40,11,7,6,11,18,18,10,3,12,3,8,3,34,17,38,8,24,13,30,12,18,27,7,10,11,39,9,29,38,31,8,14,6,7,32,19,6,2,15,18,3,7,11,6,3,38,30,16,12,12,7,2,11,3,33,18,7,21,4,2,5,1,16,29,3,11,20,19,46,22,12,35,33,40,23,5,5,4,11,21,5,10,19,3,4,13,3,22,39,17,11,3,6,4,5,11,4,9,16,4,38,9,4,23,9,18,13,10,8,41,20,11,5,33,7,11,10,6,12,7,18,5,2,38,10,4,30,22,19,5,11,7,18,4,29,4,30,11,9,8,4,33,9,4,36,1,33,55,7,44,7,22,7,46,12,31,17,8,14,14,2,12,20,3,4,22,5,22,4,35,12,15,7,9,12,15,5,37,14,8,16,25,5,30,28,23,33,20,9,9,12,1,2,37,9,13,3,3,17,17,12,3,21,4,12,16,10,3,6,10,5,15,7,53,15,5,28,34,39,4,15,6,25,13,22,38,3,42,42,13,3,10,22,12,20,17,3,13,6,4,2,7,42,11,7,4,9,6,38,13,3,6,33,18,5,4,17,29,10,38,14,3,9,7,20,21,14,10,4,16,3,5,2,18,7,3,14,6,36,14,8,5,4,9,20,2,5,26,7,3,12,2,12,22,15,7,6,7,19,3,16,12,9,10,10,4,16,23,2,43,28,42,24,41,26,6,19,22,50,12,24,41,10,7,11,22,2,25,20,7,12,23,27,12,40,10,10,3,6,36,11,1,4,13,15,5,30,1,8,11,11,36,5,2,28,32,33,4,3,10,6,7,5,23,32,17,13,7,26,8,22,16,3,9,24,22,16,6,6,6,21,21,44,3,39,16,11,3,8,31,4,13,6,7,11,6,8,9,35,17,4,30,11,17,5,12,24,7,6,12,41,7,1,39,14,38,35,3,16,6,29,8,7,7,16,2,41,9,14,3,4,10,5,9,4,11,8,7,40,10,12,25,24,30,33,6,5,18,5,15,2,3,8,18,11,5,32,38,2,6,19,6,8,3,3,3,5,20,4,6,9,13,26,5,21,13,20,16,1,44,15,10,2,28,7,3,16,4,9,19,11,36,15,15,7,1,8,6,10,17,10,15,4,9,17,36,14,22,6,4,21,5,4,26,17,10,31,9,3,13,14,2,5,7,15,38,12,2,26,41,7,34,14,17,26,45,4,7,4,13,10,3,3,19,7,33,35,12,30,2,16,38,19,28,11,1,6,6,2,43,5,9,15,11,11,6,27,4,26,7,17,15,5,13,41,15,20,19,14,29,8,11,45,37,3,1,32,13,14,34,9,7,12,6,39,11,13,24,21,22,17,30,15,12,10,23,17,29,3,26,15,33,13,5,7,6,5,6,21,24,21,3,16,18,3,3,6,42,20,2,8,11,8,22,12,38,3,16,44,15,38,19,30,8,3,9,5,2,18,18,8,25,4,7,21,6,28,3,1,13,29,33,4,10,31,18,6,33,8,0,19,7,5,27,7,20,19,35,5,11,45,14,16,24,40,10,47,9,27,14,16,9,7,26,13,9,23,2,21,39,15,4,9,9,9,4,1,29,9,13,36,20,12,11,7,10,23,4,29,13,36,21,8,8,37,10,37,4,8,11,25,7,37,9,10,26,2,3,38,10,21,7,2,6,8,35,6,7,18,12,47,12,21,5,33,43,34,13,29,5,30,12,7,18,18,9,7,4,2,21,4,30,5,43,38,13,7,44,4,18,7,41,40,5,8,7,20,6,5,29,9,43,7,30,27,14,7,10,19,39,9,8,15,17,16,7,4,4,6,12,3,42,4,18,11,12,35,1,7,35,36,8,1,41,22,12,6,13,35,25,18,2,4,8,19,22,34,12,4,17,4,4,33,27,18,15,11,6,21,15,26,7,32,17,2,5,14,29,3,19,7,4,7,11,11,15,4,14,6,4,20,12,6,14,31,4,22,13,5,28,9,21,43,26,6,29,6,26,9,6,7,13,17,8,17,19,22,18,5,27,13,28,17,21,32,2,20,28,8,6,27,6,14,25,19,5,12,1,20,7,11,1,25,4,13,32,37,6,10,5,11,17,13,9,3,24,34,14,16,5,23,3,0,20,13,6,24,14,4,18,24,15,9,13,20,5,33,23,8,27,29,11,41,15,13,18,12,12,6,35,1,9,4,4,1,3,7,24,19,10,8,4,13,21,6,4,3,1,15,18,4,31,4,14,2,9,5,7,9,8,15,25,31,15,6,3,22,2,8,11,6,30,6,24,16,15,3,11,23,15,3,19,18,10,37,11,6,4,14,27,4,9,27,8,31,44,7,4,8,54,22,4,10,8,7,26,2,9,4,22,33,3,4,10,3,25,6,13,5,14,7,22,40,5,16,13,12,45,4,10,27,10,32,3,3,6,44,8,20,33,26,2,11,14,3,13,41,7,31,7,24,15,1,4,5,18,5,10,6,29,41,9,12,46,6,4,3,19,2,38,6,27,4,17,14,3,30,6,11,23,4,6,11,16,3,44,45,8,36,10,15,5,8,33,2,14,22,2,2,42,11,26,2,42,8,27,4,10,4,31,3,6,12,28,10,34,13,6,9,31,32,12,13,18,6,3,6,4,10,7,2,21,38,29,22,6,21,8,33,5,45,18,19,12,27,16,12,23,3,5,11,17,13,6,8,3,6,8,18,13,20,6,10,7,18,10,29,24,18,2,5,9,1,44,5,4,12,18,32,30,12,4,8,2,1,31,11,14,11,44,8,14,6,6,24,4,7,2,2,8,5,5,27,9,26,5,32,7,5,30,22,15,3,5,11,10,13,2,44,5,13,31,12,2,5,4,6,17,12,41,7,10,17,17,11,37,6,12,15,2,2,6,27,5,42,41,36,3,7,5,8,26,8,9,19,2,14,18,3,11,29,38,10,8,4,4,5,15,6,5,5,3,17,8,13,41,12,11,12,16,6,4,15,14,10,5,45,6,2,3,11,47,7,5,24,12,17,32,13,4,4,2,10,9,36,19,3,11,22,7,34,41,3,2,14,2,12,37,29,23,12,5,1,24,5,2,38,8,24,5,20,31,8,26,28,30,7,7,22,13,7,10,7,5,2,15,33,6,6,48,5,9,27,4,15,6,11,5,24,2,2,7,24,5,25,9,3,12,2,44,1,15,21,18,15,20,7,1,4,12,2,3,14,10,7,1,12,27,10,30,6,27,40,5,5,28,2,38,20,8,6,4,35,19,12,13,22,8,26,3,18,12,4,8,10,28,16,5,15,7,15,14,34,31,24,6,4,31,21,7,6,5,49,12,11,5,5,10,45,28,18,11,16,6,12,4,5,13,13,8,8,23,44,3,29,20,36,15,8,3,31,20,37,17,11,31,7,40,6,41,3,34,16,7,6,17,21,5,26,8,7,3,29,13,6,4,43,37,23,9,11,2,10,31,10,9,6,14,41,30,32,22,17,16,4,9,36,10,31,9,11,36,3,6,8,21,3,4,9,4,24,6,36,8,12,11,18,8,18,10,19,8,3,20,18,15,5,2,35,2,13,4,3,36,9,22,19,6,5,4,24,21,5,27,4,8,30,7,2,3,15,14,9,16,10,38,34,7,36,34,14,3,7,4,5,10,21,6,51,13,41,7,4,4,27,16,45,5,6,8,25,31,5,25,38,36,3,23,19,33,37,32,3,11,3,37,24,7,3,34,7,8,2,18,10,3,13,9,11,43,2,7,18,2,11,3,34,9,12,20,6,11,23,13,25,21,8,5,3,3,8,2,37,10,6,33,7,8,14,6,23,3,2,15,4,4,31,23,13,12,39,21,5,5,12,5,33,8,5,9,38,19,6,19,16,14,1,25,18,19,3,40,14,5,34,43,18,5,4,46,30,2,5,15,5,20,7,15,5,18,22,8,2,8,9,8,18,8,7,7,5,9,7,28,11,23,8,34,3,35,7,3,28,3,2,7,30,6,17,11,17,4,6,23,19,50,2,14,3,5,3,7,26,13,43,13,4,3,28,7,8,2,3,36,17,9,35,3,40,7,7,21,8,7,5,4,38,11,21,1,40,16,4,8,6,22,25,18,20,17,37,20,18,14,5,7,13,4,26,5,6,19,3,2,2,14,40,5,11,9,17,26,20,10,22,37,32,3,24,32,6,9,11,4,21,22,5,30,11,8,8,11,36,8,9,8,7,40,9,10,22,19,23,16,8,32,15,4,17,2,22,10,10,12,3,3,17,5,20,4,44,6,4,8,34,19,17,4,9,3,42,1,16,25,23,36,3,16,19,4,3,9,7,28,12,2,5,6,9,10,4,24,7,3,3,7,37,3,4,3,2,22,24,8,21,7,9,6,33,1,7,7,3,45,5,3,1,4,42,8,42,1,4,2,20,15,13,9,25,10,10,5,5,10,3,40,4,19,14,34,32,15,35,41,40,3,25,27,31,8,39,2,14,3,4,6,4,8,1,18,20,2,12,4,14,8,4,4,8,3,34,24,23,18,6,25,38,25,4,6,11,7,3,9,8,21,5,3,4,27,3,16,4,26,5,32,12,15,27,22,42,11,10,4,11,14,2,3,12,3,24,34,17,26,32,23,5,14,9,45,4,4,13,29,7,3,16,39,5,19,23,2,14,16,5,5,18,14,6,17,10,15,6,13,40,27,2,11,22,7,9,6,18,30,38,13,2,25,4,4,3,16,44,39,26,2,14,18,14,3,1,22,9,17,2,22,33,6,31,10,13,3,19,6,9,6,37,6,14,17,28,23,6,23,3,2,26,31,26,34,7,5,15,13,11,17,11,7,18,45,11,14,7,10,7,6,37,10,18,13,26,27,7,19,19,16,6,12,11,6,3,16,16,7,17,18,3,18,16,12,3,34,39,3,4,11,48,12,7,4,13,3,2,18,22,30,27,27,7,8,32,13,19,14,10,5,20,7,34,21,16,9,12,6,30,39,12,5,2,2,32,22,17,25,16,3,30,10,2,11,4,7,9,12,34,2,5,14,12,7,4,6,19,6,3,14,6,20,12,4,5,7,2,9,6,5,40,24,5,41,33,2,3,17,1,3,30,12,17,11,4,5,36,11,28,7,29,6,2,26,3,21,8,4,10,34,33,6,38,6,7,13,20,5,16,20,8,8,49,17,5,3,5,2,34,12,18,12,15,27,19,18,11,6,17,8,14,24,12,24,13,8,34,5,18,4,7,10,21,7,19,18,35,6,5,13,27,13,10,22,37,49,6,38,4,12,16,24,37,2,8,36,8,40,3,19,8,6,2,50,3,10,10,4,26,25,19,12,40,10,34,42,9,7,38,3,18,1,6,18,12,27,4,22,8,5,4,18,4,18,6,14,11,10,23,3,7,10,21,36,10,36,16,18,17,41,8,16,23,14,6,2,31,5,11,3,7,9,2,20,7,3,3,30,14,2,3,10,16,4,16,36,14,9,20,8,24,15,27,12,7,27,22,44,11,44,12,13,8,17,34,3,34,22,4,37,9,15,30,23,30,9,11,22,6,20,2,18,7,27,43,20,27,3,23,11,3,11,15,10,14,4,7,9,50,2,10,16,4,11,12,47,10,36,19,7,8,14,7,27,4,1,11,11,16,24,20,29,8,35,3,19,15,2,21,17,9,3,15,2,6,1,4,9,27,24,28,3,7,11,48,15,27,13,22,5,17,38,5,34,10,3,5,5,8,8,4,32,35,41,17,2,20,14,7,21,11,24,37,10,3,11,2,17,2,7,14,33,9,9,25,5,26,8,5,13,14,3,3,14,7,10,4,12,12,9,11,3,4,24,4,16,5,9,22,8,3,26,9,12,7,31,12,19,18,22,14,4,4,12,34,23,37,10,13,3,5,32,8,22,15,24,9,20,9,12,19,11,10,8,32,9,19,26,17,3,33,27,28,50,31,6,12,14,6,3,44,20,15,4,12,18,9,33,3,13,5,3,7,7,10,37,5,34,3,5,17,22,11,44,9,14,28,3,39,26,6,31,53,13,23,10,8,12,6,18,17,43,40,11,4,21,15,21,33,9,2,12,3,16,7,41,21,20,6,20,3,10,8,21,37,4,16,25,19,14,14,2,6,17,15,5,33,17,38,8,19,7,46,4,7,24,3,41,4,43,19,38,39,23,3,3,8,24,4,23,12,16,15,14,5,5,29,9,23,29,11,13,44,5,4,23,20,21,37,24,18,19,5,29,3,26,2,8,2,42,10,11,16,3,25,9,12,4,20,4,4,3,29,32,33,6,7,24,2,12,1,8,2,5,24,23,25,16,28,41,18,29,9,26,29,43,16,20,26,28,18,34,17,7,9,1,11,14,3,7,12,13,7,6,5,18,12,51,12,32,29,34,5,33,37,5,31,8,8,5,38,21,5,6,3,9,42,20,40,8,5,11,33,10,27,17,24,21,7,39,10,15,33,18,14,13,18,8,13,11,15,14,2,29,8,3,4,6,10,8,25,18,21,3,23,6,8,3,33,13,22,4,19,2,33,12,16,47,37,20,40,1,14,13,5,9,20,11,4,3,7,27,5,11,11,5,2,12,8,37,8,4,38,12,2,5,4,16,12,5,5,22,37,18,4,2,8,5,22,4,40,29,6,4,9,3,13,31,5,13,9,9,8,11,17,21,9,11,2,35,5,33,10,13,6,7,9,13,14,15,29,4,30,10,23,22,5,14,10,14,28,11,2,5,14,33,15,13,4,14,33,24,20,17,3,5,3,8,6,5,5,26,41,8,1,6,27,7,10,3,29,6,19,12,10,12,8,10,16,2,9,40,9,10,10,29,20,11,10,2,9,45,10,27,5,36,34,10,8,25,8,35,3,19,9,19,16,6,18,8,4,8,5,11,46,35,16,5,3,3,8,11,10,4,10,6,5,4,21,2,7,4,15,29,15,23,6,6,9,6,16,6,7,5,7,20,35,27,6,19,3,8,7,8,1,11,12,12,12,18,2,7,22,36,11,3,8,8,8,11,8,12,7,4,3,17,12,23,28,42,1,17,9,39,22,12,11,34,6,28,37,20,10,23,17,14,30,36,14,15,3,4,7,4,10,42,5,23,2,5,9,6,39,15,15,3,23,9,4,3,2,17,2,3,31,24,17,5,29,18,38,3,3,32,20,6,33,34,28,36,2,18,45,24,8,3,36,44,14,3,8,10,9,28,30,5,16,21,8,20,2,37,43,25,21,7,27,28,3,36,3,33,5,3,8,34,17,29,19,20,9,1,48,2,13,46,7,8,3,3,4,18,12,5,18,2,1,10,2,7,31,33,6,7,9,6,7,15,3,21,37,5,30,10,11,7,16,9,7,5,4,21,21,5,1,5,18,21,11,34,9,30,11,49,55,2,5,15,21,0,4,13,4,5,13,13,17,30,26,9,3,12,32,23,13,31,10,6,9,9,10,4,15,24,6,36,3,19,28,27,30,3,5,15,16,2,2,10,5,15,31,2,10,44,10,37,5,3,6,46,8,28,40,21,24,33,20,7,7,14,2,12,18,5,34,4,14,14,12,1,25,47,14,37,3,32,2,9,31,28,12,21,18,6,6,7,26,8,10,33,30,9,34,5,14,20,24,12,26,9,19,3,5,8,36,39,28,11,17,8,26,4,13,15,10,5,11,11,3,7,3,4,22,17,3,14,9,6,13,13,19,22,5,11,7,8,7,14,22,2,19,15,20,19,37,22,3,9,15,19,13,4,33,4,22,6,10,38,5,13,9,32,18,16,23,2,14,8,16,9,11,37,9,13,6,9,4,9,8,24,29,20,4,28,9,18,11,8,24,1,31,10,30,18,22,9,4,23,8,5,8,6,10,29,1,13,3,14,6,3,11,9,47,30,14,23,4,4,11,20,14,18,9,15,29,10,6,5,1,11,16,14,11,1,7,43,2,16,9,10,1,27,3,15,5,14,16,26,16,2,7,3,15,13,8,5,34,21,25,32,3,17,3,3,4,7,16,4,5,17,3,4,39,21,15,11,14,18,4,9,6,10,1,7,9,10,19,36,31,3,38,33,13,21,8,3,2,4,9,11,4,10,2,2,40,17,9,18,3,7,22,19,4,19,24,9,2,10,4,5,14,28,5,19,16,7,13,11,13,38,12,14,33,14,14,5,12,3,13,23,4,21,4,7,6,3,10,21,29,33,43,14,13,19,26,4,16,5,8,3,5,3,5,41,20,34,25,13,10,24,30,26,41,19,19,7,14,1,11,6,8,25,13,42,40,28,12,28,31,5,1,5,37,2,6,18,13,9,44,6,12,25,26,18,13,15,44,32,7,8,23,5,6,14,3,2,25,4,7,1,7,13,3,11,4,7,14,11,45,8,8,8,5,8,18,2,15,5,3,11,6,9,9,33,6,9,10,2,8,30,20,35,3,10,8,37,20,3,25,16,6,34,16,15,15,8,16,22,17,25,9,3,28,4,48,29,34,14,9,2,18,8,3,5,29,3,4,46,13,6,7,34,8,2,16,23,5,8,35,18,15,26,7,6,18,18,27,33,8,45,8,4,34,11,3,16,29,9,24,13,14,7,3,6,17,14,9,11,10,47,21,32,11,6,2,7,3,29,1,30,1,15,19,5,12,16,16,20,5,39,9,26,27,8,12,36,12,26,18,11,2,7,5,8,10,7,15,15,34,4,15,25,12,27,10,8,19,26,5,7,9,12,9,7,13,25,27,8,4,5,29,20,8,23,25,26,43,32,4,43,37,9,31,35,53,28,20,5,8,38,21,42,24,18,8,28,6,23,22,19,12,23,4,9,12,5,7,13,7,4,11,39,7,11,4,8,13,40,43,3,33,19,8,14,7,6,2,24,6,16,6,32,25,12,33,12,3,8,6,4,22,19,8,12,17,3,2,3,4,14,3,6,2,4,6,43,3,5,12,19,6,1,33,1,6,17,5,13,43,4,30,20,7,17,10,17,19,25,29,14,25,38,7,11,8,8,7,11,5,48,18,9,31,22,4,16,25,21,10,6,18,17,4,26,6,19,25,15,19,5,14,9,19,30,8,29,21,7,12,16,7,5,6,12,23,3,18,11,26,2,21,3,33,18,9,7,4,6,1,3,18,40,11,3,13,11,4,43,2,22,3,4,15,4,14,24,21,4,11,18,4,20,11,8,24,11,21,27,4,8,9,3,27,18,10,22,3,22,6,5,10,9,8,2,13,10,19,8,22,13,6,2,21,7,5,3,18,42,23,15,16,4,7,11,6,4,14,25,21,22,18,4,43,8,16,3,29,4,13,2,8,2,5,24,31,4,13,2,15,7,2,16,22,8,11,30,24,20,21,12,31,12,12,31,6,10,4,16,27,7,20,3,8,13,6,8,30,5,21,13,17,22,9,22,2,40,32,30,3,17,22,35,9,4,5,46,9,26,6,27,12,1,5,22,3,1,1,31,5,3,10,14,10,3,34,2,37,15,6,24,5,7,9,9,8,2,14,13,11,6,26,14,11,1,8,20,24,7,39,2,18,9,11,2,5,19,14,3,6,4,3,40,4,39,5,12,6,12,3,31,5,2,15,31,29,6,5,4,37,7,2,39,12,13,5,4,13,7,15,7,3,24,28,10,12,27,9,12,14,3,6,14,6,8,8,27,2,26,36,14,3,4,1,22,27,8,23,2,3,12,2,1,26,25,12,40,5,13,4,6,4,11,4,21,3,15,29,29,6,8,5,2,15,5,12,2,6,35,8,10,5,4,6,12,3,31,29,41,4,43,13,9,42,4,35,4,7,42,37,11,26,37,1,11,8,4,4,11,9,7,19,2,22,13,5,5,23,10,4,7,3,21,18,16,3,4,25,35,1,4,5,4,34,23,8,4,22,41,22,5,3,39,30,26,4,20,5,2,32,4,20,5,8,13,3,25,38,22,19,4,31,7,4,10,17,13,4,7,19,3,32,10,14,34,3,21,28,10,10,6,25,4,3,31,3,18,16,11,2,3,13,4,28,18,40,10,21,8,29,14,11,27,13,9,22,14,8,18,21,9,37,13,34,24,7,6,15,8,25,15,5,11,4,5,26,4,1,11,15,12,8,38,40,24,12,6,14,25,19,12,3,9,8,3,6,5,18,8,7,9,22,10,7,5,15,14,26,35,3,2,13,9,10,12,8,2,1,18,12,7,4,8,36,1,30,9,9,19,13,17,40,24,32,2,5,20,44,10,19,16,3,9,18,25,13,7,12,32,7,13,36,5,20,25,2,14,21,9,10,26,8,10,18,27,19,6,4,36,5,30,4,5,4,25,23,30,25,3,6,10,26,28,5,2,9,28,28,28,16,34,4,8,23,26,11,46,25,12,20,34,14,25,8,3,13,6,46,3,18,19,21,3,14,5,14,12,8,9,4,9,16,17,11,11,12,13,41,8,17,3,19,5,4,11,13,30,21,7,31,3,4,4,47,8,31,1,26,5,22,30,16,2,2,3,15,10,8,7,49,24,26,22,22,3,10,29,26,1,52,5,36,17,20,9,8,4,33,13,19,15,4,7,11,19,4,6,16,9,12,19,22,27,37,1,5,6,6,5,20,3,6,13,5,5,11,20,48,10,0,26,21,1,10,26,6,3,51,20,14,33,11,6,12,6,13,11,27,1,15,11,22,20,2,13,17,26,4,8,5,12,2,3,6,31,34,25,2,7,2,34,14,5,34,10,12,7,19,4,12,22,34,29,4,13,7,26,15,33,13,5,17,1,6,33,18,1,15,3,9,9,9,27,6,26,5,3,24,32,4,12,4,19,33,2,9,3,40,35,13,30,21,38,3,16,3,5,12,6,24,48,39,14,7,3,29,33,23,45,30,17,3,7,29,26,13,35,7,14,42,15,36,22,4,7,17,5,4,17,4,28,5,12,14,28,6,34,4,1,31,8,23,11,12,11,12,16,17,6,11,4,1,36,3,44,11,24,11,6,3,6,7,8,40,43,21,33,10,25,3,3,3,28,7,47,2,8,15,5,13,13,21,10,16,14,9,15,4,10,43,31,6,10,9,31,19,23,16,2,4,5,17,13,7,22,7,8,1,18,19,45,13,2,7,28,15,6,16,8,22,13,12,4,6,2,5,6,4,24,4,16,3,8,30,5,3,7,2,12,31,21,7,3,15,13,13,9,2,4,20,11,27,30,10,4,8,23,9,6,2,21,10,25,19,9,13,30,3,8,3,10,23,33,27,23,8,18,22,4,13,5,25,48,9,17,10,12,41,5,13,6,2,21,7,4,19,43,24,33,25,7,17,36,8,6,18,1,8,18,39,30,15,16,1,25,3,40,7,21,4,9,5,6,4,43,13,2,3,19,5,15,3,6,3,1,6,7,30,12,27,5,32,10,30,7,9,21,23,28,15,9,38,17,6,13,2,37,7,5,20,6,21,29,30,7,9,39,4,29,6,6,11,2,27,3,6,5,26,11,15,26,45,4,1,9,7,17,15,6,10,4,8,5,5,11,35,26,12,3,26,28,6,32,20,2,3,36,4,3,15,11,15,36,8,7,2,11,7,20,5,14,9,6,30,11,19,24,11,23,6,29,6,19,8,20,4,5,4,3,45,10,33,29,8,25,26,12,3,15,6,11,4,6,8,6,26,17,2,4,7,35,10,16,6,9,40,29,4,11,32,23,9,5,4,1,3,6,2,8,4,12,18,7,7,7,11,22,4,6,9,24,7,6,3,3,32,37,30,32,14,27,8,26,8,18,7,48,2,7,4,11,23,3,15,11,26,21,12,8,40,4,32,31,30,27,7,3,8,5,18,9,43,44,8,10,10,39,35,1,14,9,7,27,37,34,34,4,11,7,12,9,7,11,27,6,32,18,29,15,19,7,20,15,14,1,4,5,10,27,20,1,16,7,3,9,8,4,24,4,15,35,4,22,10,28,19,32,16,3,15,20,20,4,10,31,3,23,6,4,4,32,14,14,18,39,10,37,25,15,10,4,25,24,8,32,22,2,26,11,4,1,23,19,36,44,3,2,39,1,35,26,20,10,8,7,27,9,4,34,19,5,25,19,10,2,41,3,25,6,7,12,28,2,4,6,13,1,16,15,5,19,3,18,4,18,18,8,12,1,6,7,9,8,4,23,8,26,3,4,7,12,2,23,43,28,10,15,10,14,6,5,2,28,2,3,26,3,7,18,16,38,25,19,10,39,23,13,6,1,29,3,12,8,4,18,11,32,8,5,23,4,49,34,6,32,30,25,11,10,14,17,2,19,12,17,17,21,3,7,7,25,7,8,6,11,32,9,27,10,38,15,11,1,24,34,2,24,6,4,3,7,14,27,17,26,5,7,6,33,18,2,36,5,29,24,4,5,2,7,10,5,28,4,6,20,26,40,32,16,37,14,14,5,6,2,3,14,50,28,14,16,4,5,5,33,16,5,16,11,25,23,9,12,7,37,10,6,21,11,33,13,4,18,5,6,7,10,7,34,31,20,9,6,8,6,8,6,23,9,6,29,5,1,12,4,23,32,15,18,7,4,6,11,23,15,24,4,14,6,18,23,4,16,30,2,9,35,11,7,28,9,10,39,14,4,32,11,7,17,4,4,19,2,7,14,43,11,11,26,23,26,4,19,4,26,1,2,30,25,10,39,10,7,7,19,15,17,22,8,6,9,7,7,6,11,11,32,10,1,16,36,6,13,4,6,35,8,5,12,17,35,25,8,2,7,6,6,28,9,7,34,28,17,37,3,6,17,11,5,3,23,7,4,15,12,8,14,3,7,9,7,3,5,2,3,3,6,23,17,13,9,2,5,11,4,35,23,35,16,3,16,24,10,17,21,12,2,19,12,30,7,13,4,11,19,34,8,12,20,14,18,42,34,24,19,5,8,5,9,15,27,19,13,4,3,38,8,2,17,5,12,7,5,6,8,35,18,4,18,6,14,3,9,41,5,15,12,4,3,2,14,11,10,11,8,7,20,26,52,5,4,11,5,19,17,5,13,39,10,21,14,11,30,6,8,6,4,26,18,22,8,6,6,41,13,24,10,25,6,3,27,8,5,12,47,35,35,32,40,10,35,35,5,24,8,13,1,11,7,28,14,31,34,37,4,7,24,43,8,6,4,51,22,11,2,6,13,8,7,24,3,10,3,10,2,10,5,4,11,5,24,5,11,3,5,10,15,11,9,18,32,2,30,2,8,5,28,21,2,11,9,7,4,16,15,27,10,16,4,2,3,6,5,40,44,8,29,6,11,12,11,20,8,10,27,8,27,4,3,41,32,31,5,26,18,23,8,3,7,7,9,18,2,7,12,2,16,13,22,5,8,16,3,5,38,21,45,15,18,6,9,3,2,26,2,4,5,44,28,2,19,11,7,42,20,24,28,8,10,9,33,11,1,6,9,24,12,39,11,18,15,14,0,9,39,7,20,30,26,18,20,3,4,7,33,11,10,19,13,15,34,8,2,9,22,29,2,18,17,1,11,3,13,8,18,4,4,29,11,4,43,6,23,12,5,14,2,19,10,19,9,1,32,36,4,32,18,14,2,5,2,10,17,5,24,20,14,16,17,49,11,7,39,43,3,20,5,25,6,28,13,11,2,6,14,4,16,24,8,35,7,4,30,9,28,23,2,3,18,12,11,11,15,29,21,12,15,9,7,5,5,11,16,40,32,6,18,43,13,17,24,4,15,13,16,12,9,23,14,5,15,4,18,54,2,27,3,4,2,20,15,8,34,31,5,4,41,21,24,4,21,2,18,13,7,40,19,3,30,3,13,6,12,18,20,2,17,2,3,17,5,28,7,13,10,11,21,11,7,6,13,25,3,25,13,43,10,7,2,23,8,5,13,32,6,6,4,27,10,4,30,8,16,14,7,27,7,7,15,22,8,7,5,25,48,6,10,2,8,1,21,26,23,17,8,8,6,32,5,38,27,32,13,3,14,11,2,15,11,6,7,18,11,16,7,8,20,2,21,42,12,43,8,11,13,4,5,11,14,7,10,8,5,17,10,13,21,6,3,7,13,10,3,6,5,4,13,15,17,29,31,4,16,12,6,29,14,19,14,33,39,26,16,10,14,6,9,20,4,9,1,7,31,3,7,28,37,12,6,15,28,5,25,3,15,5,26,6,14,3,17,9,9,39,29,6,45,11,8,3,41,5,20,2,11,14,21,25,37,17,2,2,4,28,5,10,14,18,42,37,14,26,15,5,5,15,29,3,35,16,36,2,10,33,18,9,6,10,26,14,34,28,27,11,7,4,33,38,34,16,36,8,14,16,4,11,1,18,11,25,16,6,3,11,11,7,22,2,4,27,6,3,39,18,4,25,8,30,16,25,12,8,26,8,4,25,18,24,15,40,4,6,3,5,10,2,16,4,25,42,13,9,10,5,23,5,6,11,9,25,6,28,38,28,7,6,18,42,18,22,33,3,22,43,22,25,8,4,11,5,23,5,21,21,23,25,11,12,4,17,4,8,6,6,37,6,10,10,4,17,26,37,19,4,26,34,6,17,33,4,48,4,24,25,8,8,4,1,39,10,25,13,11,2,3,7,24,5,9,2,1,19,5,7,15,19,26,4,13,11,10,3,20,10,6,22,17,6,1,40,5,1,19,13,3,4,5,17,9,10,47,3,33,8,6,10,3,6,24,2,3,12,18,13,14,15,14,12,30,13,3,37,6,24,29,7,6,11,21,5,15,5,11,19,17,40,11,24,1,34,28,45,7,27,7,8,4,5,15,10,28,2,7,8,8,4,11,6,11,40,32,7,6,19,17,25,23,9,8,4,4,14,27,4,18,10,10,27,2,7,4,13,8,2,23,6,22,14,2,3,11,9,36,7,4,17,10,20,15,9,11,2,9,18,6,5,11,35,2,4,1,3,14,37,12,30,31,12,25,6,16,8,9,5,13,8,6,11,31,6,14,10,13,4,37,15,30,6,27,4,35,24,4,20,2,4,3,9,39,5,4,34,14,10,6,7,34,11,1,7,36,15,30,4,3,6,6,26,9,29,17,16,13,7,25,3,7,16,15,20,8,11,29,18,11,4,21,11,6,11,2,38,5,9,2,7,8,1,15,6,22,8,11,6,23,11,14,23,5,34,17,19,4,2,20,17,1,26,21,15,8,23,43,32,17,18,4,7,19,3,11,35,11,4,21,14,42,21,25,4,31,9,27,3,54,33,10,7,7,23,5,1,11,26,18,4,18,19,27,8,1,9,28,1,12,18,24,13,29,6,36,13,1,3,23,7,40,16,7,23,8,5,23,10,14,3,31,13,3,12,8,29,4,10,20,41,11,4,38,36,33,9,2,10,26,27,8,11,6,5,39,2,6,4,22,25,22,4,4,4,14,1,37,6,15,6,42,28,12,13,24,10,30,33,4,18,7,16,5,4,7,7,1,18,33,14,7,13,10,32,7,29,2,13,11,5,19,18,7,26,21,20,8,6,32,16,24,5,3,4,28,3,5,5,5,8,31,19,30,21,2,24,7,28,20,4,29,4,9,9,27,17,3,12,11,4,7,13,21,25,11,13,2,9,3,3,32,7,24,6,11,17,4,12,8,20,5,21,3,2,7,20,1,24,34,25,24,6,28,31,3,22,9,5,20,13,2,21,5,6,44,21,28,16,13,17,6,17,4,10,4,6,3,39,3,10,5,5,4,18,7,11,11,18,8,40,2,8,11,38,22,24,14,24,2,36,14,11,15,32,10,5,10,3,5,7,7,21,15,30,6,9,9,5,31,26,18,1,6,13,3,10,27,23,3,2,6,28,30,35,4,30,23,24,10,6,4,1,42,37,6,14,40,21,31,7,12,8,8,8,14,3,1,5,4,6,12,15,40,10,5,6,7,9,29,5,5,16,10,2,5,30,20,26,47,5,4,9,13,5,6,44,21,25,7,20,4,2,4,12,5,10,23,6,35,4,33,4,4,2,3,2,2,26,12,29,4,20,4,6,6,3,35,3,39,6,8,43,14,23,15,12,31,3,4,34,17,18,19,11,5,22,5,12,22,4,25,33,27,2,1,9,4,16,30,38,31,2,38,6,25,12,1,16,4,9,18,13,8,23,25,27,26,9,7,22,4,7,18,4,6,6,29,37,23,4,4,14,9,25,3,23,41,35,8,6,5,27,10,4,11,16,18,39,7,8,6,19,3,8,7,34,36,4,28,3,45,10,2,38,11,3,3,43,4,13,7,8,33,6,15,16,13,12,12,6,9,49,10,26,14,20,5,9,4,13,9,6,9,6,3,5,2,3,12,11,42,11,12,4,34,45,10,33,9,6,11,2,9,6,9,6,8,26,35,23,7,17,10,15,12,7,6,8,21,35,42,28,26,13,6,45,19,32,4,11,33,9,13,5,4,15,11,22,15,5,7,11,30,6,12,21,17,2,9,5,1,8,14,4,39,19,12,14,2,13,37,12,3,2,28,24,8,8,6,4,24,2,16,1,44,42,8,22,11,44,19,20,11,19,2,13,15,24,16,2,20,2,17,5,14,2,4,2,3,7,7,5,3,6,8,13,29,24,22,18,19,6,9,18,19,13,2,7,11,2,7,6,31,4,4,35,11,2,44,3,22,9,5,6,8,3,3,7,2,9,6,21,3,2,17,29,12,13,7,2,35,22,6,38,25,12,14,20,7,37,24,7,26,3,29,2,4,7,3,31,1,4,4,21,13,17,27,5,3,25,10,24,25,8,3,16,3,12,14,4,8,12,11,5,38,6,3,10,4,6,4,29,28,1,16,3,3,8,1,4,10,29,27,9,14,14,22,5,20,17,22,11,4,4,13,32,25,19,26,24,32,16,6,40,25,12,14,30,11,39,15,10,5,18,45,14,10,11,32,17,19,14,3,37,17,7,12,11,34,37,4,5,10,3,24,25,29,13,10,24,11,61,2,5,12,18,3,24,15,7,24,12,2,8,42,40,5,35,6,11,28,8,4,13,8,10,11,3,19,7,30,2,10,14,2,4,5,2,15,10,4,6,2,12,22,40,4,11,5,14,9,22,20,8,56,16,21,15,3,16,37,3,26,9,2,11,21,18,22,5,22,4,3,5,4,18,10,4,6,39,28,7,10,3,27,3,9,34,27,27,33,6,2,8,13,38,30,3,2,15,9,25,6,17,4,14,5,21,6,9,4,12,4,14,17,14,16,5,16,28,4,5,8,29,28,3,2,3,26,12,7,10,16,4,7,2,3,9,21,5,7,20,4,12,6,11,3,28,16,10,11,26,7,8,13,20,15,5,3,18,15,22,17,14,2,9,9,12,19,6,9,7,3,10,8,22,5,21,8,27,1,2,7,6,39,9,28,6,11,8,7,6,2,17,18,3,6,27,15,31,2,37,31,13,27,26,38,16,47,33,12,4,36,16,14,3,16,15,18,4,43,37,16,42,13,23,2,6,9,23,32,13,12,10,7,23,9,28,21,6,44,2,47,3,15,4,13,10,7,2,12,6,38,9,3,6,2,4,7,9,11,20,12,2,32,5,16,8,2,48,21,15,5,4,6,41,13,4,9,2,17,8,40,13,9,10,37,9,3,27,45,17,9,22,7,31,22,14,3,42,25,39,15,3,35,7,4,5,26,5,4,43,36,6,33,41,4,25,26,19,42,11,7,8,1,10,16,11,13,11,4,22,18,9,7,5,17,45,9,38,26,20,5,8,33,40,26,8,10,8,22,7,26,3,29,3,8,4,27,6,10,39,5,9,4,4,7,13,31,8,3,26,8,17,4,19,7,22,4,6,12,19,4,44,46,12,26,10,8,21,26,12,14,19,20,5,23,11,9,5,11,12,31,30,4,6,2,20,4,4,6,40,9,40,3,7,10,4,11,13,9,4,38,21,9,4,4,11,25,16,26,2,31,18,13,6,8,33,3,19,14,10,33,15,2,7,31,14,19,33,23,39,38,3,38,1,15,18,8,28,5,29,5,6,4,2,5,26,13,4,2,21,19,2,15,7,5,33,12,16,3,4,9,21,5,35,33,21,2,26,18,3,24,1,16,14,15,29,2,22,34,11,15,16,15,9,28,5,11,11,4,25,6,22,3,18,5,14,14,3,12,19,7,16,22,4,18,5,9,11,14,6,7,1,12,36,7,24,5,37,9,12,1,16,46,3,12,58,18,11,25,20,8,5,22,15,9,5,7,3,5,9,1,30,25,3,16,32,33,7,48,18,5,8,11,38,6,8,2,8,3,14,1,7,19,3,5,21,29,3,7,32,16,4,28,38,6,6,38,10,10,31,6,15,5,44,9,5,5,5,12,30,18,3,33,5,6,27,6,4,4,35,8,8,43,13,46,22,14,21,46,10,16,20,31,14,6,8,33,3,23,23,9,11,25,33,7,1,8,5,4,6,4,37,3,1,11,4,12,4,4,6,28,19,24,6,12,7,3,17,3,2,49,14,4,19,16,14,4,3,13,23,9,5,12,13,5,13,12,17,39,5,46,3,7,11,10,17,6,9,11,18,26,4,9,7,7,35,30,6,11,41,9,15,7,42,21,33,13,4,7,15,5,12,22,9,17,18,4,4,16,22,20,8,6,30,7,22,4,21,8,32,2,15,38,1,20,8,2,23,12,16,5,4,26,1,32,10,14,42,6,16,17,22,26,13,2,15,5,4,31,5,10,6,14,14,15,16,3,8,16,1,6,4,6,2,18,35,4,16,3,27,29,28,30,12,14,11,7,7,2,8,10,4,37,37,6,41,5,5,10,8,17,47,26,6,29,3,2,36,19,31,16,14,13,11,37,1,7,25,35,2,5,6,32,29,3,40,14,8,18,4,10,10,9,6,32,8,21,2,17,3,40,10,21,11,38,2,27,7,18,11,2,11,16,16,40,17,3,36,11,8,1,21,22,4,1,44,3,6,7,7,29,43,2,20,10,6,20,23,31,25,4,37,4,35,33,38,8,8,1,2,5,14,45,25,2,1,2,8,6,6,12,23,29,6,32,10,13,4,2,3,13,24,18,2,3,11,20,5,6,1,19,2,37,3,4,9,11,15,8,6,5,28,8,27,9,27,18,7,8,22,14,25,10,3,5,20,19,22,13,8,42,15,2,11,4,16,27,2,21,7,35,7,3,34,9,26,4,41,7,37,2,3,8,8,10,17,25,6,13,6,4,12,12,12,1,11,6,7,4,37,46,19,1,17,28,32,19,19,6,46,11,6,10,4,16,6,17,18,14,16,11,1,12,4,41,8,7,6,13,4,20,22,23,3,10,4,27,42,33,19,19,6,22,24,3,6,8,4,42,11,14,23,8,30,13,3,7,7,34,12,6,8,14,4,13,3,19,19,13,8,47,6,4,8,33,4,7,4,13,6,8,8,7,42,37,33,11,5,3,30,24,7,9,18,5,2,23,11,6,37,26,13,13,24,39,11,22,10,16,11,36,5,24,33,39,31,38,3,11,38,7,21,6,8,9,9,6,18,8,45,3,8,19,10,8,12,1,19,4,38,8,3,9,6,3,4,5,3,6,9,34,16,5,23,24,8,4,2,21,27,40,8,7,36,22,3,22,3,18,8,17,42,11,20,8,11,12,8,3,37,34,13,38,37,41,9,44,4,12,29,4,36,32,15,2,5,3,14,19,10,4,5,7,21,7,6,30,2,9,25,2,26,49,18,31,17,11,37,10,9,28,39,29,19,40,13,17,3,29,34,6,19,8,4,21,12,10,41,7,8,5,18,44,27,43,3,11,6,4,9,27,35,10,6,2,29,4,13,4,4,7,9,16,9,27,8,6,15,9,6,2,5,5,2,25,3,21,7,24,14,9,20,4,5,6,12,5,5,17,33,21,17,9,19,7,19,3,22,25,29,16,33,16,9,3,3,6,8,11,19,3,11,15,20,36,7,11,8,4,21,17,6,5,23,44,25,7,20,3,31,2,32,15,6,12,40,13,11,16,33,26,2,5,21,5,3,8,27,15,33,22,17,5,17,14,6,32,5,16,2,7,8,3,33,7,41,11,2,24,4,38,7,3,19,2,3,5,12,9,50,4,31,20,22,7,6,4,35,16,13,23,2,2,5,3,35,34,8,18,24,43,17,2,5,17,2,7,20,11,38,16,11,9,6,21,36,21,31,25,18,4,10,27,11,31,7,40,3,6,12,2,10,3,3,39,30,15,32,2,38,16,4,30,15,27,36,2,13,10,4,18,6,19,12,26,8,5,12,10,46,7,24,4,6,12,26,18,16,7,30,33,3,22,13,7,15,4,30,4,8,6,8,3,7,15,16,38,5,7,10,39,51,6,27,22,7,2,28,1,18,20,8,9,2,8,8,3,3,19,6,19,15,11,30,19,23,35,1,29,9,18,32,31,4,2,43,23,13,7,2,36,2,38,4,29,7,1,17,6,6,46,8,9,48,5,38,9,7,4,19,15,29,31,16,20,12,8,28,34,26,4,10,21,31,32,15,5,11,5,31,3,6,28,32,7,20,8,3,2,40,22,4,25,6,4,13,4,9,5,4,16,6,2,12,2,7,4,5,5,15,6,5,4,15,10,3,30,25,12,13,37,2,15,5,20,5,15,21,20,7,10,7,5,3,2,13,23,29,19,12,42,29,9,6,13,15,5,21,5,34,6,5,7,44,4,5,32,7,26,5,27,29,17,17,44,18,11,6,47,36,2,34,4,5,5,13,28,9,7,26,24,10,25,6,27,5,8,14,3,26,2,29,5,11,12,14,9,2,3,4,14,4,27,2,8,22,32,7,11,6,4,17,39,5,8,41,2,6,12,20,38,38,5,11,29,40,42,32,40,5,21,7,40,10,6,11,20,9,48,11,37,8,31,43,6,10,3,6,19,10,3,9,20,12,16,39,6,39,21,11,31,9,9,18,12,7,11,9,13,2,8,34,36,14,16,22,7,1,4,5,33,11,21,35,19,3,9,13,9,5,3,10,3,2,9,36,10,16,1,3,16,32,10,21,6,18,7,5,3,10,1,7,20,7,30,4,15,15,18,4,6,8,7,16,7,29,12,5,4,33,17,3,43,12,7,4,24,8,20,4,6,4,15,7,4,15,4,19,17,22,12,5,19,4,33,10,23,10,14,7,5,17,6,17,3,6,5,36,13,2,25,5,38,11,2,21,5,15,19,7,13,2,11,15,5,10,36,24,37,35,24,24,11,10,12,2,5,11,4,18,6,2,19,5,12,5,25,11,14,15,10,4,34,49,20,6,34,3,3,4,25,9,4,19,35,5,13,3,4,2,6,27,10,47,10,3,10,2,39,13,19,3,32,6,18,19,3,19,10,8,11,4,28,2,19,3,5,16,42,4,29,1,19,9,23,17,3,1,12,2,26,22,9,12,7,4,4,44,5,2,2,21,38,35,9,24,11,3,1,19,2,4,9,28,8,4,33,15,15,5,17,30,2,14,4,12,1,2,14,20,12,4,45,6,18,20,15,8,7,13,5,17,1,18,9,16,30,20,8,4,3,8,4,12,23,3,4,11,8,4,4,3,24,3,9,9,3,27,5,15,5,63,12,4,2,16,42,38,2,6,12,4,38,12,10,18,21,18,9,5,25,17,31,26,47,32,9,2,40,20,14,18,19,2,20,39,6,30,6,15,11,5,3,33,6,17,8,32,19,26,25,10,4,6,9,25,39,31,23,8,14,3,4,17,15,6,43,20,14,3,14,24,38,17,2,6,15,3,25,11,20,45,7,15,4,29,21,3,7,8,5,22,20,19,10,12,29,5,15,6,13,32,35,11,24,3,17,41,2,15,23,25,20,5,6,5,13,38,6,8,26,18,6,12,3,18,17,14,31,1,10,4,12,4,4,28,17,12,13,5,26,40,10,20,22,3,29,6,12,35,25,37,7,8,32,15,11,14,10,9,11,15,47,46,4,6,4,7,14,1,23,28,6,2,5,21,15,32,26,4,2,6,33,6,14,30,6,13,27,4,24,23,21,7,7,28,4,3,3,1,26,5,4,15,12,2,17,7,32,2,38,20,1,26,17,22,14,2,22,21,17,4,37,7,20,21,34,5,19,31,2,4,23,21,8,33,2,5,14,6,12,6,30,5,9,2,14,33,6,22,36,12,38,4,22,9,19,8,2,23,31,16,20,25,11,13,44,30,26,5,20,5,31,18,18,27,15,8,9,32,15,2,31,18,37,8,6,19,28,13,3,23,6,35,5,12,10,4,6,17,8,7,12,5,6,4,35,8,13,5,3,12,5,12,28,37,8,2,21,27,6,8,5,6,10,0,20,11,24,7,10,15,6,24,17,35,4,4,14,34,9,21,3,16,8,11,3,21,8,15,43,17,31,6,4,8,12,8,12,43,2,3,2,23,4,5,32,11,11,30,34,47,3,31,22,23,12,7,18,32,6,5,10,25,15,4,35,3,22,3,18,2,21,3,11,16,7,9,21,4,19,1,23,3,1,17,7,26,10,31,8,9,3,7,6,13,21,7,30,9,8,2,5,6,34,8,12,12,26,17,53,6,2,7,8,2,34,20,25,5,6,4,19,30,3,4,9,40,21,4,15,5,16,11,6,38,17,18,42,3,11,22,18,15,2,9,2,42,16,11,13,19,2,14,31,6,36,6,10,14,27,20,41,16,2,2,6,13,19,8,11,3,15,14,22,4,17,7,3,3,1,3,8,27,19,10,22,22,3,18,3,12,9,22,15,14,9,29,32,6,36,23,3,2,9,11,35,7,2,8,37,3,2,4,31,9,7,34,8,5,34,4,18,23,13,1,8,12,36,12,32,10,9,11,8,12,35,6,13,6,10,31,7,13,10,7,19,2,5,5,4,28,23,12,1,34,3,15,4,2,1,12,36,2,31,9,19,16,22,30,3,26,3,9,13,20,8,3,33,14,6,10,18,15,13,39,45,6,7,15,4,5,22,9,26,39,11,9,2,11,10,6,7,12,6,10,3,13,3,15,7,4,9,18,15,2,17,24,26,42,13,19,12,21,14,43,7,30,9,8,22,16,3,5,41,6,5,21,41,12,3,41,33,4,3,2,16,23,23,17,8,38,14,20,17,15,7,7,9,9,11,5,2,3,6,19,18,12,6,9,29,7,20,2,40,1,6,3,16,0,10,23,2,9,15,7,12,12,26,4,15,9,15,20,21,4,44,2,33,20,4,18,36,7,20,9,8,44,11,35,6,25,24,5,32,20,40,11,14,9,42,6,38,2,42,12,8,30,18,8,7,21,37,23,40,10,18,4,34,3,15,6,14,22,9,29,22,12,22,19,10,36,3,25,11,12,23,42,6,12,7,47,25,4,6,11,1,13,10,7,12,6,7,16,3,29,22,5,18,4,39,15,3,7,3,10,3,28,6,7,29,2,41,5,2,22,3,8,1,31,42,6,15,5,23,13,48,10,3,4,17,5,1,18,6,9,16,25,4,8,48,17,5,12,9,15,16,5,6,10,8,19,6,3,8,15,22,14,17,10,25,34,5,5,3,25,15,9,12,9,2,12,14,11,33,13,16,25,36,23,14,15,4,9,9,3,30,10,8,4,25,4,4,5,9,16,7,3,25,29,8,3,20,12,39,7,2,15,17,33,5,7,14,3,10,23,19,11,6,10,14,10,5,3,3,42,20,6,7,8,4,4,6,6,14,44,20,17,7,17,2,27,34,11,1,38,17,4,20,5,3,41,3,7,2,6,8,17,17,6,3,27,20,12,11,29,45,5,8,36,6,27,11,24,23,31,16,12,12,6,12,46,9,3,47,15,11,7,10,37,3,34,9,13,6,52,2,9,8,4,3,27,10,42,4,45,5,2,11,16,13,32,31,11,39,12,27,25,21,12,36,3,7,4,9,10,11,24,8,7,7,12,6,1,15,15,7,7,14,12,26,11,17,48,6,25,10,6,46,38,41,7,33,5,7,7,21,37,12,5,12,16,4,20,5,11,3,14,15,2,10,33,26,3,1,36,9,35,6,15,7,27,24,3,28,11,2,14,13,20,15,17,9,14,1,9,23,10,16,18,25,16,10,9,7,5,20,21,40,9,8,4,5,12,4,10,14,27,9,2,19,36,9,10,22,30,1,4,27,41,8,16,1,2,15,5,26,29,15,2,19,13,32,5,12,7,20,4,7,14,16,7,6,3,8,41,11,6,15,4,23,7,1,28,10,8,1,31,6,6,10,11,12,15,27,4,8,36,6,13,15,11,9,23,7,7,5,6,10,6,7,15,3,6,8,28,2,2,11,10,11,17,12,9,8,3,16,15,11,22,2,25,42,11,12,30,2,12,10,5,27,6,5,8,24,7,10,17,18,41,33,3,2,25,3,22,25,2,19,3,39,31,32,25,15,4,3,3,3,10,12,22,16,19,0,6,9,21,10,5,18,6,7,19,26,14,5,19,16,16,24,22,28,8,34,9,13,1,4,13,8,7,18,5,28,8,13,6,39,11,17,23,24,17,20,5,35,4,4,5,22,4,21,16,8,5,5,10,2,1,25,34,22,40,2,15,5,4,8,4,3,25,4,15,45,10,14,10,26,20,12,9,10,35,4,3,11,1,15,19,13,23,4,11,33,37,31,27,12,4,5,33,3,17,14,4,2,34,3,13,23,5,6,3,40,21,1,5,9,10,11,18,17,14,2,50,24,29,13,28,10,13,12,8,3,9,13,36,17,4,21,11,2,7,26,41,13,17,4,4,22,7,14,3,3,14,5,29,9,2,6,13,25,18,6,11,5,7,8,41,6,3,6,36,23,7,12,5,5,17,4,16,3,15,21,7,27,6,8,26,8,2,6,10,6,3,26,21,38,19,9,9,16,9,32,33,8,5,20,4,28,21,15,14,4,32,18,3,5,11,4,5,42,32,11,11,2,2,5,15,7,19,18,5,6,10,11,3,5,3,22,20,28,4,14,8,6,7,10,16,29,25,3,18,19,5,31,11,5,11,12,3,26,40,7,22,11,5,21,3,29,21,26,11,6,15,3,2,3,14,43,5,2,30,49,35,11,4,12,12,3,14,18,5,2,5,23,18,5,22,8,15,34,26,11,24,34,39,5,29,14,26,3,39,8,5,30,12,10,29,11,24,11,44,15,8,18,46,15,9,54,12,3,1,16,6,29,15,7,9,6,10,4,3,2,11,2,20,2,10,34,2,9,5,4,16,19,10,18,13,35,1,5,7,33,13,34,10,17,9,11,12,16,8,7,35,9,19,17,29,8,35,11,8,20,8,7,5,11,3,15,18,6,18,13,4,10,11,29,5,21,7,6,3,11,3,9,4,5,2,5,28,16,6,9,5,18,11,5,15,8,8,7,2,8,7,2,4,37,14,6,3,17,9,3,14,20,18,7,4,13,15,3,8,6,30,16,8,15,4,10,4,27,26,26,12,11,33,9,25,4,2,9,21,30,12,5,5,16,14,13,10,10,6,8,17,8,12,19,29,4,8,7,13,7,24,23,20,5,14,18,19,12,4,16,12,3,4,36,21,4,9,8,3,4,6,12,16,34,5,15,21,7,47,44,14,12,17,11,31,21,13,3,18,4,19,16,9,12,36,19,5,17,4,23,16,5,4,28,8,7,12,24,14,5,35,6,5,12,9,25,7,11,17,17,47,22,20,23,39,22,38,3,3,4,4,12,4,38,14,10,4,43,9,34,3,5,10,17,8,9,13,4,11,9,29,18,40,18,10,11,3,2,25,14,40,4,2,7,12,8,3,3,6,19,18,4,40,6,22,5,5,9,4,6,2,1,22,1,11,4,7,3,7,2,27,10,15,42,21,33,4,44,40,4,3,5,39,3,36,4,37,12,4,4,19,2,23,6,36,13,20,6,13,3,33,21,5,39,62,31,9,12,28,24,14,7,8,13,2,30,4,16,39,3,26,43,4,12,12,13,10,9,9,34,12,29,1,2,5,7,28,6,2,19,4,3,2,22,34,33,5,3,34,32,1,2,25,3,13,42,11,7,2,31,20,47,4,6,9,36,32,35,15,7,16,9,34,3,4,11,25,12,8,38,8,3,3,28,34,1,5,6,23,13,21,19,32,9,20,6,11,2,33,21,10,31,11,23,12,13,22,25,7,4,11,41,2,27,7,32,7,8,5,2,5,4,33,12,3,35,3,13,19,35,14,14,8,21,6,42,9,8,8,42,9,6,12,5,25,19,5,10,6,9,9,3,6,4,23,9,40,41,19,7,12,18,17,12,17,13,14,14,40,2,40,18,42,41,2,35,7,4,16,11,9,7,19,17,22,5,17,4,17,6,5,27,16,3,4,9,24,5,11,11,16,35,30,12,6,6,29,3,16,42,38,10,17,28,6,43,22,4,11,26,3,13,4,13,4,7,2,9,32,1,2,23,6,6,20,10,5,26,38,23,19,11,8,10,10,2,18,14,3,9,48,12,5,40,18,5,18,3,26,25,15,33,7,7,22,4,16,11,7,9,26,4,2,5,4,19,3,5,7,17,6,26,23,3,5,5,6,17,40,9,11,20,11,6,17,7,1,3,3,5,14,16,14,38,5,46,41,8,8,8,28,41,14,3,33,8,12,10,17,20,20,35,7,42,21,20,10,30,26,18,3,5,41,28,21,5,6,10,5,32,8,9,12,12,3,10,20,37,5,13,25,14,20,10,2,19,12,2,20,10,28,28,3,7,2,10,3,34,10,1,31,1,9,30,16,10,7,37,15,7,15,23,23,17,45,4,4,8,5,15,3,18,22,12,9,21,17,3,7,5,10,18,5,10,13,7,3,18,21,7,31,24,4,18,24,16,2,4,2,27,4,20,38,4,23,6,34,17,7,23,23,22,31,4,7,4,29,6,29,10,4,17,38,18,32,25,21,5,4,8,5,21,33,7,34,12,14,19,17,12,6,19,17,17,10,32,12,4,13,4,47,7,3,4,3,15,32,28,27,23,12,10,3,15,3,32,36,4,2,3,11,4,28,38,5,7,31,10,7,25,12,4,30,10,16,4,3,12,12,9,14,6,3,18,16,4,5,12,34,23,15,8,31,2,35,11,33,14,7,25,3,12,13,7,13,3,37,23,6,6,21,34,1,28,9,14,8,21,2,23,10,21,27,4,18,16,15,41,37,16,2,5,3,42,17,4,8,19,33,20,9,8,23,14,1,6,7,5,29,6,19,23,2,7,2,7,3,23,12,4,4,9,10,6,26,2,5,37,12,19,9,14,4,4,17,27,10,33,5,15,8,11,34,4,8,19,30,4,25,5,7,3,4,10,17,12,8,16,4,3,48,39,13,1,4,6,7,2,2,10,2,24,11,30,5,17,4,7,6,29,3,3,41,5,3,9,5,3,7,3,43,15,5,10,9,8,19,6,9,15,15,8,8,16,23,8,18,6,25,24,10,12,19,14,32,6,4,6,24,9,8,8,8,18,2,38,26,17,6,15,6,12,13,34,33,8,37,3,1,3,27,4,9,16,6,14,3,7,4,30,2,25,8,31,5,4,6,3,33,1,12,2,3,13,32,4,13,14,30,21,3,18,3,31,35,31,26,41,10,10,3,26,11,15,3,24,2,4,2,5,4,10,8,5,6,3,4,6,17,7,30,10,30,6,3,17,2,32,5,4,16,7,18,41,29,5,18,24,4,7,32,23,7,22,19,35,2,4,3,10,29,45,28,5,17,5,16,19,4,30,27,8,8,10,32,8,22,4,2,10,43,5,27,2,11,17,5,30,47,27,8,19,22,11,8,11,29,25,3,12,3,12,4,14,14,3,27,20,29,7,13,22,5,1,18,10,23,25,17,12,15,9,27,34,24,11,3,36,21,8,7,4,1,10,25,10,16,9,9,10,7,36,5,43,3,25,8,2,43,6,11,29,21,29,8,5,19,13,26,5,7,11,8,10,40,11,4,25,44,7,19,9,3,9,4,4,11,12,26,18,12,7,6,34,5,3,20,31,15,7,5,11,49,8,14,6,10,5,10,31,25,5,27,4,16,5,16,3,39,6,12,8,29,16,16,4,18,10,4,18,11,9,9,11,26,8,10,3,6,2,2,7,19,6,2,3,24,37,7,20,18,24,2,1,11,33,5,12,3,1,2,20,6,31,39,5,5,11,4,10,18,7,40,43,36,26,40,8,9,2,5,2,7,5,27,9,7,12,35,5,5,38,13,2,14,34,23,8,8,3,8,15,4,47,4,9,16,6,1,40,8,2,5,3,1,22,4,7,6,2,2,30,11,4,48,17,11,23,38,4,41,27,18,5,25,4,26,20,27,1,5,9,6,11,4,34,7,24,9,4,41,3,3,38,20,4,15,20,12,43,3,2,33,7,19,10,7,10,36,11,29,30,23,5,27,10,44,4,10,24,8,21,5,17,4,13,39,6,2,4,5,28,13,5,12,21,11,8,22,2,17,22,8,22,7,3,10,25,7,44,2,6,38,14,3,7,15,2,12,6,2,2,7,28,17,4,9,7,10,8,2,35,3,11,6,12,6,18,3,9,19,12,20,4,33,11,40,11,5,9,25,6,5,4,20,10,12,4,18,12,31,2,5,39,24,15,3,33,28,52,9,12,4,5,6,12,28,9,23,16,4,15,24,6,14,5,4,27,16,14,11,2,10,30,17,11,12,16,11,3,4,19,17,16,23,15,30,42,6,13,8,9,35,4,1,20,9,31,2,6,30,6,19,16,8,5,13,14,30,28,21,14,5,18,21,43,10,9,4,23,3,20,4,4,41,9,10,19,17,43,40,17,26,27,5,17,36,4,22,36,3,25,12,9,5,6,17,3,7,3,10,12,36,7,25,4,3,2,13,16,31,12,1,10,9,1,35,20,33,5,4,5,15,18,12,7,5,37,6,23,33,8,25,39,33,15,9,11,16,8,8,2,3,39,9,27,53,16,5,28,1,33,6,2,25,14,4,25,27,24,10,14,14,16,10,5,5,10,7,6,14,45,4,4,29,12,8,36,15,10,5,3,4,34,7,21,18,8,14,8,22,40,6,1,25,7,10,22,43,2,2,13,22,20,6,39,10,20,9,9,40,9,14,16,7,24,12,23,2,2,2,17,40,4,4,33,9,9,2,1,40,7,9,4,22,22,9,11,4,28,31,4,23,16,17,4,29,10,18,9,10,35,7,16,34,34,7,20,7,5,3,12,14,34,33,12,12,3,16,9,7,1,2,3,23,11,13,2,3,12,7,31,3,2,38,36,25,31,10,2,25,4,38,31,8,9,5,1,5,6,3,8,25,3,3,4,7,15,9,48,17,4,3,16,9,8,14,39,2,7,32,9,10,44,11,17,10,13,8,32,9,7,7,4,14,14,12,9,8,9,10,8,9,44,15,16,49,5,19,13,7,26,37,26,7,51,15,3,16,4,15,4,18,3,29,13,5,13,39,5,41,12,12,2,44,3,12,15,6,12,6,25,30,7,12,5,14,9,9,33,4,3,8,10,2,19,8,16,2,8,39,2,12,28,23,12,37,31,37,31,18,39,8,9,5,3,39,13,25,18,9,9,29,26,7,17,19,8,33,3,45,20,19,3,4,19,22,21,2,5,28,7,5,5,20,9,4,18,31,26,28,13,17,9,8,12,6,18,13,16,6,2,37,13,20,3,9,12,35,10,16,30,39,10,30,32,3,5,2,4,12,3,6,6,23,7,11,23,2,7,41,7,13,27,13,44,25,5,15,28,35,3,36,24,42,26,3,5,24,7,12,25,11,5,29,4,36,9,5,11,23,4,22,19,45,10,19,8,33,3,10,7,32,10,11,4,8,7,7,29,6,10,3,9,10,5,32,14,12,16,20,8,18,37,28,39,11,7,43,11,21,2,28,10,15,49,4,13,22,18,9,2,21,41,9,40,4,46,5,2,25,12,28,3,8,7,3,9,4,12,10,32,7,7,5,5,14,16,2,15,2,3,8,10,5,1,3,22,10,6,8,7,24,39,7,16,10,5,8,6,33,3,17,4,23,38,29,7,7,26,20,31,5,15,18,4,8,1,25,37,22,35,9,17,12,19,4,9,27,6,10,21,19,11,40,31,9,33,19,1,7,23,18,9,8,3,41,32,8,19,2,49,11,12,5,7,4,9,40,4,5,18,4,12,19,35,14,6,3,21,17,6,25,9,6,21,33,18,6,39,22,33,23,19,11,35,15,14,5,2,20,3,24,17,21,5,6,7,4,3,23,1,9,13,2,8,8,8,35,9,42,36,44,4,1,6,27,16,2,4,11,3,5,28,17,27,8,8,30,9,15,34,29,10,24,8,4,15,34,12,1,5,6,3,3,33,34,44,33,24,6,34,25,29,23,2,12,27,18,9,29,11,26,38,5,22,33,8,30,5,8,11,11,5,21,18,4,28,2,40,25,19,9,13,3,14,6,11,27,27,33,22,4,8,9,3,34,26,6,21,10,6,38,15,14,20,10,8,25,13,40,6,35,7,6,11,7,5,11,25,9,16,20,13,5,6,9,22,7,11,21,5,3,2,6,5,29,6,12,13,13,8,6,2,2,11,27,10,17,4,8,8,6,7,8,2,8,17,28,39,7,10,32,3,12,7,20,7,22,3,16,16,11,2,31,18,18,25,4,34,35,14,2,40,1,17,11,3,21,18,8,36,23,43,36,3,34,44,2,23,8,19,35,12,8,14,19,5,8,4,3,7,15,31,9,11,5,3,4,14,43,13,32,18,11,4,2,16,6,18,26,6,39,6,45,6,4,4,2,24,2,4,38,6,46,7,4,31,4,11,9,5,6,7,26,21,11,3,17,24,26,9,15,31,3,6,12,39,4,23,36,27,7,5,16,9,37,8,1,11,4,4,6,2,44,7,24,4,25,6,19,3,50,13,18,6,5,23,32,28,38,4,24,13,16,15,22,13,4,16,40,11,28,18,12,1,39,25,7,25,8,11,4,16,38,10,17,5,18,10,19,5,5,9,22,2,20,36,12,26,12,32,9,15,14,6,25,3,26,1,6,7,4,30,6,4,12,4,9,8,5,11,3,13,4,10,5,6,10,5,5,15,28,27,12,7,31,1,1,16,19,34,10,49,3,32,5,12,4,11,20,6,6,10,9,6,14,18,4,32,18,26,8,12,9,10,11,33,10,15,5,44,2,9,26,16,8,9,5,12,21,12,2,29,9,6,35,10,4,17,37,8,26,38,42,25,23,4,40,15,38,1,7,8,4,8,13,1,12,16,14,3,14,20,29,24,9,1,17,7,34,32,17,12,5,24,7,3,6,12,3,15,5,27,12,14,16,7,17,15,5,8,12,17,36,27,13,13,5,38,8,26,27,28,16,9,13,2,2,33,3,28,11,31,5,7,22,7,25,14,13,8,21,2,9,9,26,7,7,1,32,3,46,35,4,8,6,18,15,24,37,36,6,25,21,3,11,11,3,7,11,16,18,1,4,8,29,5,9,3,44,13,34,3,16,5,25,13,4,34,2,4,17,2,22,11,1,26,15,7,2,26,5,5,3,18,26,18,21,29,8,10,2,3,6,9,25,7,13,6,13,11,9,5,26,3,4,8,8,5,7,42,3,35,5,28,21,14,12,24,31,18,2,4,7,26,23,7,23,22,15,1,7,36,14,5,25,5,16,7,1,7,44,9,6,6,19,4,6,33,19,4,2,2,16,11,31,29,9,37,22,20,6,3,32,25,6,5,3,5,7,2,6,33,21,8,18,7,31,40,9,21,37,9,46,14,7,3,8,36,48,10,20,14,4,14,34,12,3,40,4,13,47,6,16,8,7,3,4,42,5,35,22,2,16,18,3,4,16,20,2,40,18,4,9,25,9,31,5,11,17,14,16,24,4,9,14,2,14,14,49,7,6,25,6,6,4,6,23,37,6,2,10,7,9,8,11,6,15,4,12,2,9,9,3,17,17,34,39,32,10,5,17,7,35,23,8,4,7,32,2,11,43,3,21,13,39,24,23,7,4,28,1,39,26,24,37,4,10,3,7,24,5,6,5,1,14,5,22,14,16,38,31,5,19,11,16,11,1,2,3,9,7,32,17,2,6,3,4,15,31,4,8,9,9,12,28,37,5,2,31,37,5,9,28,12,28,37,4,4,18,19,27,3,5,10,7,12,32,22,19,6,2,7,17,6,23,27,20,5,37,35,2,8,15,21,26,8,17,52,4,2,18,4,36,3,23,7,1,3,2,34,23,2,11,10,16,12,40,10,6,29,4,34,2,5,12,18,21,12,9,7,3,3,15,1,22,21,27,16,8,5,20,26,7,23,24,5,14,2,26,7,23,3,20,13,48,23,17,9,3,8,29,32,16,15,14,11,21,5,15,4,20,41,9,14,11,35,4,45,3,16,14,16,30,33,16,6,6,15,6,8,2,20,6,7,2,13,32,39,7,15,8,19,15,2,9,3,18,15,4,14,24,15,4,5,28,12,7,4,28,6,6,5,11,12,2,10,40,29,5,37,10,10,4,1,11,4,24,17,3,6,35,16,3,6,5,3,4,16,9,3,27,16,5,13,4,26,14,9,3,30,15,16,3,7,6,24,5,10,7,12,26,14,7,12,10,2,1,4,6,3,9,11,9,8,27,10,14,6,5,26,11,26,6,3,48,44,1,13,7,7,5,23,15,6,27,6,11,7,11,8,5,18,41,31,22,10,2,4,10,2,16,47,8,20,15,39,16,5,27,14,24,49,19,7,32,28,7,12,14,5,6,9,13,9,12,30,11,23,4,10,3,27,1,5,21,11,15,24,6,27,7,40,6,8,3,15,13,33,27,12,8,6,26,22,4,27,47,1,22,3,9,22,7,34,20,6,16,14,3,36,2,9,11,11,5,28,5,2,6,39,16,31,14,12,33,4,10,11,38,19,10,41,17,4,4,40,18,2,18,33,2,4,13,3,12,8,16,8,4,2,7,22,13,44,33,7,4,22,21,5,6,11,7,31,2,19,8,4,10,1,26,25,19,3,8,1,4,19,28,2,4,21,11,13,22,14,25,5,32,23,9,6,13,9,4,10,38,3,6,12,12,7,4,11,14,24,5,12,23,1,29,6,14,4,6,6,30,2,29,21,2,12,10,11,18,11,6,8,18,10,31,16,21,11,26,16,9,9,22,17,41,3,5,3,23,19,24,7,8,1,30,4,6,16,39,36,14,4,30,5,9,7,15,24,3,38,8,9,3,24,37,3,23,26,7,2,5,14,4,22,39,17,22,5,4,4,35,32,7,4,28,2,4,17,6,10,8,24,3,51,9,23,16,24,13,24,20,9,29,32,19,33,30,4,36,7,19,1,9,8,4,46,7,5,21,27,9,21,5,41,22,18,4,11,22,31,17,15,26,17,4,7,3,14,16,15,23,24,3,10,18,4,31,22,13,1,20,14,6,15,44,34,7,4,11,10,32,30,7,48,5,4,13,9,24,4,5,9,9,3,2,10,44,16,18,25,3,18,8,6,6,14,7,30,5,5,18,3,5,10,7,6,33,12,6,5,31,6,10,12,20,20,16,4,11,33,9,1,3,12,11,42,31,6,6,33,21,8,3,1,5,41,4,14,11,13,7,6,5,7,3,11,12,32,12,19,26,6,2,5,21,16,6,19,11,29,25,18,31,31,21,2,14,1,28,11,11,46,49,7,5,10,5,25,26,3,12,16,37,21,4,25,25,8,10,15,1,27,3,13,3,37,7,2,5,21,12,10,13,16,21,4,2,9,10,18,15,6,7,11,13,9,14,33,24,44,16,30,18,38,26,24,6,25,15,15,26,2,20,14,46,35,6,37,33,15,16,14,4,3,6,8,43,5,12,1,5,23,39,11,34,7,4,31,24,6,5,22,2,35,20,12,9,30,24,18,6,2,38,9,17,8,18,27,21,11,5,17,14,33,9,7,6,33,50,5,9,6,16,2,4,13,15,4,9,16,38,10,21,1,7,4,33,11,8,13,36,8,53,7,21,40,3,7,15,5,11,4,9,16,34,6,35,24,39,16,9,18,17,40,3,18,25,3,24,2,3,4,13,5,4,17,0,4,9,27,12,7,24,12,26,22,5,8,24,14,14,8,10,10,3,31,4,1,33,3,6,41,29,36,37,18,26,34,1,14,11,42,19,14,24,11,8,1,23,9,7,9,3,12,5,19,15,17,5,25,4,14,10,2,40,4,22,17,18,4,7,14,21,3,7,2,22,15,5,5,5,41,49,6,2,24,5,5,3,12,5,4,8,6,4,6,9,30,8,6,9,34,4,42,3,28,10,27,9,34,16,8,4,35,3,11,2,4,12,9,24,1,3,18,36,7,44,7,27,11,5,19,8,7,25,16,38,10,34,39,4,23,15,15,4,2,1,33,26,7,4,17,4,3,21,18,9,3,14,2,17,30,3,35,40,7,16,11,1,1,7,20,34,3,15,2,40,20,7,4,2,11,29,42,13,2,3,12,36,30,20,3,5,2,5,36,6,13,32,22,28,39,10,31,6,21,10,12,1,46,3,3,27,11,10,3,12,20,19,27,5,24,8,2,48,23,6,27,17,2,35,21,38,5,12,6,9,5,33,8,20,16,11,5,15,14,13,20,15,19,8,20,16,13,5,14,13,42,45,6,34,29,3,44,2,17,38,25,6,11,15,12,13,26,9,3,10,19,27,9,26,22,2,17,2,6,19,5,14,3,44,8,30,11,11,6,18,19,3,23,10,22,5,3,33,22,5,19,10,28,41,9,41,17,5,2,8,5,8,34,30,17,13,12,10,36,4,22,4,3,6,23,13,3,15,4,16,19,2,25,30,17,10,25,14,27,4,8,10,8,36,3,6,41,4,10,5,14,10,7,21,4,12,23,4,2,8,18,45,3,7,10,10,35,8,2,3,1,23,26,30,24,8,2,8,18,16,6,13,2,31,4,34,16,4,13,3,7,10,9,8,11,14,43,22,23,2,18,28,7,16,13,4,3,2,9,8,50,29,5,7,17,7,2,6,25,21,2,6,23,3,25,4,3,27,6,5,45,5,20,2,5,23,35,12,4,11,16,11,30,7,48,24,4,24,21,18,25,23,17,33,15,4,5,25,32,5,47,4,37,38,3,10,14,4,6,31,21,3,9,26,10,5,12,29,23,12,8,8,14,27,4,26,37,24,6,8,9,20,14,10,10,7,9,6,19,50,16,10,26,9,8,27,21,12,16,35,8,3,46,41,13,16,39,4,12,39,2,3,4,3,28,3,48,4,39,7,2,6,34,15,3,1,41,4,17,16,14,34,25,8,16,18,16,7,7,19,13,18,13,7,38,8,21,16,10,22,5,10,10,5,12,27,10,39,2,26,16,20,8,7,13,4,21,10,29,4,6,44,2,16,8,6,17,41,8,2,6,9,10,1,7,10,22,6,5,2,8,34,12,40,21,6,34,26,4,37,9,6,2,5,13,19,12,6,9,12,8,20,8,11,3,13,17,9,3,30,35,6,40,12,34,4,5,4,5,6,2,18,17,34,23,24,21,22,24,10,5,6,18,3,6,4,4,8,8,14,32,9,8,19,39,3,3,3,3,4,6,1,11,40,2,23,5,2,12,44,20,1,19,8,24,3,17,22,12,8,3,6,11,34,1,11,11,12,2,16,48,24,35,18,5,13,5,5,5,26,33,6,5,39,12,39,18,10,8,23,1,37,29,5,6,26,8,9,11,16,42,8,11,1,13,8,12,4,5,11,10,10,38,7,3,16,13,6,26,3,9,35,16,21,4,9,9,6,34,6,7,19,4,4,24,3,14,11,46,3,30,9,6,32,5,25,35,5,4,27,6,38,15,2,40,4,13,16,8,14,9,27,25,24,2,9,35,2,13,34,4,37,5,28,25,26,6,2,23,13,4,13,14,30,4,3,3,6,2,4,10,5,21,3,8,12,15,17,39,8,7,39,10,9,24,16,13,12,13,10,33,16,2,31,6,18,9,34,23,32,11,9,48,4,35,14,21,17,5,2,17,24,20,13,24,9,9,2,11,6,16,10,10,14,4,9,27,23,6,29,9,12,2,29,16,3,24,5,8,15,27,15,13,8,4,5,20,6,6,3,9,44,5,8,6,3,7,10,9,30,5,13,30,9,15,3,3,49,7,13,6,14,7,9,8,4,7,43,8,3,8,23,4,5,40,29,7,19,9,16,1,24,3,8,2,15,23,20,3,22,4,8,24,16,12,8,19,5,2,11,4,6,10,8,6,4,11,24,32,34,8,16,44,8,20,3,13,15,10,11,11,10,1,24,4,19,5,11,20,32,31,6,28,11,22,47,38,40,13,16,2,18,10,6,33,17,9,7,15,2,49,11,2,6,2,3,11,3,46,15,2,25,5,5,14,31,27,6,13,15,4,9,8,20,16,12,9,3,21,11,2,4,22,16,10,4,17,34,13,17,45,4,12,15,3,6,7,13,1,21,3,24,21,1,15,1,20,24,29,27,3,20,3,21,3,16,41,23,7,12,26,8,17,9,16,19,10,2,4,4,10,9,11,30,45,44,27,4,7,2,6,37,6,4,14,6,7,6,7,24,43,42,8,24,2,2,16,9,21,4,3,24,20,27,11,4,44,4,38,6,40,11,6,34,9,12,5,5,7,2,6,10,8,7,6,19,37,43,36,27,8,15,12,17,9,26,11,48,5,38,26,8,6,5,18,11,38,3,49,38,8,8,14,5,28,24,34,4,1,9,20,7,7,10,7,16,13,17,2,22,43,39,12,19,9,2,31,3,16,13,9,11,38,4,10,14,12,11,5,17,6,15,28,13,5,20,36,14,22,23,6,17,21,13,13,10,21,14,44,8,1,8,6,4,4,8,11,1,43,36,34,8,13,11,22,25,15,9,8,34,4,7,16,5,33,2,40,12,5,37,4,27,6,7,8,18,7,30,19,9,2,22,2,28,19,18,38,29,7,7,8,12,38,13,32,34,17,4,8,11,15,28,35,25,11,41,2,32,33,10,5,35,2,8,6,5,29,9,11,10,30,16,27,42,8,4,14,2,18,3,25,18,22,19,37,4,31,5,2,2,19,30,1,23,35,3,14,23,6,22,5,7,2,6,25,37,6,30,3,24,6,13,6,14,5,19,3,7,5,6,5,9,5,16,3,6,32,8,2,7,5,5,4,4,11,5,8,2,3,3,24,11,36,11,13,14,14,32,7,8,16,7,34,5,10,5,9,3,13,29,24,11,4,20,7,28,14,28,27,8,29,4,1,17,4,1,26,28,14,22,34,26,8,1,3,3,10,2,10,36,18,3,11,22,10,9,12,22,11,52,39,14,7,8,4,44,2,12,26,21,8,3,21,13,7,8,28,8,21,4,6,10,6,6,43,21,21,3,13,13,11,10,25,17,10,35,30,12,24,44,4,17,41,40,2,13,4,10,14,14,7,9,16,5,37,3,7,9,17,6,3,3,15,29,11,15,6,2,5,3,4,23,10,2,2,5,6,7,7,24,27,5,10,10,16,19,2,40,1,27,8,9,37,7,24,4,10,1,3,18,30,5,7,6,11,9,12,2,6,1,14,2,21,24,1,4,2,5,14,7,40,9,5,6,13,7,29,9,4,33,21,26,8,8,10,8,4,8,23,2,8,9,2,23,4,7,13,44,15,20,6,5,20,4,12,18,15,2,18,11,17,19,29,40,37,37,9,16,10,10,3,5,34,28,10,19,38,4,2,2,10,17,27,34,33,22,5,48,23,2,4,6,8,8,16,3,19,8,15,4,4,9,11,3,37,18,24,12,21,6,5,10,4,2,38,8,19,27,31,17,7,21,20,6,5,2,16,5,12,6,10,21,10,4,3,4,15,22,9,5,10,33,5,31,2,33,5,9,16,36,9,31,14,16,34,15,31,36,27,16,16,3,4,22,4,48,13,5,6,7,27,9,9,2,5,35,21,10,17,27,3,35,26,16,41,3,40,42,10,38,46,10,36,11,16,3,27,4,8,9,33,34,6,7,6,13,11,9,44,33,5,24,37,23,26,17,20,17,3,7,23,6,7,44,15,6,8,31,40,10,25,7,12,16,37,12,5,17,23,8,4,20,37,4,32,2,8,3,11,15,18,34,12,4,2,8,16,37,31,28,2,14,7,33,13,8,10,19,28,24,44,33,22,30,6,7,4,2,12,33,10,10,38,5,3,3,6,21,12,1,22,3,13,5,8,4,10,20,11,29,4,42,4,11,27,10,10,4,22,13,9,11,8,14,47,9,2,32,18,10,39,37,36,2,16,15,14,9,17,21,24,9,7,31,18,9,6,25,11,11,22,10,14,7,36,6,4,22,9,32,6,25,24,15,4,11,8,1,6,18,14,36,17,17,2,5,9,7,4,5,10,11,7,4,6,26,10,24,32,4,3,8,6,5,9,7,9,3,11,2,3,17,6,4,5,23,35,8,7,6,3,22,10,1,2,11,15,3,29,22,14,15,3,18,12,15,24,22,8,7,31,2,22,8,3,10,25,7,7,38,5,1,12,10,13,19,7,12,2,7,38,8,7,5,14,5,17,15,8,37,3,13,5,5,23,34,13,28,10,4,5,11,3,8,13,30,8,41,4,38,4,17,36,8,15,19,1,30,13,3,3,8,37,10,3,25,3,15,32,12,4,3,2,18,4,10,4,19,12,18,29,6,14,22,8,21,5,9,9,4,43,14,12,27,33,13,6,6,3,21,16,12,5,43,7,17,18,11,16,13,29,4,22,6,3,2,41,7,16,4,23,23,39,6,16,10,14,7,1,2,3,21,8,27,4,2,14,3,11,23,6,6,28,27,5,21,7,1,17,4,22,5,36,9,7,7,20,46,38,25,9,12,28,16,4,8,3,6,40,8,27,10,4,17,8,4,5,28,11,6,10,35,4,8,4,18,7,13,3,8,5,7,11,7,9,19,2,21,32,32,16,6,5,19,4,20,35,7,48,3,22,4,12,7,6,46,2,4,18,19,12,3,4,3,22,3,21,9,29,16,8,17,2,5,46,17,12,31,22,11,19,39,2,14,23,32,8,9,2,20,4,3,3,5,8,2,48,19,11,26,30,11,7,18,5,14,36,8,8,4,29,15,3,32,3,12,10,13,4,7,23,31,3,6,27,4,35,25,21,20,28,3,28,2,13,7,6,36,10,30,15,36,4,3,4,42,8,8,1,3,36,8,1,18,18,3,2,5,25,15,11,18,9,14,3,4,14,12,12,3,5,41,3,12,2,4,37,10,41,6,15,2,2,27,31,24,11,4,4,16,7,8,2,2,15,1,15,4,21,7,11,16,21,23,6,11,43,4,3,4,44,7,3,7,17,4,15,5,9,7,6,31,25,4,15,23,8,4,32,46,3,20,10,13,25,3,27,11,28,11,16,5,4,9,25,6,51,33,6,5,5,16,6,28,19,10,33,32,16,16,4,26,6,1,25,16,41,14,17,18,5,12,4,8,6,1,11,8,19,11,4,3,25,6,5,8,11,3,6,13,2,5,8,34,8,29,5,18,11,5,8,11,3,3,3,25,12,9,17,17,25,12,24,25,32,12,8,21,35,4,28,40,6,12,33,26,3,5,8,3,23,4,2,7,32,31,14,5,19,4,9,13,3,33,14,22,7,30,4,5,11,14,2,12,36,34,3,17,10,11,33,8,7,5,4,9,3,8,19,4,8,10,3,20,15,6,15,7,14,2,49,42,4,4,4,25,24,24,3,24,31,4,14,40,31,4,18,10,11,4,39,13,9,25,9,23,6,27,18,26,3,17,6,39,15,11,2,43,9,25,2,12,7,19,5,8,2,8,12,29,10,3,9,13,19,38,35,41,5,43,30,4,21,21,17,13,21,25,19,7,9,48,4,36,24,13,2,13,9,5,24,6,3,24,40,43,35,44,8,8,16,7,3,3,13,12,38,17,40,8,40,6,2,42,9,14,12,15,20,11,20,5,17,2,11,19,8,4,11,9,3,4,10,2,10,4,3,45,8,29,4,9,24,2,6,2,7,20,28,9,5,38,26,7,24,41,6,5,5,12,43,13,10,4,8,7,1,12,43,2,22,9,29,9,24,2,29,7,3,7,20,3,10,19,13,15,17,5,14,2,1,9,3,7,14,40,8,35,5,33,17,37,5,14,31,3,8,10,14,11,35,10,3,31,4,35,38,11,6,24,2,49,18,3,3,4,8,19,38,6,5,20,8,29,9,23,15,6,21,11,5,36,21,19,17,5,9,13,17,19,17,3,19,11,10,30,27,7,19,2,11,5,28,20,20,15,9,8,12,10,7,11,19,13,18,9,7,5,4,4,2,7,36,2,9,8,7,20,40,6,24,13,6,12,9,3,5,4,34,11,32,2,32,3,33,9,11,16,4,1,37,2,7,3,19,16,12,18,12,25,2,14,4,33,26,16,5,8,5,5,3,38,5,5,3,41,2,36,6,40,11,12,28,4,4,10,14,10,5,39,6,9,19,26,3,7,10,41,10,22,18,28,4,15,14,2,6,28,18,11,18,6,5,25,5,33,13,13,5,5,3,6,23,18,23,7,6,4,5,22,11,3,19,14,4,18,38,3,11,13,9,4,7,5,1,2,1,39,9,11,18,21,9,7,24,23,40,16,22,49,15,4,15,43,3,6,16,38,6,4,1,25,9,18,19,22,15,2,6,30,33,6,11,14,30,22,19,41,12,12,5,7,19,28,43,13,10,36,6,5,23,17,15,5,22,26,8,18,3,23,4,5,15,17,3,39,5,18,5,25,46,6,22,3,2,12,3,9,3,7,4,17,3,11,3,32,7,35,31,12,31,37,25,3,7,5,8,36,39,9,14,8,3,32,5,11,47,20,42,26,8,16,3,26,4,3,32,18,6,16,13,27,16,3,6,23,36,6,10,3,6,2,23,2,6,8,19,11,14,7,11,16,8,9,18,9,11,6,3,8,30,45,28,17,17,2,22,18,36,40,12,6,12,5,8,3,11,10,11,12,1,6,17,1,11,41,11,18,5,15,25,19,4,8,14,12,23,17,16,18,32,29,5,11,8,8,32,32,34,6,11,13,8,9,15,35,17,9,9,30,17,32,32,3,12,24,11,2,30,8,2,24,47,9,3,7,7,16,16,22,7,19,4,6,3,9,51,7,7,7,9,6,19,12,44,13,6,11,14,11,17,5,23,28,8,10,41,27,2,9,37,37,7,17,7,25,7,8,40,4,11,24,12,8,44,34,19,24,42,7,5,4,8,36,9,17,11,20,5,26,10,25,9,31,6,17,15,4,8,25,8,10,4,6,5,18,12,15,13,11,47,5,15,5,4,10,29,30,1,3,2,8,2,31,18,47,4,35,22,43,10,4,38,14,9,11,33,10,3,4,26,4,4,21,15,11,23,5,22,12,21,24,8,33,5,34,8,27,24,4,6,6,2,15,2,8,2,11,14,16,26,8,4,11,28,11,26,17,4,14,7,15,13,7,3,12,22,6,33,3,31,10,43,23,30,6,17,33,8,6,6,22,15,6,19,3,5,45,25,11,13,8,9,12,18,8,17,12,5,4,21,4,25,9,4,10,17,22,5,23,11,3,38,16,4,13,6,3,4,15,36,21,11,8,1,6,12,13,2,12,3,21,15,6,18,35,20,5,5,3,8,6,12,16,14,32,39,20,7,21,17,10,22,26,9,6,32,57,10,37,4,1,2,4,21,22,6,13,15,21,25,24,3,6,41,6,8,26,10,15,12,40,10,8,9,1,15,37,5,6,4,9,18,8,6,9,16,16,4,25,38,4,8,20,22,5,24,27,7,15,3,26,12,24,10,11,6,4,12,19,11,3,6,5,7,38,4,4,3,15,7,5,17,3,9,8,10,9,6,24,2,7,7,40,19,26,36,7,15,26,15,4,16,12,26,11,12,10,37,31,16,28,3,3,27,32,1,26,20,30,43,10,27,3,12,42,23,41,6,32,6,6,8,5,11,15,17,4,19,8,20,13,12,6,11,38,17,9,3,18,4,6,5,19,4,11,2,4,2,16,4,37,3,1,23,38,6,5,4,4,5,39,23,11,6,8,23,14,39,10,28,4,18,6,3,6,4,5,13,3,13,6,12,39,7,5,6,39,3,5,16,19,3,10,7,18,15,14,3,8,15,29,13,5,8,10,2,12,6,49,2,25,9,2,11,7,6,33,53,9,9,4,10,2,21,36,23,5,26,13,7,26,3,30,3,19,3,11,8,10,7,3,15,13,1,31,11,1,10,6,15,22,3,10,2,6,15,2,4,4,11,16,8,27,25,17,9,4,38,16,37,2,19,9,13,11,5,12,14,4,6,10,23,35,13,5,8,22,16,39,26,5,26,7,9,21,33,11,2,27,45,9,4,6,42,6,25,13,3,12,23,42,11,5,7,6,7,39,31,15,5,16,9,22,7,3,18,14,38,15,7,33,9,31,13,42,26,20,9,13,7,3,28,20,13,6,5,10,13,5,22,21,4,6,8,9,3,20,5,14,14,17,7,18,7,36,4,7,1,12,24,3,10,12,5,26,7,27,9,5,8,39,4,38,9,9,12,9,35,8,20,5,5,23,8,15,5,20,3,24,18,15,39,13,27,5,29,11,16,12,6,7,33,4,5,2,18,2,16,23,12,4,2,15,8,15,19,31,11,2,6,12,5,7,5,38,21,10,12,2,22,12,6,2,17,16,23,12,13,9,2,9,5,2,12,33,13,25,16,31,9,3,47,14,5,4,10,10,4,5,5,14,9,13,36,21,35,32,39,16,15,19,5,13,22,4,30,12,14,15,7,2,2,19,9,19,10,32,17,15,5,40,5,23,37,19,9,5,41,15,8,8,3,15,9,9,27,7,5,14,3,22,4,3,11,9,9,24,10,13,27,4,39,8,18,20,6,5,2,11,4,10,29,10,10,29,8,6,3,10,30,14,19,7,13,19,3,14,24,17,20,6,19,18,1,37,5,14,31,33,8,34,21,10,21,8,20,7,23,7,10,23,13,4,15,37,3,24,17,4,3,32,4,13,29,6,16,15,12,27,39,11,28,6,8,4,24,3,33,37,1,7,2,36,12,28,28,26,3,28,17,6,13,12,7,3,31,20,15,22,35,6,12,7,9,2,8,20,5,15,18,23,29,29,11,2,18,7,1,8,6,3,5,38,5,8,8,19,3,23,11,5,3,5,13,9,32,8,12,33,8,17,14,1,2,8,5,2,6,34,6,7,18,2,6,10,3,22,11,15,11,9,10,17,34,8,24,14,5,2,9,21,6,24,4,8,40,30,7,4,10,15,11,3,10,5,9,29,10,4,7,4,11,16,14,4,7,8,2,2,32,29,7,7,7,8,4,5,11,2,7,20,28,3,23,32,23,6,19,20,24,13,17,5,17,13,14,9,28,20,18,43,12,8,11,9,10,12,10,13,9,7,7,3,10,2,3,43,4,8,25,3,3,14,7,21,9,16,7,2,6,37,6,8,11,37,2,41,3,24,18,18,14,17,3,19,21,9,33,6,29,3,33,9,2,9,9,4,30,39,3,9,31,19,8,44,40,14,44,4,6,18,9,4,15,13,24,31,6,9,4,28,16,6,16,7,7,15,3,28,18,8,6,7,10,7,10,24,28,8,10,41,3,5,1,13,25,14,22,5,12,3,6,6,7,4,33,38,29,12,4,39,6,21,43,28,34,5,2,3,7,3,18,6,1,7,1,35,3,4,1,13,32,15,4,8,11,44,7,4,5,20,28,9,11,23,21,11,2,2,14,3,6,13,4,33,7,27,15,4,14,6,23,4,9,14,11,3,19,5,7,36,9,12,3,16,37,6,12,4,11,2,9,10,6,7,29,4,52,2,3,16,36,9,12,19,8,8,6,3,10,5,14,6,12,3,27,1,6,8,2,6,23,7,12,13,11,11,16,8,7,4,6,4,10,19,5,27,32,4,14,10,9,33,6,5,14,7,15,27,8,5,13,3,19,11,10,22,15,4,7,15,38,15,4,5,11,26,18,18,48,7,2,2,14,2,29,38,7,4,28,13,31,5,23,3,3,18,6,20,8,4,27,11,3,37,16,17,7,27,6,30,4,30,3,8,16,29,3,35,39,17,4,13,21,7,20,16,23,9,2,6,4,2,11,10,13,8,4,34,4,5,22,3,8,11,3,26,25,3,3,10,2,21,10,16,9,6,12,13,36,1,10,7,14,19,18,8,10,11,16,5,11,15,5,3,18,31,16,8,8,5,7,2,10,42,7,21,32,10,8,2,19,44,6,9,13,4,8,18,12,1,9,17,12,13,10,6,14,8,17,15,6,16,6,1,40,5,17,26,31,3,26,4,40,4,7,3,40,4,5,9,13,15,46,29,48,23,26,21,41,10,14,25,39,10,2,8,1,9,14,17,3,19,2,18,18,3,15,47,11,12,1,26,17,3,20,9,2,7,38,6,2,4,18,3,4,10,42,4,15,21,2,4,8,15,34,5,15,8,14,3,30,16,5,5,13,26,2,5,9,26,27,3,5,14,6,19,4,25,14,12,24,13,19,3,16,36,9,30,15,12,4,44,3,14,15,24,40,3,10,7,23,22,4,4,2,45,7,16,5,3,12,3,2,8,28,3,20,4,31,6,41,5,28,3,13,8,10,16,20,4,18,13,12,12,33,4,15,24,7,33,13,4,5,1,9,16,8,8,19,15,3,27,34,16,42,21,10,5,13,32,15,45,39,10,14,7,7,35,13,3,8,17,17,47,4,14,22,28,5,13,16,7,2,47,3,7,9,33,7,1,1,3,11,18,22,6,9,3,10,4,18,21,30,14,20,9,21,6,13,6,5,20,4,17,24,5,16,5,21,5,3,18,2,11,23,18,15,9,22,19,18,2,14,8,21,4,15,4,6,3,11,3,7,2,6,15,29,12,9,7,13,16,5,28,10,2,5,13,8,2,8,28,32,2,20,18,24,15,3,4,9,31,4,39,20,19,20,6,20,6,22,15,3,31,37,28,5,46,10,6,19,1,31,13,12,5,2,4,10,16,39,43,14,7,13,25,23,12,16,30,10,9,10,1,2,23,11,8,12,9,6,12,1,17,8,16,5,10,32,2,4,7,47,17,9,15,16,21,45,2,11,8,6,21,35,3,28,21,6,8,16,8,5,34,44,9,38,14,11,2,9,7,5,29,10,7,6,3,7,5,21,33,26,18,2,12,18,4,17,7,11,11,9,5,2,33,3,23,10,24,19,4,23,3,23,42,17,2,27,18,10,3,3,4,10,31,15,46,23,8,34,16,30,8,21,2,7,10,46,9,6,25,19,12,4,15,5,16,22,15,4,17,23,5,9,12,31,24,4,31,51,8,31,7,7,16,12,8,33,7,4,20,5,6,5,35,37,1,5,10,17,20,12,5,15,3,1,3,6,9,24,12,21,4,9,20,15,17,26,5,33,1,22,3,11,18,5,18,3,10,22,6,34,22,11,22,12,37,15,4,3,32,24,20,20,6,11,8,23,3,10,3,9,17,18,14,10,1,10,14,36,3,15,6,3,29,6,33,4,13,13,6,17,8,20,17,25,2,3,19,11,8,17,15,7,14,18,9,7,12,6,2,6,18,1,17,14,42,6,6,32,44,15,6,5,20,12,8,7,7,15,21,3,4,16,2,6,36,27,9,10,4,7,3,2,12,33,10,45,2,44,16,15,13,9,24,12,27,4,22,12,4,19,12,23,9,14,3,2,27,5,3,12,11,16,8,13,37,26,4,37,28,7,9,6,5,5,31,17,15,2,13,6,5,14,43,43,2,7,23,33,15,2,24,5,2,5,39,1,2,6,29,40,7,3,7,34,20,7,2,17,4,31,20,5,46,13,30,12,17,3,26,27,10,12,3,42,4,33,16,22,43,21,19,3,40,34,5,19,11,3,18,5,4,22,8,5,3,1,14,18,7,20,8,30,12,4,23,11,43,27,5,24,6,3,41,23,4,20,2,5,12,14,4,8,8,30,8,34,31,3,21,2,5,16,23,7,4,7,6,5,4,37,6,4,23,7,5,12,6,28,24,4,2,25,41,6,9,7,9,13,7,2,32,17,1,4,30,25,8,21,19,4,23,6,5,11,21,16,4,8,20,3,32,20,37,7,6,8,3,43,4,3,14,29,6,13,20,9,28,5,23,10,14,14,28,31,14,1,2,12,21,19,21,40,19,3,3,4,2,31,5,8,10,3,16,6,38,3,16,43,6,20,6,5,32,7,1,6,7,11,18,6,9,5,13,41,35,18,3,23,12,18,3,6,12,3,10,32,23,40,4,22,13,2,1,3,18,6,9,27,15,7,7,8,7,15,30,15,37,14,3,3,7,23,34,5,4,5,5,9,10,3,5,26,14,18,15,4,8,4,33,2,4,10,23,6,11,39,7,31,18,22,3,33,17,32,5,14,41,7,2,12,12,15,31,39,9,1,26,11,1,3,37,4,23,3,3,5,21,13,3,13,22,6,6,6,2,4,38,11,9,18,12,9,2,30,20,36,8,10,11,14,6,14,3,10,5,29,12,7,20,4,12,1,26,40,22,13,8,9,30,17,2,4,2,10,9,24,6,3,13,10,21,27,24,10,13,14,4,8,19,16,3,23,6,8,38,27,6,22,4,13,1,22,13,6,4,40,3,11,3,12,7,20,37,36,4,2,9,43,19,23,16,7,15,16,2,12,21,11,7,39,8,23,15,8,17,30,5,4,16,16,39,27,17,22,25,23,29,7,12,27,9,24,4,2,3,15,4,6,3,3,7,8,8,12,12,23,30,9,21,3,4,8,7,13,8,10,1,18,14,9,42,1,2,3,5,2,3,11,27,3,9,6,14,3,32,7,4,3,8,10,38,23,28,13,23,10,5,36,28,6,7,47,18,23,41,21,4,8,15,18,27,13,4,30,37,21,4,32,11,10,8,18,13,7,4,13,7,4,4,31,26,42,4,17,11,6,18,4,6,36,7,9,18,3,26,10,6,3,15,38,33,10,44,13,6,10,2,33,23,9,5,24,4,20,2,5,25,7,43,41,1,4,27,39,16,8,10,26,32,23,13,33,21,19,20,22,43,7,11,2,29,5,3,6,4,9,14,23,11,14,13,26,12,4,5,15,47,17,4,4,13,3,3,24,1,11,2,9,24,45,7,6,49,12,3,8,5,4,16,37,31,14,14,23,14,10,35,21,3,2,40,2,17,21,5,27,6,34,20,37,15,5,5,8,38,6,5,32,35,18,23,29,8,9,24,15,15,13,32,4,4,11,8,16,9,1,2,1,3,28,11,4,16,10,29,29,5,9,27,20,17,22,3,18,20,8,21,2,35,14,38,15,3,18,10,5,8,20,30,1,2,6,10,4,11,9,4,21,43,11,1,4,29,8,43,8,11,12,25,7,16,7,26,9,24,7,6,9,19,26,14,4,5,25,27,8,9,6,6,7,25,3,4,14,10,5,37,21,18,22,6,35,7,5,5,7,13,31,6,15,46,3,22,6,26,6,4,44,17,14,28,7,5,14,21,22,15,43,17,13,35,2,9,34,14,13,9,5,3,9,14,4,3,43,23,19,5,27,22,9,10,28,6,34,29,5,2,2,29,38,22,26,15,9,15,7,28,20,20,2,4,26,25,7,8,12,19,7,4,13,43,13,24,9,17,21,9,4,8,10,30,5,23,40,50,8,3,5,12,8,6,13,42,7,2,5,9,31,8,4,5,29,3,12,9,18,6,7,22,5,5,14,35,6,3,30,12,1,16,6,7,38,21,24,2,22,12,5,15,2,17,42,6,15,25,9,12,37,13,7,21,38,4,13,2,10,8,9,35,44,3,25,18,3,13,29,2,5,5,5,30,7,12,6,9,26,5,28,41,1,10,1,16,26,3,15,2,14,2,41,18,5,19,2,18,3,41,11,17,40,2,14,39,35,21,37,14,12,10,11,30,2,16,8,5,32,23,11,42,41,7,5,14,12,10,6,25,17,25,51,34,14,6,33,7,28,20,1,5,10,5,3,40,26,6,26,5,13,21,3,8,8,8,10,31,9,4,6,7,5,27,22,13,27,6,6,2,15,4,7,24,23,23,9,23,7,5,13,14,17,37,25,2,29,3,40,13,22,14,3,4,4,6,22,7,28,34,14,16,5,28,7,2,10,24,38,40,11,21,27,33,5,12,4,9,9,23,6,9,27,33,13,8,7,15,25,6,5,20,5,21,25,12,45,3,30,7,13,27,15,33,19,7,10,43,36,31,11,36,14,23,9,2,6,22,8,4,8,27,13,22,45,5,3,7,10,8,21,30,12,28,5,34,8,11,14,20,13,16,29,30,4,34,6,17,42,6,15,8,17,7,20,19,9,2,29,37,44,19,3,25,7,44,2,35,12,25,6,6,20,8,18,10,15,44,41,38,3,3,22,6,27,5,28,30,10,10,32,6,11,10,5,3,11,38,2,4,14,10,2,6,10,7,24,2,3,9,16,4,19,8,7,16,6,22,44,10,28,9,11,9,41,4,10,7,18,16,14,14,3,29,3,5,7,9,22,48,15,4,8,5,23,6,1,12,4,18,29,10,9,45,35,4,13,23,7,11,12,11,2,2,12,3,4,47,23,4,5,15,24,8,17,21,3,8,29,8,3,5,7,9,8,10,13,3,2,11,26,19,4,16,4,1,5,20,17,2,2,15,15,10,13,39,7,33,6,12,2,3,16,9,8,3,36,21,19,34,5,6,18,15,8,7,41,7,10,3,8,8,25,51,33,2,16,9,7,13,4,6,3,44,3,5,34,13,3,36,6,16,37,4,1,37,4,10,10,38,13,33,3,11,38,27,1,2,2,31,40,6,2,12,8,30,29,3,22,9,15,31,43,1,4,36,12,2,16,37,20,20,8,3,6,2,7,3,4,15,24,9,11,4,13,3,8,12,5,36,4,6,6,3,30,28,12,2,1,30,14,14,18,21,38,3,4,27,13,15,3,10,17,5,13,7,22,8,10,29,20,5,11,39,6,39,5,10,15,13,27,18,1,20,3,13,8,8,4,41,9,7,43,3,33,11,7,32,2,10,11,13,4,7,1,16,2,33,20,4,10,6,3,9,6,17,11,28,1,13,11,1,4,5,25,2,10,15,5,31,7,11,3,24,27,20,22,26,26,27,7,5,23,10,5,16,5,36,3,30,19,50,14,21,14,4,41,10,5,12,3,4,12,11,2,2,19,6,6,3,13,9,17,4,13,4,27,3,37,12,4,3,13,6,10,7,11,16,8,6,4,5,8,3,35,8,5,15,38,8,3,20,14,2,17,8,17,23,11,6,24,20,36,9,8,13,3,5,40,13,27,10,28,12,8,8,3,7,9,21,9,10,1,22,26,19,32,36,20,3,9,6,4,8,31,9,5,7,14,9,8,5,20,34,23,12,1,6,21,10,6,4,3,15,7,4,14,29,10,8,25,8,9,8,7,7,21,8,3,24,10,14,10,10,41,20,5,4,39,5,18,46,23,4,19,11,8,19,35,5,36,7,7,5,3,2,33,7,24,8,3,24,1,16,13,17,4,5,7,7,10,7,17,4,1,27,3,10,12,14,26,4,24,14,8,3,37,3,8,5,5,34,14,50,30,6,10,33,6,22,25,8,16,6,6,35,16,33,2,18,10,14,10,11,31,34,11,23,45,3,20,23,11,12,15,6,4,21,21,19,2,18,3,5,5,5,9,25,17,2,6,3,39,1,26,31,8,11,12,7,4,4,3,25,9,19,9,8,14,7,32,6,2,15,17,30,10,7,9,18,5,8,9,17,26,14,1,37,39,5,8,8,20,9,7,19,4,3,30,19,2,4,8,3,13,31,7,3,5,13,1,9,28,13,8,1,20,3,8,11,12,6,4,9,27,9,27,3,4,36,6,34,2,8,4,11,17,3,5,13,17,22,20,32,5,34,11,6,9,30,15,11,9,4,3,11,4,21,7,35,37,21,12,4,18,8,34,9,8,7,24,8,2,4,9,15,10,40,20,6,8,21,30,26,17,3,17,28,17,6,2,8,8,13,4,6,29,8,4,9,33,3,28,14,39,16,30,24,20,13,2,12,3,15,49,11,47,37,21,10,5,6,14,2,1,30,13,12,6,32,5,31,29,16,22,3,10,3,6,11,11,44,35,37,11,20,5,6,17,23,17,3,42,20,5,42,18,25,4,31,22,12,25,24,26,7,19,19,9,2,21,15,14,3,2,7,20,22,14,17,27,33,10,7,35,16,13,12,21,4,8,41,16,12,31,2,25,3,11,7,23,6,10,9,25,8,24,9,4,11,19,26,3,10,14,9,22,13,13,3,10,5,29,16,31,13,21,39,7,9,5,3,31,3,2,19,19,17,37,14,28,19,13,23,9,11,32,34,22,15,10,32,16,19,37,41,17,31,40,26,8,5,14,25,2,14,7,8,12,21,13,12,5,14,4,36,13,1,3,33,6,24,11,23,4,4,21,4,2,2,17,8,3,1,32,4,10,6,6,5,16,2,12,15,39,10,8,6,4,43,7,53,19,12,11,9,19,46,34,18,3,3,24,10,3,8,35,12,2,11,50,12,25,7,7,9,26,16,4,34,6,5,6,9,27,21,26,24,1,15,26,23,29,6,8,5,4,10,5,2,25,7,21,6,2,15,31,3,15,6,41,24,5,3,15,7,29,23,5,13,20,27,2,17,36,32,10,8,33,2,43,17,2,17,19,31,9,13,7,19,24,12,15,12,4,3,15,11,15,33,17,7,5,9,12,13,2,20,40,36,28,5,37,22,9,18,31,12,8,15,14,13,31,8,7,12,30,24,9,10,6,40,10,2,12,2,17,6,7,6,4,28,8,6,11,7,3,19,29,6,12,7,2,6,6,21,22,5,31,11,14,6,8,8,4,35,10,7,24,6,5,14,5,6,7,16,24,5,12,28,9,5,12,37,16,39,10,7,29,4,6,6,13,5,22,30,9,33,12,16,39,22,6,2,23,8,9,6,2,9,1,5,1,40,17,4,10,33,31,7,25,6,3,13,22,9,16,5,39,17,3,3,11,12,16,3,23,12,7,22,5,8,34,8,25,4,29,18,2,40,12,19,4,2,11,27,2,18,15,9,5,4,7,23,36,26,3,24,39,26,15,8,9,25,11,7,5,20,14,3,33,19,37,20,48,5,30,9,5,14,18,14,4,8,2,14,42,7,11,19,6,6,2,5,9,15,3,17,26,43,31,2,37,20,7,4,12,5,6,6,24,5,3,8,12,25,22,47,39,11,8,37,3,32,4,2,38,38,8,26,34,2,12,7,3,36,16,44,7,30,5,5,23,9,5,2,10,10,28,25,10,27,24,4,7,5,6,5,26,1,6,7,38,9,8,28,26,6,7,22,46,29,1,32,29,3,23,23,4,7,4,19,16,37,37,11,27,22,30,30,2,16,5,19,2,39,29,9,18,3,7,12,3,10,6,12,18,11,39,8,16,2,6,41,3,8,18,28,10,3,4,5,21,4,36,16,3,5,8,22,15,2,27,10,27,5,15,7,7,6,8,5,5,8,35,9,22,11,1,4,9,22,10,15,10,7,3,3,4,1,13,33,6,38,3,3,14,42,29,40,46,2,9,32,22,9,16,9,4,15,21,5,9,39,27,5,4,40,21,3,6,3,8,34,9,3,43,7,25,2,8,9,3,7,13,26,27,8,3,16,18,12,11,19,44,7,9,4,43,20,22,19,7,12,4,4,24,36,28,32,29,6,27,12,13,44,2,25,7,9,15,13,20,13,39,12,19,44,1,31,3,2,4,4,30,3,19,9,6,6,22,31,10,15,20,22,31,11,7,35,5,6,8,2,5,5,2,3,9,3,10,10,4,9,3,10,9,13,7,7,31,32,26,2,13,19,32,23,7,16,14,37,7,5,4,6,7,28,4,8,31,13,24,5,12,3,29,7,29,11,15,2,1,9,40,3,11,6,4,3,11,14,39,5,20,3,12,8,6,33,10,15,14,8,4,5,17,19,15,22,22,28,3,8,1,38,9,17,11,6,9,28,18,17,10,31,5,3,12,48,36,8,19,38,11,21,4,2,10,7,18,30,4,13,14,12,7,9,14,11,3,30,36,4,16,39,3,21,12,2,5,9,15,23,17,16,12,22,6,8,10,30,7,5,24,5,21,22,5,5,55,26,5,35,38,6,13,4,23,25,11,5,37,9,26,34,37,7,8,34,10,19,17,36,2,35,15,2,10,3,34,12,11,8,47,4,10,4,4,21,50,4,6,39,10,19,6,29,27,10,13,19,7,19,7,6,13,2,3,4,4,8,46,38,3,24,26,20,35,8,7,20,8,11,10,7,5,11,6,7,35,39,8,3,1,30,16,9,50,14,27,7,3,22,11,11,23,11,6,10,29,7,26,3,7,33,10,22,11,17,14,12,3,6,2,11,38,7,16,33,8,6,13,13,8,6,5,7,4,10,3,9,5,31,3,12,3,28,6,17,22,27,7,9,24,22,2,25,29,16,22,3,24,16,4,6,23,23,12,8,23,4,28,9,5,4,22,4,10,3,21,19,32,38,3,7,11,7,13,7,3,5,40,3,5,10,31,6,8,13,9,35,13,5,32,9,10,9,4,20,13,27,44,7,6,17,6,47,21,5,5,27,38,21,11,9,35,15,8,35,21,25,3,7,8,3,48,10,22,17,4,24,2,3,9,16,12,34,38,22,6,21,16,29,32,27,4,3,10,5,6,2,22,21,7,9,30,4,21,1,28,38,20,29,7,5,10,17,9,5,17,9,17,19,1,35,16,12,6,6,6,1,5,4,10,5,7,27,2,11,15,1,10,5,36,38,37,7,8,4,14,20,35,5,25,7,12,11,26,5,10,6,7,5,21,1,3,17,9,7,4,25,1,11,28,9,4,14,4,35,33,6,8,10,20,14,22,14,30,7,10,8,13,6,33,22,17,3,6,5,17,1,6,5,23,11,5,2,18,11,14,9,6,17,6,15,10,6,28,7,22,2,19,23,3,20,7,12,5,9,27,24,10,8,6,8,20,36,30,5,10,15,6,2,22,30,11,44,5,3,4,5,17,11,13,9,3,12,20,5,22,26,4,16,2,16,15,3,29,1,43,39,5,12,10,15,10,8,8,1,5,3,7,11,19,41,17,4,43,15,6,19,2,19,10,16,4,10,31,36,29,13,14,20,37,3,40,14,12,27,34,4,8,38,8,5,26,14,3,6,29,44,5,29,11,14,34,5,23,10,21,17,12,7,8,3,14,9,8,16,9,17,9,31,15,1,33,8,6,11,10,13,5,3,6,29,8,2,13,6,22,40,46,38,6,6,27,10,18,9,13,8,12,8,26,4,13,2,7,6,37,22,30,5,14,20,6,1,15,34,2,33,14,17,34,7,4,36,8,29,8,21,14,36,7,7,20,37,2,23,9,7,7,9,11,19,4,30,8,5,6,18,21,10,10,18,16,26,11,22,9,3,8,25,4,36,24,37,3,3,15,3,2,16,7,18,7,9,14,10,4,30,46,13,16,6,19,3,31,9,35,13,3,47,9,16,16,7,7,21,3,20,23,7,1,30,33,8,11,45,1,4,4,40,4,19,14,2,21,25,12,24,14,51,4,2,31,8,10,4,12,9,10,10,13,29,2,11,4,2,4,27,4,28,40,8,4,16,6,14,16,7,16,44,34,22,15,9,2,25,36,26,6,31,8,30,27,7,38,3,10,12,15,8,28,3,5,7,23,11,11,5,2,47,21,8,12,22,5,33,40,15,8,24,8,10,43,15,17,18,9,25,1,12,21,7,5,5,25,7,9,8,6,13,3,4,39,14,38,28,12,5,2,4,1,18,8,9,6,12,22,22,14,5,8,39,15,37,36,4,5,13,4,6,4,10,10,6,45,3,3,3,31,6,25,7,2,23,23,13,13,17,24,11,28,8,10,14,36,34,15,15,12,9,49,20,32,14,19,6,24,12,3,33,11,12,2,10,5,36,14,10,13,1,4,24,5,31,18,19,10,11,15,14,6,26,35,3,3,4,13,14,5,8,32,6,8,15,42,7,34,28,29,18,14,2,14,40,9,15,24,5,45,43,20,1,30,24,3,2,13,5,2,16,5,15,4,11,35,8,11,40,20,16,14,22,35,11,42,7,16,8,8,27,20,6,19,42,22,16,9,20,4,19,7,17,23,6,9,21,7,7,20,22,26,15,15,19,5,20,1,33,1,8,23,24,9,6,5,1,6,27,12,10,38,5,4,1,23,6,10,4,44,2,32,22,9,4,22,19,39,34,9,3,3,2,15,34,9,26,9,1,40,12,22,10,6,31,13,23,3,25,40,8,3,38,34,7,11,8,6,5,3,11,36,11,25,7,40,20,3,9,7,13,4,27,13,6,21,10,26,11,5,4,23,2,4,36,17,8,36,2,10,6,1,48,24,21,7,6,21,9,33,12,4,2,6,22,9,16,31,36,4,13,20,13,42,5,4,9,6,8,3,13,32,2,8,35,10,10,11,2,4,2,6,9,33,19,4,5,8,9,4,4,7,8,39,37,37,10,4,11,4,3,12,4,41,11,4,11,18,20,11,7,18,4,25,4,9,19,7,17,21,10,12,11,18,6,9,2,1,11,25,29,12,37,4,47,4,21,31,16,3,5,3,11,3,14,20,12,4,2,15,27,16,51,30,5,10,50,6,17,9,10,9,12,35,6,5,5,28,31,22,19,9,3,2,42,13,14,8,4,10,14,3,11,3,17,5,14,2,16,25,23,4,14,4,24,15,4,18,28,13,32,4,14,11,13,11,3,6,6,11,33,23,5,16,5,18,22,2,15,14,12,21,40,1,3,36,15,16,16,7,19,5,3,2,13,12,27,2,17,8,3,19,8,19,10,30,9,28,17,3,3,27,7,40,9,16,8,14,5,14,21,14,6,29,16,6,42,9,2,14,21,13,20,5,28,14,7,22,24,5,5,29,6,4,23,48,38,9,11,20,5,40,3,30,9,19,4,8,28,5,11,32,7,6,4,34,32,9,3,9,29,34,8,41,10,17,27,8,17,19,12,13,10,9,7,9,26,3,34,9,36,20,25,20,12,27,5,43,25,3,32,49,8,12,35,6,8,8,16,5,33,14,11,25,16,10,6,4,9,3,8,8,8,11,24,26,12,8,8,17,8,16,4,16,15,42,14,13,14,25,5,7,22,9,10,7,21,8,10,7,25,12,6,17,23,4,5,8,7,34,29,10,2,11,10,26,21,18,33,11,14,29,9,6,4,5,2,26,3,22,9,25,8,10,14,2,16,42,4,4,14,21,7,16,8,8,2,2,2,4,22,6,35,2,6,10,6,4,28,18,3,2,27,12,8,41,1,15,12,42,3,3,27,14,8,12,3,9,24,14,14,17,12,18,6,15,6,12,10,17,4,6,19,13,9,4,20,6,16,19,22,4,8,6,10,27,3,18,15,2,19,6,6,10,39,3,2,4,13,31,25,21,24,38,7,12,4,48,14,22,19,8,44,22,25,7,14,42,13,4,4,2,4,8,2,33,41,23,16,16,5,12,12,21,8,7,10,24,20,1,4,13,23,14,1,7,1,12,3,16,12,7,4,33,23,20,29,22,37,6,5,26,21,9,16,12,11,28,14,4,3,46,4,4,40,44,15,3,42,3,8,3,28,17,5,29,4,35,7,5,12,23,9,37,15,9,17,26,22,9,2,8,30,26,20,9,17,4,15,4,18,7,7,23,18,9,22,12,6,22,9,14,8,13,10,6,15,8,5,34,20,22,10,26,14,19,30,8,14,25,30,24,29,8,12,1,18,17,41,4,42,9,2,10,37,15,3,17,8,6,18,22,6,5,40,8,5,4,11,44,29,20,7,11,3,8,3,3,14,4,12,4,17,6,3,41,4,14,24,23,13,14,8,39,2,27,13,35,5,8,5,7,12,25,33,13,17,17,3,4,10,10,7,4,26,25,9,10,32,13,17,5,23,3,28,14,34,4,19,22,2,18,18,40,17,8,37,4,34,11,13,15,10,15,12,7,14,6,9,9,9,4,2,22,8,1,11,5,4,37,42,12,4,40,25,48,5,3,1,9,5,5,9,14,28,4,12,14,6,21,36,7,11,3,4,36,38,18,6,19,20,31,4,10,23,6,21,17,1,3,10,28,5,3,20,2,18,3,8,10,5,4,34,4,1,11,13,5,9,17,9,26,9,6,3,2,3,33,5,2,15,19,12,6,12,10,16,2,8,2,19,16,2,3,2,2,27,9,17,38,9,33,2,4,15,8,35,23,6,24,31,8,18,12,26,4,21,23,25,4,44,4,4,17,19,34,35,7,33,19,34,30,24,43,11,38,5,4,40,10,4,41,22,9,15,18,16,16,35,12,4,8,10,20,7,22,9,9,9,11,21,7,16,7,4,15,36,21,3,33,23,3,3,16,6,12,2,5,51,12,7,7,7,16,9,3,13,15,4,32,5,27,6,31,25,13,20,7,24,28,14,8,2,22,35,7,32,20,24,7,42,27,30,5,24,5,30,3,21,6,3,49,5,8,24,16,24,23,3,10,5,8,13,16,4,6,12,33,7,16,18,5,24,10,7,4,13,23,2,22,5,5,16,24,2,6,6,5,22,7,9,13,9,11,5,8,2,34,14,50,16,2,39,16,34,13,12,9,20,36,17,28,40,6,7,12,10,32,9,6,5,18,39,18,21,37,10,4,29,28,2,26,8,4,39,26,5,2,18,3,19,6,8,6,37,1,10,2,5,23,24,12,22,29,4,5,4,18,5,13,37,3,5,6,8,22,6,40,15,8,13,7,11,4,21,12,19,13,20,11,3,5,23,7,5,18,11,13,2,4,14,6,13,11,4,30,26,7,28,41,10,13,13,7,31,2,8,18,32,15,2,9,11,21,15,3,30,41,3,26,26,6,5,8,4,4,9,10,5,6,43,7,1,38,2,45,26,4,10,14,18,10,3,23,13,12,25,52,43,11,33,28,23,9,11,3,5,15,11,11,12,10,11,16,20,10,9,18,14,8,7,22,14,19,11,24,1,10,32,23,7,11,15,30,28,27,41,3,12,33,7,19,10,6,21,14,8,24,17,4,18,14,5,14,11,11,17,3,4,3,18,4,32,6,36,5,10,19,2,25,4,13,5,3,19,38,6,3,4,15,3,33,41,4,9,23,16,13,11,2,3,14,7,23,5,13,5,2,11,20,10,13,2,21,52,6,12,4,3,3,11,31,9,5,46,13,28,8,5,4,15,5,2,8,10,38,5,45,6,5,10,32,16,7,5,9,7,6,10,9,9,2,11,17,5,18,9,8,4,12,6,5,15,27,7,4,26,25,2,23,12,23,16,4,8,34,4,10,5,9,14,4,33,6,29,2,14,37,27,6,31,8,5,16,2,5,9,8,3,14,20,22,7,37,18,10,18,32,14,36,22,11,17,12,9,26,13,0,8,40,13,10,3,5,36,30,1,0,23,3,2,9,13,7,26,6,35,10,15,14,15,5,9,21,3,6,4,12,7,49,3,3,9,20,22,15,2,21,24,14,2,5,34,41,17,48,31,21,12,5,12,24,8,4,31,15,42,24,9,7,3,6,43,19,14,8,39,14,5,8,7,10,8,5,17,5,15,9,27,11,18,2,2,6,15,6,26,4,3,2,7,7,7,36,20,37,12,3,9,9,22,33,19,27,5,4,13,3,13,38,27,2,18,4,7,6,14,4,37,25,6,1,25,4,6,20,16,4,31,3,5,27,7,6,3,3,21,28,6,11,15,7,35,4,11,22,1,36,9,28,15,3,24,3,10,15,23,19,2,14,11,13,42,25,29,9,12,34,12,11,18,18,18,5,11,21,10,19,38,8,25,21,3,11,9,31,6,7,6,5,5,7,26,3,3,9,3,21,6,23,10,15,29,32,12,15,9,6,6,9,5,9,2,6,26,37,13,32,1,10,6,24,11,28,6,9,8,7,48,16,2,21,20,32,2,3,5,2,4,3,36,44,3,11,10,4,11,10,7,33,6,6,19,1,18,22,27,23,5,7,4,10,11,37,8,4,39,26,20,20,9,25,10,6,2,4,13,9,29,12,3,10,5,29,7,4,6,15,6,4,16,11,8,14,15,15,5,11,9,4,6,28,6,3,31,12,12,5,6,19,15,25,22,26,21,24,1,13,4,6,8,12,11,5,3,12,32,1,10,3,3,5,18,22,16,11,3,8,12,20,33,4,11,38,3,27,8,17,29,18,23,5,18,13,12,18,7,6,4,11,9,39,8,2,6,20,13,19,9,4,10,24,10,4,10,13,19,42,29,11,49,1,12,4,37,2,34,28,14,10,15,4,16,44,16,4,11,3,30,36,10,10,3,7,2,5,21,7,4,8,4,31,4,13,4,23,5,19,5,6,17,29,6,18,3,21,16,22,8,3,6,42,13,18,25,5,43,3,8,6,19,28,3,8,3,6,2,9,31,37,8,5,17,36,26,10,39,1,11,7,9,4,13,37,27,31,11,19,3,20,15,4,28,45,37,11,9,21,2,33,39,10,27,5,46,8,10,13,11,13,51,34,13,19,14,11,41,22,38,3,12,17,17,30,4,3,4,42,8,6,24,7,36,4,6,4,8,5,20,23,4,2,27,16,19,11,28,21,11,9,9,16,19,4,6,12,2,10,15,4,28,9,3,2,4,17,5,6,31,14,4,26,1,3,1,3,38,22,8,6,12,2,5,2,5,32,23,28,15,10,5,35,16,10,4,29,7,20,40,13,41,4,21,48,18,12,8,41,43,23,2,9,26,28,22,3,3,46,6,27,24,27,38,4,29,13,16,16,32,17,25,11,3,40,10,9,15,3,46,41,5,12,7,43,4,2,9,23,46,11,2,3,2,5,6,20,12,11,5,22,10,1,8,3,1,5,24,25,6,10,13,9,38,27,5,10,32,13,4,8,9,8,41,16,20,4,32,10,29,7,7,6,4,28,9,2,42,11,9,15,10,38,4,29,48,31,1,4,11,17,1,15,12,5,4,6,19,26,7,4,11,3,10,6,17,40,8,18,11,31,2,8,40,3,9,8,3,11,14,6,1,32,9,15,37,26,14,14,18,9,12,8,7,33,14,3,8,14,25,14,37,2,2,8,11,18,7,5,22,9,8,31,18,14,26,49,16,14,1,4,7,15,2,4,14,1,24,5,4,17,42,6,7,10,30,10,5,4,2,33,4,24,39,7,18,5,13,25,8,27,18,2,24,20,29,14,44,47,16,2,5,2,41,4,9,3,14,5,2,11,10,17,36,4,4,44,44,24,18,7,1,8,24,6,22,20,1,4,2,9,2,9,19,11,42,6,15,42,13,8,44,42,14,3,3,12,3,12,37,14,6,5,22,3,12,5,7,14,4,23,6,13,12,22,5,4,15,3,7,4,8,3,13,19,15,41,13,31,8,7,15,13,1,18,6,39,7,13,39,24,34,10,13,27,12,14,3,16,18,4,34,4,24,25,4,30,1,17,7,13,16,6,7,3,1,25,31,20,10,11,3,36,7,7,6,9,24,9,24,6,16,39,26,32,26,9,23,4,18,5,6,11,7,6,14,1,2,6,6,16,3,3,22,13,17,2,12,7,10,19,5,8,27,29,20,28,2,9,6,4,14,20,15,20,20,15,6,3,24,9,8,31,5,23,5,15,14,2,2,14,13,6,19,7,9,3,25,2,6,14,5,3,4,3,39,13,3,17,31,15,2,32,30,28,4,35,4,3,29,38,13,8,16,4,11,40,23,13,9,8,8,42,4,11,13,10,11,5,17,2,20,5,8,14,5,5,5,5,19,13,12,18,28,7,14,5,11,19,13,7,19,38,13,6,11,5,35,9,45,9,14,21,8,13,17,6,6,5,5,13,6,36,4,7,17,16,10,7,4,21,15,20,53,7,6,19,12,26,1,8,1,9,2,14,23,23,22,34,17,10,3,17,6,5,3,39,30,5,12,26,23,5,3,10,8,11,3,33,5,5,42,4,4,28,8,5,8,10,5,24,4,20,9,2,4,3,3,16,9,3,19,4,13,34,2,13,17,27,26,2,2,28,4,12,15,36,1,24,4,21,4,25,15,9,9,24,17,18,2,21,47,7,19,8,11,10,39,13,18,9,15,4,13,1,12,3,10,34,8,14,8,34,1,7,14,4,5,12,10,10,30,8,21,19,8,32,43,24,11,47,8,24,5,11,27,22,2,15,18,11,22,12,15,24,6,15,28,10,38,10,10,4,14,3,17,5,15,5,11,3,10,6,19,2,34,3,2,16,23,9,17,19,6,4,26,5,7,14,32,11,23,4,4,11,2,5,7,11,34,4,21,12,13,30,3,11,5,27,40,3,25,16,30,16,36,13,31,16,14,3,3,16,8,5,5,10,5,27,7,16,13,9,11,4,21,1,14,7,4,14,16,10,2,25,3,6,26,3,4,5,10,29,3,6,3,34,7,6,4,2,2,15,1,13,15,2,19,29,5,8,5,3,34,21,7,18,3,43,25,26,8,4,17,1,28,6,4,2,1,7,28,13,12,5,32,25,23,22,14,7,15,16,9,23,15,15,6,3,17,36,6,4,15,9,3,22,4,16,20,9,6,26,12,18,7,8,27,22,7,15,6,32,2,30,22,10,4,25,11,20,13,33,14,28,14,32,35,13,16,16,2,31,15,10,3,16,14,24,19,13,41,17,8,27,9,2,9,1,5,25,6,11,1,3,12,5,49,9,5,17,33,3,14,4,6,23,33,22,10,11,8,3,2,5,6,7,28,29,13,4,6,4,8,8,5,9,3,37,10,4,11,20,5,4,25,26,25,3,19,8,21,8,21,20,9,13,36,19,6,5,10,7,27,6,22,6,32,5,9,16,8,17,36,12,2,28,12,19,39,3,6,14,17,33,8,5,7,4,7,18,1,3,11,34,9,1,5,7,20,4,10,22,2,2,31,6,10,3,4,14,14,7,5,1,7,4,8,1,31,15,21,13,3,27,42,3,17,7,45,4,12,27,3,7,11,5,35,12,6,13,25,41,14,16,6,21,7,8,27,3,16,20,5,2,11,3,5,20,3,8,35,19,6,29,2,16,13,2,23,18,17,24,35,33,2,24,15,32,17,1,9,12,7,15,4,2,33,4,3,24,9,4,20,42,6,27,9,32,36,24,3,25,8,4,10,18,30,3,8,20,12,7,2,22,18,4,7,17,5,2,4,38,5,3,5,21,19,20,6,5,13,8,10,4,22,1,16,32,11,10,13,12,11,15,27,21,2,36,34,4,4,3,15,38,18,19,20,9,28,3,2,8,10,22,24,15,2,17,21,6,44,3,14,4,4,15,41,8,3,24,1,2,19,10,10,7,8,43,4,13,11,37,6,13,34,8,25,1,41,26,5,11,5,4,11,11,18,34,22,7,8,8,4,5,21,20,17,27,2,18,32,7,12,7,7,5,21,4,8,3,3,16,7,17,1,5,7,12,24,8,29,34,20,7,5,3,3,36,21,8,2,26,6,24,13,3,10,7,10,12,3,14,15,31,8,7,10,9,13,39,21,35,31,38,3,4,7,5,12,7,15,7,37,20,13,7,15,7,23,32,28,6,3,33,21,9,19,22,37,2,18,5,2,3,27,4,23,21,29,27,3,12,15,2,4,41,11,2,20,23,6,3,19,39,19,26,3,28,4,14,3,11,13,3,8,18,8,6,4,21,8,18,6,13,10,27,5,5,5,2,23,3,4,4,18,4,4,20,21,1,2,4,16,29,17,28,1,12,6,13,25,40,2,43,3,26,8,20,28,7,3,13,16,13,42,26,1,6,4,30,20,2,2,8,2,5,1,19,10,4,23,20,11,22,11,22,11,3,7,6,6,35,10,12,22,2,7,15,3,6,5,24,15,1,23,19,4,6,5,16,10,15,1,4,24,13,30,17,30,30,4,5,1,27,10,4,1,2,8,4,11,30,15,14,2,1,2,8,5,16,19,3,22,3,28,23,7,9,3,4,29,4,37,31,14,22,13,8,10,18,5,2,11,7,5,38,5,7,14,9,14,1,22,9,3,13,41,6,15,35,10,20,43,7,24,3,17,3,5,11,15,14,4,2,11,7,31,6,7,6,50,21,4,13,3,3,39,6,13,4,21,2,11,11,3,3,26,37,16,10,7,37,47,14,0,3,25,6,9,11,6,24,27,19,24,38,6,22,15,32,28,27,7,10,42,33,13,30,21,14,16,32,15,49,16,13,3,23,46,23,12,5,8,4,18,3,12,12,10,20,19,5,9,10,10,1,37,8,6,38,22,3,9,7,7,2,30,21,19,5,29,9,27,18,11,29,4,24,11,5,47,20,23,34,14,22,11,35,7,22,4,2,5,11,3,7,9,8,1,35,7,2,22,26,4,15,19,21,19,4,18,6,25,3,17,7,39,20,20,34,11,3,43,4,8,4,8,31,9,14,7,7,12,6,6,11,4,5,12,15,32,20,6,24,8,4,15,33,8,14,4,10,5,13,16,3,7,17,1,12,10,2,7,2,3,12,6,6,7,35,8,12,30,12,7,9,11,10,6,6,6,7,4,5,10,3,7,6,13,6,11,44,34,3,21,12,11,36,5,7,3,5,16,15,18,12,4,3,10,12,23,11,11,16,5,4,14,20,1,33,36,37,7,6,34,7,8,13,27,34,4,4,7,5,28,19,10,17,24,14,7,30,5,6,26,8,1,4,40,11,24,6,21,10,17,27,16,9,11,3,15,12,2,7,4,3,2,14,15,7,7,16,3,17,20,4,5,15,14,10,9,42,22,41,28,11,10,13,3,38,20,10,7,43,45,6,12,13,3,30,6,18,21,13,5,14,11,45,4,22,5,2,16,8,3,32,12,10,26,5,10,39,9,4,21,8,14,16,6,16,11,14,18,3,6,14,27,11,2,5,4,30,3,6,23,5,6,31,3,23,49,8,29,24,6,11,9,22,13,22,31,2,19,24,4,9,6,6,3,2,21,12,25,7,13,38,5,24,13,13,27,17,12,7,25,3,31,3,7,28,6,14,5,14,11,21,7,6,4,7,28,11,7,9,5,14,5,2,17,7,11,5,12,29,23,32,34,3,2,13,8,5,22,1,16,39,15,4,2,5,7,4,10,17,36,11,38,9,8,5,35,46,8,4,3,3,28,17,2,18,6,7,18,20,13,16,17,16,16,18,5,4,11,39,38,7,7,8,11,37,11,10,3,6,12,28,6,24,9,12,15,5,35,6,27,4,5,13,33,2,17,6,8,5,20,5,5,2,27,3,23,20,2,16,3,2,15,4,16,5,22,9,35,5,14,7,38,13,2,11,5,3,4,2,20,12,12,47,3,7,6,4,3,6,8,9,12,5,27,33,12,10,18,31,4,21,3,9,7,5,4,3,2,23,14,7,6,33,5,6,4,32,5,30,6,34,23,3,32,25,22,18,20,24,5,28,28,10,6,2,39,32,15,25,25,26,15,9,10,11,7,8,6,3,6,12,27,6,2,4,29,8,2,1,8,39,24,6,4,27,36,9,1,2,5,9,7,39,2,23,35,35,8,42,7,4,32,34,38,11,31,8,18,18,33,8,2,4,24,3,18,6,29,1,5,4,4,10,22,36,34,5,15,2,10,3,16,9,3,15,26,19,4,8,17,6,31,5,5,5,8,2,4,2,29,33,9,22,8,40,10,38,7,19,37,12,10,14,18,25,8,6,32,3,19,6,25,37,16,2,8,18,19,0,20,30,22,2,15,5,2,43,5,7,3,16,22,2,1,8,14,21,3,1,5,33,15,9,5,2,6,15,11,14,5,3,18,29,19,7,3,5,9,10,3,8,46,4,13,8,4,3,5,34,3,13,30,7,28,19,4,3,3,6,3,7,8,31,10,10,20,2,25,35,8,25,3,2,26,22,9,44,8,4,2,10,15,20,2,49,6,7,22,28,5,19,1,38,9,6,6,3,5,30,2,16,19,26,12,30,37,4,6,1,12,6,8,27,1,6,3,7,36,13,9,8,18,31,10,45,4,11,11,10,26,24,2,13,7,13,10,7,5,27,6,4,9,22,21,35,42,20,6,5,45,23,1,15,7,11,34,27,34,11,6,4,16,31,37,9,5,7,16,6,6,19,20,27,10,15,4,38,11,7,8,10,21,3,33,6,6,4,44,6,5,11,5,22,13,2,30,10,12,9,22,6,5,21,37,41,25,4,41,42,14,10,6,4,9,15,32,28,3,25,14,20,3,35,23,11,19,8,4,40,2,6,14,10,32,40,17,17,8,38,6,29,11,41,14,13,8,3,14,11,8,7,10,13,11,2,10,8,19,23,5,11,28,20,43,3,2,22,31,6,32,4,2,7,24,2,5,10,42,2,11,20,15,1,2,33,30,5,8,2,4,24,3,21,22,13,29,9,48,10,7,4,1,21,32,23,3,7,20,36,7,2,4,31,9,42,2,4,38,5,37,31,35,21,5,10,12,7,3,15,5,47,5,14,2,36,5,13,13,16,27,38,30,40,6,18,8,3,12,5,3,23,16,12,5,21,9,15,14,8,9,5,10,13,14,2,13,37,31,9,13,23,38,28,5,3,10,6,30,12,12,14,12,9,8,8,16,26,4,11,4,37,27,28,14,4,26,7,32,5,16,6,16,17,2,31,15,7,19,1,10,20,14,10,5,29,23,3,15,7,11,18,3,10,4,16,17,4,7,17,5,43,5,25,44,13,14,16,8,4,6,4,5,3,14,13,5,5,4,45,16,18,3,7,23,6,27,6,3,4,14,4,8,24,13,2,35,2,4,44,6,21,34,27,13,5,4,11,5,12,9,26,7,25,32,4,13,10,15,3,3,9,33,5,6,3,4,9,17,12,9,3,10,5,9,2,27,5,10,11,36,11,40,4,6,40,7,2,15,2,5,7,33,14,12,19,3,5,24,35,31,14,18,4,38,8,11,12,14,15,4,15,4,8,39,4,11,29,9,27,7,4,9,18,2,6,3,12,34,17,15,13,20,33,4,11,2,15,3,12,7,11,22,4,6,26,2,21,8,36,9,4,10,42,13,35,16,8,7,11,28,5,10,7,25,26,6,5,8,23,23,28,28,5,13,2,5,30,7,8,17,4,5,18,20,9,26,12,26,33,6,3,13,20,5,9,2,9,33,5,15,31,6,1,10,5,35,2,26,5,41,8,18,42,40,13,7,4,12,23,6,18,6,14,17,23,3,28,39,43,3,21,7,1,9,3,4,32,4,4,7,5,23,14,7,3,1,42,23,27,2,16,22,29,9,14,7,37,17,8,19,11,7,12,19,16,16,9,8,3,39,24,30,18,5,3,35,44,23,12,8,31,36,3,29,9,41,36,5,7,3,6,34,32,3,18,16,10,12,3,8,48,31,15,2,6,4,6,32,12,23,8,4,17,15,22,7,10,43,15,3,6,23,4,24,12,2,3,17,9,11,6,4,9,6,15,11,30,2,11,38,9,2,11,3,14,16,10,11,10,37,30,2,9,32,33,13,7,29,26,13,33,5,42,7,7,4,29,3,10,6,11,6,9,2,19,2,3,3,13,13,26,6,12,5,8,10,17,36,21,18,6,3,15,10,28,30,28,7,39,6,32,25,5,7,7,21,5,29,20,43,2,16,11,4,21,1,25,5,16,10,2,38,37,30,8,4,3,21,23,37,9,1,7,30,20,2,6,14,13,8,3,37,30,22,6,20,7,7,9,2,4,14,3,18,41,14,12,43,6,4,8,15,27,9,10,12,39,12,5,14,3,46,15,2,7,14,15,18,6,40,17,12,11,11,38,10,40,5,33,3,9,18,28,38,7,33,41,12,6,26,6,39,3,5,13,5,36,11,15,8,15,17,4,3,3,8,37,11,19,1,24,4,7,3,50,6,7,2,4,34,42,4,31,16,25,25,5,1,14,25,13,10,50,2,13,35,27,12,9,13,16,42,4,17,35,6,35,5,4,15,1,3,3,12,5,27,40,10,24,19,10,17,8,3,6,7,23,3,17,6,21,43,10,22,17,18,8,6,9,8,5,5,3,5,4,25,25,28,4,9,1,16,4,23,14,5,2,2,24,6,29,17,12,11,46,2,8,19,3,3,5,6,28,13,3,23,6,14,12,23,6,27,20,29,8,31,4,5,10,9,29,18,3,4,16,5,17,8,3,25,4,31,28,26,10,3,24,20,29,6,40,38,15,9,10,33,40,10,33,23,3,18,2,42,5,4,5,13,6,27,26,3,2,3,3,14,19,8,3,5,12,41,16,2,31,2,9,2,19,3,3,6,32,7,6,8,2,9,31,6,40,40,4,5,12,15,10,21,5,7,26,9,10,15,38,33,11,40,9,21,3,26,7,12,5,4,2,18,2,15,7,35,6,4,1,14,8,10,32,4,34,5,21,4,15,17,3,4,12,1,12,18,6,13,38,3,3,1,25,27,8,21,8,32,3,14,35,3,19,6,7,47,17,26,14,11,36,5,28,22,18,26,25,3,19,4,20,2,7,4,6,5,14,12,4,2,37,7,9,11,13,21,10,22,10,21,14,28,32,11,6,8,43,29,2,40,7,8,40,14,15,14,10,16,11,10,14,27,26,9,7,6,4,9,35,10,6,6,24,17,7,10,3,9,34,32,23,21,22,9,11,24,3,29,37,4,16,16,31,20,5,28,9,7,5,22,14,11,5,22,19,6,3,46,14,17,21,8,8,5,3,36,6,9,12,15,13,38,3,21,22,5,4,36,31,2,24,22,9,5,4,16,23,3,7,14,23,31,11,10,3,13,6,9,17,38,5,8,10,12,24,24,7,7,5,9,4,9,25,45,26,2,3,32,8,2,4,7,38,12,9,3,20,5,7,14,34,9,3,4,7,17,32,16,3,8,40,17,15,13,10,2,24,10,18,17,35,10,21,25,24,3,48,33,38,7,22,5,9,37,16,43,12,6,3,24,41,33,20,4,12,8,2,40,7,7,32,2,45,21,40,7,3,3,9,15,9,9,20,33,10,12,35,20,3,17,3,12,20,5,36,7,7,2,6,7,22,5,22,4,8,6,4,7,8,3,13,13,6,11,18,8,3,3,32,21,0,6,8,26,3,6,2,16,30,3,12,28,4,5,37,30,36,4,2,13,33,25,27,7,6,10,30,30,8,15,10,20,7,11,8,20,22,4,13,39,8,4,3,35,2,18,2,38,15,45,4,11,7,13,16,22,3,4,3,4,5,2,12,5,36,25,2,9,4,14,17,6,1,5,26,9,43,33,53,6,15,13,5,35,12,19,1,33,15,14,5,22,7,8,9,13,40,7,24,4,21,21,19,17,29,10,12,3,33,24,8,8,6,8,5,6,9,2,27,14,39,32,9,6,6,6,3,5,11,8,6,9,13,19,35,20,23,6,36,28,38,8,10,13,9,2,41,13,16,3,29,9,4,28,5,16,12,36,35,4,4,9,17,11,6,8,9,4,36,12,6,3,7,33,42,25,12,9,9,43,3,37,3,34,3,4,26,4,19,18,2,7,6,34,27,27,11,31,10,14,16,8,5,12,17,10,26,7,23,20,9,7,8,4,9,16,32,3,12,6,41,12,5,3,18,8,23,3,11,30,4,6,20,42,29,14,24,4,22,16,4,2,9,18,3,3,12,14,22,17,18,3,16,11,3,9,25,5,8,25,20,7,2,14,35,5,5,9,20,9,17,5,2,1,6,4,18,34,42,12,9,3,31,21,6,24,29,5,1,17,2,4,5,4,39,17,2,9,7,13,24,9,36,18,9,29,3,6,5,29,27,12,3,15,19,9,13,9,34,6,22,45,22,7,16,23,26,2,12,21,7,26,12,12,19,14,21,13,2,27,9,3,39,2,7,24,12,6,23,10,42,9,3,5,2,6,14,30,7,3,3,36,12,10,7,10,15,10,21,41,40,42,28,29,7,1,34,18,10,14,5,10,23,17,14,2,17,24,34,9,13,20,5,5,41,4,21,15,14,1,22,3,30,2,8,7,9,3,6,3,44,5,3,1,6,46,20,6,29,10,31,11,6,27,6,7,14,6,27,3,7,9,11,3,2,7,8,8,33,30,32,13,2,23,6,11,5,3,17,22,2,38,38,37,4,3,5,11,2,27,7,7,12,34,5,18,11,20,3,41,5,7,12,3,36,16,43,5,27,10,9,14,30,21,35,2,14,8,15,6,12,5,9,10,4,6,3,5,3,43,23,5,9],\"xaxis\":\"x\",\"yaxis\":\"y\",\"type\":\"histogram\"}],                        {\"template\":{\"data\":{\"histogram2dcontour\":[{\"type\":\"histogram2dcontour\",\"colorbar\":{\"outlinewidth\":0,\"ticks\":\"\"},\"colorscale\":[[0.0,\"#0d0887\"],[0.1111111111111111,\"#46039f\"],[0.2222222222222222,\"#7201a8\"],[0.3333333333333333,\"#9c179e\"],[0.4444444444444444,\"#bd3786\"],[0.5555555555555556,\"#d8576b\"],[0.6666666666666666,\"#ed7953\"],[0.7777777777777778,\"#fb9f3a\"],[0.8888888888888888,\"#fdca26\"],[1.0,\"#f0f921\"]]}],\"choropleth\":[{\"type\":\"choropleth\",\"colorbar\":{\"outlinewidth\":0,\"ticks\":\"\"}}],\"histogram2d\":[{\"type\":\"histogram2d\",\"colorbar\":{\"outlinewidth\":0,\"ticks\":\"\"},\"colorscale\":[[0.0,\"#0d0887\"],[0.1111111111111111,\"#46039f\"],[0.2222222222222222,\"#7201a8\"],[0.3333333333333333,\"#9c179e\"],[0.4444444444444444,\"#bd3786\"],[0.5555555555555556,\"#d8576b\"],[0.6666666666666666,\"#ed7953\"],[0.7777777777777778,\"#fb9f3a\"],[0.8888888888888888,\"#fdca26\"],[1.0,\"#f0f921\"]]}],\"heatmap\":[{\"type\":\"heatmap\",\"colorbar\":{\"outlinewidth\":0,\"ticks\":\"\"},\"colorscale\":[[0.0,\"#0d0887\"],[0.1111111111111111,\"#46039f\"],[0.2222222222222222,\"#7201a8\"],[0.3333333333333333,\"#9c179e\"],[0.4444444444444444,\"#bd3786\"],[0.5555555555555556,\"#d8576b\"],[0.6666666666666666,\"#ed7953\"],[0.7777777777777778,\"#fb9f3a\"],[0.8888888888888888,\"#fdca26\"],[1.0,\"#f0f921\"]]}],\"heatmapgl\":[{\"type\":\"heatmapgl\",\"colorbar\":{\"outlinewidth\":0,\"ticks\":\"\"},\"colorscale\":[[0.0,\"#0d0887\"],[0.1111111111111111,\"#46039f\"],[0.2222222222222222,\"#7201a8\"],[0.3333333333333333,\"#9c179e\"],[0.4444444444444444,\"#bd3786\"],[0.5555555555555556,\"#d8576b\"],[0.6666666666666666,\"#ed7953\"],[0.7777777777777778,\"#fb9f3a\"],[0.8888888888888888,\"#fdca26\"],[1.0,\"#f0f921\"]]}],\"contourcarpet\":[{\"type\":\"contourcarpet\",\"colorbar\":{\"outlinewidth\":0,\"ticks\":\"\"}}],\"contour\":[{\"type\":\"contour\",\"colorbar\":{\"outlinewidth\":0,\"ticks\":\"\"},\"colorscale\":[[0.0,\"#0d0887\"],[0.1111111111111111,\"#46039f\"],[0.2222222222222222,\"#7201a8\"],[0.3333333333333333,\"#9c179e\"],[0.4444444444444444,\"#bd3786\"],[0.5555555555555556,\"#d8576b\"],[0.6666666666666666,\"#ed7953\"],[0.7777777777777778,\"#fb9f3a\"],[0.8888888888888888,\"#fdca26\"],[1.0,\"#f0f921\"]]}],\"surface\":[{\"type\":\"surface\",\"colorbar\":{\"outlinewidth\":0,\"ticks\":\"\"},\"colorscale\":[[0.0,\"#0d0887\"],[0.1111111111111111,\"#46039f\"],[0.2222222222222222,\"#7201a8\"],[0.3333333333333333,\"#9c179e\"],[0.4444444444444444,\"#bd3786\"],[0.5555555555555556,\"#d8576b\"],[0.6666666666666666,\"#ed7953\"],[0.7777777777777778,\"#fb9f3a\"],[0.8888888888888888,\"#fdca26\"],[1.0,\"#f0f921\"]]}],\"mesh3d\":[{\"type\":\"mesh3d\",\"colorbar\":{\"outlinewidth\":0,\"ticks\":\"\"}}],\"scatter\":[{\"fillpattern\":{\"fillmode\":\"overlay\",\"size\":10,\"solidity\":0.2},\"type\":\"scatter\"}],\"parcoords\":[{\"type\":\"parcoords\",\"line\":{\"colorbar\":{\"outlinewidth\":0,\"ticks\":\"\"}}}],\"scatterpolargl\":[{\"type\":\"scatterpolargl\",\"marker\":{\"colorbar\":{\"outlinewidth\":0,\"ticks\":\"\"}}}],\"bar\":[{\"error_x\":{\"color\":\"#2a3f5f\"},\"error_y\":{\"color\":\"#2a3f5f\"},\"marker\":{\"line\":{\"color\":\"white\",\"width\":0.5},\"pattern\":{\"fillmode\":\"overlay\",\"size\":10,\"solidity\":0.2}},\"type\":\"bar\"}],\"scattergeo\":[{\"type\":\"scattergeo\",\"marker\":{\"colorbar\":{\"outlinewidth\":0,\"ticks\":\"\"}}}],\"scatterpolar\":[{\"type\":\"scatterpolar\",\"marker\":{\"colorbar\":{\"outlinewidth\":0,\"ticks\":\"\"}}}],\"histogram\":[{\"marker\":{\"pattern\":{\"fillmode\":\"overlay\",\"size\":10,\"solidity\":0.2}},\"type\":\"histogram\"}],\"scattergl\":[{\"type\":\"scattergl\",\"marker\":{\"colorbar\":{\"outlinewidth\":0,\"ticks\":\"\"}}}],\"scatter3d\":[{\"type\":\"scatter3d\",\"line\":{\"colorbar\":{\"outlinewidth\":0,\"ticks\":\"\"}},\"marker\":{\"colorbar\":{\"outlinewidth\":0,\"ticks\":\"\"}}}],\"scattermapbox\":[{\"type\":\"scattermapbox\",\"marker\":{\"colorbar\":{\"outlinewidth\":0,\"ticks\":\"\"}}}],\"scatterternary\":[{\"type\":\"scatterternary\",\"marker\":{\"colorbar\":{\"outlinewidth\":0,\"ticks\":\"\"}}}],\"scattercarpet\":[{\"type\":\"scattercarpet\",\"marker\":{\"colorbar\":{\"outlinewidth\":0,\"ticks\":\"\"}}}],\"carpet\":[{\"aaxis\":{\"endlinecolor\":\"#2a3f5f\",\"gridcolor\":\"#C8D4E3\",\"linecolor\":\"#C8D4E3\",\"minorgridcolor\":\"#C8D4E3\",\"startlinecolor\":\"#2a3f5f\"},\"baxis\":{\"endlinecolor\":\"#2a3f5f\",\"gridcolor\":\"#C8D4E3\",\"linecolor\":\"#C8D4E3\",\"minorgridcolor\":\"#C8D4E3\",\"startlinecolor\":\"#2a3f5f\"},\"type\":\"carpet\"}],\"table\":[{\"cells\":{\"fill\":{\"color\":\"#EBF0F8\"},\"line\":{\"color\":\"white\"}},\"header\":{\"fill\":{\"color\":\"#C8D4E3\"},\"line\":{\"color\":\"white\"}},\"type\":\"table\"}],\"barpolar\":[{\"marker\":{\"line\":{\"color\":\"white\",\"width\":0.5},\"pattern\":{\"fillmode\":\"overlay\",\"size\":10,\"solidity\":0.2}},\"type\":\"barpolar\"}],\"pie\":[{\"automargin\":true,\"type\":\"pie\"}]},\"layout\":{\"autotypenumbers\":\"strict\",\"colorway\":[\"#636efa\",\"#EF553B\",\"#00cc96\",\"#ab63fa\",\"#FFA15A\",\"#19d3f3\",\"#FF6692\",\"#B6E880\",\"#FF97FF\",\"#FECB52\"],\"font\":{\"color\":\"#2a3f5f\"},\"hovermode\":\"closest\",\"hoverlabel\":{\"align\":\"left\"},\"paper_bgcolor\":\"white\",\"plot_bgcolor\":\"white\",\"polar\":{\"bgcolor\":\"white\",\"angularaxis\":{\"gridcolor\":\"#EBF0F8\",\"linecolor\":\"#EBF0F8\",\"ticks\":\"\"},\"radialaxis\":{\"gridcolor\":\"#EBF0F8\",\"linecolor\":\"#EBF0F8\",\"ticks\":\"\"}},\"ternary\":{\"bgcolor\":\"white\",\"aaxis\":{\"gridcolor\":\"#DFE8F3\",\"linecolor\":\"#A2B1C6\",\"ticks\":\"\"},\"baxis\":{\"gridcolor\":\"#DFE8F3\",\"linecolor\":\"#A2B1C6\",\"ticks\":\"\"},\"caxis\":{\"gridcolor\":\"#DFE8F3\",\"linecolor\":\"#A2B1C6\",\"ticks\":\"\"}},\"coloraxis\":{\"colorbar\":{\"outlinewidth\":0,\"ticks\":\"\"}},\"colorscale\":{\"sequential\":[[0.0,\"#0d0887\"],[0.1111111111111111,\"#46039f\"],[0.2222222222222222,\"#7201a8\"],[0.3333333333333333,\"#9c179e\"],[0.4444444444444444,\"#bd3786\"],[0.5555555555555556,\"#d8576b\"],[0.6666666666666666,\"#ed7953\"],[0.7777777777777778,\"#fb9f3a\"],[0.8888888888888888,\"#fdca26\"],[1.0,\"#f0f921\"]],\"sequentialminus\":[[0.0,\"#0d0887\"],[0.1111111111111111,\"#46039f\"],[0.2222222222222222,\"#7201a8\"],[0.3333333333333333,\"#9c179e\"],[0.4444444444444444,\"#bd3786\"],[0.5555555555555556,\"#d8576b\"],[0.6666666666666666,\"#ed7953\"],[0.7777777777777778,\"#fb9f3a\"],[0.8888888888888888,\"#fdca26\"],[1.0,\"#f0f921\"]],\"diverging\":[[0,\"#8e0152\"],[0.1,\"#c51b7d\"],[0.2,\"#de77ae\"],[0.3,\"#f1b6da\"],[0.4,\"#fde0ef\"],[0.5,\"#f7f7f7\"],[0.6,\"#e6f5d0\"],[0.7,\"#b8e186\"],[0.8,\"#7fbc41\"],[0.9,\"#4d9221\"],[1,\"#276419\"]]},\"xaxis\":{\"gridcolor\":\"#EBF0F8\",\"linecolor\":\"#EBF0F8\",\"ticks\":\"\",\"title\":{\"standoff\":15},\"zerolinecolor\":\"#EBF0F8\",\"automargin\":true,\"zerolinewidth\":2},\"yaxis\":{\"gridcolor\":\"#EBF0F8\",\"linecolor\":\"#EBF0F8\",\"ticks\":\"\",\"title\":{\"standoff\":15},\"zerolinecolor\":\"#EBF0F8\",\"automargin\":true,\"zerolinewidth\":2},\"scene\":{\"xaxis\":{\"backgroundcolor\":\"white\",\"gridcolor\":\"#DFE8F3\",\"linecolor\":\"#EBF0F8\",\"showbackground\":true,\"ticks\":\"\",\"zerolinecolor\":\"#EBF0F8\",\"gridwidth\":2},\"yaxis\":{\"backgroundcolor\":\"white\",\"gridcolor\":\"#DFE8F3\",\"linecolor\":\"#EBF0F8\",\"showbackground\":true,\"ticks\":\"\",\"zerolinecolor\":\"#EBF0F8\",\"gridwidth\":2},\"zaxis\":{\"backgroundcolor\":\"white\",\"gridcolor\":\"#DFE8F3\",\"linecolor\":\"#EBF0F8\",\"showbackground\":true,\"ticks\":\"\",\"zerolinecolor\":\"#EBF0F8\",\"gridwidth\":2}},\"shapedefaults\":{\"line\":{\"color\":\"#2a3f5f\"}},\"annotationdefaults\":{\"arrowcolor\":\"#2a3f5f\",\"arrowhead\":0,\"arrowwidth\":1},\"geo\":{\"bgcolor\":\"white\",\"landcolor\":\"white\",\"subunitcolor\":\"#C8D4E3\",\"showland\":true,\"showlakes\":true,\"lakecolor\":\"white\"},\"title\":{\"x\":0.05},\"mapbox\":{\"style\":\"light\"}}},\"xaxis\":{\"anchor\":\"y\",\"domain\":[0.0,1.0],\"title\":{\"text\":\"샘플 길이\"}},\"yaxis\":{\"anchor\":\"x\",\"domain\":[0.0,1.0],\"title\":{\"text\":\"샘플 갯수\"}},\"legend\":{\"tracegroupgap\":0},\"title\":{\"text\":\"리뷰 길이 분포\"},\"barmode\":\"relative\"},                        {\"responsive\": true}                    ).then(function(){\n",
              "                            \n",
              "var gd = document.getElementById('fdabd8a2-bfd1-4574-a377-8bad267a6bfe');\n",
              "var x = new MutationObserver(function (mutations, observer) {{\n",
              "        var display = window.getComputedStyle(gd).display;\n",
              "        if (!display || display === 'none') {{\n",
              "            console.log([gd, 'removed!']);\n",
              "            Plotly.purge(gd);\n",
              "            observer.disconnect();\n",
              "        }}\n",
              "}});\n",
              "\n",
              "// Listen for the removal of the full notebook cells\n",
              "var notebookContainer = gd.closest('#notebook-container');\n",
              "if (notebookContainer) {{\n",
              "    x.observe(notebookContainer, {childList: true});\n",
              "}}\n",
              "\n",
              "// Listen for the clearing of the current output cell\n",
              "var outputEl = gd.closest('.output');\n",
              "if (outputEl) {{\n",
              "    x.observe(outputEl, {childList: true});\n",
              "}}\n",
              "\n",
              "                        })                };                            </script>        </div>\n",
              "</body>\n",
              "</html>"
            ]
          },
          "metadata": {}
        },
        {
          "output_type": "stream",
          "name": "stdout",
          "text": [
            "리뷰의 최대 길이 : 63\n",
            "리뷰의 평균 길이 : 14.76\n"
          ]
        }
      ]
    },
    {
      "cell_type": "markdown",
      "source": [
        "리뷰의 최대 길이는 63, 평균 길이는 약 15입낟. 그래프로 봤을 때, 전체적으로는 60 이하의 길이를 가지는 것으로 보입니다."
      ],
      "metadata": {
        "id": "IBGj1XYpgfo3"
      }
    },
    {
      "cell_type": "code",
      "source": [
        "def below_threshold_len(max_len, nested_list):\n",
        "  count = 0\n",
        "  for sentence in nested_list:\n",
        "    if(len(sentence) <= max_len):\n",
        "      count += 1\n",
        "  print(f'전체 샘플 중 길이가 {max_len} 이하인 샘플의 비율 : {100*count / len(nested_list)}')"
      ],
      "metadata": {
        "id": "8UpcK1R5bJfm"
      },
      "execution_count": 116,
      "outputs": []
    },
    {
      "cell_type": "markdown",
      "source": [
        "최대 길이가 63이므로 만약 60으로 패딩할 경우, 몇 개의 샘플들을 온전이 보전할 수 있는지 확인합니다."
      ],
      "metadata": {
        "id": "hvFRxuI9hgSu"
      }
    },
    {
      "cell_type": "code",
      "source": [
        "max_len = 60\n",
        "below_threshold_len(max_len, X_train)"
      ],
      "metadata": {
        "colab": {
          "base_uri": "https://localhost:8080/"
        },
        "id": "3WNFMpByhZqC",
        "outputId": "f8295740-df7b-4d12-8cdf-5d0ef13e8f9e"
      },
      "execution_count": 117,
      "outputs": [
        {
          "output_type": "stream",
          "name": "stdout",
          "text": [
            "전체 샘플 중 길이가 60 이하인 샘플의 비율 : 99.99333333333334\n"
          ]
        }
      ]
    },
    {
      "cell_type": "markdown",
      "source": [
        "훈련용 리뷰의 99.99%가 60 이하의 길이를 가집니다. 훈련용 리뷰를 길이 60으로 패딩하겠습니다."
      ],
      "metadata": {
        "id": "zih3d6lMhpiV"
      }
    },
    {
      "cell_type": "code",
      "source": [
        "X_train = pad_sequences(X_train, maxlen = max_len)\n",
        "X_test = pad_sequences(X_test, maxlen = max_len)"
      ],
      "metadata": {
        "id": "tTMkulm8hfxA"
      },
      "execution_count": 118,
      "outputs": []
    },
    {
      "cell_type": "markdown",
      "source": [
        "# 4. BiLSTM으로 스팀 리뷰 감성 분류하기\n",
        "LSTM이 Bidirectional() 안에 기재되었다는 사실에 주목!"
      ],
      "metadata": {
        "id": "pcTqBIcfiSFk"
      }
    },
    {
      "cell_type": "code",
      "source": [
        "import re\n",
        "from tensorflow.keras.layers import Embedding, Dense, LSTM, Bidirectional\n",
        "from tensorflow.keras.models import Sequential, load_model\n",
        "from tensorflow.keras.callbacks import EarlyStopping, ModelCheckpoint\n",
        "\n",
        "embedding_dim = 100\n",
        "hidden_units = 128\n",
        "\n",
        "model = Sequential()\n",
        "model.add(Embedding(vocab_size, embedding_dim))\n",
        "model.add(Bidirectional(LSTM(hidden_units))) # Bidirectional LSTM을 사용\n",
        "model.add(Dense(1, activation = 'sigmoid'))\n",
        "\n",
        "es = EarlyStopping(monitor = 'val_loss', mode = 'min', verbose = 1, patience = 4)\n",
        "mc = ModelCheckpoint('best_model.h5', monitor = 'val_acc', mode = 'max', verbose = 1, save_best_only = True)\n",
        "\n",
        "model.compile(optimizer = 'rmsprop', loss = 'binary_crossentropy', metrics = ['acc'])\n",
        "history = model.fit(X_train, y_train, epochs=15, callbacks=[es, mc], batch_size=256, validation_split=0.2)"
      ],
      "metadata": {
        "colab": {
          "base_uri": "https://localhost:8080/"
        },
        "id": "GKYPkLfriBj6",
        "outputId": "9cc9900a-1d35-4a43-8b41-651b7d836fd8"
      },
      "execution_count": 121,
      "outputs": [
        {
          "output_type": "stream",
          "name": "stdout",
          "text": [
            "Epoch 1/15\n",
            "\u001b[1m235/235\u001b[0m \u001b[32m━━━━━━━━━━━━━━━━━━━━\u001b[0m\u001b[37m\u001b[0m \u001b[1m0s\u001b[0m 643ms/step - acc: 0.5795 - loss: 0.6659\n",
            "Epoch 1: val_acc improved from -inf to 0.74720, saving model to best_model.h5\n"
          ]
        },
        {
          "output_type": "stream",
          "name": "stderr",
          "text": [
            "WARNING:absl:You are saving your model as an HDF5 file via `model.save()` or `keras.saving.save_model(model)`. This file format is considered legacy. We recommend using instead the native Keras format, e.g. `model.save('my_model.keras')` or `keras.saving.save_model(model, 'my_model.keras')`. \n"
          ]
        },
        {
          "output_type": "stream",
          "name": "stdout",
          "text": [
            "\b\b\b\b\b\b\b\b\b\b\b\b\b\b\b\b\b\b\b\b\b\b\b\b\b\b\b\b\b\b\b\b\b\b\b\b\b\b\b\b\b\b\b\b\b\b\b\b\b\b\b\b\b\b\b\b\b\b\b\b\b\b\b\b\b\b\b\b\b\b\b\r\u001b[1m235/235\u001b[0m \u001b[32m━━━━━━━━━━━━━━━━━━━━\u001b[0m\u001b[37m\u001b[0m \u001b[1m170s\u001b[0m 701ms/step - acc: 0.5797 - loss: 0.6657 - val_acc: 0.7472 - val_loss: 0.5170\n",
            "Epoch 2/15\n",
            "\u001b[1m235/235\u001b[0m \u001b[32m━━━━━━━━━━━━━━━━━━━━\u001b[0m\u001b[37m\u001b[0m \u001b[1m0s\u001b[0m 626ms/step - acc: 0.7589 - loss: 0.4969\n",
            "Epoch 2: val_acc improved from 0.74720 to 0.77547, saving model to best_model.h5\n"
          ]
        },
        {
          "output_type": "stream",
          "name": "stderr",
          "text": [
            "WARNING:absl:You are saving your model as an HDF5 file via `model.save()` or `keras.saving.save_model(model)`. This file format is considered legacy. We recommend using instead the native Keras format, e.g. `model.save('my_model.keras')` or `keras.saving.save_model(model, 'my_model.keras')`. \n"
          ]
        },
        {
          "output_type": "stream",
          "name": "stdout",
          "text": [
            "\b\b\b\b\b\b\b\b\b\b\b\b\b\b\b\b\b\b\b\b\b\b\b\b\b\b\b\b\b\b\b\b\b\b\b\b\b\b\b\b\b\b\b\b\b\b\b\b\b\b\b\b\b\b\b\b\b\b\b\b\b\b\b\b\b\b\b\b\b\b\b\r\u001b[1m235/235\u001b[0m \u001b[32m━━━━━━━━━━━━━━━━━━━━\u001b[0m\u001b[37m\u001b[0m \u001b[1m160s\u001b[0m 679ms/step - acc: 0.7590 - loss: 0.4969 - val_acc: 0.7755 - val_loss: 0.4874\n",
            "Epoch 3/15\n",
            "\u001b[1m235/235\u001b[0m \u001b[32m━━━━━━━━━━━━━━━━━━━━\u001b[0m\u001b[37m\u001b[0m \u001b[1m0s\u001b[0m 621ms/step - acc: 0.7906 - loss: 0.4540\n",
            "Epoch 3: val_acc improved from 0.77547 to 0.78093, saving model to best_model.h5\n"
          ]
        },
        {
          "output_type": "stream",
          "name": "stderr",
          "text": [
            "WARNING:absl:You are saving your model as an HDF5 file via `model.save()` or `keras.saving.save_model(model)`. This file format is considered legacy. We recommend using instead the native Keras format, e.g. `model.save('my_model.keras')` or `keras.saving.save_model(model, 'my_model.keras')`. \n"
          ]
        },
        {
          "output_type": "stream",
          "name": "stdout",
          "text": [
            "\b\b\b\b\b\b\b\b\b\b\b\b\b\b\b\b\b\b\b\b\b\b\b\b\b\b\b\b\b\b\b\b\b\b\b\b\b\b\b\b\b\b\b\b\b\b\b\b\b\b\b\b\b\b\b\b\b\b\b\b\b\b\b\b\b\b\b\b\b\b\b\r\u001b[1m235/235\u001b[0m \u001b[32m━━━━━━━━━━━━━━━━━━━━\u001b[0m\u001b[37m\u001b[0m \u001b[1m201s\u001b[0m 675ms/step - acc: 0.7906 - loss: 0.4540 - val_acc: 0.7809 - val_loss: 0.4697\n",
            "Epoch 4/15\n",
            "\u001b[1m235/235\u001b[0m \u001b[32m━━━━━━━━━━━━━━━━━━━━\u001b[0m\u001b[37m\u001b[0m \u001b[1m0s\u001b[0m 621ms/step - acc: 0.8063 - loss: 0.4317\n",
            "Epoch 4: val_acc improved from 0.78093 to 0.78207, saving model to best_model.h5\n"
          ]
        },
        {
          "output_type": "stream",
          "name": "stderr",
          "text": [
            "WARNING:absl:You are saving your model as an HDF5 file via `model.save()` or `keras.saving.save_model(model)`. This file format is considered legacy. We recommend using instead the native Keras format, e.g. `model.save('my_model.keras')` or `keras.saving.save_model(model, 'my_model.keras')`. \n"
          ]
        },
        {
          "output_type": "stream",
          "name": "stdout",
          "text": [
            "\b\b\b\b\b\b\b\b\b\b\b\b\b\b\b\b\b\b\b\b\b\b\b\b\b\b\b\b\b\b\b\b\b\b\b\b\b\b\b\b\b\b\b\b\b\b\b\b\b\b\b\b\b\b\b\b\b\b\b\b\b\b\b\b\b\b\b\b\b\b\b\r\u001b[1m235/235\u001b[0m \u001b[32m━━━━━━━━━━━━━━━━━━━━\u001b[0m\u001b[37m\u001b[0m \u001b[1m202s\u001b[0m 675ms/step - acc: 0.8062 - loss: 0.4317 - val_acc: 0.7821 - val_loss: 0.4662\n",
            "Epoch 5/15\n",
            "\u001b[1m235/235\u001b[0m \u001b[32m━━━━━━━━━━━━━━━━━━━━\u001b[0m\u001b[37m\u001b[0m \u001b[1m0s\u001b[0m 622ms/step - acc: 0.8139 - loss: 0.4151\n",
            "Epoch 5: val_acc did not improve from 0.78207\n",
            "\u001b[1m235/235\u001b[0m \u001b[32m━━━━━━━━━━━━━━━━━━━━\u001b[0m\u001b[37m\u001b[0m \u001b[1m203s\u001b[0m 678ms/step - acc: 0.8139 - loss: 0.4151 - val_acc: 0.7779 - val_loss: 0.4770\n",
            "Epoch 6/15\n",
            "\u001b[1m235/235\u001b[0m \u001b[32m━━━━━━━━━━━━━━━━━━━━\u001b[0m\u001b[37m\u001b[0m \u001b[1m0s\u001b[0m 618ms/step - acc: 0.8255 - loss: 0.3937\n",
            "Epoch 6: val_acc did not improve from 0.78207\n",
            "\u001b[1m235/235\u001b[0m \u001b[32m━━━━━━━━━━━━━━━━━━━━\u001b[0m\u001b[37m\u001b[0m \u001b[1m166s\u001b[0m 706ms/step - acc: 0.8255 - loss: 0.3937 - val_acc: 0.7802 - val_loss: 0.4839\n",
            "Epoch 7/15\n",
            "\u001b[1m235/235\u001b[0m \u001b[32m━━━━━━━━━━━━━━━━━━━━\u001b[0m\u001b[37m\u001b[0m \u001b[1m0s\u001b[0m 621ms/step - acc: 0.8383 - loss: 0.3761\n",
            "Epoch 7: val_acc did not improve from 0.78207\n",
            "\u001b[1m235/235\u001b[0m \u001b[32m━━━━━━━━━━━━━━━━━━━━\u001b[0m\u001b[37m\u001b[0m \u001b[1m158s\u001b[0m 673ms/step - acc: 0.8383 - loss: 0.3761 - val_acc: 0.7762 - val_loss: 0.4789\n",
            "Epoch 8/15\n",
            "\u001b[1m235/235\u001b[0m \u001b[32m━━━━━━━━━━━━━━━━━━━━\u001b[0m\u001b[37m\u001b[0m \u001b[1m0s\u001b[0m 621ms/step - acc: 0.8440 - loss: 0.3632\n",
            "Epoch 8: val_acc did not improve from 0.78207\n",
            "\u001b[1m235/235\u001b[0m \u001b[32m━━━━━━━━━━━━━━━━━━━━\u001b[0m\u001b[37m\u001b[0m \u001b[1m166s\u001b[0m 709ms/step - acc: 0.8440 - loss: 0.3632 - val_acc: 0.7799 - val_loss: 0.4859\n",
            "Epoch 8: early stopping\n"
          ]
        }
      ]
    },
    {
      "cell_type": "markdown",
      "source": [
        "에포크 8에서 조기 종료가 발생했습니다."
      ],
      "metadata": {
        "id": "rfFDkSa1rcY3"
      }
    },
    {
      "cell_type": "markdown",
      "source": [
        "![스크린샷 2025-07-10 오후 6.31.36.png](data:image/png;base64,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)"
      ],
      "metadata": {
        "id": "zWw-x7SUkwBG"
      }
    },
    {
      "cell_type": "code",
      "source": [
        "loaded_model = load_model('best_model.h5')\n",
        "print(f'테스트 정확도: {loaded_model.evaluate(X_test, y_test)[1]:.4f}')"
      ],
      "metadata": {
        "colab": {
          "base_uri": "https://localhost:8080/"
        },
        "id": "qqAmdoJSjpGQ",
        "outputId": "d7ec5466-bfdf-4b47-86c9-4dca11271b68"
      },
      "execution_count": 122,
      "outputs": [
        {
          "output_type": "stream",
          "name": "stderr",
          "text": [
            "WARNING:absl:Compiled the loaded model, but the compiled metrics have yet to be built. `model.compile_metrics` will be empty until you train or evaluate the model.\n"
          ]
        },
        {
          "output_type": "stream",
          "name": "stdout",
          "text": [
            "\u001b[1m782/782\u001b[0m \u001b[32m━━━━━━━━━━━━━━━━━━━━\u001b[0m\u001b[37m\u001b[0m \u001b[1m43s\u001b[0m 54ms/step - acc: 0.7742 - loss: 0.4774\n",
            "테스트 정확도: 0.7761\n"
          ]
        }
      ]
    },
    {
      "cell_type": "markdown",
      "source": [
        "테스트 정확도 약 78%"
      ],
      "metadata": {
        "id": "Hh0AfFirrSPc"
      }
    },
    {
      "cell_type": "markdown",
      "source": [
        "# 5. 리뷰 예측해보기\n",
        "임의의 문장에 대한 예측을 위해서는 학습하기 전 전처리를 동일하게 적용해줍니다."
      ],
      "metadata": {
        "id": "8OHLm-mhtWeI"
      }
    },
    {
      "cell_type": "code",
      "source": [
        "def sentiment_predict(new_sentence):\n",
        "  new_sentence = re.sub(r'[^ㄱ-하-ㅣ가-힣]', '', new_sentence)\n",
        "  new_sentence = mecab.morphs(new_sentence) # 토큰화\n",
        "  new_sentence = [word for word in new_sentence if not word in stopwords] # 불용어 제거\n",
        "  encoded = tokenizer.texts_to_sequences([new_sentence]) # 정수 인코딩\n",
        "  pad_new = pad_sequences(encoded, maxlen = max_len) # 패딩\n",
        "  score = float(loaded_model.predict(pad_new))\n",
        "  if(score > 0.5):\n",
        "    print(f'{score*100:.2f}% 확률로 긍정 리뷰입니다.')\n",
        "  else:\n",
        "    print(f'{(1-score)*100:.2f}% 확률로 부정 리뷰입니다.')"
      ],
      "metadata": {
        "id": "cQoL9f1ktSoX"
      },
      "execution_count": 124,
      "outputs": []
    },
    {
      "cell_type": "code",
      "source": [
        "sentiment_predict('콘텐츠가 별로 없는 듯.. 한 500시간 정도 되면 질리기 시작함.. 근데 질렸다는 건 아님 이건 농장 힐링? 아니 농장 도파민 게임이다.')"
      ],
      "metadata": {
        "colab": {
          "base_uri": "https://localhost:8080/"
        },
        "id": "FB2ODUVluhZg",
        "outputId": "738df60f-d574-4f0e-a9bd-be72a448d3e7"
      },
      "execution_count": 125,
      "outputs": [
        {
          "output_type": "stream",
          "name": "stdout",
          "text": [
            "\u001b[1m1/1\u001b[0m \u001b[32m━━━━━━━━━━━━━━━━━━━━\u001b[0m\u001b[37m\u001b[0m \u001b[1m1s\u001b[0m 814ms/step\n",
            "66.28% 확률로 부정 리뷰입니다.\n"
          ]
        },
        {
          "output_type": "stream",
          "name": "stderr",
          "text": [
            "/tmp/ipython-input-124-1684509914.py:7: DeprecationWarning:\n",
            "\n",
            "Conversion of an array with ndim > 0 to a scalar is deprecated, and will error in future. Ensure you extract a single element from your array before performing this operation. (Deprecated NumPy 1.25.)\n",
            "\n"
          ]
        }
      ]
    },
    {
      "cell_type": "code",
      "source": [
        "sentiment_predict('새벽까지도 졸아가면서도 했던 게임. 혼자해본적은 없음. 친구들이랑 노가리 까면서 하기에도 좋음. 뉴비들은 애인 한 명 골라서 호감작 + 낚시 하면서 시간 보내다보면 재미 찾아갈거임.')"
      ],
      "metadata": {
        "colab": {
          "base_uri": "https://localhost:8080/"
        },
        "id": "Y8vGhCFJu1Fk",
        "outputId": "832f251e-e836-44dd-ec03-ba4a5076b527"
      },
      "execution_count": 126,
      "outputs": [
        {
          "output_type": "stream",
          "name": "stdout",
          "text": [
            "\u001b[1m1/1\u001b[0m \u001b[32m━━━━━━━━━━━━━━━━━━━━\u001b[0m\u001b[37m\u001b[0m \u001b[1m0s\u001b[0m 281ms/step\n",
            "83.35% 확률로 긍정 리뷰입니다.\n"
          ]
        },
        {
          "output_type": "stream",
          "name": "stderr",
          "text": [
            "/tmp/ipython-input-124-1684509914.py:7: DeprecationWarning:\n",
            "\n",
            "Conversion of an array with ndim > 0 to a scalar is deprecated, and will error in future. Ensure you extract a single element from your array before performing this operation. (Deprecated NumPy 1.25.)\n",
            "\n"
          ]
        }
      ]
    },
    {
      "cell_type": "code",
      "source": [
        "sentiment_predict('딱 하루만 더 해야지.. 딱 하루만 더 해야지.. 딱 하루만 더 해야지... 무한굴레에 빠지게 되는 게임')"
      ],
      "metadata": {
        "colab": {
          "base_uri": "https://localhost:8080/"
        },
        "id": "ajDyLWu-u6SU",
        "outputId": "c675b9a8-9a7b-4ab5-a3fd-776fe539a19b"
      },
      "execution_count": 127,
      "outputs": [
        {
          "output_type": "stream",
          "name": "stdout",
          "text": [
            "\u001b[1m1/1\u001b[0m \u001b[32m━━━━━━━━━━━━━━━━━━━━\u001b[0m\u001b[37m\u001b[0m \u001b[1m0s\u001b[0m 155ms/step\n",
            "64.44% 확률로 부정 리뷰입니다.\n"
          ]
        },
        {
          "output_type": "stream",
          "name": "stderr",
          "text": [
            "/tmp/ipython-input-124-1684509914.py:7: DeprecationWarning:\n",
            "\n",
            "Conversion of an array with ndim > 0 to a scalar is deprecated, and will error in future. Ensure you extract a single element from your array before performing this operation. (Deprecated NumPy 1.25.)\n",
            "\n"
          ]
        }
      ]
    },
    {
      "cell_type": "code",
      "source": [
        "sentiment_predict('할인할 때 꼭 사야할 게임 1순위!!!! 진짜 재밌어요 혼자해도 개꿀잼ㅎㅎ')"
      ],
      "metadata": {
        "colab": {
          "base_uri": "https://localhost:8080/"
        },
        "id": "XSQ4MxXevA1U",
        "outputId": "d51e3fad-2968-4fe6-de79-0f8e91c773a9"
      },
      "execution_count": 128,
      "outputs": [
        {
          "output_type": "stream",
          "name": "stdout",
          "text": [
            "\u001b[1m1/1\u001b[0m \u001b[32m━━━━━━━━━━━━━━━━━━━━\u001b[0m\u001b[37m\u001b[0m \u001b[1m0s\u001b[0m 103ms/step\n",
            "98.32% 확률로 긍정 리뷰입니다.\n"
          ]
        },
        {
          "output_type": "stream",
          "name": "stderr",
          "text": [
            "/tmp/ipython-input-124-1684509914.py:7: DeprecationWarning:\n",
            "\n",
            "Conversion of an array with ndim > 0 to a scalar is deprecated, and will error in future. Ensure you extract a single element from your array before performing this operation. (Deprecated NumPy 1.25.)\n",
            "\n"
          ]
        }
      ]
    },
    {
      "cell_type": "code",
      "source": [
        "sentiment_predict('싫어요')"
      ],
      "metadata": {
        "colab": {
          "base_uri": "https://localhost:8080/"
        },
        "id": "0EUF9xlQvJ0h",
        "outputId": "5734a502-eba4-4a5f-ca03-4354636d3a8b"
      },
      "execution_count": 129,
      "outputs": [
        {
          "output_type": "stream",
          "name": "stdout",
          "text": [
            "\u001b[1m1/1\u001b[0m \u001b[32m━━━━━━━━━━━━━━━━━━━━\u001b[0m\u001b[37m\u001b[0m \u001b[1m0s\u001b[0m 47ms/step\n",
            "66.55% 확률로 부정 리뷰입니다.\n"
          ]
        },
        {
          "output_type": "stream",
          "name": "stderr",
          "text": [
            "/tmp/ipython-input-124-1684509914.py:7: DeprecationWarning:\n",
            "\n",
            "Conversion of an array with ndim > 0 to a scalar is deprecated, and will error in future. Ensure you extract a single element from your array before performing this operation. (Deprecated NumPy 1.25.)\n",
            "\n"
          ]
        }
      ]
    },
    {
      "cell_type": "code",
      "source": [
        "sentiment_predict('꿀잼')"
      ],
      "metadata": {
        "colab": {
          "base_uri": "https://localhost:8080/"
        },
        "id": "HtNTjduCvXxp",
        "outputId": "ddf2c2c3-d8d5-4f54-fd2e-96cb28ddb4a0"
      },
      "execution_count": 130,
      "outputs": [
        {
          "output_type": "stream",
          "name": "stdout",
          "text": [
            "\u001b[1m1/1\u001b[0m \u001b[32m━━━━━━━━━━━━━━━━━━━━\u001b[0m\u001b[37m\u001b[0m \u001b[1m0s\u001b[0m 56ms/step\n",
            "95.95% 확률로 긍정 리뷰입니다.\n"
          ]
        },
        {
          "output_type": "stream",
          "name": "stderr",
          "text": [
            "/tmp/ipython-input-124-1684509914.py:7: DeprecationWarning:\n",
            "\n",
            "Conversion of an array with ndim > 0 to a scalar is deprecated, and will error in future. Ensure you extract a single element from your array before performing this operation. (Deprecated NumPy 1.25.)\n",
            "\n"
          ]
        }
      ]
    },
    {
      "cell_type": "code",
      "source": [],
      "metadata": {
        "id": "Iy5A22i3vbQ8"
      },
      "execution_count": null,
      "outputs": []
    }
  ]
}